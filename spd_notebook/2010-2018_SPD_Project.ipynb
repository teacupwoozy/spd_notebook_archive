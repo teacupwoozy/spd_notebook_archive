{
 "cells": [
  {
   "cell_type": "code",
   "execution_count": 83,
   "metadata": {},
   "outputs": [],
   "source": [
    "import pandas as pd\n",
    "import numpy as np\n",
    "import matplotlib.pyplot as plt\n",
    "import seaborn as sns"
   ]
  },
  {
   "cell_type": "code",
   "execution_count": 2,
   "metadata": {},
   "outputs": [],
   "source": [
    "%matplotlib inline"
   ]
  },
  {
   "cell_type": "code",
   "execution_count": 3,
   "metadata": {},
   "outputs": [],
   "source": [
    "# Import data and create df\n",
    "\n",
    "data = pd.read_csv(\"/Users/Stacy/Documents/WebDevelopment/projects/sexualAssault_datasets/2010-2018_sexcrimes_violentcrimes.csv\", index_col=\"CAD Event Number\")\n",
    "data = pd.DataFrame(data)"
   ]
  },
  {
   "cell_type": "code",
   "execution_count": 4,
   "metadata": {},
   "outputs": [],
   "source": [
    "# Rename columns to be pythonic\n",
    "\n",
    "data.columns = ['event_clearing', 'call_type', 'priority', \n",
    "                'initial_call_type', 'final_call_type', 'original_time_queued',\n",
    "               'arrived_time', 'precinct', 'sector', 'beat']"
   ]
  },
  {
   "cell_type": "code",
   "execution_count": 5,
   "metadata": {},
   "outputs": [],
   "source": [
    "# ID all calls cancelled by dispatch\n",
    "cancelled_calls = data[data.event_clearing.str.contains(\"CANCELLED\")]\n",
    "\n",
    "# Delete rows with cxl'd calls\n",
    "\n",
    "data = data[data.event_clearing != 'RESPONDING UNIT(S) CANCELLED BY RADIO']\n",
    "data = data[data.event_clearing != 'DUPLICATED OR CANCELLED BY RADIO']"
   ]
  },
  {
   "cell_type": "markdown",
   "metadata": {},
   "source": [
    "#### Clean time values"
   ]
  },
  {
   "cell_type": "code",
   "execution_count": 6,
   "metadata": {},
   "outputs": [],
   "source": [
    "# Change original_time_queued to datetime\n",
    "data['original_time_queued'] = pd.to_datetime(data.original_time_queued)\n",
    "\n",
    "# Change arrived_time to datetime\n",
    "data['arrived_time'] = pd.to_datetime(data.arrived_time, format='%b %d %Y %I:%M:%S:%f%p')\n",
    "\n",
    "# Add time delta between original_time_queued and arrived_time\n",
    "data['time_delta'] = ((data.arrived_time - data.original_time_queued)/np.timedelta64(1, 's')).astype(int)"
   ]
  },
  {
   "cell_type": "code",
   "execution_count": 7,
   "metadata": {},
   "outputs": [],
   "source": [
    "# Add columns for arrived year and month\n",
    "\n",
    "data['year'] = data.arrived_time.dt.year\n",
    "data['month'] = data.arrived_time.dt.month\n",
    "\n",
    "# For rows with bad arrived time: change month and year to original_time_queued\n",
    "# Where arrive_time year = 1900, change data.year and data.month to original_time_queued year\n",
    "\n",
    "mask = data.year < 1901\n",
    "column_name_year = 'year'\n",
    "column_name_month = 'month'\n",
    "data.loc[mask, column_name_year] = data.original_time_queued.dt.year\n",
    "data.loc[mask, column_name_month] = data.original_time_queued.dt.month"
   ]
  },
  {
   "cell_type": "markdown",
   "metadata": {},
   "source": [
    "#### Define terms"
   ]
  },
  {
   "cell_type": "code",
   "execution_count": 8,
   "metadata": {},
   "outputs": [],
   "source": [
    "# Define TRU initial call types\n",
    "TRU_call_types = [\n",
    "    'TRU - ASLT - WITH OR W/O WPNS (NO SHOOTINGS)',\n",
    "    'TRU - RAPE',\n",
    "    'TRU - LEWD CONDUCT',\n",
    "    'TRU - CHILD ABUSED, NEGLECTED',\n",
    "    'TRU - THREATS',\n",
    "    'TRU - ROBBERY',\n",
    "    'TRU - ASLT - MOLESTED ADULT (GROPED, FONDLED, ETC)',\n",
    "    'TRU - HARASSMENT',\n",
    "    'TRU - SEX IN PUBLIC',\n",
    "    'TRU - THEFT',\n",
    "    'TRU - FOLLOW UP',\n",
    "    'TRU - MVC - HIT AND RUN',\n",
    "    'TRU - LURING',\n",
    "    'TRU - FORGERY/CHKS/BUNCO/SCAMS/ID THEFT',\n",
    "    'TRU - SUSPICIOUS CIRCUMSTANCES']"
   ]
  },
  {
   "cell_type": "code",
   "execution_count": 9,
   "metadata": {},
   "outputs": [],
   "source": [
    "# Define terms that ID which crime_type\n",
    "\n",
    "# Define terms that ID rape CFS\n",
    "rape_terms = 'STRANGER|ACQUAINTANCE'\n",
    "rape_call_types = [\n",
    "    '--RAPE - KNOWN SUSPECT (ACQUAINTANCE)',\n",
    "    '--RAPE - UNKNOWN SUSPECT (STRANGER)']\n",
    "\n",
    "# Define terms that ID sex crimes\n",
    "sex_crime_terms = 'CSEC|LEWD|MOLESTING|STRANGER|ACQUAINTANCE'\n",
    "sex_crime_call_types = [\n",
    "    '--SEX OFFENSES (NON-RAPE) - LEWD CONDUCT',\n",
    "    '--RAPE - KNOWN SUSPECT (ACQUAINTANCE)',\n",
    "    '--RAPE - UNKNOWN SUSPECT (STRANGER)',\n",
    "    '--SEX OFFENSES (RAPE) - MOLESTING',\n",
    "    '--COMMERCIAL SEXUAL EXPLOITATION OF MINORS (CSEC)']\n",
    "\n",
    "# Define terms that ID other violent crimes\n",
    "violent_crime_terms = 'KIDNAP|HOMICIDE|SHOOTING|ASSAULTS|ROBBERY'\n",
    "violent_crime_call_types = [\n",
    "    '--ASSAULTS - FIREARM INVOLVED',\n",
    "    '--ROBBERY - ARMED',\n",
    "    '--HOMICIDE',\n",
    "    '--KIDNAP - GENERAL',\n",
    "    '--DRIVE BY SHOOTING - NO INJURIES']"
   ]
  },
  {
   "cell_type": "code",
   "execution_count": 10,
   "metadata": {},
   "outputs": [],
   "source": [
    "# ID clearing codes for is_arrest\n",
    "\n",
    "arrest_cc = ['PHYSICAL ARREST MADE']"
   ]
  },
  {
   "cell_type": "markdown",
   "metadata": {},
   "source": [
    "### Add columns for is_arrest, is_TRU, and crime_type"
   ]
  },
  {
   "cell_type": "code",
   "execution_count": 47,
   "metadata": {},
   "outputs": [],
   "source": [
    "# Add column identifying if there was an arrest\n",
    "data['is_arrest'] = np.where(data['event_clearing'].isin(arrest_cc), 'yes', 'no')\n",
    "\n",
    "# Add column identifying if this was A TRU call\n",
    "data['is_TRU'] = np.where(data['initial_call_type'].isin(TRU_call_types), 'yes', 'no')\n",
    "\n",
    "# Add column identifying crime type\n",
    "data['crime_type'] = np.where(data['final_call_type'].isin(sex_crime_call_types), 'sex crime', 'violent crime')"
   ]
  },
  {
   "cell_type": "markdown",
   "metadata": {},
   "source": [
    "### 1. 2018 Sees increase in reports of sex crimes\n",
    "In the same time period, Seattle saw a decrease in the reporting of other violent crimes."
   ]
  },
  {
   "cell_type": "code",
   "execution_count": 25,
   "metadata": {},
   "outputs": [],
   "source": [
    "# Delete I think\n",
    "\n",
    "# Create df that labels each call type as a violent crime, sex crime, or rape\n",
    "is_rape = data['final_call_type'].str.contains(rape_terms)\n",
    "is_vc = data['final_call_type'].str.contains(violent_crime_terms)\n",
    "is_sex_crime = data['final_call_type'].str.contains(sex_crime_terms)\n",
    "\n",
    "\n",
    "temp_df = data[is_rape | is_vc | is_sex_crime]\n",
    "#temp_df['crime_type'] = np.where(temp_df['final_call_type'].isin(sex_crime_call_types), 'sex crime', 'violent crime')\n",
    "temp_df['crime_type'] = np.where(temp_df['final_call_type'].isin(rape_call_types), 'rape',\n",
    "                                (np.where(temp_df['final_call_type'].isin(sex_crime_call_types), 'non-rape sex crime', 'violent crime')))"
   ]
  },
  {
   "cell_type": "code",
   "execution_count": 52,
   "metadata": {},
   "outputs": [],
   "source": [
    "# Add crime_type for each call type as a violent crime, sex crime, or rape\n",
    "is_rape = data['final_call_type'].str.contains(rape_terms)\n",
    "is_vc = data['final_call_type'].str.contains(violent_crime_terms)\n",
    "is_sex_crime = data['final_call_type'].str.contains(sex_crime_terms)\n",
    "is_lewd_conduct = data['final_call_type'].str.contains(\"LEWD\")\n",
    "is_arrest_mask = data['is_arrest'] == \"yes\"\n",
    "\n",
    "data['crime_type'] = np.where(data['final_call_type'].isin(rape_call_types), 'rape',\n",
    "                                (np.where(data['final_call_type'].isin(sex_crime_call_types),\n",
    "                                          'non-rape sex crime', 'violent crime')))"
   ]
  },
  {
   "cell_type": "markdown",
   "metadata": {},
   "source": [
    "\n",
    "2017 saw an increase in calls reporting sex crimes, whereas other violent crimes in the city continued a downward trend tht began in 2015.\n",
    "\n",
    "Reports of non-rape sex crime increased each year of this analysis except for 2012. Between 2010 and 2018 the number of calls reporting non-rape sex crimes has nearly doubled in Seattle."
   ]
  },
  {
   "cell_type": "code",
   "execution_count": 36,
   "metadata": {},
   "outputs": [
    {
     "data": {
      "text/plain": [
       "<matplotlib.axes._subplots.AxesSubplot at 0x11bfcb5f8>"
      ]
     },
     "execution_count": 36,
     "metadata": {},
     "output_type": "execute_result"
    },
    {
     "data": {
      "image/png": "[encoded data removed]",
      "text/plain": [
       "<Figure size 864x576 with 1 Axes>"
      ]
     },
     "metadata": {
      "needs_background": "light"
     },
     "output_type": "display_data"
    }
   ],
   "source": [
    "# Compare number of rape calls, non-rape sex crime calls, and violent crime calls by year\n",
    "\n",
    "data.groupby('crime_type').year.value_counts().unstack(0).plot.line(\n",
    "    stacked=False, figsize=(12,8),\n",
    "    title=\"# of calls reporting rapes vs. sex crimes vs. violent crimes\")"
   ]
  },
  {
   "cell_type": "markdown",
   "metadata": {},
   "source": [
    "Between 2010 and 2018 there has been a general increase in the number of calls each year for lewd conduct. During this time period, the North, East and West precincts lewd conduct calls have steadily increased, while these calls in the South and Southwest precincts have remained mostly flat. \n",
    "\n",
    "In 2015 and 2018 there were marked increases in these calls in the North, East and West precincts."
   ]
  },
  {
   "cell_type": "code",
   "execution_count": 39,
   "metadata": {},
   "outputs": [
    {
     "data": {
      "text/plain": [
       "<matplotlib.axes._subplots.AxesSubplot at 0x1199d65f8>"
      ]
     },
     "execution_count": 39,
     "metadata": {},
     "output_type": "execute_result"
    },
    {
     "data": {
      "image/png": "[encoded data removed]",
      "text/plain": [
       "<Figure size 720x432 with 1 Axes>"
      ]
     },
     "metadata": {
      "needs_background": "light"
     },
     "output_type": "display_data"
    },
    {
     "data": {
      "image/png": "[encoded data removed]",
      "text/plain": [
       "<Figure size 720x432 with 1 Axes>"
      ]
     },
     "metadata": {
      "needs_background": "light"
     },
     "output_type": "display_data"
    }
   ],
   "source": [
    "# Plot lewd conduct calls, by precinct, over the years\n",
    "lewd_df = data[is_lewd_conduct]\n",
    "\n",
    "lewd_df.groupby('final_call_type').year.value_counts().unstack(0).plot.line(\n",
    "    stacked=False, figsize=(10,6), title=\"# of lewd calls, city-wide, 2010-2018\")\n",
    "\n",
    "lewd_df.groupby('precinct').year.value_counts().unstack(0).plot.line(\n",
    "    stacked=False, figsize=(10,6), title=\"# of lewd calls, by precinct, 2010-2018\")\n"
   ]
  },
  {
   "cell_type": "code",
   "execution_count": 48,
   "metadata": {},
   "outputs": [
    {
     "data": {
      "text/html": [
       "<div>\n",
       "<style scoped>\n",
       "    .dataframe tbody tr th:only-of-type {\n",
       "        vertical-align: middle;\n",
       "    }\n",
       "\n",
       "    .dataframe tbody tr th {\n",
       "        vertical-align: top;\n",
       "    }\n",
       "\n",
       "    .dataframe thead th {\n",
       "        text-align: right;\n",
       "    }\n",
       "</style>\n",
       "<table border=\"1\" class=\"dataframe\">\n",
       "  <thead>\n",
       "    <tr style=\"text-align: right;\">\n",
       "      <th></th>\n",
       "      <th>event_clearing</th>\n",
       "      <th>call_type</th>\n",
       "      <th>priority</th>\n",
       "      <th>initial_call_type</th>\n",
       "      <th>final_call_type</th>\n",
       "      <th>original_time_queued</th>\n",
       "      <th>arrived_time</th>\n",
       "      <th>precinct</th>\n",
       "      <th>sector</th>\n",
       "      <th>beat</th>\n",
       "      <th>time_delta</th>\n",
       "      <th>year</th>\n",
       "      <th>month</th>\n",
       "      <th>crime_type</th>\n",
       "      <th>is_arrest</th>\n",
       "      <th>is_TRU</th>\n",
       "    </tr>\n",
       "    <tr>\n",
       "      <th>CAD Event Number</th>\n",
       "      <th></th>\n",
       "      <th></th>\n",
       "      <th></th>\n",
       "      <th></th>\n",
       "      <th></th>\n",
       "      <th></th>\n",
       "      <th></th>\n",
       "      <th></th>\n",
       "      <th></th>\n",
       "      <th></th>\n",
       "      <th></th>\n",
       "      <th></th>\n",
       "      <th></th>\n",
       "      <th></th>\n",
       "      <th></th>\n",
       "      <th></th>\n",
       "    </tr>\n",
       "  </thead>\n",
       "  <tbody>\n",
       "    <tr>\n",
       "      <th>2010000066820</th>\n",
       "      <td>ASSISTANCE RENDERED</td>\n",
       "      <td>911</td>\n",
       "      <td>2</td>\n",
       "      <td>MENTAL - PERSON OR PICKUP/TRANSPORT</td>\n",
       "      <td>--SEX OFFENSES (NON-RAPE) - LEWD CONDUCT</td>\n",
       "      <td>2010-02-27 22:54:25</td>\n",
       "      <td>2010-02-27 22:55:45</td>\n",
       "      <td>NORTH</td>\n",
       "      <td>UNION</td>\n",
       "      <td>U1</td>\n",
       "      <td>80</td>\n",
       "      <td>2010</td>\n",
       "      <td>2</td>\n",
       "      <td>sex crime</td>\n",
       "      <td>no</td>\n",
       "      <td>no</td>\n",
       "    </tr>\n",
       "    <tr>\n",
       "      <th>2010000000327</th>\n",
       "      <td>PHYSICAL ARREST MADE</td>\n",
       "      <td>911</td>\n",
       "      <td>1</td>\n",
       "      <td>ASLT - IP/JO - WITH OR W/O WPNS (NO SHOOTINGS)</td>\n",
       "      <td>--ASSAULTS - FIREARM INVOLVED</td>\n",
       "      <td>2010-01-01 03:13:06</td>\n",
       "      <td>2010-01-01 03:14:51</td>\n",
       "      <td>SOUTH</td>\n",
       "      <td>ROBERT</td>\n",
       "      <td>R3</td>\n",
       "      <td>105</td>\n",
       "      <td>2010</td>\n",
       "      <td>1</td>\n",
       "      <td>violent crime</td>\n",
       "      <td>yes</td>\n",
       "      <td>no</td>\n",
       "    </tr>\n",
       "    <tr>\n",
       "      <th>2010000000451</th>\n",
       "      <td>REPORT WRITTEN (NO ARREST)</td>\n",
       "      <td>911</td>\n",
       "      <td>2</td>\n",
       "      <td>THEFT OF SERVICES</td>\n",
       "      <td>--ROBBERY - ARMED</td>\n",
       "      <td>2010-01-01 05:46:54</td>\n",
       "      <td>2010-01-01 06:39:35</td>\n",
       "      <td>NORTH</td>\n",
       "      <td>UNION</td>\n",
       "      <td>U1</td>\n",
       "      <td>3161</td>\n",
       "      <td>2010</td>\n",
       "      <td>1</td>\n",
       "      <td>violent crime</td>\n",
       "      <td>no</td>\n",
       "      <td>no</td>\n",
       "    </tr>\n",
       "    <tr>\n",
       "      <th>2010000000466</th>\n",
       "      <td>REPORT WRITTEN (NO ARREST)</td>\n",
       "      <td>TELEPHONE OTHER, NOT 911</td>\n",
       "      <td>3</td>\n",
       "      <td>RAPE</td>\n",
       "      <td>--RAPE - KNOWN SUSPECT (ACQUAINTANCE)</td>\n",
       "      <td>2010-01-01 06:28:49</td>\n",
       "      <td>2010-01-01 06:40:09</td>\n",
       "      <td>EAST</td>\n",
       "      <td>GEORGE</td>\n",
       "      <td>G1</td>\n",
       "      <td>680</td>\n",
       "      <td>2010</td>\n",
       "      <td>1</td>\n",
       "      <td>sex crime</td>\n",
       "      <td>no</td>\n",
       "      <td>no</td>\n",
       "    </tr>\n",
       "    <tr>\n",
       "      <th>2010000000776</th>\n",
       "      <td>REPORT WRITTEN (NO ARREST)</td>\n",
       "      <td>911</td>\n",
       "      <td>3</td>\n",
       "      <td>RAPE</td>\n",
       "      <td>--RAPE - KNOWN SUSPECT (ACQUAINTANCE)</td>\n",
       "      <td>2010-01-01 15:05:57</td>\n",
       "      <td>2010-01-01 15:12:26</td>\n",
       "      <td>SOUTHWEST</td>\n",
       "      <td>FRANK</td>\n",
       "      <td>F3</td>\n",
       "      <td>389</td>\n",
       "      <td>2010</td>\n",
       "      <td>1</td>\n",
       "      <td>sex crime</td>\n",
       "      <td>no</td>\n",
       "      <td>no</td>\n",
       "    </tr>\n",
       "  </tbody>\n",
       "</table>\n",
       "</div>"
      ],
      "text/plain": [
       "                              event_clearing                 call_type  \\\n",
       "CAD Event Number                                                         \n",
       "2010000066820            ASSISTANCE RENDERED                       911   \n",
       "2010000000327           PHYSICAL ARREST MADE                       911   \n",
       "2010000000451     REPORT WRITTEN (NO ARREST)                       911   \n",
       "2010000000466     REPORT WRITTEN (NO ARREST)  TELEPHONE OTHER, NOT 911   \n",
       "2010000000776     REPORT WRITTEN (NO ARREST)                       911   \n",
       "\n",
       "                  priority                               initial_call_type  \\\n",
       "CAD Event Number                                                             \n",
       "2010000066820            2             MENTAL - PERSON OR PICKUP/TRANSPORT   \n",
       "2010000000327            1  ASLT - IP/JO - WITH OR W/O WPNS (NO SHOOTINGS)   \n",
       "2010000000451            2                               THEFT OF SERVICES   \n",
       "2010000000466            3                                            RAPE   \n",
       "2010000000776            3                                            RAPE   \n",
       "\n",
       "                                           final_call_type  \\\n",
       "CAD Event Number                                             \n",
       "2010000066820     --SEX OFFENSES (NON-RAPE) - LEWD CONDUCT   \n",
       "2010000000327                --ASSAULTS - FIREARM INVOLVED   \n",
       "2010000000451                            --ROBBERY - ARMED   \n",
       "2010000000466        --RAPE - KNOWN SUSPECT (ACQUAINTANCE)   \n",
       "2010000000776        --RAPE - KNOWN SUSPECT (ACQUAINTANCE)   \n",
       "\n",
       "                 original_time_queued        arrived_time   precinct  sector  \\\n",
       "CAD Event Number                                                               \n",
       "2010000066820     2010-02-27 22:54:25 2010-02-27 22:55:45      NORTH   UNION   \n",
       "2010000000327     2010-01-01 03:13:06 2010-01-01 03:14:51      SOUTH  ROBERT   \n",
       "2010000000451     2010-01-01 05:46:54 2010-01-01 06:39:35      NORTH   UNION   \n",
       "2010000000466     2010-01-01 06:28:49 2010-01-01 06:40:09       EAST  GEORGE   \n",
       "2010000000776     2010-01-01 15:05:57 2010-01-01 15:12:26  SOUTHWEST   FRANK   \n",
       "\n",
       "                 beat  time_delta  year  month     crime_type is_arrest is_TRU  \n",
       "CAD Event Number                                                                \n",
       "2010000066820      U1          80  2010      2      sex crime        no     no  \n",
       "2010000000327      R3         105  2010      1  violent crime       yes     no  \n",
       "2010000000451      U1        3161  2010      1  violent crime        no     no  \n",
       "2010000000466      G1         680  2010      1      sex crime        no     no  \n",
       "2010000000776      F3         389  2010      1      sex crime        no     no  "
      ]
     },
     "execution_count": 48,
     "metadata": {},
     "output_type": "execute_result"
    }
   ],
   "source": [
    "data.head()"
   ]
  },
  {
   "cell_type": "markdown",
   "metadata": {},
   "source": [
    "## 2. Arrests for VC have increased\n",
    "\n",
    "Not sure about this - doesn't appear to be strong information"
   ]
  },
  {
   "cell_type": "code",
   "execution_count": 110,
   "metadata": {},
   "outputs": [
    {
     "data": {
      "text/plain": [
       "<matplotlib.axes._subplots.AxesSubplot at 0x12d58c470>"
      ]
     },
     "execution_count": 110,
     "metadata": {},
     "output_type": "execute_result"
    },
    {
     "data": {
      "image/png": "[encoded data removed]",
      "text/plain": [
       "<Figure size 720x432 with 1 Axes>"
      ]
     },
     "metadata": {
      "needs_background": "light"
     },
     "output_type": "display_data"
    }
   ],
   "source": [
    "\n",
    "arrest_df = data['is_arrest'] == \"yes\"\n",
    "\n",
    "\n",
    "data.groupby('crime_type').year.value_counts().unstack(0).plot.line(\n",
    "    stacked=False, figsize=(10,6))\n"
   ]
  },
  {
   "cell_type": "code",
   "execution_count": 133,
   "metadata": {},
   "outputs": [
    {
     "data": {
      "text/html": [
       "<div>\n",
       "<style scoped>\n",
       "    .dataframe tbody tr th:only-of-type {\n",
       "        vertical-align: middle;\n",
       "    }\n",
       "\n",
       "    .dataframe tbody tr th {\n",
       "        vertical-align: top;\n",
       "    }\n",
       "\n",
       "    .dataframe thead th {\n",
       "        text-align: right;\n",
       "    }\n",
       "</style>\n",
       "<table border=\"1\" class=\"dataframe\">\n",
       "  <thead>\n",
       "    <tr style=\"text-align: right;\">\n",
       "      <th></th>\n",
       "      <th>is_arrest</th>\n",
       "      <th>no</th>\n",
       "      <th>yes</th>\n",
       "    </tr>\n",
       "    <tr>\n",
       "      <th>crime_type</th>\n",
       "      <th>year</th>\n",
       "      <th></th>\n",
       "      <th></th>\n",
       "    </tr>\n",
       "  </thead>\n",
       "  <tbody>\n",
       "    <tr>\n",
       "      <th rowspan=\"5\" valign=\"top\">non-rape sex crime</th>\n",
       "      <th>2010</th>\n",
       "      <td>92.667707</td>\n",
       "      <td>7.332293</td>\n",
       "    </tr>\n",
       "    <tr>\n",
       "      <th>2011</th>\n",
       "      <td>93.589744</td>\n",
       "      <td>6.410256</td>\n",
       "    </tr>\n",
       "    <tr>\n",
       "      <th>2012</th>\n",
       "      <td>92.619392</td>\n",
       "      <td>7.380608</td>\n",
       "    </tr>\n",
       "    <tr>\n",
       "      <th>2013</th>\n",
       "      <td>92.447917</td>\n",
       "      <td>7.552083</td>\n",
       "    </tr>\n",
       "    <tr>\n",
       "      <th>2014</th>\n",
       "      <td>93.885350</td>\n",
       "      <td>6.114650</td>\n",
       "    </tr>\n",
       "  </tbody>\n",
       "</table>\n",
       "</div>"
      ],
      "text/plain": [
       "is_arrest                       no       yes\n",
       "crime_type         year                     \n",
       "non-rape sex crime 2010  92.667707  7.332293\n",
       "                   2011  93.589744  6.410256\n",
       "                   2012  92.619392  7.380608\n",
       "                   2013  92.447917  7.552083\n",
       "                   2014  93.885350  6.114650"
      ]
     },
     "execution_count": 133,
     "metadata": {},
     "output_type": "execute_result"
    }
   ],
   "source": [
    "# Calculate arrest percentages by crime type for each year\n",
    "arrest_percent_by_yr = pd.crosstab([data.crime_type, data.year],data.is_arrest,\n",
    "                         normalize = 'index')\n",
    "\n",
    "# Multiply all percentages by 100 for graphing. \n",
    "arrest_percent_by_yr *= 100\n",
    "\n",
    "arrest_percent_by_yr.head()"
   ]
  },
  {
   "cell_type": "code",
   "execution_count": 134,
   "metadata": {},
   "outputs": [
    {
     "data": {
      "text/html": [
       "<div>\n",
       "<style scoped>\n",
       "    .dataframe tbody tr th:only-of-type {\n",
       "        vertical-align: middle;\n",
       "    }\n",
       "\n",
       "    .dataframe tbody tr th {\n",
       "        vertical-align: top;\n",
       "    }\n",
       "\n",
       "    .dataframe thead th {\n",
       "        text-align: right;\n",
       "    }\n",
       "</style>\n",
       "<table border=\"1\" class=\"dataframe\">\n",
       "  <thead>\n",
       "    <tr style=\"text-align: right;\">\n",
       "      <th>is_arrest</th>\n",
       "      <th>crime_type</th>\n",
       "      <th>year</th>\n",
       "      <th>no</th>\n",
       "      <th>yes</th>\n",
       "    </tr>\n",
       "  </thead>\n",
       "  <tbody>\n",
       "    <tr>\n",
       "      <th>0</th>\n",
       "      <td>non-rape sex crime</td>\n",
       "      <td>2010</td>\n",
       "      <td>92.667707</td>\n",
       "      <td>7.332293</td>\n",
       "    </tr>\n",
       "    <tr>\n",
       "      <th>1</th>\n",
       "      <td>non-rape sex crime</td>\n",
       "      <td>2011</td>\n",
       "      <td>93.589744</td>\n",
       "      <td>6.410256</td>\n",
       "    </tr>\n",
       "    <tr>\n",
       "      <th>2</th>\n",
       "      <td>non-rape sex crime</td>\n",
       "      <td>2012</td>\n",
       "      <td>92.619392</td>\n",
       "      <td>7.380608</td>\n",
       "    </tr>\n",
       "    <tr>\n",
       "      <th>3</th>\n",
       "      <td>non-rape sex crime</td>\n",
       "      <td>2013</td>\n",
       "      <td>92.447917</td>\n",
       "      <td>7.552083</td>\n",
       "    </tr>\n",
       "    <tr>\n",
       "      <th>4</th>\n",
       "      <td>non-rape sex crime</td>\n",
       "      <td>2014</td>\n",
       "      <td>93.885350</td>\n",
       "      <td>6.114650</td>\n",
       "    </tr>\n",
       "  </tbody>\n",
       "</table>\n",
       "</div>"
      ],
      "text/plain": [
       "is_arrest          crime_type  year         no       yes\n",
       "0          non-rape sex crime  2010  92.667707  7.332293\n",
       "1          non-rape sex crime  2011  93.589744  6.410256\n",
       "2          non-rape sex crime  2012  92.619392  7.380608\n",
       "3          non-rape sex crime  2013  92.447917  7.552083\n",
       "4          non-rape sex crime  2014  93.885350  6.114650"
      ]
     },
     "execution_count": 134,
     "metadata": {},
     "output_type": "execute_result"
    }
   ],
   "source": [
    "arrest_percent_by_yr.reset_index(inplace=True)\n",
    "\n",
    "arrest_percent_by_yr.head()"
   ]
  },
  {
   "cell_type": "code",
   "execution_count": 135,
   "metadata": {},
   "outputs": [
    {
     "data": {
      "text/html": [
       "<div>\n",
       "<style scoped>\n",
       "    .dataframe tbody tr th:only-of-type {\n",
       "        vertical-align: middle;\n",
       "    }\n",
       "\n",
       "    .dataframe tbody tr th {\n",
       "        vertical-align: top;\n",
       "    }\n",
       "\n",
       "    .dataframe thead th {\n",
       "        text-align: right;\n",
       "    }\n",
       "</style>\n",
       "<table border=\"1\" class=\"dataframe\">\n",
       "  <thead>\n",
       "    <tr style=\"text-align: right;\">\n",
       "      <th>is_arrest</th>\n",
       "      <th>crime_type</th>\n",
       "      <th>year</th>\n",
       "      <th>yes</th>\n",
       "    </tr>\n",
       "  </thead>\n",
       "  <tbody>\n",
       "    <tr>\n",
       "      <th>0</th>\n",
       "      <td>non-rape sex crime</td>\n",
       "      <td>2010</td>\n",
       "      <td>7.332293</td>\n",
       "    </tr>\n",
       "    <tr>\n",
       "      <th>1</th>\n",
       "      <td>non-rape sex crime</td>\n",
       "      <td>2011</td>\n",
       "      <td>6.410256</td>\n",
       "    </tr>\n",
       "    <tr>\n",
       "      <th>2</th>\n",
       "      <td>non-rape sex crime</td>\n",
       "      <td>2012</td>\n",
       "      <td>7.380608</td>\n",
       "    </tr>\n",
       "    <tr>\n",
       "      <th>3</th>\n",
       "      <td>non-rape sex crime</td>\n",
       "      <td>2013</td>\n",
       "      <td>7.552083</td>\n",
       "    </tr>\n",
       "    <tr>\n",
       "      <th>4</th>\n",
       "      <td>non-rape sex crime</td>\n",
       "      <td>2014</td>\n",
       "      <td>6.114650</td>\n",
       "    </tr>\n",
       "  </tbody>\n",
       "</table>\n",
       "</div>"
      ],
      "text/plain": [
       "is_arrest          crime_type  year       yes\n",
       "0          non-rape sex crime  2010  7.332293\n",
       "1          non-rape sex crime  2011  6.410256\n",
       "2          non-rape sex crime  2012  7.380608\n",
       "3          non-rape sex crime  2013  7.552083\n",
       "4          non-rape sex crime  2014  6.114650"
      ]
     },
     "execution_count": 135,
     "metadata": {},
     "output_type": "execute_result"
    }
   ],
   "source": [
    "arrest_percent_by_yr = arrest_percent_by_yr.drop('no', axis=1)\n",
    "arrest_percent_by_yr.head()"
   ]
  },
  {
   "cell_type": "code",
   "execution_count": 56,
   "metadata": {},
   "outputs": [
    {
     "data": {
      "image/png": "[encoded data removed]",
      "text/plain": [
       "<Figure size 432x288 with 1 Axes>"
      ]
     },
     "metadata": {
      "needs_background": "light"
     },
     "output_type": "display_data"
    }
   ],
   "source": [
    "# Plot only arrests as bar graph. \n",
    "plt.bar(arrest_percent.index, arrest_percent.yes, align='center', alpha=0.5)\n",
    "plt.ylabel('percent')\n",
    "plt.title('Arrest Percentages')\n",
    "\n",
    "plt.show()"
   ]
  },
  {
   "cell_type": "code",
   "execution_count": null,
   "metadata": {},
   "outputs": [],
   "source": []
  }
 ],
 "metadata": {
  "kernelspec": {
   "display_name": "Python 3",
   "language": "python",
   "name": "python3"
  },
  "language_info": {
   "codemirror_mode": {
    "name": "ipython",
    "version": 3
   },
   "file_extension": ".py",
   "mimetype": "text/x-python",
   "name": "python",
   "nbconvert_exporter": "python",
   "pygments_lexer": "ipython3",
   "version": "3.6.0"
  }
 },
 "nbformat": 4,
 "nbformat_minor": 2
}
