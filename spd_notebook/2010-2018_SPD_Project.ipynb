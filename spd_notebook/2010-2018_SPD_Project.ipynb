{
 "cells": [
  {
   "cell_type": "code",
   "execution_count": 1,
   "metadata": {},
   "outputs": [],
   "source": [
    "import pandas as pd\n",
    "import numpy as np\n",
    "import matplotlib.pyplot as plt"
   ]
  },
  {
   "cell_type": "code",
   "execution_count": 2,
   "metadata": {},
   "outputs": [],
   "source": [
    "%matplotlib inline"
   ]
  },
  {
   "cell_type": "code",
   "execution_count": 4,
   "metadata": {},
   "outputs": [],
   "source": [
    "# Import data and create df\n",
    "\n",
    "data = pd.read_csv(\"/Users/Stacy/Documents/WebDevelopment/projects/sexualAssault_datasets/2010-2018_sexcrimes_violentcrimes.csv\", index_col=\"CAD Event Number\")\n",
    "data = pd.DataFrame(data)"
   ]
  },
  {
   "cell_type": "code",
   "execution_count": 5,
   "metadata": {},
   "outputs": [],
   "source": [
    "# Rename columns to be pythonic\n",
    "\n",
    "data.columns = ['event_clearing', 'call_type', 'priority', \n",
    "                'initial_call_type', 'final_call_type', 'original_time_queued',\n",
    "               'arrived_time', 'precinct', 'sector', 'beat']"
   ]
  },
  {
   "cell_type": "code",
   "execution_count": 7,
   "metadata": {},
   "outputs": [],
   "source": [
    "# ID all calls cancelled by dispatch\n",
    "cancelled_calls = data[data.event_clearing.str.contains(\"CANCELLED\")]\n",
    "\n",
    "# Delete rows with cxl'd calls\n",
    "\n",
    "data = data[data.event_clearing != 'RESPONDING UNIT(S) CANCELLED BY RADIO']\n",
    "data = data[data.event_clearing != 'DUPLICATED OR CANCELLED BY RADIO']"
   ]
  },
  {
   "cell_type": "markdown",
   "metadata": {},
   "source": [
    "### Handle time"
   ]
  },
  {
   "cell_type": "code",
   "execution_count": 11,
   "metadata": {},
   "outputs": [],
   "source": [
    "# Change original_time_queued to datetime\n",
    "data['original_time_queued'] = pd.to_datetime(data.original_time_queued)\n",
    "\n",
    "# Change arrived_time to datetime\n",
    "data['arrived_time'] = pd.to_datetime(data.arrived_time, format='%b %d %Y %I:%M:%S:%f%p')\n",
    "\n",
    "# Add time delta between original_time_queued and arrived_time\n",
    "data['time_delta'] = ((data.arrived_time - data.original_time_queued)/np.timedelta64(1, 's')).astype(int)"
   ]
  },
  {
   "cell_type": "code",
   "execution_count": 18,
   "metadata": {},
   "outputs": [],
   "source": [
    "# Add columns for arrived year and month\n",
    "\n",
    "data['year'] = data.arrived_time.dt.year\n",
    "data['month'] = data.arrived_time.dt.month\n",
    "\n",
    "# For rows with bad arrived time: change month and year to original_time_queued\n",
    "# Where arrive_time year = 1900, change data.year and data.month to original_time_queued year\n",
    "\n",
    "mask = data.year < 1901\n",
    "column_name_year = 'year'\n",
    "column_name_month = 'month'\n",
    "data.loc[mask, column_name_year] = data.original_time_queued.dt.year\n",
    "data.loc[mask, column_name_month] = data.original_time_queued.dt.month"
   ]
  },
  {
   "cell_type": "markdown",
   "metadata": {},
   "source": [
    "### Define terms"
   ]
  },
  {
   "cell_type": "code",
   "execution_count": 26,
   "metadata": {},
   "outputs": [],
   "source": [
    "# Define TRU initial call types\n",
    "TRU_call_types = [\n",
    "    'TRU - ASLT - WITH OR W/O WPNS (NO SHOOTINGS)',\n",
    "    'TRU - RAPE',\n",
    "    'TRU - LEWD CONDUCT',\n",
    "    'TRU - CHILD ABUSED, NEGLECTED',\n",
    "    'TRU - THREATS',\n",
    "    'TRU - ROBBERY',\n",
    "    'TRU - ASLT - MOLESTED ADULT (GROPED, FONDLED, ETC)',\n",
    "    'TRU - HARASSMENT',\n",
    "    'TRU - SEX IN PUBLIC',\n",
    "    'TRU - THEFT',\n",
    "    'TRU - FOLLOW UP',\n",
    "    'TRU - MVC - HIT AND RUN',\n",
    "    'TRU - LURING',\n",
    "    'TRU - FORGERY/CHKS/BUNCO/SCAMS/ID THEFT',\n",
    "    'TRU - SUSPICIOUS CIRCUMSTANCES']"
   ]
  },
  {
   "cell_type": "code",
   "execution_count": 47,
   "metadata": {},
   "outputs": [],
   "source": [
    "# Define terms that ID which crime_type\n",
    "\n",
    "# Define terms that ID rape CFS\n",
    "rape_terms = 'STRANGER|ACQUAINTANCE'\n",
    "rape_call_types = [\n",
    "    '--RAPE - KNOWN SUSPECT (ACQUAINTANCE)',\n",
    "    '--RAPE - UNKNOWN SUSPECT (STRANGER)']\n",
    "\n",
    "# Define terms that ID sex crimes\n",
    "sex_crime_terms = 'CSEC|LEWD|MOLESTING|STRANGER|ACQUAINTANCE'\n",
    "sex_crime_call_types = [\n",
    "    '--SEX OFFENSES (NON-RAPE) - LEWD CONDUCT',\n",
    "    '--RAPE - KNOWN SUSPECT (ACQUAINTANCE)',\n",
    "    '--RAPE - UNKNOWN SUSPECT (STRANGER)',\n",
    "    '--SEX OFFENSES (RAPE) - MOLESTING',\n",
    "    '--COMMERCIAL SEXUAL EXPLOITATION OF MINORS (CSEC)']\n",
    "\n",
    "# Define terms that ID other violent crimes\n",
    "violent_crime_terms = 'KIDNAP|HOMICIDE|SHOOTING|ASSAULTS|ROBBERY'\n",
    "violent_crime_call_types = [\n",
    "    '--ASSAULTS - FIREARM INVOLVED',\n",
    "    '--ROBBERY - ARMED',\n",
    "    '--HOMICIDE',\n",
    "    '--KIDNAP - GENERAL',\n",
    "    '--DRIVE BY SHOOTING - NO INJURIES']"
   ]
  },
  {
   "cell_type": "code",
   "execution_count": 19,
   "metadata": {},
   "outputs": [],
   "source": [
    "# ID clearing codes for is_arrest\n",
    "\n",
    "arrest_cc = ['PHYSICAL ARREST MADE']"
   ]
  },
  {
   "cell_type": "markdown",
   "metadata": {},
   "source": [
    "### Add columns for is_arrest, is_TRU, and crime_type"
   ]
  },
  {
   "cell_type": "code",
   "execution_count": 70,
   "metadata": {},
   "outputs": [],
   "source": [
    "# Add column identifying if there was an arrest\n",
    "data['is_arrest'] = np.where(data['event_clearing'].isin(arrest_cc), 'yes', 'no')\n",
    "\n",
    "# Add column identifying if this was A TRU call\n",
    "data['is_TRU'] = np.where(data['initial_call_type'].isin(TRU_call_types), 'yes', 'no')\n",
    "\n",
    "# Add column identifying crime type\n",
    "data['crime_type'] = np.where(data['final_call_type'].isin(sex_crime_call_types), 'sex crime', 'violent crime')"
   ]
  },
  {
   "cell_type": "markdown",
   "metadata": {},
   "source": [
    "## 2018 Sees Increase in reports of sex crimes\n",
    "#### In the same time period, Seattle saw a decrease in the reporting of other violent crimes."
   ]
  },
  {
   "cell_type": "code",
   "execution_count": 76,
   "metadata": {
    "scrolled": true
   },
   "outputs": [
    {
     "data": {
      "text/plain": [
       "<matplotlib.axes._subplots.AxesSubplot at 0x11f08f4e0>"
      ]
     },
     "execution_count": 76,
     "metadata": {},
     "output_type": "execute_result"
    },
    {
     "data": {
      "image/png": "[encoded data removed]",
      "text/plain": [
       "<Figure size 864x576 with 1 Axes>"
      ]
     },
     "metadata": {
      "needs_background": "light"
     },
     "output_type": "display_data"
    }
   ],
   "source": [
    "# Compare number of sexual assault calls and violent crime calls by year\n",
    "\n",
    "data.groupby('crime_type').year.value_counts().unstack(0).plot.bar(stacked=False, figsize=(12,8))"
   ]
  },
  {
   "cell_type": "code",
   "execution_count": 74,
   "metadata": {},
   "outputs": [
    {
     "name": "stderr",
     "output_type": "stream",
     "text": [
      "/Library/Frameworks/Python.framework/Versions/3.6/lib/python3.6/site-packages/ipykernel_launcher.py:6: SettingWithCopyWarning: \n",
      "A value is trying to be set on a copy of a slice from a DataFrame.\n",
      "Try using .loc[row_indexer,col_indexer] = value instead\n",
      "\n",
      "See the caveats in the documentation: http://pandas.pydata.org/pandas-docs/stable/indexing.html#indexing-view-versus-copy\n",
      "  \n"
     ]
    }
   ],
   "source": [
    "# Create df that only contain violent crimes and rape calls\n",
    "is_rape = data['final_call_type'].str.contains(rape_terms)\n",
    "is_vc = data['final_call_type'].str.contains(violent_crime_terms)\n",
    "\n",
    "rape_vc_df = data[is_rape | is_vc]\n",
    "rape_vc_df['crime_type'] = np.where(rape_vc_df['final_call_type'].isin(rape_call_types), 'rape', 'violent crime')"
   ]
  },
  {
   "cell_type": "code",
   "execution_count": 75,
   "metadata": {},
   "outputs": [
    {
     "data": {
      "text/plain": [
       "<matplotlib.axes._subplots.AxesSubplot at 0x11d49a940>"
      ]
     },
     "execution_count": 75,
     "metadata": {},
     "output_type": "execute_result"
    },
    {
     "data": {
      "image/png": "[encoded data removed]",
      "text/plain": [
       "<Figure size 864x576 with 1 Axes>"
      ]
     },
     "metadata": {
      "needs_background": "light"
     },
     "output_type": "display_data"
    }
   ],
   "source": [
    "# Compare number of rape calls and violent crime calls by year\n",
    "\n",
    "rape_vc_df.groupby('crime_type').year.value_counts().unstack(0).plot.bar(stacked=False, figsize=(12,8))"
   ]
  },
  {
   "cell_type": "code",
   "execution_count": 41,
   "metadata": {},
   "outputs": [
    {
     "data": {
      "text/plain": [
       "<matplotlib.axes._subplots.AxesSubplot at 0x11c5d7160>"
      ]
     },
     "execution_count": 41,
     "metadata": {},
     "output_type": "execute_result"
    },
    {
     "data": {
      "image/png": "[encoded data removed]",
      "text/plain": [
       "<Figure size 432x288 with 1 Axes>"
      ]
     },
     "metadata": {
      "needs_background": "light"
     },
     "output_type": "display_data"
    }
   ],
   "source": [
    "pd.value_counts(is_sex_crime.year).reindex([2010, 2011, 2012, 2013, 2014, 2015, 2016, 2017, 2018]).plot.bar()\n"
   ]
  },
  {
   "cell_type": "code",
   "execution_count": null,
   "metadata": {},
   "outputs": [],
   "source": [
    "# year by year violent crime\n",
    "\n",
    "is_violent_crime = data['final_call_type'].str.contains(violent_crime_terms)\n",
    "stage_is_violent_crime = data[is_violent_crime]\n",
    "\n",
    "\n"
   ]
  }
 ],
 "metadata": {
  "kernelspec": {
   "display_name": "Python 3",
   "language": "python",
   "name": "python3"
  },
  "language_info": {
   "codemirror_mode": {
    "name": "ipython",
    "version": 3
   },
   "file_extension": ".py",
   "mimetype": "text/x-python",
   "name": "python",
   "nbconvert_exporter": "python",
   "pygments_lexer": "ipython3",
   "version": "3.6.0"
  }
 },
 "nbformat": 4,
 "nbformat_minor": 2
}
