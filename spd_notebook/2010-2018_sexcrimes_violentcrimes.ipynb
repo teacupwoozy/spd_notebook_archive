{
 "cells": [
  {
   "cell_type": "code",
   "execution_count": 1,
   "metadata": {},
   "outputs": [],
   "source": [
    "import pandas as pd\n",
    "import numpy as np\n",
    "import matplotlib.pyplot as plt\n",
    "import plotly.plotly as py\n",
    "#import plotly.graph_objs as go\n",
    "import seaborn as sns\n",
    "sns.set()"
   ]
  },
  {
   "cell_type": "code",
   "execution_count": 2,
   "metadata": {},
   "outputs": [],
   "source": [
    "%matplotlib inline"
   ]
  },
  {
   "cell_type": "code",
   "execution_count": 3,
   "metadata": {},
   "outputs": [
    {
     "data": {
      "text/html": [
       "<div>\n",
       "<style scoped>\n",
       "    .dataframe tbody tr th:only-of-type {\n",
       "        vertical-align: middle;\n",
       "    }\n",
       "\n",
       "    .dataframe tbody tr th {\n",
       "        vertical-align: top;\n",
       "    }\n",
       "\n",
       "    .dataframe thead th {\n",
       "        text-align: right;\n",
       "    }\n",
       "</style>\n",
       "<table border=\"1\" class=\"dataframe\">\n",
       "  <thead>\n",
       "    <tr style=\"text-align: right;\">\n",
       "      <th></th>\n",
       "      <th>Event Clearance Description</th>\n",
       "      <th>Call Type</th>\n",
       "      <th>Priority</th>\n",
       "      <th>Initial Call Type</th>\n",
       "      <th>Final Call Type</th>\n",
       "      <th>Original Time Queued</th>\n",
       "      <th>Arrived Time</th>\n",
       "      <th>Precinct</th>\n",
       "      <th>Sector</th>\n",
       "      <th>Beat</th>\n",
       "    </tr>\n",
       "    <tr>\n",
       "      <th>CAD Event Number</th>\n",
       "      <th></th>\n",
       "      <th></th>\n",
       "      <th></th>\n",
       "      <th></th>\n",
       "      <th></th>\n",
       "      <th></th>\n",
       "      <th></th>\n",
       "      <th></th>\n",
       "      <th></th>\n",
       "      <th></th>\n",
       "    </tr>\n",
       "  </thead>\n",
       "  <tbody>\n",
       "    <tr>\n",
       "      <th>2010000066820</th>\n",
       "      <td>ASSISTANCE RENDERED</td>\n",
       "      <td>911</td>\n",
       "      <td>2</td>\n",
       "      <td>MENTAL - PERSON OR PICKUP/TRANSPORT</td>\n",
       "      <td>--SEX OFFENSES (NON-RAPE) - LEWD CONDUCT</td>\n",
       "      <td>02/27/2010 10:54:25 PM</td>\n",
       "      <td>Feb 27 2010 10:55:45:000PM</td>\n",
       "      <td>NORTH</td>\n",
       "      <td>UNION</td>\n",
       "      <td>U1</td>\n",
       "    </tr>\n",
       "    <tr>\n",
       "      <th>2010000000327</th>\n",
       "      <td>PHYSICAL ARREST MADE</td>\n",
       "      <td>911</td>\n",
       "      <td>1</td>\n",
       "      <td>ASLT - IP/JO - WITH OR W/O WPNS (NO SHOOTINGS)</td>\n",
       "      <td>--ASSAULTS - FIREARM INVOLVED</td>\n",
       "      <td>01/01/2010 03:13:06 AM</td>\n",
       "      <td>Jan  1 2010 03:14:51:000AM</td>\n",
       "      <td>SOUTH</td>\n",
       "      <td>ROBERT</td>\n",
       "      <td>R3</td>\n",
       "    </tr>\n",
       "    <tr>\n",
       "      <th>2010000000451</th>\n",
       "      <td>REPORT WRITTEN (NO ARREST)</td>\n",
       "      <td>911</td>\n",
       "      <td>2</td>\n",
       "      <td>THEFT OF SERVICES</td>\n",
       "      <td>--ROBBERY - ARMED</td>\n",
       "      <td>01/01/2010 05:46:54 AM</td>\n",
       "      <td>Jan  1 2010 06:39:35:000AM</td>\n",
       "      <td>NORTH</td>\n",
       "      <td>UNION</td>\n",
       "      <td>U1</td>\n",
       "    </tr>\n",
       "    <tr>\n",
       "      <th>2010000000466</th>\n",
       "      <td>REPORT WRITTEN (NO ARREST)</td>\n",
       "      <td>TELEPHONE OTHER, NOT 911</td>\n",
       "      <td>3</td>\n",
       "      <td>RAPE</td>\n",
       "      <td>--RAPE - KNOWN SUSPECT (ACQUAINTANCE)</td>\n",
       "      <td>01/01/2010 06:28:49 AM</td>\n",
       "      <td>Jan  1 2010 06:40:09:000AM</td>\n",
       "      <td>EAST</td>\n",
       "      <td>GEORGE</td>\n",
       "      <td>G1</td>\n",
       "    </tr>\n",
       "    <tr>\n",
       "      <th>2010000000776</th>\n",
       "      <td>REPORT WRITTEN (NO ARREST)</td>\n",
       "      <td>911</td>\n",
       "      <td>3</td>\n",
       "      <td>RAPE</td>\n",
       "      <td>--RAPE - KNOWN SUSPECT (ACQUAINTANCE)</td>\n",
       "      <td>01/01/2010 03:05:57 PM</td>\n",
       "      <td>Jan  1 2010 03:12:26:000PM</td>\n",
       "      <td>SOUTHWEST</td>\n",
       "      <td>FRANK</td>\n",
       "      <td>F3</td>\n",
       "    </tr>\n",
       "  </tbody>\n",
       "</table>\n",
       "</div>"
      ],
      "text/plain": [
       "                 Event Clearance Description                 Call Type  \\\n",
       "CAD Event Number                                                         \n",
       "2010000066820            ASSISTANCE RENDERED                       911   \n",
       "2010000000327           PHYSICAL ARREST MADE                       911   \n",
       "2010000000451     REPORT WRITTEN (NO ARREST)                       911   \n",
       "2010000000466     REPORT WRITTEN (NO ARREST)  TELEPHONE OTHER, NOT 911   \n",
       "2010000000776     REPORT WRITTEN (NO ARREST)                       911   \n",
       "\n",
       "                  Priority                               Initial Call Type  \\\n",
       "CAD Event Number                                                             \n",
       "2010000066820            2             MENTAL - PERSON OR PICKUP/TRANSPORT   \n",
       "2010000000327            1  ASLT - IP/JO - WITH OR W/O WPNS (NO SHOOTINGS)   \n",
       "2010000000451            2                               THEFT OF SERVICES   \n",
       "2010000000466            3                                            RAPE   \n",
       "2010000000776            3                                            RAPE   \n",
       "\n",
       "                                           Final Call Type  \\\n",
       "CAD Event Number                                             \n",
       "2010000066820     --SEX OFFENSES (NON-RAPE) - LEWD CONDUCT   \n",
       "2010000000327                --ASSAULTS - FIREARM INVOLVED   \n",
       "2010000000451                            --ROBBERY - ARMED   \n",
       "2010000000466        --RAPE - KNOWN SUSPECT (ACQUAINTANCE)   \n",
       "2010000000776        --RAPE - KNOWN SUSPECT (ACQUAINTANCE)   \n",
       "\n",
       "                    Original Time Queued                Arrived Time  \\\n",
       "CAD Event Number                                                       \n",
       "2010000066820     02/27/2010 10:54:25 PM  Feb 27 2010 10:55:45:000PM   \n",
       "2010000000327     01/01/2010 03:13:06 AM  Jan  1 2010 03:14:51:000AM   \n",
       "2010000000451     01/01/2010 05:46:54 AM  Jan  1 2010 06:39:35:000AM   \n",
       "2010000000466     01/01/2010 06:28:49 AM  Jan  1 2010 06:40:09:000AM   \n",
       "2010000000776     01/01/2010 03:05:57 PM  Jan  1 2010 03:12:26:000PM   \n",
       "\n",
       "                   Precinct  Sector Beat  \n",
       "CAD Event Number                          \n",
       "2010000066820         NORTH   UNION   U1  \n",
       "2010000000327         SOUTH  ROBERT   R3  \n",
       "2010000000451         NORTH   UNION   U1  \n",
       "2010000000466          EAST  GEORGE   G1  \n",
       "2010000000776     SOUTHWEST   FRANK   F3  "
      ]
     },
     "execution_count": 3,
     "metadata": {},
     "output_type": "execute_result"
    }
   ],
   "source": [
    "# Import data and create df\n",
    "\n",
    "data = pd.read_csv(\"/Users/Stacy/Documents/WebDevelopment/projects/sexualAssault_datasets/2010-2018_sexcrimes_violentcrimes.csv\", index_col=\"CAD Event Number\")\n",
    "data = pd.DataFrame(data)\n",
    "data.head()"
   ]
  },
  {
   "cell_type": "code",
   "execution_count": 4,
   "metadata": {},
   "outputs": [],
   "source": [
    "# Rename columns to be pythonic\n",
    "\n",
    "data.columns = ['event_clearing', 'call_type', 'priority', \n",
    "                'initial_call_type', 'final_call_type', 'original_time_queued',\n",
    "               'arrived_time', 'precinct', 'sector', 'beat']"
   ]
  },
  {
   "cell_type": "code",
   "execution_count": 5,
   "metadata": {},
   "outputs": [
    {
     "data": {
      "text/html": [
       "<div>\n",
       "<style scoped>\n",
       "    .dataframe tbody tr th:only-of-type {\n",
       "        vertical-align: middle;\n",
       "    }\n",
       "\n",
       "    .dataframe tbody tr th {\n",
       "        vertical-align: top;\n",
       "    }\n",
       "\n",
       "    .dataframe thead th {\n",
       "        text-align: right;\n",
       "    }\n",
       "</style>\n",
       "<table border=\"1\" class=\"dataframe\">\n",
       "  <thead>\n",
       "    <tr style=\"text-align: right;\">\n",
       "      <th></th>\n",
       "      <th>event_clearing</th>\n",
       "      <th>call_type</th>\n",
       "      <th>priority</th>\n",
       "      <th>initial_call_type</th>\n",
       "      <th>final_call_type</th>\n",
       "      <th>original_time_queued</th>\n",
       "      <th>arrived_time</th>\n",
       "      <th>precinct</th>\n",
       "      <th>sector</th>\n",
       "      <th>beat</th>\n",
       "    </tr>\n",
       "    <tr>\n",
       "      <th>CAD Event Number</th>\n",
       "      <th></th>\n",
       "      <th></th>\n",
       "      <th></th>\n",
       "      <th></th>\n",
       "      <th></th>\n",
       "      <th></th>\n",
       "      <th></th>\n",
       "      <th></th>\n",
       "      <th></th>\n",
       "      <th></th>\n",
       "    </tr>\n",
       "  </thead>\n",
       "  <tbody>\n",
       "    <tr>\n",
       "      <th>2010000066820</th>\n",
       "      <td>ASSISTANCE RENDERED</td>\n",
       "      <td>911</td>\n",
       "      <td>2</td>\n",
       "      <td>MENTAL - PERSON OR PICKUP/TRANSPORT</td>\n",
       "      <td>--SEX OFFENSES (NON-RAPE) - LEWD CONDUCT</td>\n",
       "      <td>02/27/2010 10:54:25 PM</td>\n",
       "      <td>Feb 27 2010 10:55:45:000PM</td>\n",
       "      <td>NORTH</td>\n",
       "      <td>UNION</td>\n",
       "      <td>U1</td>\n",
       "    </tr>\n",
       "    <tr>\n",
       "      <th>2010000000327</th>\n",
       "      <td>PHYSICAL ARREST MADE</td>\n",
       "      <td>911</td>\n",
       "      <td>1</td>\n",
       "      <td>ASLT - IP/JO - WITH OR W/O WPNS (NO SHOOTINGS)</td>\n",
       "      <td>--ASSAULTS - FIREARM INVOLVED</td>\n",
       "      <td>01/01/2010 03:13:06 AM</td>\n",
       "      <td>Jan  1 2010 03:14:51:000AM</td>\n",
       "      <td>SOUTH</td>\n",
       "      <td>ROBERT</td>\n",
       "      <td>R3</td>\n",
       "    </tr>\n",
       "    <tr>\n",
       "      <th>2010000000451</th>\n",
       "      <td>REPORT WRITTEN (NO ARREST)</td>\n",
       "      <td>911</td>\n",
       "      <td>2</td>\n",
       "      <td>THEFT OF SERVICES</td>\n",
       "      <td>--ROBBERY - ARMED</td>\n",
       "      <td>01/01/2010 05:46:54 AM</td>\n",
       "      <td>Jan  1 2010 06:39:35:000AM</td>\n",
       "      <td>NORTH</td>\n",
       "      <td>UNION</td>\n",
       "      <td>U1</td>\n",
       "    </tr>\n",
       "    <tr>\n",
       "      <th>2010000000466</th>\n",
       "      <td>REPORT WRITTEN (NO ARREST)</td>\n",
       "      <td>TELEPHONE OTHER, NOT 911</td>\n",
       "      <td>3</td>\n",
       "      <td>RAPE</td>\n",
       "      <td>--RAPE - KNOWN SUSPECT (ACQUAINTANCE)</td>\n",
       "      <td>01/01/2010 06:28:49 AM</td>\n",
       "      <td>Jan  1 2010 06:40:09:000AM</td>\n",
       "      <td>EAST</td>\n",
       "      <td>GEORGE</td>\n",
       "      <td>G1</td>\n",
       "    </tr>\n",
       "    <tr>\n",
       "      <th>2010000000776</th>\n",
       "      <td>REPORT WRITTEN (NO ARREST)</td>\n",
       "      <td>911</td>\n",
       "      <td>3</td>\n",
       "      <td>RAPE</td>\n",
       "      <td>--RAPE - KNOWN SUSPECT (ACQUAINTANCE)</td>\n",
       "      <td>01/01/2010 03:05:57 PM</td>\n",
       "      <td>Jan  1 2010 03:12:26:000PM</td>\n",
       "      <td>SOUTHWEST</td>\n",
       "      <td>FRANK</td>\n",
       "      <td>F3</td>\n",
       "    </tr>\n",
       "  </tbody>\n",
       "</table>\n",
       "</div>"
      ],
      "text/plain": [
       "                              event_clearing                 call_type  \\\n",
       "CAD Event Number                                                         \n",
       "2010000066820            ASSISTANCE RENDERED                       911   \n",
       "2010000000327           PHYSICAL ARREST MADE                       911   \n",
       "2010000000451     REPORT WRITTEN (NO ARREST)                       911   \n",
       "2010000000466     REPORT WRITTEN (NO ARREST)  TELEPHONE OTHER, NOT 911   \n",
       "2010000000776     REPORT WRITTEN (NO ARREST)                       911   \n",
       "\n",
       "                  priority                               initial_call_type  \\\n",
       "CAD Event Number                                                             \n",
       "2010000066820            2             MENTAL - PERSON OR PICKUP/TRANSPORT   \n",
       "2010000000327            1  ASLT - IP/JO - WITH OR W/O WPNS (NO SHOOTINGS)   \n",
       "2010000000451            2                               THEFT OF SERVICES   \n",
       "2010000000466            3                                            RAPE   \n",
       "2010000000776            3                                            RAPE   \n",
       "\n",
       "                                           final_call_type  \\\n",
       "CAD Event Number                                             \n",
       "2010000066820     --SEX OFFENSES (NON-RAPE) - LEWD CONDUCT   \n",
       "2010000000327                --ASSAULTS - FIREARM INVOLVED   \n",
       "2010000000451                            --ROBBERY - ARMED   \n",
       "2010000000466        --RAPE - KNOWN SUSPECT (ACQUAINTANCE)   \n",
       "2010000000776        --RAPE - KNOWN SUSPECT (ACQUAINTANCE)   \n",
       "\n",
       "                    original_time_queued                arrived_time  \\\n",
       "CAD Event Number                                                       \n",
       "2010000066820     02/27/2010 10:54:25 PM  Feb 27 2010 10:55:45:000PM   \n",
       "2010000000327     01/01/2010 03:13:06 AM  Jan  1 2010 03:14:51:000AM   \n",
       "2010000000451     01/01/2010 05:46:54 AM  Jan  1 2010 06:39:35:000AM   \n",
       "2010000000466     01/01/2010 06:28:49 AM  Jan  1 2010 06:40:09:000AM   \n",
       "2010000000776     01/01/2010 03:05:57 PM  Jan  1 2010 03:12:26:000PM   \n",
       "\n",
       "                   precinct  sector beat  \n",
       "CAD Event Number                          \n",
       "2010000066820         NORTH   UNION   U1  \n",
       "2010000000327         SOUTH  ROBERT   R3  \n",
       "2010000000451         NORTH   UNION   U1  \n",
       "2010000000466          EAST  GEORGE   G1  \n",
       "2010000000776     SOUTHWEST   FRANK   F3  "
      ]
     },
     "execution_count": 5,
     "metadata": {},
     "output_type": "execute_result"
    }
   ],
   "source": [
    "data.head()"
   ]
  },
  {
   "cell_type": "markdown",
   "metadata": {},
   "source": [
    "## To Do\n",
    "**Cleaning:**\n",
    "* Clean out extra precinct values (one is 'unknown')\n",
    "* Review if I need to delete rows with null sector value\n",
    "* ~~Look at high number of lewd conduct calls with bad arrival dates (approx 50% of bad dates)~~\n",
    "* ~~Delete cancelled_calls rows~~\n",
    "\n",
    "**Calculations:**\n",
    "* ~~Add col for delta between time queued and time arrived.~~"
   ]
  },
  {
   "cell_type": "markdown",
   "metadata": {},
   "source": [
    "### Remove cxl's calls"
   ]
  },
  {
   "cell_type": "code",
   "execution_count": 6,
   "metadata": {},
   "outputs": [
    {
     "data": {
      "text/html": [
       "<div>\n",
       "<style scoped>\n",
       "    .dataframe tbody tr th:only-of-type {\n",
       "        vertical-align: middle;\n",
       "    }\n",
       "\n",
       "    .dataframe tbody tr th {\n",
       "        vertical-align: top;\n",
       "    }\n",
       "\n",
       "    .dataframe thead th {\n",
       "        text-align: right;\n",
       "    }\n",
       "</style>\n",
       "<table border=\"1\" class=\"dataframe\">\n",
       "  <thead>\n",
       "    <tr style=\"text-align: right;\">\n",
       "      <th></th>\n",
       "      <th>event_clearing</th>\n",
       "      <th>call_type</th>\n",
       "      <th>priority</th>\n",
       "      <th>initial_call_type</th>\n",
       "      <th>final_call_type</th>\n",
       "      <th>original_time_queued</th>\n",
       "      <th>arrived_time</th>\n",
       "      <th>precinct</th>\n",
       "      <th>sector</th>\n",
       "      <th>beat</th>\n",
       "    </tr>\n",
       "    <tr>\n",
       "      <th>CAD Event Number</th>\n",
       "      <th></th>\n",
       "      <th></th>\n",
       "      <th></th>\n",
       "      <th></th>\n",
       "      <th></th>\n",
       "      <th></th>\n",
       "      <th></th>\n",
       "      <th></th>\n",
       "      <th></th>\n",
       "      <th></th>\n",
       "    </tr>\n",
       "  </thead>\n",
       "  <tbody>\n",
       "    <tr>\n",
       "      <th>2010000014912</th>\n",
       "      <td>DUPLICATED OR CANCELLED BY RADIO</td>\n",
       "      <td>911</td>\n",
       "      <td>3</td>\n",
       "      <td>ROBBERY (INCLUDES STRONG ARM)</td>\n",
       "      <td>--ROBBERY - ARMED</td>\n",
       "      <td>01/14/2010 02:52:44 AM</td>\n",
       "      <td>Jan 14 2010 04:36:09:000AM</td>\n",
       "      <td>EAST</td>\n",
       "      <td>EDWARD</td>\n",
       "      <td>E3</td>\n",
       "    </tr>\n",
       "    <tr>\n",
       "      <th>2010000026561</th>\n",
       "      <td>RESPONDING UNIT(S) CANCELLED BY RADIO</td>\n",
       "      <td>911</td>\n",
       "      <td>3</td>\n",
       "      <td>LEWD -  (EXPOSING, FLASHING, URINATING IN PUB)</td>\n",
       "      <td>--SEX OFFENSES (NON-RAPE) - LEWD CONDUCT</td>\n",
       "      <td>01/23/2010 08:16:53 PM</td>\n",
       "      <td>Jan  1 1900 12:00:00:000AM</td>\n",
       "      <td>SOUTH</td>\n",
       "      <td>SAM</td>\n",
       "      <td>S1</td>\n",
       "    </tr>\n",
       "    <tr>\n",
       "      <th>2010000047381</th>\n",
       "      <td>RESPONDING UNIT(S) CANCELLED BY RADIO</td>\n",
       "      <td>ONVIEW</td>\n",
       "      <td>9</td>\n",
       "      <td>-ASSIGNED DUTY - IN-SERVICE TRAINING</td>\n",
       "      <td>--RAPE - UNKNOWN SUSPECT (STRANGER)</td>\n",
       "      <td>02/10/2010 07:41:21 PM</td>\n",
       "      <td>Feb 10 2010 07:41:21:000PM</td>\n",
       "      <td>WEST</td>\n",
       "      <td>DAVID</td>\n",
       "      <td>D2</td>\n",
       "    </tr>\n",
       "    <tr>\n",
       "      <th>2010000090603</th>\n",
       "      <td>RESPONDING UNIT(S) CANCELLED BY RADIO</td>\n",
       "      <td>911</td>\n",
       "      <td>3</td>\n",
       "      <td>FOLLOW UP</td>\n",
       "      <td>--ROBBERY - ARMED</td>\n",
       "      <td>03/19/2010 12:13:12 PM</td>\n",
       "      <td>Mar 19 2010 12:17:12:000PM</td>\n",
       "      <td>NORTH</td>\n",
       "      <td>UNION</td>\n",
       "      <td>U2</td>\n",
       "    </tr>\n",
       "    <tr>\n",
       "      <th>2010000121164</th>\n",
       "      <td>RESPONDING UNIT(S) CANCELLED BY RADIO</td>\n",
       "      <td>911</td>\n",
       "      <td>2</td>\n",
       "      <td>LEWD -  (EXPOSING, FLASHING, URINATING IN PUB)</td>\n",
       "      <td>--SEX OFFENSES (NON-RAPE) - LEWD CONDUCT</td>\n",
       "      <td>04/14/2010 02:20:13 PM</td>\n",
       "      <td>Apr 14 2010 02:26:17:000PM</td>\n",
       "      <td>NORTH</td>\n",
       "      <td>JOHN</td>\n",
       "      <td>J1</td>\n",
       "    </tr>\n",
       "  </tbody>\n",
       "</table>\n",
       "</div>"
      ],
      "text/plain": [
       "                                         event_clearing call_type  priority  \\\n",
       "CAD Event Number                                                              \n",
       "2010000014912          DUPLICATED OR CANCELLED BY RADIO       911         3   \n",
       "2010000026561     RESPONDING UNIT(S) CANCELLED BY RADIO       911         3   \n",
       "2010000047381     RESPONDING UNIT(S) CANCELLED BY RADIO    ONVIEW         9   \n",
       "2010000090603     RESPONDING UNIT(S) CANCELLED BY RADIO       911         3   \n",
       "2010000121164     RESPONDING UNIT(S) CANCELLED BY RADIO       911         2   \n",
       "\n",
       "                                               initial_call_type  \\\n",
       "CAD Event Number                                                   \n",
       "2010000014912                      ROBBERY (INCLUDES STRONG ARM)   \n",
       "2010000026561     LEWD -  (EXPOSING, FLASHING, URINATING IN PUB)   \n",
       "2010000047381               -ASSIGNED DUTY - IN-SERVICE TRAINING   \n",
       "2010000090603                                          FOLLOW UP   \n",
       "2010000121164     LEWD -  (EXPOSING, FLASHING, URINATING IN PUB)   \n",
       "\n",
       "                                           final_call_type  \\\n",
       "CAD Event Number                                             \n",
       "2010000014912                            --ROBBERY - ARMED   \n",
       "2010000026561     --SEX OFFENSES (NON-RAPE) - LEWD CONDUCT   \n",
       "2010000047381          --RAPE - UNKNOWN SUSPECT (STRANGER)   \n",
       "2010000090603                            --ROBBERY - ARMED   \n",
       "2010000121164     --SEX OFFENSES (NON-RAPE) - LEWD CONDUCT   \n",
       "\n",
       "                    original_time_queued                arrived_time precinct  \\\n",
       "CAD Event Number                                                                \n",
       "2010000014912     01/14/2010 02:52:44 AM  Jan 14 2010 04:36:09:000AM     EAST   \n",
       "2010000026561     01/23/2010 08:16:53 PM  Jan  1 1900 12:00:00:000AM    SOUTH   \n",
       "2010000047381     02/10/2010 07:41:21 PM  Feb 10 2010 07:41:21:000PM     WEST   \n",
       "2010000090603     03/19/2010 12:13:12 PM  Mar 19 2010 12:17:12:000PM    NORTH   \n",
       "2010000121164     04/14/2010 02:20:13 PM  Apr 14 2010 02:26:17:000PM    NORTH   \n",
       "\n",
       "                  sector beat  \n",
       "CAD Event Number               \n",
       "2010000014912     EDWARD   E3  \n",
       "2010000026561        SAM   S1  \n",
       "2010000047381      DAVID   D2  \n",
       "2010000090603      UNION   U2  \n",
       "2010000121164       JOHN   J1  "
      ]
     },
     "execution_count": 6,
     "metadata": {},
     "output_type": "execute_result"
    }
   ],
   "source": [
    "# ID all clearing codes\n",
    "clearing_codes = data['event_clearing'].unique().tolist()\n",
    "\n",
    "# ID all calls cancelled by dispatch\n",
    "cancelled_calls = data[data.event_clearing.str.contains(\"CANCELLED\")]\n",
    "cancelled_calls.head()"
   ]
  },
  {
   "cell_type": "code",
   "execution_count": 7,
   "metadata": {},
   "outputs": [
    {
     "data": {
      "text/html": [
       "<div>\n",
       "<style scoped>\n",
       "    .dataframe tbody tr th:only-of-type {\n",
       "        vertical-align: middle;\n",
       "    }\n",
       "\n",
       "    .dataframe tbody tr th {\n",
       "        vertical-align: top;\n",
       "    }\n",
       "\n",
       "    .dataframe thead th {\n",
       "        text-align: right;\n",
       "    }\n",
       "</style>\n",
       "<table border=\"1\" class=\"dataframe\">\n",
       "  <thead>\n",
       "    <tr style=\"text-align: right;\">\n",
       "      <th></th>\n",
       "      <th>event_clearing</th>\n",
       "      <th>call_type</th>\n",
       "      <th>priority</th>\n",
       "      <th>initial_call_type</th>\n",
       "      <th>final_call_type</th>\n",
       "      <th>original_time_queued</th>\n",
       "      <th>arrived_time</th>\n",
       "      <th>precinct</th>\n",
       "      <th>sector</th>\n",
       "      <th>beat</th>\n",
       "    </tr>\n",
       "    <tr>\n",
       "      <th>CAD Event Number</th>\n",
       "      <th></th>\n",
       "      <th></th>\n",
       "      <th></th>\n",
       "      <th></th>\n",
       "      <th></th>\n",
       "      <th></th>\n",
       "      <th></th>\n",
       "      <th></th>\n",
       "      <th></th>\n",
       "      <th></th>\n",
       "    </tr>\n",
       "  </thead>\n",
       "  <tbody>\n",
       "    <tr>\n",
       "      <th>2010000066820</th>\n",
       "      <td>ASSISTANCE RENDERED</td>\n",
       "      <td>911</td>\n",
       "      <td>2</td>\n",
       "      <td>MENTAL - PERSON OR PICKUP/TRANSPORT</td>\n",
       "      <td>--SEX OFFENSES (NON-RAPE) - LEWD CONDUCT</td>\n",
       "      <td>02/27/2010 10:54:25 PM</td>\n",
       "      <td>Feb 27 2010 10:55:45:000PM</td>\n",
       "      <td>NORTH</td>\n",
       "      <td>UNION</td>\n",
       "      <td>U1</td>\n",
       "    </tr>\n",
       "    <tr>\n",
       "      <th>2010000000327</th>\n",
       "      <td>PHYSICAL ARREST MADE</td>\n",
       "      <td>911</td>\n",
       "      <td>1</td>\n",
       "      <td>ASLT - IP/JO - WITH OR W/O WPNS (NO SHOOTINGS)</td>\n",
       "      <td>--ASSAULTS - FIREARM INVOLVED</td>\n",
       "      <td>01/01/2010 03:13:06 AM</td>\n",
       "      <td>Jan  1 2010 03:14:51:000AM</td>\n",
       "      <td>SOUTH</td>\n",
       "      <td>ROBERT</td>\n",
       "      <td>R3</td>\n",
       "    </tr>\n",
       "    <tr>\n",
       "      <th>2010000000451</th>\n",
       "      <td>REPORT WRITTEN (NO ARREST)</td>\n",
       "      <td>911</td>\n",
       "      <td>2</td>\n",
       "      <td>THEFT OF SERVICES</td>\n",
       "      <td>--ROBBERY - ARMED</td>\n",
       "      <td>01/01/2010 05:46:54 AM</td>\n",
       "      <td>Jan  1 2010 06:39:35:000AM</td>\n",
       "      <td>NORTH</td>\n",
       "      <td>UNION</td>\n",
       "      <td>U1</td>\n",
       "    </tr>\n",
       "    <tr>\n",
       "      <th>2010000000466</th>\n",
       "      <td>REPORT WRITTEN (NO ARREST)</td>\n",
       "      <td>TELEPHONE OTHER, NOT 911</td>\n",
       "      <td>3</td>\n",
       "      <td>RAPE</td>\n",
       "      <td>--RAPE - KNOWN SUSPECT (ACQUAINTANCE)</td>\n",
       "      <td>01/01/2010 06:28:49 AM</td>\n",
       "      <td>Jan  1 2010 06:40:09:000AM</td>\n",
       "      <td>EAST</td>\n",
       "      <td>GEORGE</td>\n",
       "      <td>G1</td>\n",
       "    </tr>\n",
       "    <tr>\n",
       "      <th>2010000000776</th>\n",
       "      <td>REPORT WRITTEN (NO ARREST)</td>\n",
       "      <td>911</td>\n",
       "      <td>3</td>\n",
       "      <td>RAPE</td>\n",
       "      <td>--RAPE - KNOWN SUSPECT (ACQUAINTANCE)</td>\n",
       "      <td>01/01/2010 03:05:57 PM</td>\n",
       "      <td>Jan  1 2010 03:12:26:000PM</td>\n",
       "      <td>SOUTHWEST</td>\n",
       "      <td>FRANK</td>\n",
       "      <td>F3</td>\n",
       "    </tr>\n",
       "  </tbody>\n",
       "</table>\n",
       "</div>"
      ],
      "text/plain": [
       "                              event_clearing                 call_type  \\\n",
       "CAD Event Number                                                         \n",
       "2010000066820            ASSISTANCE RENDERED                       911   \n",
       "2010000000327           PHYSICAL ARREST MADE                       911   \n",
       "2010000000451     REPORT WRITTEN (NO ARREST)                       911   \n",
       "2010000000466     REPORT WRITTEN (NO ARREST)  TELEPHONE OTHER, NOT 911   \n",
       "2010000000776     REPORT WRITTEN (NO ARREST)                       911   \n",
       "\n",
       "                  priority                               initial_call_type  \\\n",
       "CAD Event Number                                                             \n",
       "2010000066820            2             MENTAL - PERSON OR PICKUP/TRANSPORT   \n",
       "2010000000327            1  ASLT - IP/JO - WITH OR W/O WPNS (NO SHOOTINGS)   \n",
       "2010000000451            2                               THEFT OF SERVICES   \n",
       "2010000000466            3                                            RAPE   \n",
       "2010000000776            3                                            RAPE   \n",
       "\n",
       "                                           final_call_type  \\\n",
       "CAD Event Number                                             \n",
       "2010000066820     --SEX OFFENSES (NON-RAPE) - LEWD CONDUCT   \n",
       "2010000000327                --ASSAULTS - FIREARM INVOLVED   \n",
       "2010000000451                            --ROBBERY - ARMED   \n",
       "2010000000466        --RAPE - KNOWN SUSPECT (ACQUAINTANCE)   \n",
       "2010000000776        --RAPE - KNOWN SUSPECT (ACQUAINTANCE)   \n",
       "\n",
       "                    original_time_queued                arrived_time  \\\n",
       "CAD Event Number                                                       \n",
       "2010000066820     02/27/2010 10:54:25 PM  Feb 27 2010 10:55:45:000PM   \n",
       "2010000000327     01/01/2010 03:13:06 AM  Jan  1 2010 03:14:51:000AM   \n",
       "2010000000451     01/01/2010 05:46:54 AM  Jan  1 2010 06:39:35:000AM   \n",
       "2010000000466     01/01/2010 06:28:49 AM  Jan  1 2010 06:40:09:000AM   \n",
       "2010000000776     01/01/2010 03:05:57 PM  Jan  1 2010 03:12:26:000PM   \n",
       "\n",
       "                   precinct  sector beat  \n",
       "CAD Event Number                          \n",
       "2010000066820         NORTH   UNION   U1  \n",
       "2010000000327         SOUTH  ROBERT   R3  \n",
       "2010000000451         NORTH   UNION   U1  \n",
       "2010000000466          EAST  GEORGE   G1  \n",
       "2010000000776     SOUTHWEST   FRANK   F3  "
      ]
     },
     "execution_count": 7,
     "metadata": {},
     "output_type": "execute_result"
    }
   ],
   "source": [
    "# Delete rows with cxl'd calls\n",
    "\n",
    "data = data[data.event_clearing != 'RESPONDING UNIT(S) CANCELLED BY RADIO']\n",
    "data = data[data.event_clearing != 'DUPLICATED OR CANCELLED BY RADIO']\n",
    "\n",
    "data.head()"
   ]
  },
  {
   "cell_type": "code",
   "execution_count": 8,
   "metadata": {},
   "outputs": [
    {
     "data": {
      "text/html": [
       "<div>\n",
       "<style scoped>\n",
       "    .dataframe tbody tr th:only-of-type {\n",
       "        vertical-align: middle;\n",
       "    }\n",
       "\n",
       "    .dataframe tbody tr th {\n",
       "        vertical-align: top;\n",
       "    }\n",
       "\n",
       "    .dataframe thead th {\n",
       "        text-align: right;\n",
       "    }\n",
       "</style>\n",
       "<table border=\"1\" class=\"dataframe\">\n",
       "  <thead>\n",
       "    <tr style=\"text-align: right;\">\n",
       "      <th></th>\n",
       "      <th>event_clearing</th>\n",
       "      <th>call_type</th>\n",
       "      <th>priority</th>\n",
       "      <th>initial_call_type</th>\n",
       "      <th>final_call_type</th>\n",
       "      <th>original_time_queued</th>\n",
       "      <th>arrived_time</th>\n",
       "      <th>precinct</th>\n",
       "      <th>sector</th>\n",
       "      <th>beat</th>\n",
       "    </tr>\n",
       "    <tr>\n",
       "      <th>CAD Event Number</th>\n",
       "      <th></th>\n",
       "      <th></th>\n",
       "      <th></th>\n",
       "      <th></th>\n",
       "      <th></th>\n",
       "      <th></th>\n",
       "      <th></th>\n",
       "      <th></th>\n",
       "      <th></th>\n",
       "      <th></th>\n",
       "    </tr>\n",
       "  </thead>\n",
       "  <tbody>\n",
       "  </tbody>\n",
       "</table>\n",
       "</div>"
      ],
      "text/plain": [
       "Empty DataFrame\n",
       "Columns: [event_clearing, call_type, priority, initial_call_type, final_call_type, original_time_queued, arrived_time, precinct, sector, beat]\n",
       "Index: []"
      ]
     },
     "execution_count": 8,
     "metadata": {},
     "output_type": "execute_result"
    }
   ],
   "source": [
    "# Verify all cxl'd calls removed from DataFram\n",
    "\n",
    "data[data.event_clearing.str.contains(\"CANCELLED\")]"
   ]
  },
  {
   "cell_type": "code",
   "execution_count": 9,
   "metadata": {},
   "outputs": [],
   "source": [
    "# Change original_time_queued to datetime\n",
    "data['original_time_queued'] = pd.to_datetime(data.original_time_queued)\n",
    "\n",
    "# Change arrived_time to datetime\n",
    "data['arrived_time'] = pd.to_datetime(data.arrived_time, format='%b %d %Y %I:%M:%S:%f%p')\n",
    "\n",
    "# Add time delta between original_time_queued and arrived_time\n",
    "data['time_delta'] = (data.arrived_time - data.original_time_queued)/np.timedelta64(1, 's')"
   ]
  },
  {
   "cell_type": "code",
   "execution_count": 10,
   "metadata": {},
   "outputs": [
    {
     "data": {
      "text/html": [
       "<div>\n",
       "<style scoped>\n",
       "    .dataframe tbody tr th:only-of-type {\n",
       "        vertical-align: middle;\n",
       "    }\n",
       "\n",
       "    .dataframe tbody tr th {\n",
       "        vertical-align: top;\n",
       "    }\n",
       "\n",
       "    .dataframe thead th {\n",
       "        text-align: right;\n",
       "    }\n",
       "</style>\n",
       "<table border=\"1\" class=\"dataframe\">\n",
       "  <thead>\n",
       "    <tr style=\"text-align: right;\">\n",
       "      <th></th>\n",
       "      <th>event_clearing</th>\n",
       "      <th>call_type</th>\n",
       "      <th>priority</th>\n",
       "      <th>initial_call_type</th>\n",
       "      <th>final_call_type</th>\n",
       "      <th>original_time_queued</th>\n",
       "      <th>arrived_time</th>\n",
       "      <th>precinct</th>\n",
       "      <th>sector</th>\n",
       "      <th>beat</th>\n",
       "      <th>time_delta</th>\n",
       "      <th>year</th>\n",
       "      <th>month</th>\n",
       "    </tr>\n",
       "    <tr>\n",
       "      <th>CAD Event Number</th>\n",
       "      <th></th>\n",
       "      <th></th>\n",
       "      <th></th>\n",
       "      <th></th>\n",
       "      <th></th>\n",
       "      <th></th>\n",
       "      <th></th>\n",
       "      <th></th>\n",
       "      <th></th>\n",
       "      <th></th>\n",
       "      <th></th>\n",
       "      <th></th>\n",
       "      <th></th>\n",
       "    </tr>\n",
       "  </thead>\n",
       "  <tbody>\n",
       "    <tr>\n",
       "      <th>2010000066820</th>\n",
       "      <td>ASSISTANCE RENDERED</td>\n",
       "      <td>911</td>\n",
       "      <td>2</td>\n",
       "      <td>MENTAL - PERSON OR PICKUP/TRANSPORT</td>\n",
       "      <td>--SEX OFFENSES (NON-RAPE) - LEWD CONDUCT</td>\n",
       "      <td>2010-02-27 22:54:25</td>\n",
       "      <td>2010-02-27 22:55:45</td>\n",
       "      <td>NORTH</td>\n",
       "      <td>UNION</td>\n",
       "      <td>U1</td>\n",
       "      <td>80.0</td>\n",
       "      <td>2010</td>\n",
       "      <td>2</td>\n",
       "    </tr>\n",
       "    <tr>\n",
       "      <th>2010000000327</th>\n",
       "      <td>PHYSICAL ARREST MADE</td>\n",
       "      <td>911</td>\n",
       "      <td>1</td>\n",
       "      <td>ASLT - IP/JO - WITH OR W/O WPNS (NO SHOOTINGS)</td>\n",
       "      <td>--ASSAULTS - FIREARM INVOLVED</td>\n",
       "      <td>2010-01-01 03:13:06</td>\n",
       "      <td>2010-01-01 03:14:51</td>\n",
       "      <td>SOUTH</td>\n",
       "      <td>ROBERT</td>\n",
       "      <td>R3</td>\n",
       "      <td>105.0</td>\n",
       "      <td>2010</td>\n",
       "      <td>1</td>\n",
       "    </tr>\n",
       "    <tr>\n",
       "      <th>2010000000451</th>\n",
       "      <td>REPORT WRITTEN (NO ARREST)</td>\n",
       "      <td>911</td>\n",
       "      <td>2</td>\n",
       "      <td>THEFT OF SERVICES</td>\n",
       "      <td>--ROBBERY - ARMED</td>\n",
       "      <td>2010-01-01 05:46:54</td>\n",
       "      <td>2010-01-01 06:39:35</td>\n",
       "      <td>NORTH</td>\n",
       "      <td>UNION</td>\n",
       "      <td>U1</td>\n",
       "      <td>3161.0</td>\n",
       "      <td>2010</td>\n",
       "      <td>1</td>\n",
       "    </tr>\n",
       "    <tr>\n",
       "      <th>2010000000466</th>\n",
       "      <td>REPORT WRITTEN (NO ARREST)</td>\n",
       "      <td>TELEPHONE OTHER, NOT 911</td>\n",
       "      <td>3</td>\n",
       "      <td>RAPE</td>\n",
       "      <td>--RAPE - KNOWN SUSPECT (ACQUAINTANCE)</td>\n",
       "      <td>2010-01-01 06:28:49</td>\n",
       "      <td>2010-01-01 06:40:09</td>\n",
       "      <td>EAST</td>\n",
       "      <td>GEORGE</td>\n",
       "      <td>G1</td>\n",
       "      <td>680.0</td>\n",
       "      <td>2010</td>\n",
       "      <td>1</td>\n",
       "    </tr>\n",
       "    <tr>\n",
       "      <th>2010000000776</th>\n",
       "      <td>REPORT WRITTEN (NO ARREST)</td>\n",
       "      <td>911</td>\n",
       "      <td>3</td>\n",
       "      <td>RAPE</td>\n",
       "      <td>--RAPE - KNOWN SUSPECT (ACQUAINTANCE)</td>\n",
       "      <td>2010-01-01 15:05:57</td>\n",
       "      <td>2010-01-01 15:12:26</td>\n",
       "      <td>SOUTHWEST</td>\n",
       "      <td>FRANK</td>\n",
       "      <td>F3</td>\n",
       "      <td>389.0</td>\n",
       "      <td>2010</td>\n",
       "      <td>1</td>\n",
       "    </tr>\n",
       "  </tbody>\n",
       "</table>\n",
       "</div>"
      ],
      "text/plain": [
       "                              event_clearing                 call_type  \\\n",
       "CAD Event Number                                                         \n",
       "2010000066820            ASSISTANCE RENDERED                       911   \n",
       "2010000000327           PHYSICAL ARREST MADE                       911   \n",
       "2010000000451     REPORT WRITTEN (NO ARREST)                       911   \n",
       "2010000000466     REPORT WRITTEN (NO ARREST)  TELEPHONE OTHER, NOT 911   \n",
       "2010000000776     REPORT WRITTEN (NO ARREST)                       911   \n",
       "\n",
       "                  priority                               initial_call_type  \\\n",
       "CAD Event Number                                                             \n",
       "2010000066820            2             MENTAL - PERSON OR PICKUP/TRANSPORT   \n",
       "2010000000327            1  ASLT - IP/JO - WITH OR W/O WPNS (NO SHOOTINGS)   \n",
       "2010000000451            2                               THEFT OF SERVICES   \n",
       "2010000000466            3                                            RAPE   \n",
       "2010000000776            3                                            RAPE   \n",
       "\n",
       "                                           final_call_type  \\\n",
       "CAD Event Number                                             \n",
       "2010000066820     --SEX OFFENSES (NON-RAPE) - LEWD CONDUCT   \n",
       "2010000000327                --ASSAULTS - FIREARM INVOLVED   \n",
       "2010000000451                            --ROBBERY - ARMED   \n",
       "2010000000466        --RAPE - KNOWN SUSPECT (ACQUAINTANCE)   \n",
       "2010000000776        --RAPE - KNOWN SUSPECT (ACQUAINTANCE)   \n",
       "\n",
       "                 original_time_queued        arrived_time   precinct  sector  \\\n",
       "CAD Event Number                                                               \n",
       "2010000066820     2010-02-27 22:54:25 2010-02-27 22:55:45      NORTH   UNION   \n",
       "2010000000327     2010-01-01 03:13:06 2010-01-01 03:14:51      SOUTH  ROBERT   \n",
       "2010000000451     2010-01-01 05:46:54 2010-01-01 06:39:35      NORTH   UNION   \n",
       "2010000000466     2010-01-01 06:28:49 2010-01-01 06:40:09       EAST  GEORGE   \n",
       "2010000000776     2010-01-01 15:05:57 2010-01-01 15:12:26  SOUTHWEST   FRANK   \n",
       "\n",
       "                 beat  time_delta  year  month  \n",
       "CAD Event Number                                \n",
       "2010000066820      U1        80.0  2010      2  \n",
       "2010000000327      R3       105.0  2010      1  \n",
       "2010000000451      U1      3161.0  2010      1  \n",
       "2010000000466      G1       680.0  2010      1  \n",
       "2010000000776      F3       389.0  2010      1  "
      ]
     },
     "execution_count": 10,
     "metadata": {},
     "output_type": "execute_result"
    }
   ],
   "source": [
    "# Add columns for arrived year and month\n",
    "\n",
    "data['year'] = data.arrived_time.dt.year\n",
    "data['month'] = data.arrived_time.dt.month\n",
    "data.head()\n",
    "\n",
    "# data.dtypes"
   ]
  },
  {
   "cell_type": "code",
   "execution_count": 11,
   "metadata": {},
   "outputs": [
    {
     "data": {
      "text/plain": [
       "2018    2735\n",
       "2016    2568\n",
       "2017    2495\n",
       "2015    2433\n",
       "2014    2123\n",
       "2013    2123\n",
       "2012    2118\n",
       "2011    2083\n",
       "2010    1980\n",
       "1900     446\n",
       "Name: year, dtype: int64"
      ]
     },
     "execution_count": 11,
     "metadata": {},
     "output_type": "execute_result"
    }
   ],
   "source": [
    "# Counts by year \n",
    "# General trend: increase in CFS's\n",
    "\n",
    "data.year.value_counts()"
   ]
  },
  {
   "cell_type": "code",
   "execution_count": 12,
   "metadata": {},
   "outputs": [
    {
     "data": {
      "text/plain": [
       "2018    2827\n",
       "2016    2624\n",
       "2017    2543\n",
       "2015    2491\n",
       "2014    2170\n",
       "2012    2162\n",
       "2013    2159\n",
       "2011    2118\n",
       "2010    2010\n",
       "Name: year, dtype: int64"
      ]
     },
     "execution_count": 12,
     "metadata": {},
     "output_type": "execute_result"
    }
   ],
   "source": [
    "# For rows with bad arrived time: change month and year to original_time_queued\n",
    "# Where arrive_time year = 1900, change data.year and data.month to original_time_queued year\n",
    "\n",
    "mask = data.year < 1901\n",
    "column_name_year = 'year'\n",
    "column_name_month = 'month'\n",
    "data.loc[mask, column_name_year] = data.original_time_queued.dt.year\n",
    "data.loc[mask, column_name_month] = data.original_time_queued.dt.month\n",
    "\n",
    "\n",
    "data.year.value_counts()"
   ]
  },
  {
   "cell_type": "markdown",
   "metadata": {},
   "source": [
    "### Identify bad arrival dates - not important to keep"
   ]
  },
  {
   "cell_type": "code",
   "execution_count": 13,
   "metadata": {},
   "outputs": [
    {
     "data": {
      "text/plain": [
       "446"
      ]
     },
     "execution_count": 13,
     "metadata": {},
     "output_type": "execute_result"
    }
   ],
   "source": [
    "# Isolate rows with bad arrival date\n",
    "# There are no rows with original_time_queued dates are not between 2010-2018\n",
    "ts = pd.to_datetime('12/12/2009')\n",
    "\n",
    "bad_date_arrived = data.loc[data.arrived_time <= ts, :]\n",
    "bad_date_arrived.final_call_type.count()"
   ]
  },
  {
   "cell_type": "code",
   "execution_count": 14,
   "metadata": {},
   "outputs": [
    {
     "data": {
      "text/plain": [
       "<matplotlib.axes._subplots.AxesSubplot at 0x11c51c940>"
      ]
     },
     "execution_count": 14,
     "metadata": {},
     "output_type": "execute_result"
    },
    {
     "data": {
      "image/png": "[encoded data removed]",
      "text/plain": [
       "<Figure size 432x288 with 1 Axes>"
      ]
     },
     "metadata": {
      "needs_background": "light"
     },
     "output_type": "display_data"
    }
   ],
   "source": [
    "# Show count of final_call_type with bad dates\n",
    "\n",
    "pd.value_counts(bad_date_arrived['final_call_type']).plot.bar()"
   ]
  },
  {
   "cell_type": "code",
   "execution_count": 15,
   "metadata": {},
   "outputs": [
    {
     "data": {
      "text/plain": [
       "<matplotlib.axes._subplots.AxesSubplot at 0x11b937fd0>"
      ]
     },
     "execution_count": 15,
     "metadata": {},
     "output_type": "execute_result"
    },
    {
     "data": {
      "image/png": "[encoded data removed]",
      "text/plain": [
       "<Figure size 432x288 with 1 Axes>"
      ]
     },
     "metadata": {
      "needs_background": "light"
     },
     "output_type": "display_data"
    }
   ],
   "source": [
    "# Show final_call_type counts\n",
    "\n",
    "pd.value_counts(data['final_call_type']).plot.bar()"
   ]
  },
  {
   "cell_type": "code",
   "execution_count": 16,
   "metadata": {},
   "outputs": [
    {
     "data": {
      "text/html": [
       "<div>\n",
       "<style scoped>\n",
       "    .dataframe tbody tr th:only-of-type {\n",
       "        vertical-align: middle;\n",
       "    }\n",
       "\n",
       "    .dataframe tbody tr th {\n",
       "        vertical-align: top;\n",
       "    }\n",
       "\n",
       "    .dataframe thead th {\n",
       "        text-align: right;\n",
       "    }\n",
       "</style>\n",
       "<table border=\"1\" class=\"dataframe\">\n",
       "  <thead>\n",
       "    <tr style=\"text-align: right;\">\n",
       "      <th></th>\n",
       "      <th>event_clearing</th>\n",
       "      <th>call_type</th>\n",
       "      <th>priority</th>\n",
       "      <th>initial_call_type</th>\n",
       "      <th>final_call_type</th>\n",
       "      <th>original_time_queued</th>\n",
       "      <th>arrived_time</th>\n",
       "      <th>precinct</th>\n",
       "      <th>sector</th>\n",
       "      <th>beat</th>\n",
       "      <th>time_delta</th>\n",
       "      <th>year</th>\n",
       "      <th>month</th>\n",
       "    </tr>\n",
       "    <tr>\n",
       "      <th>CAD Event Number</th>\n",
       "      <th></th>\n",
       "      <th></th>\n",
       "      <th></th>\n",
       "      <th></th>\n",
       "      <th></th>\n",
       "      <th></th>\n",
       "      <th></th>\n",
       "      <th></th>\n",
       "      <th></th>\n",
       "      <th></th>\n",
       "      <th></th>\n",
       "      <th></th>\n",
       "      <th></th>\n",
       "    </tr>\n",
       "  </thead>\n",
       "  <tbody>\n",
       "    <tr>\n",
       "      <th>2010000002185</th>\n",
       "      <td>REPORT WRITTEN (NO ARREST)</td>\n",
       "      <td>TELEPHONE OTHER, NOT 911</td>\n",
       "      <td>2</td>\n",
       "      <td>ROBBERY (INCLUDES STRONG ARM)</td>\n",
       "      <td>--ROBBERY - ARMED</td>\n",
       "      <td>2010-01-02 23:17:25</td>\n",
       "      <td>2010-01-02 23:46:25</td>\n",
       "      <td>UNKNOWN</td>\n",
       "      <td>NaN</td>\n",
       "      <td>99</td>\n",
       "      <td>1.740000e+03</td>\n",
       "      <td>2010</td>\n",
       "      <td>1</td>\n",
       "    </tr>\n",
       "    <tr>\n",
       "      <th>2010000006111</th>\n",
       "      <td>ASSISTANCE RENDERED</td>\n",
       "      <td>TELEPHONE OTHER, NOT 911</td>\n",
       "      <td>2</td>\n",
       "      <td>NARCOTICS WARRANT SERVICE</td>\n",
       "      <td>--ROBBERY - ARMED</td>\n",
       "      <td>2010-01-06 13:53:13</td>\n",
       "      <td>1900-01-01 00:00:00</td>\n",
       "      <td>UNKNOWN</td>\n",
       "      <td>NaN</td>\n",
       "      <td>INV</td>\n",
       "      <td>-3.471775e+09</td>\n",
       "      <td>2010</td>\n",
       "      <td>1</td>\n",
       "    </tr>\n",
       "    <tr>\n",
       "      <th>2010000014675</th>\n",
       "      <td>UNABLE TO LOCATE INCIDENT OR COMPLAINANT</td>\n",
       "      <td>ONVIEW</td>\n",
       "      <td>3</td>\n",
       "      <td>FOLLOW UP</td>\n",
       "      <td>--ASSAULTS - FIREARM INVOLVED</td>\n",
       "      <td>2010-01-13 21:48:50</td>\n",
       "      <td>2010-01-13 21:48:50</td>\n",
       "      <td>UNKNOWN</td>\n",
       "      <td>NaN</td>\n",
       "      <td>LAPT</td>\n",
       "      <td>0.000000e+00</td>\n",
       "      <td>2010</td>\n",
       "      <td>1</td>\n",
       "    </tr>\n",
       "    <tr>\n",
       "      <th>2010000014715</th>\n",
       "      <td>UNABLE TO LOCATE INCIDENT OR COMPLAINANT</td>\n",
       "      <td>ONVIEW</td>\n",
       "      <td>3</td>\n",
       "      <td>FOLLOW UP</td>\n",
       "      <td>--ASSAULTS - FIREARM INVOLVED</td>\n",
       "      <td>2010-01-13 22:24:19</td>\n",
       "      <td>2010-01-13 22:24:19</td>\n",
       "      <td>UNKNOWN</td>\n",
       "      <td>NaN</td>\n",
       "      <td>LAPT</td>\n",
       "      <td>0.000000e+00</td>\n",
       "      <td>2010</td>\n",
       "      <td>1</td>\n",
       "    </tr>\n",
       "    <tr>\n",
       "      <th>2010000029844</th>\n",
       "      <td>REPORT WRITTEN (NO ARREST)</td>\n",
       "      <td>TELEPHONE OTHER, NOT 911</td>\n",
       "      <td>3</td>\n",
       "      <td>CHILD - ABAND, ABUSED, MOLESTED, NEGLECTED</td>\n",
       "      <td>--RAPE - KNOWN SUSPECT (ACQUAINTANCE)</td>\n",
       "      <td>2010-01-26 19:48:36</td>\n",
       "      <td>2010-01-26 20:21:48</td>\n",
       "      <td>UNKNOWN</td>\n",
       "      <td>NaN</td>\n",
       "      <td>S</td>\n",
       "      <td>1.992000e+03</td>\n",
       "      <td>2010</td>\n",
       "      <td>1</td>\n",
       "    </tr>\n",
       "  </tbody>\n",
       "</table>\n",
       "</div>"
      ],
      "text/plain": [
       "                                            event_clearing  \\\n",
       "CAD Event Number                                             \n",
       "2010000002185                   REPORT WRITTEN (NO ARREST)   \n",
       "2010000006111                          ASSISTANCE RENDERED   \n",
       "2010000014675     UNABLE TO LOCATE INCIDENT OR COMPLAINANT   \n",
       "2010000014715     UNABLE TO LOCATE INCIDENT OR COMPLAINANT   \n",
       "2010000029844                   REPORT WRITTEN (NO ARREST)   \n",
       "\n",
       "                                 call_type  priority  \\\n",
       "CAD Event Number                                       \n",
       "2010000002185     TELEPHONE OTHER, NOT 911         2   \n",
       "2010000006111     TELEPHONE OTHER, NOT 911         2   \n",
       "2010000014675                       ONVIEW         3   \n",
       "2010000014715                       ONVIEW         3   \n",
       "2010000029844     TELEPHONE OTHER, NOT 911         3   \n",
       "\n",
       "                                           initial_call_type  \\\n",
       "CAD Event Number                                               \n",
       "2010000002185                  ROBBERY (INCLUDES STRONG ARM)   \n",
       "2010000006111                      NARCOTICS WARRANT SERVICE   \n",
       "2010000014675                                      FOLLOW UP   \n",
       "2010000014715                                      FOLLOW UP   \n",
       "2010000029844     CHILD - ABAND, ABUSED, MOLESTED, NEGLECTED   \n",
       "\n",
       "                                        final_call_type original_time_queued  \\\n",
       "CAD Event Number                                                               \n",
       "2010000002185                         --ROBBERY - ARMED  2010-01-02 23:17:25   \n",
       "2010000006111                         --ROBBERY - ARMED  2010-01-06 13:53:13   \n",
       "2010000014675             --ASSAULTS - FIREARM INVOLVED  2010-01-13 21:48:50   \n",
       "2010000014715             --ASSAULTS - FIREARM INVOLVED  2010-01-13 22:24:19   \n",
       "2010000029844     --RAPE - KNOWN SUSPECT (ACQUAINTANCE)  2010-01-26 19:48:36   \n",
       "\n",
       "                        arrived_time precinct sector  beat    time_delta  \\\n",
       "CAD Event Number                                                           \n",
       "2010000002185    2010-01-02 23:46:25  UNKNOWN    NaN    99  1.740000e+03   \n",
       "2010000006111    1900-01-01 00:00:00  UNKNOWN    NaN   INV -3.471775e+09   \n",
       "2010000014675    2010-01-13 21:48:50  UNKNOWN    NaN  LAPT  0.000000e+00   \n",
       "2010000014715    2010-01-13 22:24:19  UNKNOWN    NaN  LAPT  0.000000e+00   \n",
       "2010000029844    2010-01-26 20:21:48  UNKNOWN    NaN     S  1.992000e+03   \n",
       "\n",
       "                  year  month  \n",
       "CAD Event Number               \n",
       "2010000002185     2010      1  \n",
       "2010000006111     2010      1  \n",
       "2010000014675     2010      1  \n",
       "2010000014715     2010      1  \n",
       "2010000029844     2010      1  "
      ]
     },
     "execution_count": 16,
     "metadata": {},
     "output_type": "execute_result"
    }
   ],
   "source": [
    "# Views all rows that contain any null value\n",
    "\n",
    "data[pd.isnull(data).any(axis=1)].head()"
   ]
  },
  {
   "cell_type": "markdown",
   "metadata": {},
   "source": [
    "### Clean bad location values"
   ]
  },
  {
   "cell_type": "code",
   "execution_count": 17,
   "metadata": {},
   "outputs": [
    {
     "data": {
      "text/plain": [
       "['NORTH', 'SOUTH', 'EAST', 'SOUTHWEST', 'WEST', 'UNKNOWN']"
      ]
     },
     "execution_count": 17,
     "metadata": {},
     "output_type": "execute_result"
    }
   ],
   "source": [
    "# List precinct values\n",
    "\n",
    "precinct = data['precinct'].unique().tolist()\n",
    "precinct"
   ]
  },
  {
   "cell_type": "code",
   "execution_count": 18,
   "metadata": {},
   "outputs": [
    {
     "data": {
      "text/html": [
       "<div>\n",
       "<style scoped>\n",
       "    .dataframe tbody tr th:only-of-type {\n",
       "        vertical-align: middle;\n",
       "    }\n",
       "\n",
       "    .dataframe tbody tr th {\n",
       "        vertical-align: top;\n",
       "    }\n",
       "\n",
       "    .dataframe thead th {\n",
       "        text-align: right;\n",
       "    }\n",
       "</style>\n",
       "<table border=\"1\" class=\"dataframe\">\n",
       "  <thead>\n",
       "    <tr style=\"text-align: right;\">\n",
       "      <th></th>\n",
       "      <th>event_clearing</th>\n",
       "      <th>call_type</th>\n",
       "      <th>priority</th>\n",
       "      <th>initial_call_type</th>\n",
       "      <th>final_call_type</th>\n",
       "      <th>original_time_queued</th>\n",
       "      <th>arrived_time</th>\n",
       "      <th>precinct</th>\n",
       "      <th>sector</th>\n",
       "      <th>beat</th>\n",
       "      <th>time_delta</th>\n",
       "      <th>year</th>\n",
       "      <th>month</th>\n",
       "    </tr>\n",
       "    <tr>\n",
       "      <th>CAD Event Number</th>\n",
       "      <th></th>\n",
       "      <th></th>\n",
       "      <th></th>\n",
       "      <th></th>\n",
       "      <th></th>\n",
       "      <th></th>\n",
       "      <th></th>\n",
       "      <th></th>\n",
       "      <th></th>\n",
       "      <th></th>\n",
       "      <th></th>\n",
       "      <th></th>\n",
       "      <th></th>\n",
       "    </tr>\n",
       "  </thead>\n",
       "  <tbody>\n",
       "    <tr>\n",
       "      <th>2010000002185</th>\n",
       "      <td>REPORT WRITTEN (NO ARREST)</td>\n",
       "      <td>TELEPHONE OTHER, NOT 911</td>\n",
       "      <td>2</td>\n",
       "      <td>ROBBERY (INCLUDES STRONG ARM)</td>\n",
       "      <td>--ROBBERY - ARMED</td>\n",
       "      <td>2010-01-02 23:17:25</td>\n",
       "      <td>2010-01-02 23:46:25</td>\n",
       "      <td>UNKNOWN</td>\n",
       "      <td>NaN</td>\n",
       "      <td>99</td>\n",
       "      <td>1.740000e+03</td>\n",
       "      <td>2010</td>\n",
       "      <td>1</td>\n",
       "    </tr>\n",
       "    <tr>\n",
       "      <th>2010000006111</th>\n",
       "      <td>ASSISTANCE RENDERED</td>\n",
       "      <td>TELEPHONE OTHER, NOT 911</td>\n",
       "      <td>2</td>\n",
       "      <td>NARCOTICS WARRANT SERVICE</td>\n",
       "      <td>--ROBBERY - ARMED</td>\n",
       "      <td>2010-01-06 13:53:13</td>\n",
       "      <td>1900-01-01 00:00:00</td>\n",
       "      <td>UNKNOWN</td>\n",
       "      <td>NaN</td>\n",
       "      <td>INV</td>\n",
       "      <td>-3.471775e+09</td>\n",
       "      <td>2010</td>\n",
       "      <td>1</td>\n",
       "    </tr>\n",
       "    <tr>\n",
       "      <th>2010000014675</th>\n",
       "      <td>UNABLE TO LOCATE INCIDENT OR COMPLAINANT</td>\n",
       "      <td>ONVIEW</td>\n",
       "      <td>3</td>\n",
       "      <td>FOLLOW UP</td>\n",
       "      <td>--ASSAULTS - FIREARM INVOLVED</td>\n",
       "      <td>2010-01-13 21:48:50</td>\n",
       "      <td>2010-01-13 21:48:50</td>\n",
       "      <td>UNKNOWN</td>\n",
       "      <td>NaN</td>\n",
       "      <td>LAPT</td>\n",
       "      <td>0.000000e+00</td>\n",
       "      <td>2010</td>\n",
       "      <td>1</td>\n",
       "    </tr>\n",
       "    <tr>\n",
       "      <th>2010000014715</th>\n",
       "      <td>UNABLE TO LOCATE INCIDENT OR COMPLAINANT</td>\n",
       "      <td>ONVIEW</td>\n",
       "      <td>3</td>\n",
       "      <td>FOLLOW UP</td>\n",
       "      <td>--ASSAULTS - FIREARM INVOLVED</td>\n",
       "      <td>2010-01-13 22:24:19</td>\n",
       "      <td>2010-01-13 22:24:19</td>\n",
       "      <td>UNKNOWN</td>\n",
       "      <td>NaN</td>\n",
       "      <td>LAPT</td>\n",
       "      <td>0.000000e+00</td>\n",
       "      <td>2010</td>\n",
       "      <td>1</td>\n",
       "    </tr>\n",
       "    <tr>\n",
       "      <th>2010000029844</th>\n",
       "      <td>REPORT WRITTEN (NO ARREST)</td>\n",
       "      <td>TELEPHONE OTHER, NOT 911</td>\n",
       "      <td>3</td>\n",
       "      <td>CHILD - ABAND, ABUSED, MOLESTED, NEGLECTED</td>\n",
       "      <td>--RAPE - KNOWN SUSPECT (ACQUAINTANCE)</td>\n",
       "      <td>2010-01-26 19:48:36</td>\n",
       "      <td>2010-01-26 20:21:48</td>\n",
       "      <td>UNKNOWN</td>\n",
       "      <td>NaN</td>\n",
       "      <td>S</td>\n",
       "      <td>1.992000e+03</td>\n",
       "      <td>2010</td>\n",
       "      <td>1</td>\n",
       "    </tr>\n",
       "  </tbody>\n",
       "</table>\n",
       "</div>"
      ],
      "text/plain": [
       "                                            event_clearing  \\\n",
       "CAD Event Number                                             \n",
       "2010000002185                   REPORT WRITTEN (NO ARREST)   \n",
       "2010000006111                          ASSISTANCE RENDERED   \n",
       "2010000014675     UNABLE TO LOCATE INCIDENT OR COMPLAINANT   \n",
       "2010000014715     UNABLE TO LOCATE INCIDENT OR COMPLAINANT   \n",
       "2010000029844                   REPORT WRITTEN (NO ARREST)   \n",
       "\n",
       "                                 call_type  priority  \\\n",
       "CAD Event Number                                       \n",
       "2010000002185     TELEPHONE OTHER, NOT 911         2   \n",
       "2010000006111     TELEPHONE OTHER, NOT 911         2   \n",
       "2010000014675                       ONVIEW         3   \n",
       "2010000014715                       ONVIEW         3   \n",
       "2010000029844     TELEPHONE OTHER, NOT 911         3   \n",
       "\n",
       "                                           initial_call_type  \\\n",
       "CAD Event Number                                               \n",
       "2010000002185                  ROBBERY (INCLUDES STRONG ARM)   \n",
       "2010000006111                      NARCOTICS WARRANT SERVICE   \n",
       "2010000014675                                      FOLLOW UP   \n",
       "2010000014715                                      FOLLOW UP   \n",
       "2010000029844     CHILD - ABAND, ABUSED, MOLESTED, NEGLECTED   \n",
       "\n",
       "                                        final_call_type original_time_queued  \\\n",
       "CAD Event Number                                                               \n",
       "2010000002185                         --ROBBERY - ARMED  2010-01-02 23:17:25   \n",
       "2010000006111                         --ROBBERY - ARMED  2010-01-06 13:53:13   \n",
       "2010000014675             --ASSAULTS - FIREARM INVOLVED  2010-01-13 21:48:50   \n",
       "2010000014715             --ASSAULTS - FIREARM INVOLVED  2010-01-13 22:24:19   \n",
       "2010000029844     --RAPE - KNOWN SUSPECT (ACQUAINTANCE)  2010-01-26 19:48:36   \n",
       "\n",
       "                        arrived_time precinct sector  beat    time_delta  \\\n",
       "CAD Event Number                                                           \n",
       "2010000002185    2010-01-02 23:46:25  UNKNOWN    NaN    99  1.740000e+03   \n",
       "2010000006111    1900-01-01 00:00:00  UNKNOWN    NaN   INV -3.471775e+09   \n",
       "2010000014675    2010-01-13 21:48:50  UNKNOWN    NaN  LAPT  0.000000e+00   \n",
       "2010000014715    2010-01-13 22:24:19  UNKNOWN    NaN  LAPT  0.000000e+00   \n",
       "2010000029844    2010-01-26 20:21:48  UNKNOWN    NaN     S  1.992000e+03   \n",
       "\n",
       "                  year  month  \n",
       "CAD Event Number               \n",
       "2010000002185     2010      1  \n",
       "2010000006111     2010      1  \n",
       "2010000014675     2010      1  \n",
       "2010000014715     2010      1  \n",
       "2010000029844     2010      1  "
      ]
     },
     "execution_count": 18,
     "metadata": {},
     "output_type": "execute_result"
    }
   ],
   "source": [
    "# View all rows where precinct contains \"UNKNOWN\"\n",
    "\n",
    "data[data.precinct.str.contains(\"UNKNOWN\")].head()"
   ]
  },
  {
   "cell_type": "code",
   "execution_count": 19,
   "metadata": {},
   "outputs": [
    {
     "data": {
      "text/html": [
       "<div>\n",
       "<style scoped>\n",
       "    .dataframe tbody tr th:only-of-type {\n",
       "        vertical-align: middle;\n",
       "    }\n",
       "\n",
       "    .dataframe tbody tr th {\n",
       "        vertical-align: top;\n",
       "    }\n",
       "\n",
       "    .dataframe thead th {\n",
       "        text-align: right;\n",
       "    }\n",
       "</style>\n",
       "<table border=\"1\" class=\"dataframe\">\n",
       "  <thead>\n",
       "    <tr style=\"text-align: right;\">\n",
       "      <th></th>\n",
       "      <th>event_clearing</th>\n",
       "      <th>call_type</th>\n",
       "      <th>priority</th>\n",
       "      <th>initial_call_type</th>\n",
       "      <th>final_call_type</th>\n",
       "      <th>original_time_queued</th>\n",
       "      <th>arrived_time</th>\n",
       "      <th>precinct</th>\n",
       "      <th>sector</th>\n",
       "      <th>beat</th>\n",
       "      <th>time_delta</th>\n",
       "      <th>year</th>\n",
       "      <th>month</th>\n",
       "    </tr>\n",
       "    <tr>\n",
       "      <th>CAD Event Number</th>\n",
       "      <th></th>\n",
       "      <th></th>\n",
       "      <th></th>\n",
       "      <th></th>\n",
       "      <th></th>\n",
       "      <th></th>\n",
       "      <th></th>\n",
       "      <th></th>\n",
       "      <th></th>\n",
       "      <th></th>\n",
       "      <th></th>\n",
       "      <th></th>\n",
       "      <th></th>\n",
       "    </tr>\n",
       "  </thead>\n",
       "  <tbody>\n",
       "    <tr>\n",
       "      <th>2010000002185</th>\n",
       "      <td>REPORT WRITTEN (NO ARREST)</td>\n",
       "      <td>TELEPHONE OTHER, NOT 911</td>\n",
       "      <td>2</td>\n",
       "      <td>ROBBERY (INCLUDES STRONG ARM)</td>\n",
       "      <td>--ROBBERY - ARMED</td>\n",
       "      <td>2010-01-02 23:17:25</td>\n",
       "      <td>2010-01-02 23:46:25</td>\n",
       "      <td>UNKNOWN</td>\n",
       "      <td>NaN</td>\n",
       "      <td>99</td>\n",
       "      <td>1.740000e+03</td>\n",
       "      <td>2010</td>\n",
       "      <td>1</td>\n",
       "    </tr>\n",
       "    <tr>\n",
       "      <th>2010000006111</th>\n",
       "      <td>ASSISTANCE RENDERED</td>\n",
       "      <td>TELEPHONE OTHER, NOT 911</td>\n",
       "      <td>2</td>\n",
       "      <td>NARCOTICS WARRANT SERVICE</td>\n",
       "      <td>--ROBBERY - ARMED</td>\n",
       "      <td>2010-01-06 13:53:13</td>\n",
       "      <td>1900-01-01 00:00:00</td>\n",
       "      <td>UNKNOWN</td>\n",
       "      <td>NaN</td>\n",
       "      <td>INV</td>\n",
       "      <td>-3.471775e+09</td>\n",
       "      <td>2010</td>\n",
       "      <td>1</td>\n",
       "    </tr>\n",
       "    <tr>\n",
       "      <th>2010000014675</th>\n",
       "      <td>UNABLE TO LOCATE INCIDENT OR COMPLAINANT</td>\n",
       "      <td>ONVIEW</td>\n",
       "      <td>3</td>\n",
       "      <td>FOLLOW UP</td>\n",
       "      <td>--ASSAULTS - FIREARM INVOLVED</td>\n",
       "      <td>2010-01-13 21:48:50</td>\n",
       "      <td>2010-01-13 21:48:50</td>\n",
       "      <td>UNKNOWN</td>\n",
       "      <td>NaN</td>\n",
       "      <td>LAPT</td>\n",
       "      <td>0.000000e+00</td>\n",
       "      <td>2010</td>\n",
       "      <td>1</td>\n",
       "    </tr>\n",
       "    <tr>\n",
       "      <th>2010000014715</th>\n",
       "      <td>UNABLE TO LOCATE INCIDENT OR COMPLAINANT</td>\n",
       "      <td>ONVIEW</td>\n",
       "      <td>3</td>\n",
       "      <td>FOLLOW UP</td>\n",
       "      <td>--ASSAULTS - FIREARM INVOLVED</td>\n",
       "      <td>2010-01-13 22:24:19</td>\n",
       "      <td>2010-01-13 22:24:19</td>\n",
       "      <td>UNKNOWN</td>\n",
       "      <td>NaN</td>\n",
       "      <td>LAPT</td>\n",
       "      <td>0.000000e+00</td>\n",
       "      <td>2010</td>\n",
       "      <td>1</td>\n",
       "    </tr>\n",
       "    <tr>\n",
       "      <th>2010000029844</th>\n",
       "      <td>REPORT WRITTEN (NO ARREST)</td>\n",
       "      <td>TELEPHONE OTHER, NOT 911</td>\n",
       "      <td>3</td>\n",
       "      <td>CHILD - ABAND, ABUSED, MOLESTED, NEGLECTED</td>\n",
       "      <td>--RAPE - KNOWN SUSPECT (ACQUAINTANCE)</td>\n",
       "      <td>2010-01-26 19:48:36</td>\n",
       "      <td>2010-01-26 20:21:48</td>\n",
       "      <td>UNKNOWN</td>\n",
       "      <td>NaN</td>\n",
       "      <td>S</td>\n",
       "      <td>1.992000e+03</td>\n",
       "      <td>2010</td>\n",
       "      <td>1</td>\n",
       "    </tr>\n",
       "  </tbody>\n",
       "</table>\n",
       "</div>"
      ],
      "text/plain": [
       "                                            event_clearing  \\\n",
       "CAD Event Number                                             \n",
       "2010000002185                   REPORT WRITTEN (NO ARREST)   \n",
       "2010000006111                          ASSISTANCE RENDERED   \n",
       "2010000014675     UNABLE TO LOCATE INCIDENT OR COMPLAINANT   \n",
       "2010000014715     UNABLE TO LOCATE INCIDENT OR COMPLAINANT   \n",
       "2010000029844                   REPORT WRITTEN (NO ARREST)   \n",
       "\n",
       "                                 call_type  priority  \\\n",
       "CAD Event Number                                       \n",
       "2010000002185     TELEPHONE OTHER, NOT 911         2   \n",
       "2010000006111     TELEPHONE OTHER, NOT 911         2   \n",
       "2010000014675                       ONVIEW         3   \n",
       "2010000014715                       ONVIEW         3   \n",
       "2010000029844     TELEPHONE OTHER, NOT 911         3   \n",
       "\n",
       "                                           initial_call_type  \\\n",
       "CAD Event Number                                               \n",
       "2010000002185                  ROBBERY (INCLUDES STRONG ARM)   \n",
       "2010000006111                      NARCOTICS WARRANT SERVICE   \n",
       "2010000014675                                      FOLLOW UP   \n",
       "2010000014715                                      FOLLOW UP   \n",
       "2010000029844     CHILD - ABAND, ABUSED, MOLESTED, NEGLECTED   \n",
       "\n",
       "                                        final_call_type original_time_queued  \\\n",
       "CAD Event Number                                                               \n",
       "2010000002185                         --ROBBERY - ARMED  2010-01-02 23:17:25   \n",
       "2010000006111                         --ROBBERY - ARMED  2010-01-06 13:53:13   \n",
       "2010000014675             --ASSAULTS - FIREARM INVOLVED  2010-01-13 21:48:50   \n",
       "2010000014715             --ASSAULTS - FIREARM INVOLVED  2010-01-13 22:24:19   \n",
       "2010000029844     --RAPE - KNOWN SUSPECT (ACQUAINTANCE)  2010-01-26 19:48:36   \n",
       "\n",
       "                        arrived_time precinct sector  beat    time_delta  \\\n",
       "CAD Event Number                                                           \n",
       "2010000002185    2010-01-02 23:46:25  UNKNOWN    NaN    99  1.740000e+03   \n",
       "2010000006111    1900-01-01 00:00:00  UNKNOWN    NaN   INV -3.471775e+09   \n",
       "2010000014675    2010-01-13 21:48:50  UNKNOWN    NaN  LAPT  0.000000e+00   \n",
       "2010000014715    2010-01-13 22:24:19  UNKNOWN    NaN  LAPT  0.000000e+00   \n",
       "2010000029844    2010-01-26 20:21:48  UNKNOWN    NaN     S  1.992000e+03   \n",
       "\n",
       "                  year  month  \n",
       "CAD Event Number               \n",
       "2010000002185     2010      1  \n",
       "2010000006111     2010      1  \n",
       "2010000014675     2010      1  \n",
       "2010000014715     2010      1  \n",
       "2010000029844     2010      1  "
      ]
     },
     "execution_count": 19,
     "metadata": {},
     "output_type": "execute_result"
    }
   ],
   "source": [
    "# View all rows where sector contains \"nan\"\n",
    "\n",
    "data[data.sector.isnull()].head()"
   ]
  },
  {
   "cell_type": "markdown",
   "metadata": {},
   "source": [
    "## Which rows to keep/delete based on beat value\n",
    "### TBD Beats\n",
    "* LAPT --> all onviews, 8 CFS, all arrived time same as queue time\n",
    "* INV --> Might involve calls started in other jurisdictions or handed off to other jurisdictions (ie: carjacking to WSP, armed robbery to FedWay)\n",
    "* CTY--> 25 CFS, nearly all onviews, with all but 1 arrive time equals queue time\n",
    "* CDD --> 28 CFS, most onview or non-911 phone, most onview or non-911 phone\n",
    "* COMM --> 23 CFS, most are TRU initial call types, \n",
    "* WP --> 1 CFS, nothing unusual\n",
    "* FS --> 2 CFS, 1 onview, 1 non-911 that took 7 hours for arrival time, both rapes\n",
    "* WD --> 1 CFS, nothing unusual\n",
    "* NS --> 1 CFS, 1900 arrival_time but cc is report\n",
    "* MS --> 2 CFS, 1 onview, 1 non-911, 2 rpts\n",
    "* SD --> 1 CFS, p1 non-911\n",
    "* SPVDD --> 1 CFS, p3 rape w/ report\n",
    "* ES --> 1 CFS, poss sub-station type walk-in\n",
    "* CS --> 1 CFS, onview\n",
    "* OS --> 3 CFS, all onviews, all armed robbery\n",
    "* DET --> 69 CFS, appears to be detectives, vast majority onviews (keep for now... f/up arrests)\n",
    "\n",
    "### Delete Beats\n",
    "* CMD --> 1 CFS, was a stakeout\n",
    "* WS --> 2 CFS, both non-911 phone, one was an agency assist\n",
    "* US --> 2 CFS, both onview, one warrant pickup, one out to station\n",
    "* CC --> 1 CFS, was broadcast \n",
    "* SWT --> 1 CFS, search warrant\n",
    "* NP --> 2 CFS, 1 was search warrant, 1 f/up w arrest\n",
    "* RS --> 1 CFS a direct-patrol w/ CC problem solving pjt\n",
    "* SS --> 1 CFS, looks like an agency assist type call, no arrived time\n",
    "\n",
    "### Keep Beats\n",
    "* TQ --> 4 CFS, initial call type\"TRU\""
   ]
  },
  {
   "cell_type": "markdown",
   "metadata": {},
   "source": [
    "### Clean up beats"
   ]
  },
  {
   "cell_type": "code",
   "execution_count": 20,
   "metadata": {},
   "outputs": [
    {
     "data": {
      "text/html": [
       "<div>\n",
       "<style scoped>\n",
       "    .dataframe tbody tr th:only-of-type {\n",
       "        vertical-align: middle;\n",
       "    }\n",
       "\n",
       "    .dataframe tbody tr th {\n",
       "        vertical-align: top;\n",
       "    }\n",
       "\n",
       "    .dataframe thead th {\n",
       "        text-align: right;\n",
       "    }\n",
       "</style>\n",
       "<table border=\"1\" class=\"dataframe\">\n",
       "  <thead>\n",
       "    <tr style=\"text-align: right;\">\n",
       "      <th></th>\n",
       "      <th>event_clearing</th>\n",
       "      <th>call_type</th>\n",
       "      <th>priority</th>\n",
       "      <th>initial_call_type</th>\n",
       "      <th>final_call_type</th>\n",
       "      <th>original_time_queued</th>\n",
       "      <th>arrived_time</th>\n",
       "      <th>precinct</th>\n",
       "      <th>sector</th>\n",
       "      <th>beat</th>\n",
       "      <th>time_delta</th>\n",
       "      <th>year</th>\n",
       "      <th>month</th>\n",
       "    </tr>\n",
       "    <tr>\n",
       "      <th>CAD Event Number</th>\n",
       "      <th></th>\n",
       "      <th></th>\n",
       "      <th></th>\n",
       "      <th></th>\n",
       "      <th></th>\n",
       "      <th></th>\n",
       "      <th></th>\n",
       "      <th></th>\n",
       "      <th></th>\n",
       "      <th></th>\n",
       "      <th></th>\n",
       "      <th></th>\n",
       "      <th></th>\n",
       "    </tr>\n",
       "  </thead>\n",
       "  <tbody>\n",
       "    <tr>\n",
       "      <th>2011000040306</th>\n",
       "      <td>ASSISTANCE RENDERED</td>\n",
       "      <td>TELEPHONE OTHER, NOT 911</td>\n",
       "      <td>3</td>\n",
       "      <td>RAPE</td>\n",
       "      <td>--RAPE - KNOWN SUSPECT (ACQUAINTANCE)</td>\n",
       "      <td>2011-02-03 10:45:08</td>\n",
       "      <td>1900-01-01 00:00:00</td>\n",
       "      <td>UNKNOWN</td>\n",
       "      <td>NaN</td>\n",
       "      <td>WS</td>\n",
       "      <td>-3.505719e+09</td>\n",
       "      <td>2011</td>\n",
       "      <td>2</td>\n",
       "    </tr>\n",
       "    <tr>\n",
       "      <th>2013000460253</th>\n",
       "      <td>FOLLOW-UP REPORT MADE</td>\n",
       "      <td>TELEPHONE OTHER, NOT 911</td>\n",
       "      <td>2</td>\n",
       "      <td>ASSIST OTHER AGENCY - ROUTINE SERVICE</td>\n",
       "      <td>--ROBBERY - ARMED</td>\n",
       "      <td>2013-12-26 17:58:56</td>\n",
       "      <td>2013-12-26 18:22:21</td>\n",
       "      <td>UNKNOWN</td>\n",
       "      <td>NaN</td>\n",
       "      <td>WS</td>\n",
       "      <td>1.405000e+03</td>\n",
       "      <td>2013</td>\n",
       "      <td>12</td>\n",
       "    </tr>\n",
       "  </tbody>\n",
       "</table>\n",
       "</div>"
      ],
      "text/plain": [
       "                         event_clearing                 call_type  priority  \\\n",
       "CAD Event Number                                                              \n",
       "2011000040306       ASSISTANCE RENDERED  TELEPHONE OTHER, NOT 911         3   \n",
       "2013000460253     FOLLOW-UP REPORT MADE  TELEPHONE OTHER, NOT 911         2   \n",
       "\n",
       "                                      initial_call_type  \\\n",
       "CAD Event Number                                          \n",
       "2011000040306                                      RAPE   \n",
       "2013000460253     ASSIST OTHER AGENCY - ROUTINE SERVICE   \n",
       "\n",
       "                                        final_call_type original_time_queued  \\\n",
       "CAD Event Number                                                               \n",
       "2011000040306     --RAPE - KNOWN SUSPECT (ACQUAINTANCE)  2011-02-03 10:45:08   \n",
       "2013000460253                         --ROBBERY - ARMED  2013-12-26 17:58:56   \n",
       "\n",
       "                        arrived_time precinct sector beat    time_delta  year  \\\n",
       "CAD Event Number                                                                \n",
       "2011000040306    1900-01-01 00:00:00  UNKNOWN    NaN   WS -3.505719e+09  2011   \n",
       "2013000460253    2013-12-26 18:22:21  UNKNOWN    NaN   WS  1.405000e+03  2013   \n",
       "\n",
       "                  month  \n",
       "CAD Event Number         \n",
       "2011000040306         2  \n",
       "2013000460253        12  "
      ]
     },
     "execution_count": 20,
     "metadata": {},
     "output_type": "execute_result"
    }
   ],
   "source": [
    "# Don't delete beats until I find out what the above beat acronyms mean\n",
    "# Sandbox for viewing rows associated with different beat ids\n",
    "\n",
    "data[data.beat.str.contains(\"WS\")]"
   ]
  },
  {
   "cell_type": "code",
   "execution_count": 21,
   "metadata": {},
   "outputs": [
    {
     "data": {
      "text/plain": [
       "['UNION',\n",
       " 'ROBERT',\n",
       " 'GEORGE',\n",
       " 'FRANK',\n",
       " 'SAM',\n",
       " 'DAVID',\n",
       " 'EDWARD',\n",
       " 'BOY',\n",
       " nan,\n",
       " 'MARY',\n",
       " 'NORA',\n",
       " 'LINCOLN',\n",
       " 'JOHN',\n",
       " 'KING',\n",
       " 'CHARLIE',\n",
       " 'QUEEN',\n",
       " 'WILLIAM',\n",
       " 'OCEAN']"
      ]
     },
     "execution_count": 21,
     "metadata": {},
     "output_type": "execute_result"
    }
   ],
   "source": [
    "# Sector values\n",
    "\n",
    "sector = data['sector'].unique().tolist()\n",
    "sector"
   ]
  },
  {
   "cell_type": "code",
   "execution_count": 22,
   "metadata": {},
   "outputs": [
    {
     "data": {
      "text/html": [
       "<div>\n",
       "<style scoped>\n",
       "    .dataframe tbody tr th:only-of-type {\n",
       "        vertical-align: middle;\n",
       "    }\n",
       "\n",
       "    .dataframe tbody tr th {\n",
       "        vertical-align: top;\n",
       "    }\n",
       "\n",
       "    .dataframe thead th {\n",
       "        text-align: right;\n",
       "    }\n",
       "</style>\n",
       "<table border=\"1\" class=\"dataframe\">\n",
       "  <thead>\n",
       "    <tr style=\"text-align: right;\">\n",
       "      <th></th>\n",
       "      <th>event_clearing</th>\n",
       "      <th>call_type</th>\n",
       "      <th>priority</th>\n",
       "      <th>initial_call_type</th>\n",
       "      <th>final_call_type</th>\n",
       "      <th>original_time_queued</th>\n",
       "      <th>arrived_time</th>\n",
       "      <th>precinct</th>\n",
       "      <th>sector</th>\n",
       "      <th>beat</th>\n",
       "      <th>time_delta</th>\n",
       "      <th>year</th>\n",
       "      <th>month</th>\n",
       "    </tr>\n",
       "    <tr>\n",
       "      <th>CAD Event Number</th>\n",
       "      <th></th>\n",
       "      <th></th>\n",
       "      <th></th>\n",
       "      <th></th>\n",
       "      <th></th>\n",
       "      <th></th>\n",
       "      <th></th>\n",
       "      <th></th>\n",
       "      <th></th>\n",
       "      <th></th>\n",
       "      <th></th>\n",
       "      <th></th>\n",
       "      <th></th>\n",
       "    </tr>\n",
       "  </thead>\n",
       "  <tbody>\n",
       "    <tr>\n",
       "      <th>2010000002185</th>\n",
       "      <td>REPORT WRITTEN (NO ARREST)</td>\n",
       "      <td>TELEPHONE OTHER, NOT 911</td>\n",
       "      <td>2</td>\n",
       "      <td>ROBBERY (INCLUDES STRONG ARM)</td>\n",
       "      <td>--ROBBERY - ARMED</td>\n",
       "      <td>2010-01-02 23:17:25</td>\n",
       "      <td>2010-01-02 23:46:25</td>\n",
       "      <td>UNKNOWN</td>\n",
       "      <td>NaN</td>\n",
       "      <td>99</td>\n",
       "      <td>1.740000e+03</td>\n",
       "      <td>2010</td>\n",
       "      <td>1</td>\n",
       "    </tr>\n",
       "    <tr>\n",
       "      <th>2010000006111</th>\n",
       "      <td>ASSISTANCE RENDERED</td>\n",
       "      <td>TELEPHONE OTHER, NOT 911</td>\n",
       "      <td>2</td>\n",
       "      <td>NARCOTICS WARRANT SERVICE</td>\n",
       "      <td>--ROBBERY - ARMED</td>\n",
       "      <td>2010-01-06 13:53:13</td>\n",
       "      <td>1900-01-01 00:00:00</td>\n",
       "      <td>UNKNOWN</td>\n",
       "      <td>NaN</td>\n",
       "      <td>INV</td>\n",
       "      <td>-3.471775e+09</td>\n",
       "      <td>2010</td>\n",
       "      <td>1</td>\n",
       "    </tr>\n",
       "    <tr>\n",
       "      <th>2010000014675</th>\n",
       "      <td>UNABLE TO LOCATE INCIDENT OR COMPLAINANT</td>\n",
       "      <td>ONVIEW</td>\n",
       "      <td>3</td>\n",
       "      <td>FOLLOW UP</td>\n",
       "      <td>--ASSAULTS - FIREARM INVOLVED</td>\n",
       "      <td>2010-01-13 21:48:50</td>\n",
       "      <td>2010-01-13 21:48:50</td>\n",
       "      <td>UNKNOWN</td>\n",
       "      <td>NaN</td>\n",
       "      <td>LAPT</td>\n",
       "      <td>0.000000e+00</td>\n",
       "      <td>2010</td>\n",
       "      <td>1</td>\n",
       "    </tr>\n",
       "    <tr>\n",
       "      <th>2010000014715</th>\n",
       "      <td>UNABLE TO LOCATE INCIDENT OR COMPLAINANT</td>\n",
       "      <td>ONVIEW</td>\n",
       "      <td>3</td>\n",
       "      <td>FOLLOW UP</td>\n",
       "      <td>--ASSAULTS - FIREARM INVOLVED</td>\n",
       "      <td>2010-01-13 22:24:19</td>\n",
       "      <td>2010-01-13 22:24:19</td>\n",
       "      <td>UNKNOWN</td>\n",
       "      <td>NaN</td>\n",
       "      <td>LAPT</td>\n",
       "      <td>0.000000e+00</td>\n",
       "      <td>2010</td>\n",
       "      <td>1</td>\n",
       "    </tr>\n",
       "    <tr>\n",
       "      <th>2010000032182</th>\n",
       "      <td>FOLLOW-UP REPORT MADE</td>\n",
       "      <td>ONVIEW</td>\n",
       "      <td>3</td>\n",
       "      <td>FOLLOW UP</td>\n",
       "      <td>--ROBBERY - ARMED</td>\n",
       "      <td>2010-01-28 17:26:27</td>\n",
       "      <td>2010-01-28 17:26:27</td>\n",
       "      <td>UNKNOWN</td>\n",
       "      <td>NaN</td>\n",
       "      <td>DET</td>\n",
       "      <td>0.000000e+00</td>\n",
       "      <td>2010</td>\n",
       "      <td>1</td>\n",
       "    </tr>\n",
       "  </tbody>\n",
       "</table>\n",
       "</div>"
      ],
      "text/plain": [
       "                                            event_clearing  \\\n",
       "CAD Event Number                                             \n",
       "2010000002185                   REPORT WRITTEN (NO ARREST)   \n",
       "2010000006111                          ASSISTANCE RENDERED   \n",
       "2010000014675     UNABLE TO LOCATE INCIDENT OR COMPLAINANT   \n",
       "2010000014715     UNABLE TO LOCATE INCIDENT OR COMPLAINANT   \n",
       "2010000032182                        FOLLOW-UP REPORT MADE   \n",
       "\n",
       "                                 call_type  priority  \\\n",
       "CAD Event Number                                       \n",
       "2010000002185     TELEPHONE OTHER, NOT 911         2   \n",
       "2010000006111     TELEPHONE OTHER, NOT 911         2   \n",
       "2010000014675                       ONVIEW         3   \n",
       "2010000014715                       ONVIEW         3   \n",
       "2010000032182                       ONVIEW         3   \n",
       "\n",
       "                              initial_call_type  \\\n",
       "CAD Event Number                                  \n",
       "2010000002185     ROBBERY (INCLUDES STRONG ARM)   \n",
       "2010000006111         NARCOTICS WARRANT SERVICE   \n",
       "2010000014675                         FOLLOW UP   \n",
       "2010000014715                         FOLLOW UP   \n",
       "2010000032182                         FOLLOW UP   \n",
       "\n",
       "                                final_call_type original_time_queued  \\\n",
       "CAD Event Number                                                       \n",
       "2010000002185                 --ROBBERY - ARMED  2010-01-02 23:17:25   \n",
       "2010000006111                 --ROBBERY - ARMED  2010-01-06 13:53:13   \n",
       "2010000014675     --ASSAULTS - FIREARM INVOLVED  2010-01-13 21:48:50   \n",
       "2010000014715     --ASSAULTS - FIREARM INVOLVED  2010-01-13 22:24:19   \n",
       "2010000032182                 --ROBBERY - ARMED  2010-01-28 17:26:27   \n",
       "\n",
       "                        arrived_time precinct sector  beat    time_delta  \\\n",
       "CAD Event Number                                                           \n",
       "2010000002185    2010-01-02 23:46:25  UNKNOWN    NaN    99  1.740000e+03   \n",
       "2010000006111    1900-01-01 00:00:00  UNKNOWN    NaN   INV -3.471775e+09   \n",
       "2010000014675    2010-01-13 21:48:50  UNKNOWN    NaN  LAPT  0.000000e+00   \n",
       "2010000014715    2010-01-13 22:24:19  UNKNOWN    NaN  LAPT  0.000000e+00   \n",
       "2010000032182    2010-01-28 17:26:27  UNKNOWN    NaN   DET  0.000000e+00   \n",
       "\n",
       "                  year  month  \n",
       "CAD Event Number               \n",
       "2010000002185     2010      1  \n",
       "2010000006111     2010      1  \n",
       "2010000014675     2010      1  \n",
       "2010000014715     2010      1  \n",
       "2010000032182     2010      1  "
      ]
     },
     "execution_count": 22,
     "metadata": {},
     "output_type": "execute_result"
    }
   ],
   "source": [
    "# View all rows where beat contains a non-beat id\n",
    "\n",
    "# non_beat_ids = 'SS|99|INV|LAPT|S|DET|CMD|CTY|N|CS|CDD|E|WS|US|CC|W|TQ|OS|SWT|NP|COMM|WP|FS|WD|NS|MS|SD|RS|SS|SPVDD|ES'\n",
    "non_beat_ids = 'SS|99|INV|LAPT|DET|CMD|CTY|CS|CDD|WS|US|CC|TQ|OS|SWT|NP|COMM|WP|FS|WD|NS|MS|SD|RS|SS|SPVDD|ES'\n",
    "\n",
    "\n",
    "data[data.beat.str.contains(non_beat_ids)].head()"
   ]
  },
  {
   "cell_type": "code",
   "execution_count": 23,
   "metadata": {},
   "outputs": [],
   "source": [
    "# View list of beats\n",
    "\n",
    "beat = data['beat'].unique().tolist()\n",
    "# beat"
   ]
  },
  {
   "cell_type": "code",
   "execution_count": null,
   "metadata": {},
   "outputs": [],
   "source": []
  },
  {
   "cell_type": "markdown",
   "metadata": {},
   "source": [
    "## ID sexual assault terms"
   ]
  },
  {
   "cell_type": "code",
   "execution_count": 24,
   "metadata": {},
   "outputs": [
    {
     "data": {
      "text/plain": [
       "'CSEC|LEWD|MOLESTING|STRANGER|ACQUAINTANCE'"
      ]
     },
     "execution_count": 24,
     "metadata": {},
     "output_type": "execute_result"
    }
   ],
   "source": [
    "# Define terms that id sex-based crimes\n",
    "\n",
    "sexual_assault_terms = 'CSEC|LEWD|MOLESTING|STRANGER|ACQUAINTANCE'\n",
    "sexual_assault_terms"
   ]
  },
  {
   "cell_type": "code",
   "execution_count": 25,
   "metadata": {},
   "outputs": [
    {
     "data": {
      "text/plain": [
       "'STRANGER|ACQUAINTANCE'"
      ]
     },
     "execution_count": 25,
     "metadata": {},
     "output_type": "execute_result"
    }
   ],
   "source": [
    "# Define terms that id rape CFS\n",
    "\n",
    "rape_terms = 'STRANGER|ACQUAINTANCE'\n",
    "rape_terms"
   ]
  },
  {
   "cell_type": "code",
   "execution_count": 26,
   "metadata": {},
   "outputs": [
    {
     "data": {
      "text/plain": [
       "'KIDNAP|HOMICIDE|SHOOTING|ASSAULTS|ROBBERY'"
      ]
     },
     "execution_count": 26,
     "metadata": {},
     "output_type": "execute_result"
    }
   ],
   "source": [
    "# Define terms that id non-sexual-assault violent crimes CFS\n",
    "\n",
    "\n",
    "violent_crime_terms = 'KIDNAP|HOMICIDE|SHOOTING|ASSAULTS|ROBBERY'\n",
    "violent_crime_terms"
   ]
  },
  {
   "cell_type": "code",
   "execution_count": 27,
   "metadata": {},
   "outputs": [
    {
     "data": {
      "text/plain": [
       "'PHYSICAL ARREST MADE|ASSISTANCE RENDERED|REPORT WRITTEN|FOLLOW-UP REPORT MADE|UNABLE TO LOCATE'"
      ]
     },
     "execution_count": 27,
     "metadata": {},
     "output_type": "execute_result"
    }
   ],
   "source": [
    "# Define top event_clearing codes\n",
    "\n",
    "event_clearing_codes = 'PHYSICAL ARREST MADE|ASSISTANCE RENDERED|REPORT WRITTEN|FOLLOW-UP REPORT MADE|UNABLE TO LOCATE'\n",
    "event_clearing_codes"
   ]
  },
  {
   "cell_type": "markdown",
   "metadata": {},
   "source": [
    "## Masks + Staging"
   ]
  },
  {
   "cell_type": "code",
   "execution_count": 63,
   "metadata": {},
   "outputs": [
    {
     "data": {
      "text/html": [
       "<div>\n",
       "<style scoped>\n",
       "    .dataframe tbody tr th:only-of-type {\n",
       "        vertical-align: middle;\n",
       "    }\n",
       "\n",
       "    .dataframe tbody tr th {\n",
       "        vertical-align: top;\n",
       "    }\n",
       "\n",
       "    .dataframe thead th {\n",
       "        text-align: right;\n",
       "    }\n",
       "</style>\n",
       "<table border=\"1\" class=\"dataframe\">\n",
       "  <thead>\n",
       "    <tr style=\"text-align: right;\">\n",
       "      <th></th>\n",
       "      <th>event_clearing</th>\n",
       "      <th>call_type</th>\n",
       "      <th>priority</th>\n",
       "      <th>initial_call_type</th>\n",
       "      <th>final_call_type</th>\n",
       "      <th>original_time_queued</th>\n",
       "      <th>arrived_time</th>\n",
       "      <th>precinct</th>\n",
       "      <th>sector</th>\n",
       "      <th>beat</th>\n",
       "      <th>time_delta</th>\n",
       "      <th>year</th>\n",
       "      <th>month</th>\n",
       "    </tr>\n",
       "    <tr>\n",
       "      <th>CAD Event Number</th>\n",
       "      <th></th>\n",
       "      <th></th>\n",
       "      <th></th>\n",
       "      <th></th>\n",
       "      <th></th>\n",
       "      <th></th>\n",
       "      <th></th>\n",
       "      <th></th>\n",
       "      <th></th>\n",
       "      <th></th>\n",
       "      <th></th>\n",
       "      <th></th>\n",
       "      <th></th>\n",
       "    </tr>\n",
       "  </thead>\n",
       "  <tbody>\n",
       "    <tr>\n",
       "      <th>2010000000451</th>\n",
       "      <td>REPORT WRITTEN (NO ARREST)</td>\n",
       "      <td>911</td>\n",
       "      <td>2</td>\n",
       "      <td>THEFT OF SERVICES</td>\n",
       "      <td>--ROBBERY - ARMED</td>\n",
       "      <td>2010-01-01 05:46:54</td>\n",
       "      <td>2010-01-01 06:39:35</td>\n",
       "      <td>NORTH</td>\n",
       "      <td>UNION</td>\n",
       "      <td>U1</td>\n",
       "      <td>3161.0</td>\n",
       "      <td>2010</td>\n",
       "      <td>1</td>\n",
       "    </tr>\n",
       "    <tr>\n",
       "      <th>2010000000989</th>\n",
       "      <td>FOLLOW-UP REPORT MADE</td>\n",
       "      <td>ONVIEW</td>\n",
       "      <td>3</td>\n",
       "      <td>FOLLOW UP</td>\n",
       "      <td>--ASSAULTS - FIREARM INVOLVED</td>\n",
       "      <td>2010-01-01 20:17:12</td>\n",
       "      <td>2010-01-01 20:17:12</td>\n",
       "      <td>SOUTH</td>\n",
       "      <td>SAM</td>\n",
       "      <td>S1</td>\n",
       "      <td>0.0</td>\n",
       "      <td>2010</td>\n",
       "      <td>1</td>\n",
       "    </tr>\n",
       "    <tr>\n",
       "      <th>2010000001058</th>\n",
       "      <td>FOLLOW-UP REPORT MADE</td>\n",
       "      <td>ONVIEW</td>\n",
       "      <td>2</td>\n",
       "      <td>NARCOTICS - VIOLATIONS (LOITER, USE, SELL, NARS)</td>\n",
       "      <td>--ROBBERY - ARMED</td>\n",
       "      <td>2010-01-01 21:43:41</td>\n",
       "      <td>2010-01-01 21:43:41</td>\n",
       "      <td>SOUTH</td>\n",
       "      <td>SAM</td>\n",
       "      <td>S3</td>\n",
       "      <td>0.0</td>\n",
       "      <td>2010</td>\n",
       "      <td>1</td>\n",
       "    </tr>\n",
       "    <tr>\n",
       "      <th>2010000002185</th>\n",
       "      <td>REPORT WRITTEN (NO ARREST)</td>\n",
       "      <td>TELEPHONE OTHER, NOT 911</td>\n",
       "      <td>2</td>\n",
       "      <td>ROBBERY (INCLUDES STRONG ARM)</td>\n",
       "      <td>--ROBBERY - ARMED</td>\n",
       "      <td>2010-01-02 23:17:25</td>\n",
       "      <td>2010-01-02 23:46:25</td>\n",
       "      <td>UNKNOWN</td>\n",
       "      <td>NaN</td>\n",
       "      <td>99</td>\n",
       "      <td>1740.0</td>\n",
       "      <td>2010</td>\n",
       "      <td>1</td>\n",
       "    </tr>\n",
       "    <tr>\n",
       "      <th>2010000003233</th>\n",
       "      <td>REPORT WRITTEN (NO ARREST)</td>\n",
       "      <td>911</td>\n",
       "      <td>1</td>\n",
       "      <td>ROBBERY - IP/JO (INCLUDES STRONG ARM)</td>\n",
       "      <td>--ROBBERY - ARMED</td>\n",
       "      <td>2010-01-03 22:40:46</td>\n",
       "      <td>2010-01-03 22:43:04</td>\n",
       "      <td>NORTH</td>\n",
       "      <td>BOY</td>\n",
       "      <td>B2</td>\n",
       "      <td>138.0</td>\n",
       "      <td>2010</td>\n",
       "      <td>1</td>\n",
       "    </tr>\n",
       "  </tbody>\n",
       "</table>\n",
       "</div>"
      ],
      "text/plain": [
       "                              event_clearing                 call_type  \\\n",
       "CAD Event Number                                                         \n",
       "2010000000451     REPORT WRITTEN (NO ARREST)                       911   \n",
       "2010000000989          FOLLOW-UP REPORT MADE                    ONVIEW   \n",
       "2010000001058          FOLLOW-UP REPORT MADE                    ONVIEW   \n",
       "2010000002185     REPORT WRITTEN (NO ARREST)  TELEPHONE OTHER, NOT 911   \n",
       "2010000003233     REPORT WRITTEN (NO ARREST)                       911   \n",
       "\n",
       "                  priority                                 initial_call_type  \\\n",
       "CAD Event Number                                                               \n",
       "2010000000451            2                                 THEFT OF SERVICES   \n",
       "2010000000989            3                                         FOLLOW UP   \n",
       "2010000001058            2  NARCOTICS - VIOLATIONS (LOITER, USE, SELL, NARS)   \n",
       "2010000002185            2                     ROBBERY (INCLUDES STRONG ARM)   \n",
       "2010000003233            1             ROBBERY - IP/JO (INCLUDES STRONG ARM)   \n",
       "\n",
       "                                final_call_type original_time_queued  \\\n",
       "CAD Event Number                                                       \n",
       "2010000000451                 --ROBBERY - ARMED  2010-01-01 05:46:54   \n",
       "2010000000989     --ASSAULTS - FIREARM INVOLVED  2010-01-01 20:17:12   \n",
       "2010000001058                 --ROBBERY - ARMED  2010-01-01 21:43:41   \n",
       "2010000002185                 --ROBBERY - ARMED  2010-01-02 23:17:25   \n",
       "2010000003233                 --ROBBERY - ARMED  2010-01-03 22:40:46   \n",
       "\n",
       "                        arrived_time precinct sector beat  time_delta  year  \\\n",
       "CAD Event Number                                                              \n",
       "2010000000451    2010-01-01 06:39:35    NORTH  UNION   U1      3161.0  2010   \n",
       "2010000000989    2010-01-01 20:17:12    SOUTH    SAM   S1         0.0  2010   \n",
       "2010000001058    2010-01-01 21:43:41    SOUTH    SAM   S3         0.0  2010   \n",
       "2010000002185    2010-01-02 23:46:25  UNKNOWN    NaN   99      1740.0  2010   \n",
       "2010000003233    2010-01-03 22:43:04    NORTH    BOY   B2       138.0  2010   \n",
       "\n",
       "                  month  \n",
       "CAD Event Number         \n",
       "2010000000451         1  \n",
       "2010000000989         1  \n",
       "2010000001058         1  \n",
       "2010000002185         1  \n",
       "2010000003233         1  "
      ]
     },
     "execution_count": 63,
     "metadata": {},
     "output_type": "execute_result"
    }
   ],
   "source": [
    "# Create masks + stages for all rape call types, non-sex-related violent crimes, and clearing codes\n",
    "\n",
    "is_sexual_assault_mask = data['final_call_type'].str.contains(sexual_assault_terms)\n",
    "is_rape_mask = data['final_call_type'].str.contains(rape_terms)\n",
    "is_tru_rape_mask = data['final_call_type'].str.contains(rape_terms) & data['initial_call_type'].str.contains(\"TRU \")\n",
    "is_stranger_rape = data['final_call_type'].str.contains(\"STRANGER\")\n",
    "is_acquaintance_rape = data['final_call_type'].str.contains(\"ACQUAINTANCE\")\n",
    "is_lewd_conduct = data['final_call_type'].str.contains(\"LEWD\")\n",
    "is_violent_crime = data['final_call_type'].str.contains(violent_crime_terms)\n",
    "is_top_clearing_code = data['event_clearing'].str.contains(event_clearing_codes)\n",
    "is_arrest = data['event_clearing'].str.contains(\"PHYSICAL ARREST MADE\")\n",
    "is_report_written = data['event_clearing'].str.contains(\"REPORT\")\n",
    "is_priority3 = data[data.priority == 3]\n",
    "\n",
    "stage_is_sexual_assault = data[is_sexual_assault_mask]\n",
    "stage_is_rape_cfs = data[is_rape_mask]\n",
    "stage_is_acquaintance_rape = data[is_acquaintance_rape]\n",
    "stage_is_stranger_rape = data[is_stranger_rape]\n",
    "stage_is_lewd_conduct = data[is_lewd_conduct]\n",
    "stage_is_tru_rape_call = data[is_tru_rape_mask]\n",
    "stage_is_violent_crime = data[is_violent_crime]\n",
    "stage_is_top_clearing_code = data[is_top_clearing_code]\n",
    "\n",
    "stage_top_cc_rape = data[is_rape_mask & is_top_clearing_code]\n",
    "stage_top_cc_violent_crimes = data[is_violent_crime & is_top_clearing_code]\n",
    "stage_is_rape_arrest = data[is_rape_mask & is_arrest]\n",
    "stage_is_rape_report = data[is_rape_mask & is_report_written]\n",
    "stage_is_violent_crime_arrest = data[is_violent_crime & is_arrest]\n",
    "stage_is_violent_crime_report = data[is_violent_crime & is_report_written]\n",
    "\n",
    "# make p3 stage?\n",
    "\n",
    "stage_is_sexual_assault.head()\n",
    "# stage_is_stranger_rape_cfs.head()\n",
    "# stage_is_rape_cfs.head()\n",
    "# stage_is_acquaintance_rape.head()\n",
    "#stage_is_tru_rape_call.head(10)\n",
    "#stage_is_violent_crime.head()\n",
    "#stage_is_top_clearing_code.head(10)\n",
    "#stage_top_cc_rape.head()\n",
    "#stage_top_cc_violent_crimes.head()\n",
    "# stage_is_rape_arrest.head()\n",
    "# stage_is_rape_report.head()\n",
    "# stage_is_violent_crime_arrest.head()\n",
    "stage_is_violent_crime_report.head()\n",
    "\n",
    "\n",
    "#value_counts(stage_is_report.event_clearing)\n",
    "\n",
    "# Get the years\n"
   ]
  },
  {
   "cell_type": "code",
   "execution_count": 29,
   "metadata": {},
   "outputs": [
    {
     "data": {
      "text/plain": [
       "<matplotlib.axes._subplots.AxesSubplot at 0x105bcb518>"
      ]
     },
     "execution_count": 29,
     "metadata": {},
     "output_type": "execute_result"
    },
    {
     "data": {
      "image/png": "[encoded data removed]",
      "text/plain": [
       "<Figure size 432x288 with 1 Axes>"
      ]
     },
     "metadata": {
      "needs_background": "light"
     },
     "output_type": "display_data"
    }
   ],
   "source": [
    "# Sandbox for each sexual assault by year\n",
    "\n",
    "\n",
    "# All sexual assaults by year (upwards trend)\n",
    "pd.value_counts(stage_is_sexual_assault.year).reindex([2010, 2011, 2012, 2013, 2014, 2015, 2016, 2017, 2018]).plot.bar()\n",
    "\n",
    "# All sexual assaults by month of year\n",
    "# pd.value_counts(stage_is_sexual_assault.month).plot.bar()"
   ]
  },
  {
   "cell_type": "code",
   "execution_count": 30,
   "metadata": {},
   "outputs": [
    {
     "data": {
      "text/plain": [
       "<matplotlib.axes._subplots.AxesSubplot at 0x11cf5e7f0>"
      ]
     },
     "execution_count": 30,
     "metadata": {},
     "output_type": "execute_result"
    },
    {
     "data": {
      "image/png": "[encoded data removed]",
      "text/plain": [
       "<Figure size 432x288 with 1 Axes>"
      ]
     },
     "metadata": {
      "needs_background": "light"
     },
     "output_type": "display_data"
    }
   ],
   "source": [
    "# Sandbox for rapes by year\n",
    "\n",
    "\n",
    "# All rapes by year\n",
    "# pd.value_counts(stage_rape_cfs.year).plot.bar()\n",
    "\n",
    "# All stranger rapes by year\n",
    "# pd.value_counts(stage_is_stranger_rape.year).plot.bar()\n",
    "\n",
    "# All acquaintance rapes by year\n",
    "pd.value_counts(stage_is_acquaintance_rape.year).reindex([2010, 2011, 2012, 2013, 2014, 2015, 2016, 2017, 2018]).plot.bar()\n",
    "\n",
    "\n",
    "\n",
    "# All rapes by month of year\n",
    "# pd.value_counts(stage_rape_cfs.month).plot.bar()\n"
   ]
  },
  {
   "cell_type": "code",
   "execution_count": 31,
   "metadata": {
    "scrolled": true
   },
   "outputs": [
    {
     "data": {
      "text/plain": [
       "<matplotlib.axes._subplots.AxesSubplot at 0x11cf115f8>"
      ]
     },
     "execution_count": 31,
     "metadata": {},
     "output_type": "execute_result"
    },
    {
     "data": {
      "image/png": "[encoded data removed]",
      "text/plain": [
       "<Figure size 432x288 with 1 Axes>"
      ]
     },
     "metadata": {
      "needs_background": "light"
     },
     "output_type": "display_data"
    }
   ],
   "source": [
    "# Sandbox for stacked bar chart exploring all rapes\n",
    "\n",
    "pd.value_counts(stage_is_acquaintance_rape.year).reindex([2010, 2011, 2012, 2013, 2014, 2015, 2016, 2017, 2018]).plot.bar(stacked=True)"
   ]
  },
  {
   "cell_type": "markdown",
   "metadata": {},
   "source": [
    "\n",
    "## TRU Sandbox\n",
    "\n",
    "**More Information about TRU**\n",
    "\n",
    "Cynthia Granard on LinkedIn: https://www.linkedin.com/in/cynthia-granard-2198b085/\n",
    "She was TRU sgt in 2001-2003 (and also dispatch sgt at same time)> Connected w/ Cleo"
   ]
  },
  {
   "cell_type": "code",
   "execution_count": 32,
   "metadata": {},
   "outputs": [
    {
     "data": {
      "text/plain": [
       "<matplotlib.axes._subplots.AxesSubplot at 0x105bcb240>"
      ]
     },
     "execution_count": 32,
     "metadata": {},
     "output_type": "execute_result"
    },
    {
     "data": {
      "image/png": "[encoded data removed]",
      "text/plain": [
       "<Figure size 432x288 with 1 Axes>"
      ]
     },
     "metadata": {
      "needs_background": "light"
     },
     "output_type": "display_data"
    }
   ],
   "source": [
    "# Chart showing rape calls handled by TRU\n",
    "\n",
    "pd.value_counts(stage_is_tru_rape_call.year).reindex([2010, 2011, 2012, 2013, 2014, 2015, 2016, 2017, 2018]).plot.bar(stacked=True)"
   ]
  },
  {
   "cell_type": "code",
   "execution_count": 33,
   "metadata": {},
   "outputs": [],
   "source": [
    "# Trying to get at comparison of non-I/P violent crimes vs sexual-assaults that were reffered to TRU\n",
    "# Show details of CFS for ASSAULTS - FIREARM \n",
    "\n",
    "\n"
   ]
  },
  {
   "cell_type": "code",
   "execution_count": 35,
   "metadata": {},
   "outputs": [
    {
     "data": {
      "text/html": [
       "<div>\n",
       "<style scoped>\n",
       "    .dataframe tbody tr th:only-of-type {\n",
       "        vertical-align: middle;\n",
       "    }\n",
       "\n",
       "    .dataframe tbody tr th {\n",
       "        vertical-align: top;\n",
       "    }\n",
       "\n",
       "    .dataframe thead th {\n",
       "        text-align: right;\n",
       "    }\n",
       "</style>\n",
       "<table border=\"1\" class=\"dataframe\">\n",
       "  <thead>\n",
       "    <tr style=\"text-align: right;\">\n",
       "      <th></th>\n",
       "      <th>event_clearing</th>\n",
       "      <th>call_type</th>\n",
       "      <th>priority</th>\n",
       "      <th>initial_call_type</th>\n",
       "      <th>final_call_type</th>\n",
       "      <th>original_time_queued</th>\n",
       "      <th>arrived_time</th>\n",
       "      <th>precinct</th>\n",
       "      <th>sector</th>\n",
       "      <th>beat</th>\n",
       "      <th>time_delta</th>\n",
       "      <th>year</th>\n",
       "      <th>month</th>\n",
       "    </tr>\n",
       "    <tr>\n",
       "      <th>CAD Event Number</th>\n",
       "      <th></th>\n",
       "      <th></th>\n",
       "      <th></th>\n",
       "      <th></th>\n",
       "      <th></th>\n",
       "      <th></th>\n",
       "      <th></th>\n",
       "      <th></th>\n",
       "      <th></th>\n",
       "      <th></th>\n",
       "      <th></th>\n",
       "      <th></th>\n",
       "      <th></th>\n",
       "    </tr>\n",
       "  </thead>\n",
       "  <tbody>\n",
       "    <tr>\n",
       "      <th>2010000071969</th>\n",
       "      <td>REPORT WRITTEN (NO ARREST)</td>\n",
       "      <td>TELEPHONE OTHER, NOT 911</td>\n",
       "      <td>5</td>\n",
       "      <td>TRU - ASLT - WITH OR W/O WPNS (NO SHOOTINGS)</td>\n",
       "      <td>--SEX OFFENSES (RAPE) - MOLESTING</td>\n",
       "      <td>2010-03-04 08:01:18</td>\n",
       "      <td>2010-03-04 08:06:03</td>\n",
       "      <td>NORTH</td>\n",
       "      <td>LINCOLN</td>\n",
       "      <td>L1</td>\n",
       "      <td>285.0</td>\n",
       "      <td>2010</td>\n",
       "      <td>3</td>\n",
       "    </tr>\n",
       "    <tr>\n",
       "      <th>2010000135469</th>\n",
       "      <td>RADIO BROADCAST AND CLEAR</td>\n",
       "      <td>TELEPHONE OTHER, NOT 911</td>\n",
       "      <td>5</td>\n",
       "      <td>TRU - RAPE</td>\n",
       "      <td>--RAPE - KNOWN SUSPECT (ACQUAINTANCE)</td>\n",
       "      <td>2010-04-26 10:00:35</td>\n",
       "      <td>2010-04-26 10:33:27</td>\n",
       "      <td>NORTH</td>\n",
       "      <td>NORA</td>\n",
       "      <td>N3</td>\n",
       "      <td>1972.0</td>\n",
       "      <td>2010</td>\n",
       "      <td>4</td>\n",
       "    </tr>\n",
       "    <tr>\n",
       "      <th>2010000187117</th>\n",
       "      <td>RADIO BROADCAST AND CLEAR</td>\n",
       "      <td>TELEPHONE OTHER, NOT 911</td>\n",
       "      <td>5</td>\n",
       "      <td>TRU - ASLT - WITH OR W/O WPNS (NO SHOOTINGS)</td>\n",
       "      <td>--RAPE - UNKNOWN SUSPECT (STRANGER)</td>\n",
       "      <td>2010-06-04 14:15:48</td>\n",
       "      <td>2010-06-04 15:05:24</td>\n",
       "      <td>WEST</td>\n",
       "      <td>QUEEN</td>\n",
       "      <td>Q3</td>\n",
       "      <td>2976.0</td>\n",
       "      <td>2010</td>\n",
       "      <td>6</td>\n",
       "    </tr>\n",
       "    <tr>\n",
       "      <th>2010000193566</th>\n",
       "      <td>REPORT WRITTEN (NO ARREST)</td>\n",
       "      <td>TELEPHONE OTHER, NOT 911</td>\n",
       "      <td>5</td>\n",
       "      <td>TRU - RAPE</td>\n",
       "      <td>--RAPE - KNOWN SUSPECT (ACQUAINTANCE)</td>\n",
       "      <td>2010-06-09 08:28:18</td>\n",
       "      <td>2010-06-09 09:11:39</td>\n",
       "      <td>EAST</td>\n",
       "      <td>CHARLIE</td>\n",
       "      <td>C1</td>\n",
       "      <td>2601.0</td>\n",
       "      <td>2010</td>\n",
       "      <td>6</td>\n",
       "    </tr>\n",
       "    <tr>\n",
       "      <th>2010000202375</th>\n",
       "      <td>ASSISTANCE RENDERED</td>\n",
       "      <td>911</td>\n",
       "      <td>5</td>\n",
       "      <td>TRU - LEWD CONDUCT</td>\n",
       "      <td>--SEX OFFENSES (NON-RAPE) - LEWD CONDUCT</td>\n",
       "      <td>2010-06-15 15:23:41</td>\n",
       "      <td>2010-06-15 15:25:17</td>\n",
       "      <td>NORTH</td>\n",
       "      <td>JOHN</td>\n",
       "      <td>J3</td>\n",
       "      <td>96.0</td>\n",
       "      <td>2010</td>\n",
       "      <td>6</td>\n",
       "    </tr>\n",
       "  </tbody>\n",
       "</table>\n",
       "</div>"
      ],
      "text/plain": [
       "                              event_clearing                 call_type  \\\n",
       "CAD Event Number                                                         \n",
       "2010000071969     REPORT WRITTEN (NO ARREST)  TELEPHONE OTHER, NOT 911   \n",
       "2010000135469      RADIO BROADCAST AND CLEAR  TELEPHONE OTHER, NOT 911   \n",
       "2010000187117      RADIO BROADCAST AND CLEAR  TELEPHONE OTHER, NOT 911   \n",
       "2010000193566     REPORT WRITTEN (NO ARREST)  TELEPHONE OTHER, NOT 911   \n",
       "2010000202375            ASSISTANCE RENDERED                       911   \n",
       "\n",
       "                  priority                             initial_call_type  \\\n",
       "CAD Event Number                                                           \n",
       "2010000071969            5  TRU - ASLT - WITH OR W/O WPNS (NO SHOOTINGS)   \n",
       "2010000135469            5                                    TRU - RAPE   \n",
       "2010000187117            5  TRU - ASLT - WITH OR W/O WPNS (NO SHOOTINGS)   \n",
       "2010000193566            5                                    TRU - RAPE   \n",
       "2010000202375            5                            TRU - LEWD CONDUCT   \n",
       "\n",
       "                                           final_call_type  \\\n",
       "CAD Event Number                                             \n",
       "2010000071969            --SEX OFFENSES (RAPE) - MOLESTING   \n",
       "2010000135469        --RAPE - KNOWN SUSPECT (ACQUAINTANCE)   \n",
       "2010000187117          --RAPE - UNKNOWN SUSPECT (STRANGER)   \n",
       "2010000193566        --RAPE - KNOWN SUSPECT (ACQUAINTANCE)   \n",
       "2010000202375     --SEX OFFENSES (NON-RAPE) - LEWD CONDUCT   \n",
       "\n",
       "                 original_time_queued        arrived_time precinct   sector  \\\n",
       "CAD Event Number                                                              \n",
       "2010000071969     2010-03-04 08:01:18 2010-03-04 08:06:03    NORTH  LINCOLN   \n",
       "2010000135469     2010-04-26 10:00:35 2010-04-26 10:33:27    NORTH     NORA   \n",
       "2010000187117     2010-06-04 14:15:48 2010-06-04 15:05:24     WEST    QUEEN   \n",
       "2010000193566     2010-06-09 08:28:18 2010-06-09 09:11:39     EAST  CHARLIE   \n",
       "2010000202375     2010-06-15 15:23:41 2010-06-15 15:25:17    NORTH     JOHN   \n",
       "\n",
       "                 beat  time_delta  year  month  \n",
       "CAD Event Number                                \n",
       "2010000071969      L1       285.0  2010      3  \n",
       "2010000135469      N3      1972.0  2010      4  \n",
       "2010000187117      Q3      2976.0  2010      6  \n",
       "2010000193566      C1      2601.0  2010      6  \n",
       "2010000202375      J3        96.0  2010      6  "
      ]
     },
     "execution_count": 35,
     "metadata": {},
     "output_type": "execute_result"
    }
   ],
   "source": [
    "# Explore TRU call\n",
    "\n",
    "# Save rows where initial call type is TRU\n",
    "\n",
    "TRU = data[data.initial_call_type.str.contains(\"TRU \")]\n",
    "TRU.head()"
   ]
  },
  {
   "cell_type": "code",
   "execution_count": 36,
   "metadata": {},
   "outputs": [
    {
     "data": {
      "text/plain": [
       "<matplotlib.axes._subplots.AxesSubplot at 0x11d37c198>"
      ]
     },
     "execution_count": 36,
     "metadata": {},
     "output_type": "execute_result"
    },
    {
     "data": {
      "image/png": "[encoded data removed]",
      "text/plain": [
       "<Figure size 432x288 with 1 Axes>"
      ]
     },
     "metadata": {
      "needs_background": "light"
     },
     "output_type": "display_data"
    }
   ],
   "source": [
    "# Visualize counts of calls that started at TRUs\n",
    "\n",
    "pd.value_counts(TRU.final_call_type).plot.bar()"
   ]
  },
  {
   "cell_type": "markdown",
   "metadata": {},
   "source": [
    "**Question:**\n",
    "Do any of the below with RR, get referred to detectives?"
   ]
  },
  {
   "cell_type": "code",
   "execution_count": 37,
   "metadata": {},
   "outputs": [
    {
     "data": {
      "text/plain": [
       "<matplotlib.axes._subplots.AxesSubplot at 0x11d309ac8>"
      ]
     },
     "execution_count": 37,
     "metadata": {},
     "output_type": "execute_result"
    },
    {
     "data": {
      "image/png": "[encoded data removed]",
      "text/plain": [
       "<Figure size 864x576 with 1 Axes>"
      ]
     },
     "metadata": {
      "needs_background": "light"
     },
     "output_type": "display_data"
    }
   ],
   "source": [
    "# Chart how TRU rape calls were resolved\n",
    "\n",
    "# All TRU rape calls' resolution, years 2010-2018\n",
    "#pd.value_counts(stage_is_tru_rape_call.event_clearing).plot.bar(stacked=True)\n",
    "\n",
    "# All TRU rape calls' resolution, grouped by year\n",
    "stage_is_tru_rape_call.groupby('event_clearing').year.value_counts().unstack(0).plot.bar(stacked=False, figsize=(12,8))\n",
    "\n"
   ]
  },
  {
   "cell_type": "code",
   "execution_count": null,
   "metadata": {},
   "outputs": [],
   "source": [
    "# 2018 Q1 All calls with inital call type = TRU:\n",
    "# https://data.seattle.gov/d/j6ey-6rgk "
   ]
  },
  {
   "cell_type": "code",
   "execution_count": null,
   "metadata": {},
   "outputs": [],
   "source": []
  },
  {
   "cell_type": "code",
   "execution_count": 38,
   "metadata": {},
   "outputs": [
    {
     "data": {
      "text/html": [
       "<div>\n",
       "<style scoped>\n",
       "    .dataframe tbody tr th:only-of-type {\n",
       "        vertical-align: middle;\n",
       "    }\n",
       "\n",
       "    .dataframe tbody tr th {\n",
       "        vertical-align: top;\n",
       "    }\n",
       "\n",
       "    .dataframe thead th {\n",
       "        text-align: right;\n",
       "    }\n",
       "</style>\n",
       "<table border=\"1\" class=\"dataframe\">\n",
       "  <thead>\n",
       "    <tr style=\"text-align: right;\">\n",
       "      <th></th>\n",
       "      <th>event_clearing</th>\n",
       "      <th>call_type</th>\n",
       "      <th>priority</th>\n",
       "      <th>initial_call_type</th>\n",
       "      <th>final_call_type</th>\n",
       "      <th>original_time_queued</th>\n",
       "      <th>arrived_time</th>\n",
       "      <th>precinct</th>\n",
       "      <th>sector</th>\n",
       "      <th>beat</th>\n",
       "      <th>time_delta</th>\n",
       "      <th>year</th>\n",
       "      <th>month</th>\n",
       "    </tr>\n",
       "    <tr>\n",
       "      <th>CAD Event Number</th>\n",
       "      <th></th>\n",
       "      <th></th>\n",
       "      <th></th>\n",
       "      <th></th>\n",
       "      <th></th>\n",
       "      <th></th>\n",
       "      <th></th>\n",
       "      <th></th>\n",
       "      <th></th>\n",
       "      <th></th>\n",
       "      <th></th>\n",
       "      <th></th>\n",
       "      <th></th>\n",
       "    </tr>\n",
       "  </thead>\n",
       "  <tbody>\n",
       "    <tr>\n",
       "      <th>2010000000989</th>\n",
       "      <td>FOLLOW-UP REPORT MADE</td>\n",
       "      <td>ONVIEW</td>\n",
       "      <td>3</td>\n",
       "      <td>FOLLOW UP</td>\n",
       "      <td>--ASSAULTS - FIREARM INVOLVED</td>\n",
       "      <td>2010-01-01 20:17:12</td>\n",
       "      <td>2010-01-01 20:17:12</td>\n",
       "      <td>SOUTH</td>\n",
       "      <td>SAM</td>\n",
       "      <td>S1</td>\n",
       "      <td>0.0</td>\n",
       "      <td>2010</td>\n",
       "      <td>1</td>\n",
       "    </tr>\n",
       "    <tr>\n",
       "      <th>2010000008657</th>\n",
       "      <td>FOLLOW-UP REPORT MADE</td>\n",
       "      <td>ONVIEW</td>\n",
       "      <td>3</td>\n",
       "      <td>FOLLOW UP</td>\n",
       "      <td>--ASSAULTS - FIREARM INVOLVED</td>\n",
       "      <td>2010-01-08 17:00:34</td>\n",
       "      <td>2010-01-08 17:00:34</td>\n",
       "      <td>WEST</td>\n",
       "      <td>DAVID</td>\n",
       "      <td>D2</td>\n",
       "      <td>0.0</td>\n",
       "      <td>2010</td>\n",
       "      <td>1</td>\n",
       "    </tr>\n",
       "    <tr>\n",
       "      <th>2010000011589</th>\n",
       "      <td>REPORT WRITTEN (NO ARREST)</td>\n",
       "      <td>TELEPHONE OTHER, NOT 911</td>\n",
       "      <td>3</td>\n",
       "      <td>ASLT - PERSON SHOT OR SHOT AT</td>\n",
       "      <td>--ASSAULTS - FIREARM INVOLVED</td>\n",
       "      <td>2010-01-11 10:13:21</td>\n",
       "      <td>2010-01-11 11:44:32</td>\n",
       "      <td>EAST</td>\n",
       "      <td>GEORGE</td>\n",
       "      <td>G1</td>\n",
       "      <td>5471.0</td>\n",
       "      <td>2010</td>\n",
       "      <td>1</td>\n",
       "    </tr>\n",
       "    <tr>\n",
       "      <th>2010000014675</th>\n",
       "      <td>UNABLE TO LOCATE INCIDENT OR COMPLAINANT</td>\n",
       "      <td>ONVIEW</td>\n",
       "      <td>3</td>\n",
       "      <td>FOLLOW UP</td>\n",
       "      <td>--ASSAULTS - FIREARM INVOLVED</td>\n",
       "      <td>2010-01-13 21:48:50</td>\n",
       "      <td>2010-01-13 21:48:50</td>\n",
       "      <td>UNKNOWN</td>\n",
       "      <td>NaN</td>\n",
       "      <td>LAPT</td>\n",
       "      <td>0.0</td>\n",
       "      <td>2010</td>\n",
       "      <td>1</td>\n",
       "    </tr>\n",
       "    <tr>\n",
       "      <th>2010000014715</th>\n",
       "      <td>UNABLE TO LOCATE INCIDENT OR COMPLAINANT</td>\n",
       "      <td>ONVIEW</td>\n",
       "      <td>3</td>\n",
       "      <td>FOLLOW UP</td>\n",
       "      <td>--ASSAULTS - FIREARM INVOLVED</td>\n",
       "      <td>2010-01-13 22:24:19</td>\n",
       "      <td>2010-01-13 22:24:19</td>\n",
       "      <td>UNKNOWN</td>\n",
       "      <td>NaN</td>\n",
       "      <td>LAPT</td>\n",
       "      <td>0.0</td>\n",
       "      <td>2010</td>\n",
       "      <td>1</td>\n",
       "    </tr>\n",
       "  </tbody>\n",
       "</table>\n",
       "</div>"
      ],
      "text/plain": [
       "                                            event_clearing  \\\n",
       "CAD Event Number                                             \n",
       "2010000000989                        FOLLOW-UP REPORT MADE   \n",
       "2010000008657                        FOLLOW-UP REPORT MADE   \n",
       "2010000011589                   REPORT WRITTEN (NO ARREST)   \n",
       "2010000014675     UNABLE TO LOCATE INCIDENT OR COMPLAINANT   \n",
       "2010000014715     UNABLE TO LOCATE INCIDENT OR COMPLAINANT   \n",
       "\n",
       "                                 call_type  priority  \\\n",
       "CAD Event Number                                       \n",
       "2010000000989                       ONVIEW         3   \n",
       "2010000008657                       ONVIEW         3   \n",
       "2010000011589     TELEPHONE OTHER, NOT 911         3   \n",
       "2010000014675                       ONVIEW         3   \n",
       "2010000014715                       ONVIEW         3   \n",
       "\n",
       "                              initial_call_type  \\\n",
       "CAD Event Number                                  \n",
       "2010000000989                         FOLLOW UP   \n",
       "2010000008657                         FOLLOW UP   \n",
       "2010000011589     ASLT - PERSON SHOT OR SHOT AT   \n",
       "2010000014675                         FOLLOW UP   \n",
       "2010000014715                         FOLLOW UP   \n",
       "\n",
       "                                final_call_type original_time_queued  \\\n",
       "CAD Event Number                                                       \n",
       "2010000000989     --ASSAULTS - FIREARM INVOLVED  2010-01-01 20:17:12   \n",
       "2010000008657     --ASSAULTS - FIREARM INVOLVED  2010-01-08 17:00:34   \n",
       "2010000011589     --ASSAULTS - FIREARM INVOLVED  2010-01-11 10:13:21   \n",
       "2010000014675     --ASSAULTS - FIREARM INVOLVED  2010-01-13 21:48:50   \n",
       "2010000014715     --ASSAULTS - FIREARM INVOLVED  2010-01-13 22:24:19   \n",
       "\n",
       "                        arrived_time precinct  sector  beat  time_delta  year  \\\n",
       "CAD Event Number                                                                \n",
       "2010000000989    2010-01-01 20:17:12    SOUTH     SAM    S1         0.0  2010   \n",
       "2010000008657    2010-01-08 17:00:34     WEST   DAVID    D2         0.0  2010   \n",
       "2010000011589    2010-01-11 11:44:32     EAST  GEORGE    G1      5471.0  2010   \n",
       "2010000014675    2010-01-13 21:48:50  UNKNOWN     NaN  LAPT         0.0  2010   \n",
       "2010000014715    2010-01-13 22:24:19  UNKNOWN     NaN  LAPT         0.0  2010   \n",
       "\n",
       "                  month  \n",
       "CAD Event Number         \n",
       "2010000000989         1  \n",
       "2010000008657         1  \n",
       "2010000011589         1  \n",
       "2010000014675         1  \n",
       "2010000014715         1  "
      ]
     },
     "execution_count": 38,
     "metadata": {},
     "output_type": "execute_result"
    }
   ],
   "source": [
    "# List p3 assault firearm calls\n",
    "\n",
    "is_priority3[is_priority3.final_call_type.str.contains(\"ASSAULTS - FIREARM\")].head()"
   ]
  },
  {
   "cell_type": "markdown",
   "metadata": {},
   "source": [
    "## Explore...?"
   ]
  },
  {
   "cell_type": "code",
   "execution_count": 39,
   "metadata": {},
   "outputs": [
    {
     "data": {
      "text/plain": [
       "<matplotlib.axes._subplots.AxesSubplot at 0x120940e80>"
      ]
     },
     "execution_count": 39,
     "metadata": {},
     "output_type": "execute_result"
    },
    {
     "data": {
      "image/png": "[encoded data removed]",
      "text/plain": [
       "<Figure size 720x360 with 1 Axes>"
      ]
     },
     "metadata": {
      "needs_background": "light"
     },
     "output_type": "display_data"
    }
   ],
   "source": [
    "# Stacked bar chart showing all reported rapes by year\n",
    "\n",
    "stage_is_rape_cfs.groupby('final_call_type').year.value_counts().unstack(0).plot.bar(stacked=True, figsize=(10,5))\n"
   ]
  },
  {
   "cell_type": "code",
   "execution_count": 40,
   "metadata": {},
   "outputs": [
    {
     "data": {
      "text/plain": [
       "<matplotlib.axes._subplots.AxesSubplot at 0x120b2ce48>"
      ]
     },
     "execution_count": 40,
     "metadata": {},
     "output_type": "execute_result"
    },
    {
     "data": {
      "image/png": "[encoded data removed]",
      "text/plain": [
       "<Figure size 864x576 with 1 Axes>"
      ]
     },
     "metadata": {
      "needs_background": "light"
     },
     "output_type": "display_data"
    }
   ],
   "source": [
    "# Stacked bar chart showing all sex crimes by month/year\n",
    "\n",
    "stage_is_sexual_assault.groupby('final_call_type').year.value_counts().unstack(0).plot.bar(stacked=True, figsize=(12,8))\n",
    "#stage_is_sexual_assault.groupby('final_call_type').month.value_counts().unstack(0).plot.bar(stacked=True, figsize=(12,8))\n"
   ]
  },
  {
   "cell_type": "markdown",
   "metadata": {},
   "source": [
    "## Explore geography of call data"
   ]
  },
  {
   "cell_type": "code",
   "execution_count": 41,
   "metadata": {},
   "outputs": [
    {
     "data": {
      "text/plain": [
       "<matplotlib.axes._subplots.AxesSubplot at 0x120dcfba8>"
      ]
     },
     "execution_count": 41,
     "metadata": {},
     "output_type": "execute_result"
    },
    {
     "data": {
      "image/png": "[encoded data removed]",
      "text/plain": [
       "<Figure size 720x360 with 1 Axes>"
      ]
     },
     "metadata": {
      "needs_background": "light"
     },
     "output_type": "display_data"
    }
   ],
   "source": [
    "# Plot all rapes by precinct - total 2010-2018\n",
    "# Add line graph overlay of population that lives in each of these precinct. Unsure of unit of measurement for this\n",
    "stage_is_rape_cfs.groupby('final_call_type').precinct.value_counts().unstack(0).plot.bar(stacked=True, figsize=(10,5))\n"
   ]
  },
  {
   "cell_type": "code",
   "execution_count": 42,
   "metadata": {},
   "outputs": [
    {
     "data": {
      "text/plain": [
       "<matplotlib.axes._subplots.AxesSubplot at 0x120fb5b00>"
      ]
     },
     "execution_count": 42,
     "metadata": {},
     "output_type": "execute_result"
    },
    {
     "data": {
      "image/png": "[encoded data removed]",
      "text/plain": [
       "<Figure size 432x288 with 1 Axes>"
      ]
     },
     "metadata": {
      "needs_background": "light"
     },
     "output_type": "display_data"
    }
   ],
   "source": [
    "# Plot all sexual assaults by precinct - total 2010-2018\n",
    "\n",
    "pd.value_counts(stage_is_sexual_assault.precinct).plot.bar()\n"
   ]
  },
  {
   "cell_type": "code",
   "execution_count": 53,
   "metadata": {},
   "outputs": [
    {
     "data": {
      "text/plain": [
       "<matplotlib.axes._subplots.AxesSubplot at 0x121a4b630>"
      ]
     },
     "execution_count": 53,
     "metadata": {},
     "output_type": "execute_result"
    },
    {
     "data": {
      "image/png": "[encoded data removed]",
      "text/plain": [
       "<Figure size 864x576 with 1 Axes>"
      ]
     },
     "metadata": {
      "needs_background": "light"
     },
     "output_type": "display_data"
    }
   ],
   "source": [
    "# Plot all reported rapes for each precinct - by year\n",
    "\n",
    "stage_is_rape_cfs.groupby('year').precinct.value_counts().unstack(0).plot.bar(stacked=False, figsize=(12,8))\n"
   ]
  },
  {
   "cell_type": "code",
   "execution_count": 43,
   "metadata": {},
   "outputs": [
    {
     "data": {
      "text/plain": [
       "<matplotlib.axes._subplots.AxesSubplot at 0x1210e0f28>"
      ]
     },
     "execution_count": 43,
     "metadata": {},
     "output_type": "execute_result"
    },
    {
     "data": {
      "image/png": "[encoded data removed]",
      "text/plain": [
       "<Figure size 1080x576 with 1 Axes>"
      ]
     },
     "metadata": {
      "needs_background": "light"
     },
     "output_type": "display_data"
    }
   ],
   "source": [
    "# Plot all sexual assaults by precinct - total 2010-2018\n",
    "\n",
    "stage_is_sexual_assault.groupby('final_call_type').precinct.value_counts().unstack(0).plot.bar(stacked=False, figsize=(15,8))\n"
   ]
  },
  {
   "cell_type": "code",
   "execution_count": 44,
   "metadata": {},
   "outputs": [
    {
     "data": {
      "text/plain": [
       "<matplotlib.axes._subplots.AxesSubplot at 0x12123ea90>"
      ]
     },
     "execution_count": 44,
     "metadata": {},
     "output_type": "execute_result"
    },
    {
     "data": {
      "image/png": "[encoded data removed]",
      "text/plain": [
       "<Figure size 1080x576 with 1 Axes>"
      ]
     },
     "metadata": {
      "needs_background": "light"
     },
     "output_type": "display_data"
    }
   ],
   "source": [
    "# Plot lewd conduct by precinct - by year\n",
    "\n",
    "stage_is_lewd_conduct.groupby('year').precinct.value_counts().unstack(0).plot.bar(stacked=False, figsize=(15,8))\n"
   ]
  },
  {
   "cell_type": "code",
   "execution_count": 45,
   "metadata": {},
   "outputs": [
    {
     "data": {
      "text/plain": [
       "<matplotlib.axes._subplots.AxesSubplot at 0x121327dd8>"
      ]
     },
     "execution_count": 45,
     "metadata": {},
     "output_type": "execute_result"
    },
    {
     "data": {
      "image/png": "[encoded data removed]",
      "text/plain": [
       "<Figure size 1080x576 with 1 Axes>"
      ]
     },
     "metadata": {
      "needs_background": "light"
     },
     "output_type": "display_data"
    }
   ],
   "source": [
    "# Plot lewd conduct by precinct - total 2010-2018\n",
    "\n",
    "pd.value_counts(stage_is_lewd_conduct.precinct).plot.bar(figsize=(15,8))\n"
   ]
  },
  {
   "cell_type": "markdown",
   "metadata": {},
   "source": [
    "### Explore call resolutions for rapes vs other violent crimes"
   ]
  },
  {
   "cell_type": "code",
   "execution_count": 46,
   "metadata": {},
   "outputs": [
    {
     "data": {
      "text/plain": [
       "<matplotlib.axes._subplots.AxesSubplot at 0x1217b2780>"
      ]
     },
     "execution_count": 46,
     "metadata": {},
     "output_type": "execute_result"
    },
    {
     "data": {
      "image/png": "[encoded data removed]",
      "text/plain": [
       "<Figure size 864x576 with 1 Axes>"
      ]
     },
     "metadata": {
      "needs_background": "light"
     },
     "output_type": "display_data"
    },
    {
     "data": {
      "image/png": "[encoded data removed]",
      "text/plain": [
       "<Figure size 864x576 with 1 Axes>"
      ]
     },
     "metadata": {
      "needs_background": "light"
     },
     "output_type": "display_data"
    }
   ],
   "source": [
    "# Chart resolutions for rapes vs all other violent crimes, for all years\n",
    "\n",
    "# All violent crime calls' resolution, years 2010-2018\n",
    "pd.value_counts(stage_is_violent_crime.event_clearing).head(10).plot.bar(stacked=True,figsize=(12,8))\n",
    "\n",
    "# All violent crime calls' resolution, grouped by year\n",
    "stage_is_violent_crime.groupby('event_clearing').year.value_counts().unstack(0).plot.bar(stacked=False, figsize=(12,8))\n",
    "#stage_is_violent_crime.groupby('event_clearing').year.value_counts()[:35].unstack(0).plot.bar(stacked=False, figsize=(12,8))\n",
    "\n",
    "#pd.value_counts(stage_is_violent_crime.event_clearing).reindex(['PHYSICAL ARREST MADE', 'ASSISTANCE RENDERED']).year.value_counts().unstack(0).plot.bar()\n"
   ]
  },
  {
   "cell_type": "code",
   "execution_count": 47,
   "metadata": {},
   "outputs": [
    {
     "data": {
      "text/plain": [
       "<matplotlib.axes._subplots.AxesSubplot at 0x1221efb00>"
      ]
     },
     "execution_count": 47,
     "metadata": {},
     "output_type": "execute_result"
    },
    {
     "data": {
      "image/png": "[encoded data removed]",
      "text/plain": [
       "<Figure size 432x288 with 1 Axes>"
      ]
     },
     "metadata": {
      "needs_background": "light"
     },
     "output_type": "display_data"
    }
   ],
   "source": [
    "# Chart resolutions for rapes & violent crime - all years combined\n",
    "\n",
    "# Show count of top 5 clearing codes for all rapes - all years combines\n",
    "pd.value_counts(stage_is_rape_cfs.event_clearing).head(5).plot.bar(stacked=True, title=\"Top CC's for rape calls, all yrs\")\n",
    "\n",
    "# Show count of top 5 clearing codes for all violent crimes - all years combines\n",
    "pd.value_counts(stage_is_violent_crime.event_clearing).head(5).plot.bar(stacked=True, title=\"Top CC's for violent crime calls, all yrs\")\n",
    "\n"
   ]
  },
  {
   "cell_type": "code",
   "execution_count": 48,
   "metadata": {},
   "outputs": [
    {
     "data": {
      "text/plain": [
       "<matplotlib.axes._subplots.AxesSubplot at 0x1226cff28>"
      ]
     },
     "execution_count": 48,
     "metadata": {},
     "output_type": "execute_result"
    },
    {
     "data": {
      "image/png": "[encoded data removed]",
      "text/plain": [
       "<Figure size 1080x576 with 1 Axes>"
      ]
     },
     "metadata": {
      "needs_background": "light"
     },
     "output_type": "display_data"
    },
    {
     "data": {
      "image/png": "[encoded data removed]",
      "text/plain": [
       "<Figure size 1080x864 with 1 Axes>"
      ]
     },
     "metadata": {
      "needs_background": "light"
     },
     "output_type": "display_data"
    }
   ],
   "source": [
    "#Show count of top 5 clearing codes for all rapes, by each year\n",
    "stage_top_cc_rape.groupby('event_clearing').year.value_counts().unstack(0).plot.bar(stacked=False, figsize=(15,8), title=\"Top CC's for all rape calls, by year\")\n",
    "\n",
    "#Show count of top 5 clearing codes for all violent crimes, by each year\n",
    "stage_top_cc_violent_crimes.groupby('event_clearing').year.value_counts().unstack(0).plot.bar(stacked=False, figsize=(15,12), title=\"Top CC's for violent crime calls, by year\")"
   ]
  },
  {
   "cell_type": "code",
   "execution_count": 49,
   "metadata": {},
   "outputs": [
    {
     "data": {
      "text/html": [
       "<div>\n",
       "<style scoped>\n",
       "    .dataframe tbody tr th:only-of-type {\n",
       "        vertical-align: middle;\n",
       "    }\n",
       "\n",
       "    .dataframe tbody tr th {\n",
       "        vertical-align: top;\n",
       "    }\n",
       "\n",
       "    .dataframe thead th {\n",
       "        text-align: right;\n",
       "    }\n",
       "</style>\n",
       "<table border=\"1\" class=\"dataframe\">\n",
       "  <thead>\n",
       "    <tr style=\"text-align: right;\">\n",
       "      <th></th>\n",
       "      <th>event_clearing</th>\n",
       "      <th>call_type</th>\n",
       "      <th>priority</th>\n",
       "      <th>initial_call_type</th>\n",
       "      <th>final_call_type</th>\n",
       "      <th>original_time_queued</th>\n",
       "      <th>arrived_time</th>\n",
       "      <th>precinct</th>\n",
       "      <th>sector</th>\n",
       "      <th>beat</th>\n",
       "      <th>time_delta</th>\n",
       "      <th>year</th>\n",
       "      <th>month</th>\n",
       "    </tr>\n",
       "    <tr>\n",
       "      <th>CAD Event Number</th>\n",
       "      <th></th>\n",
       "      <th></th>\n",
       "      <th></th>\n",
       "      <th></th>\n",
       "      <th></th>\n",
       "      <th></th>\n",
       "      <th></th>\n",
       "      <th></th>\n",
       "      <th></th>\n",
       "      <th></th>\n",
       "      <th></th>\n",
       "      <th></th>\n",
       "      <th></th>\n",
       "    </tr>\n",
       "  </thead>\n",
       "  <tbody>\n",
       "    <tr>\n",
       "      <th>2010000000466</th>\n",
       "      <td>REPORT WRITTEN (NO ARREST)</td>\n",
       "      <td>TELEPHONE OTHER, NOT 911</td>\n",
       "      <td>3</td>\n",
       "      <td>RAPE</td>\n",
       "      <td>--RAPE - KNOWN SUSPECT (ACQUAINTANCE)</td>\n",
       "      <td>2010-01-01 06:28:49</td>\n",
       "      <td>2010-01-01 06:40:09</td>\n",
       "      <td>EAST</td>\n",
       "      <td>GEORGE</td>\n",
       "      <td>G1</td>\n",
       "      <td>680.0</td>\n",
       "      <td>2010</td>\n",
       "      <td>1</td>\n",
       "    </tr>\n",
       "    <tr>\n",
       "      <th>2010000000776</th>\n",
       "      <td>REPORT WRITTEN (NO ARREST)</td>\n",
       "      <td>911</td>\n",
       "      <td>3</td>\n",
       "      <td>RAPE</td>\n",
       "      <td>--RAPE - KNOWN SUSPECT (ACQUAINTANCE)</td>\n",
       "      <td>2010-01-01 15:05:57</td>\n",
       "      <td>2010-01-01 15:12:26</td>\n",
       "      <td>SOUTHWEST</td>\n",
       "      <td>FRANK</td>\n",
       "      <td>F3</td>\n",
       "      <td>389.0</td>\n",
       "      <td>2010</td>\n",
       "      <td>1</td>\n",
       "    </tr>\n",
       "    <tr>\n",
       "      <th>2010000000876</th>\n",
       "      <td>REPORT WRITTEN (NO ARREST)</td>\n",
       "      <td>ONVIEW</td>\n",
       "      <td>3</td>\n",
       "      <td>RAPE</td>\n",
       "      <td>--RAPE - UNKNOWN SUSPECT (STRANGER)</td>\n",
       "      <td>2010-01-01 17:28:02</td>\n",
       "      <td>2010-01-01 17:28:02</td>\n",
       "      <td>EAST</td>\n",
       "      <td>GEORGE</td>\n",
       "      <td>G1</td>\n",
       "      <td>0.0</td>\n",
       "      <td>2010</td>\n",
       "      <td>1</td>\n",
       "    </tr>\n",
       "    <tr>\n",
       "      <th>2010000001744</th>\n",
       "      <td>UNABLE TO LOCATE INCIDENT OR COMPLAINANT</td>\n",
       "      <td>911</td>\n",
       "      <td>3</td>\n",
       "      <td>RAPE</td>\n",
       "      <td>--RAPE - UNKNOWN SUSPECT (STRANGER)</td>\n",
       "      <td>2010-01-02 15:52:18</td>\n",
       "      <td>2010-01-02 16:41:47</td>\n",
       "      <td>WEST</td>\n",
       "      <td>DAVID</td>\n",
       "      <td>D1</td>\n",
       "      <td>2969.0</td>\n",
       "      <td>2010</td>\n",
       "      <td>1</td>\n",
       "    </tr>\n",
       "    <tr>\n",
       "      <th>2010000002783</th>\n",
       "      <td>REPORT WRITTEN (NO ARREST)</td>\n",
       "      <td>ONVIEW</td>\n",
       "      <td>7</td>\n",
       "      <td>SUSPICIOUS STOP - OFFICER INITIATED ONVIEW</td>\n",
       "      <td>--RAPE - KNOWN SUSPECT (ACQUAINTANCE)</td>\n",
       "      <td>2010-01-03 13:51:28</td>\n",
       "      <td>2010-01-03 13:51:28</td>\n",
       "      <td>SOUTH</td>\n",
       "      <td>SAM</td>\n",
       "      <td>S3</td>\n",
       "      <td>0.0</td>\n",
       "      <td>2010</td>\n",
       "      <td>1</td>\n",
       "    </tr>\n",
       "  </tbody>\n",
       "</table>\n",
       "</div>"
      ],
      "text/plain": [
       "                                            event_clearing  \\\n",
       "CAD Event Number                                             \n",
       "2010000000466                   REPORT WRITTEN (NO ARREST)   \n",
       "2010000000776                   REPORT WRITTEN (NO ARREST)   \n",
       "2010000000876                   REPORT WRITTEN (NO ARREST)   \n",
       "2010000001744     UNABLE TO LOCATE INCIDENT OR COMPLAINANT   \n",
       "2010000002783                   REPORT WRITTEN (NO ARREST)   \n",
       "\n",
       "                                 call_type  priority  \\\n",
       "CAD Event Number                                       \n",
       "2010000000466     TELEPHONE OTHER, NOT 911         3   \n",
       "2010000000776                          911         3   \n",
       "2010000000876                       ONVIEW         3   \n",
       "2010000001744                          911         3   \n",
       "2010000002783                       ONVIEW         7   \n",
       "\n",
       "                                           initial_call_type  \\\n",
       "CAD Event Number                                               \n",
       "2010000000466                                           RAPE   \n",
       "2010000000776                                           RAPE   \n",
       "2010000000876                                           RAPE   \n",
       "2010000001744                                           RAPE   \n",
       "2010000002783     SUSPICIOUS STOP - OFFICER INITIATED ONVIEW   \n",
       "\n",
       "                                        final_call_type original_time_queued  \\\n",
       "CAD Event Number                                                               \n",
       "2010000000466     --RAPE - KNOWN SUSPECT (ACQUAINTANCE)  2010-01-01 06:28:49   \n",
       "2010000000776     --RAPE - KNOWN SUSPECT (ACQUAINTANCE)  2010-01-01 15:05:57   \n",
       "2010000000876       --RAPE - UNKNOWN SUSPECT (STRANGER)  2010-01-01 17:28:02   \n",
       "2010000001744       --RAPE - UNKNOWN SUSPECT (STRANGER)  2010-01-02 15:52:18   \n",
       "2010000002783     --RAPE - KNOWN SUSPECT (ACQUAINTANCE)  2010-01-03 13:51:28   \n",
       "\n",
       "                        arrived_time   precinct  sector beat  time_delta  \\\n",
       "CAD Event Number                                                           \n",
       "2010000000466    2010-01-01 06:40:09       EAST  GEORGE   G1       680.0   \n",
       "2010000000776    2010-01-01 15:12:26  SOUTHWEST   FRANK   F3       389.0   \n",
       "2010000000876    2010-01-01 17:28:02       EAST  GEORGE   G1         0.0   \n",
       "2010000001744    2010-01-02 16:41:47       WEST   DAVID   D1      2969.0   \n",
       "2010000002783    2010-01-03 13:51:28      SOUTH     SAM   S3         0.0   \n",
       "\n",
       "                  year  month  \n",
       "CAD Event Number               \n",
       "2010000000466     2010      1  \n",
       "2010000000776     2010      1  \n",
       "2010000000876     2010      1  \n",
       "2010000001744     2010      1  \n",
       "2010000002783     2010      1  "
      ]
     },
     "execution_count": 49,
     "metadata": {},
     "output_type": "execute_result"
    }
   ],
   "source": [
    "stage_is_rape_cfs.head()"
   ]
  },
  {
   "cell_type": "markdown",
   "metadata": {},
   "source": [
    "\n",
    "### Explore % of arrests v. reports written - all rapes v. violent crimes"
   ]
  },
  {
   "cell_type": "code",
   "execution_count": 50,
   "metadata": {},
   "outputs": [
    {
     "data": {
      "text/plain": [
       "event_clearing          3777\n",
       "call_type               3777\n",
       "priority                3777\n",
       "initial_call_type       3777\n",
       "final_call_type         3777\n",
       "original_time_queued    3777\n",
       "arrived_time            3777\n",
       "precinct                3777\n",
       "sector                  3588\n",
       "beat                    3777\n",
       "time_delta              3777\n",
       "year                    3777\n",
       "month                   3777\n",
       "dtype: int64"
      ]
     },
     "execution_count": 50,
     "metadata": {},
     "output_type": "execute_result"
    }
   ],
   "source": [
    "# Create df for calculating percentages\n",
    "\n",
    "stage_is_rape_cfs.count()\n",
    "\n",
    "# percentage_df = pd.DataFrame()\n",
    "# delete??\n",
    "\n"
   ]
  },
  {
   "cell_type": "code",
   "execution_count": 68,
   "metadata": {},
   "outputs": [],
   "source": [
    "# Show % of rape calls that are arrests vs reports written\n",
    "\n",
    "# Model: df.groupby('A').size() * 100 / len(df)\n",
    "\n",
    "# below only doing count\n",
    "# pd.value_counts(stage_is_rape_cfs.event_clearing).head(3).plot.bar(title=\"tbd\")\n",
    "#rape_arrest = stage_is_rape_cfs.event_clearing.str.contains(\"PHYSICAL ARREST MADE\")\n",
    "\n",
    "\n",
    "# Calculate percentage of rape calls that result in arrest\n",
    "rape_arrest_percentage = stage_is_rape_arrest.groupby(\"event_clearing\").size() * 100 / len(stage_is_rape_cfs.event_clearing)\n",
    "\n",
    "\n",
    "# Calculate percentage of rape calls that result in report written\n",
    "rape_report_percentage = stage_is_rape_report.groupby(\"event_clearing\").size() * 100 / len(stage_is_rape_cfs.event_clearing)\n",
    "\n",
    "#sns.barplot(x='event_clearing', y='year', data=stage_is_rape_cfs, estimator=lambda x: sum(x==0)*100.0/len(x))\n",
    "\n",
    "\n",
    "# Show % of violent crime calls that are arrests vs reports written\n",
    "\n",
    "# Calculate percentage of violent crime calls that result in report written\n",
    "violent_crime_report_percentage = stage_is_violent_crime_report.groupby(\"event_clearing\").size() * 100 / len(stage_is_violent_crime.event_clearing)\n",
    "\n",
    "# Calculate percentage of violent crime calls that result in arrest\n",
    "violent_crime_arrest_percentage = stage_is_violent_crime_arrest.groupby(\"event_clearing\").size() * 100 / len(stage_is_violent_crime.event_clearing)\n",
    "\n",
    "\n",
    "\n"
   ]
  },
  {
   "cell_type": "code",
   "execution_count": 69,
   "metadata": {},
   "outputs": [
    {
     "data": {
      "text/plain": [
       "event_clearing\n",
       "FOLLOW-UP REPORT MADE          8.551761\n",
       "OTHER REPORT MADE              0.529521\n",
       "REPORT WRITTEN (NO ARREST)    74.688907\n",
       "dtype: float64"
      ]
     },
     "execution_count": 69,
     "metadata": {},
     "output_type": "execute_result"
    }
   ],
   "source": [
    "rape_report_percentage"
   ]
  },
  {
   "cell_type": "code",
   "execution_count": 60,
   "metadata": {},
   "outputs": [
    {
     "data": {
      "text/plain": [
       "event_clearing\n",
       "PHYSICAL ARREST MADE    6.248345\n",
       "dtype: float64"
      ]
     },
     "execution_count": 60,
     "metadata": {},
     "output_type": "execute_result"
    }
   ],
   "source": [
    "rape_arrest_percentage"
   ]
  },
  {
   "cell_type": "code",
   "execution_count": 65,
   "metadata": {},
   "outputs": [
    {
     "data": {
      "text/plain": [
       "event_clearing\n",
       "FOLLOW-UP REPORT MADE         18.386590\n",
       "OTHER REPORT MADE              1.267679\n",
       "REPORT WRITTEN (NO ARREST)    53.253012\n",
       "dtype: float64"
      ]
     },
     "execution_count": 65,
     "metadata": {},
     "output_type": "execute_result"
    }
   ],
   "source": [
    "violent_crime_report_percentage"
   ]
  },
  {
   "cell_type": "code",
   "execution_count": 66,
   "metadata": {},
   "outputs": [
    {
     "data": {
      "text/plain": [
       "event_clearing\n",
       "PHYSICAL ARREST MADE    11.136721\n",
       "dtype: float64"
      ]
     },
     "execution_count": 66,
     "metadata": {},
     "output_type": "execute_result"
    }
   ],
   "source": [
    "violent_crime_arrest_percentage"
   ]
  },
  {
   "cell_type": "code",
   "execution_count": null,
   "metadata": {},
   "outputs": [],
   "source": []
  },
  {
   "cell_type": "code",
   "execution_count": 66,
   "metadata": {},
   "outputs": [],
   "source": [
    "\n",
    "# Viz: line chart or column chart or stacked area chart (final) of % arrests rape vs violent crimes - over the 9 years\n",
    "# Viz: line chart or column chart or stacked area chart (final) of % report written rape vs violent crimes - - over the 9 years\n",
    "\n"
   ]
  },
  {
   "cell_type": "code",
   "execution_count": null,
   "metadata": {},
   "outputs": [],
   "source": [
    "# Compare CC's for rape calls and violent crime calls\n"
   ]
  }
 ],
 "metadata": {
  "kernelspec": {
   "display_name": "Python 3",
   "language": "python",
   "name": "python3"
  },
  "language_info": {
   "codemirror_mode": {
    "name": "ipython",
    "version": 3
   },
   "file_extension": ".py",
   "mimetype": "text/x-python",
   "name": "python",
   "nbconvert_exporter": "python",
   "pygments_lexer": "ipython3",
   "version": "3.6.0"
  }
 },
 "nbformat": 4,
 "nbformat_minor": 2
}
