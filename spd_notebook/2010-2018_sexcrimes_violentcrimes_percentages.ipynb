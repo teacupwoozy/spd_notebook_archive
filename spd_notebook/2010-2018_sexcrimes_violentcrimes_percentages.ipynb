{
 "cells": [
  {
   "cell_type": "code",
   "execution_count": 107,
   "metadata": {},
   "outputs": [],
   "source": [
    "import pandas as pd\n",
    "import numpy as np\n",
    "import matplotlib.pyplot as plt\n",
    "import plotly.plotly as py\n",
    "import seaborn as sns"
   ]
  },
  {
   "cell_type": "code",
   "execution_count": 2,
   "metadata": {},
   "outputs": [],
   "source": [
    "%matplotlib inline"
   ]
  },
  {
   "cell_type": "code",
   "execution_count": 3,
   "metadata": {},
   "outputs": [
    {
     "data": {
      "text/html": [
       "<div>\n",
       "<style scoped>\n",
       "    .dataframe tbody tr th:only-of-type {\n",
       "        vertical-align: middle;\n",
       "    }\n",
       "\n",
       "    .dataframe tbody tr th {\n",
       "        vertical-align: top;\n",
       "    }\n",
       "\n",
       "    .dataframe thead th {\n",
       "        text-align: right;\n",
       "    }\n",
       "</style>\n",
       "<table border=\"1\" class=\"dataframe\">\n",
       "  <thead>\n",
       "    <tr style=\"text-align: right;\">\n",
       "      <th></th>\n",
       "      <th>Event Clearance Description</th>\n",
       "      <th>Call Type</th>\n",
       "      <th>Priority</th>\n",
       "      <th>Initial Call Type</th>\n",
       "      <th>Final Call Type</th>\n",
       "      <th>Original Time Queued</th>\n",
       "      <th>Arrived Time</th>\n",
       "      <th>Precinct</th>\n",
       "      <th>Sector</th>\n",
       "      <th>Beat</th>\n",
       "    </tr>\n",
       "    <tr>\n",
       "      <th>CAD Event Number</th>\n",
       "      <th></th>\n",
       "      <th></th>\n",
       "      <th></th>\n",
       "      <th></th>\n",
       "      <th></th>\n",
       "      <th></th>\n",
       "      <th></th>\n",
       "      <th></th>\n",
       "      <th></th>\n",
       "      <th></th>\n",
       "    </tr>\n",
       "  </thead>\n",
       "  <tbody>\n",
       "    <tr>\n",
       "      <th>2010000066820</th>\n",
       "      <td>ASSISTANCE RENDERED</td>\n",
       "      <td>911</td>\n",
       "      <td>2</td>\n",
       "      <td>MENTAL - PERSON OR PICKUP/TRANSPORT</td>\n",
       "      <td>--SEX OFFENSES (NON-RAPE) - LEWD CONDUCT</td>\n",
       "      <td>02/27/2010 10:54:25 PM</td>\n",
       "      <td>Feb 27 2010 10:55:45:000PM</td>\n",
       "      <td>NORTH</td>\n",
       "      <td>UNION</td>\n",
       "      <td>U1</td>\n",
       "    </tr>\n",
       "    <tr>\n",
       "      <th>2010000000327</th>\n",
       "      <td>PHYSICAL ARREST MADE</td>\n",
       "      <td>911</td>\n",
       "      <td>1</td>\n",
       "      <td>ASLT - IP/JO - WITH OR W/O WPNS (NO SHOOTINGS)</td>\n",
       "      <td>--ASSAULTS - FIREARM INVOLVED</td>\n",
       "      <td>01/01/2010 03:13:06 AM</td>\n",
       "      <td>Jan  1 2010 03:14:51:000AM</td>\n",
       "      <td>SOUTH</td>\n",
       "      <td>ROBERT</td>\n",
       "      <td>R3</td>\n",
       "    </tr>\n",
       "    <tr>\n",
       "      <th>2010000000451</th>\n",
       "      <td>REPORT WRITTEN (NO ARREST)</td>\n",
       "      <td>911</td>\n",
       "      <td>2</td>\n",
       "      <td>THEFT OF SERVICES</td>\n",
       "      <td>--ROBBERY - ARMED</td>\n",
       "      <td>01/01/2010 05:46:54 AM</td>\n",
       "      <td>Jan  1 2010 06:39:35:000AM</td>\n",
       "      <td>NORTH</td>\n",
       "      <td>UNION</td>\n",
       "      <td>U1</td>\n",
       "    </tr>\n",
       "    <tr>\n",
       "      <th>2010000000466</th>\n",
       "      <td>REPORT WRITTEN (NO ARREST)</td>\n",
       "      <td>TELEPHONE OTHER, NOT 911</td>\n",
       "      <td>3</td>\n",
       "      <td>RAPE</td>\n",
       "      <td>--RAPE - KNOWN SUSPECT (ACQUAINTANCE)</td>\n",
       "      <td>01/01/2010 06:28:49 AM</td>\n",
       "      <td>Jan  1 2010 06:40:09:000AM</td>\n",
       "      <td>EAST</td>\n",
       "      <td>GEORGE</td>\n",
       "      <td>G1</td>\n",
       "    </tr>\n",
       "    <tr>\n",
       "      <th>2010000000776</th>\n",
       "      <td>REPORT WRITTEN (NO ARREST)</td>\n",
       "      <td>911</td>\n",
       "      <td>3</td>\n",
       "      <td>RAPE</td>\n",
       "      <td>--RAPE - KNOWN SUSPECT (ACQUAINTANCE)</td>\n",
       "      <td>01/01/2010 03:05:57 PM</td>\n",
       "      <td>Jan  1 2010 03:12:26:000PM</td>\n",
       "      <td>SOUTHWEST</td>\n",
       "      <td>FRANK</td>\n",
       "      <td>F3</td>\n",
       "    </tr>\n",
       "  </tbody>\n",
       "</table>\n",
       "</div>"
      ],
      "text/plain": [
       "                 Event Clearance Description                 Call Type  \\\n",
       "CAD Event Number                                                         \n",
       "2010000066820            ASSISTANCE RENDERED                       911   \n",
       "2010000000327           PHYSICAL ARREST MADE                       911   \n",
       "2010000000451     REPORT WRITTEN (NO ARREST)                       911   \n",
       "2010000000466     REPORT WRITTEN (NO ARREST)  TELEPHONE OTHER, NOT 911   \n",
       "2010000000776     REPORT WRITTEN (NO ARREST)                       911   \n",
       "\n",
       "                  Priority                               Initial Call Type  \\\n",
       "CAD Event Number                                                             \n",
       "2010000066820            2             MENTAL - PERSON OR PICKUP/TRANSPORT   \n",
       "2010000000327            1  ASLT - IP/JO - WITH OR W/O WPNS (NO SHOOTINGS)   \n",
       "2010000000451            2                               THEFT OF SERVICES   \n",
       "2010000000466            3                                            RAPE   \n",
       "2010000000776            3                                            RAPE   \n",
       "\n",
       "                                           Final Call Type  \\\n",
       "CAD Event Number                                             \n",
       "2010000066820     --SEX OFFENSES (NON-RAPE) - LEWD CONDUCT   \n",
       "2010000000327                --ASSAULTS - FIREARM INVOLVED   \n",
       "2010000000451                            --ROBBERY - ARMED   \n",
       "2010000000466        --RAPE - KNOWN SUSPECT (ACQUAINTANCE)   \n",
       "2010000000776        --RAPE - KNOWN SUSPECT (ACQUAINTANCE)   \n",
       "\n",
       "                    Original Time Queued                Arrived Time  \\\n",
       "CAD Event Number                                                       \n",
       "2010000066820     02/27/2010 10:54:25 PM  Feb 27 2010 10:55:45:000PM   \n",
       "2010000000327     01/01/2010 03:13:06 AM  Jan  1 2010 03:14:51:000AM   \n",
       "2010000000451     01/01/2010 05:46:54 AM  Jan  1 2010 06:39:35:000AM   \n",
       "2010000000466     01/01/2010 06:28:49 AM  Jan  1 2010 06:40:09:000AM   \n",
       "2010000000776     01/01/2010 03:05:57 PM  Jan  1 2010 03:12:26:000PM   \n",
       "\n",
       "                   Precinct  Sector Beat  \n",
       "CAD Event Number                          \n",
       "2010000066820         NORTH   UNION   U1  \n",
       "2010000000327         SOUTH  ROBERT   R3  \n",
       "2010000000451         NORTH   UNION   U1  \n",
       "2010000000466          EAST  GEORGE   G1  \n",
       "2010000000776     SOUTHWEST   FRANK   F3  "
      ]
     },
     "execution_count": 3,
     "metadata": {},
     "output_type": "execute_result"
    }
   ],
   "source": [
    "# Import data and create df\n",
    "\n",
    "data = pd.read_csv(\"/Users/Stacy/Documents/WebDevelopment/projects/sexualAssault_datasets/2010-2018_sexcrimes_violentcrimes.csv\", index_col=\"CAD Event Number\")\n",
    "data = pd.DataFrame(data)\n",
    "data.head()"
   ]
  },
  {
   "cell_type": "code",
   "execution_count": 4,
   "metadata": {},
   "outputs": [
    {
     "data": {
      "text/html": [
       "<div>\n",
       "<style scoped>\n",
       "    .dataframe tbody tr th:only-of-type {\n",
       "        vertical-align: middle;\n",
       "    }\n",
       "\n",
       "    .dataframe tbody tr th {\n",
       "        vertical-align: top;\n",
       "    }\n",
       "\n",
       "    .dataframe thead th {\n",
       "        text-align: right;\n",
       "    }\n",
       "</style>\n",
       "<table border=\"1\" class=\"dataframe\">\n",
       "  <thead>\n",
       "    <tr style=\"text-align: right;\">\n",
       "      <th></th>\n",
       "      <th>event_clearing</th>\n",
       "      <th>call_type</th>\n",
       "      <th>priority</th>\n",
       "      <th>initial_call_type</th>\n",
       "      <th>final_call_type</th>\n",
       "      <th>original_time_queued</th>\n",
       "      <th>arrived_time</th>\n",
       "      <th>precinct</th>\n",
       "      <th>sector</th>\n",
       "      <th>beat</th>\n",
       "    </tr>\n",
       "    <tr>\n",
       "      <th>CAD Event Number</th>\n",
       "      <th></th>\n",
       "      <th></th>\n",
       "      <th></th>\n",
       "      <th></th>\n",
       "      <th></th>\n",
       "      <th></th>\n",
       "      <th></th>\n",
       "      <th></th>\n",
       "      <th></th>\n",
       "      <th></th>\n",
       "    </tr>\n",
       "  </thead>\n",
       "  <tbody>\n",
       "    <tr>\n",
       "      <th>2010000066820</th>\n",
       "      <td>ASSISTANCE RENDERED</td>\n",
       "      <td>911</td>\n",
       "      <td>2</td>\n",
       "      <td>MENTAL - PERSON OR PICKUP/TRANSPORT</td>\n",
       "      <td>--SEX OFFENSES (NON-RAPE) - LEWD CONDUCT</td>\n",
       "      <td>02/27/2010 10:54:25 PM</td>\n",
       "      <td>Feb 27 2010 10:55:45:000PM</td>\n",
       "      <td>NORTH</td>\n",
       "      <td>UNION</td>\n",
       "      <td>U1</td>\n",
       "    </tr>\n",
       "    <tr>\n",
       "      <th>2010000000327</th>\n",
       "      <td>PHYSICAL ARREST MADE</td>\n",
       "      <td>911</td>\n",
       "      <td>1</td>\n",
       "      <td>ASLT - IP/JO - WITH OR W/O WPNS (NO SHOOTINGS)</td>\n",
       "      <td>--ASSAULTS - FIREARM INVOLVED</td>\n",
       "      <td>01/01/2010 03:13:06 AM</td>\n",
       "      <td>Jan  1 2010 03:14:51:000AM</td>\n",
       "      <td>SOUTH</td>\n",
       "      <td>ROBERT</td>\n",
       "      <td>R3</td>\n",
       "    </tr>\n",
       "    <tr>\n",
       "      <th>2010000000451</th>\n",
       "      <td>REPORT WRITTEN (NO ARREST)</td>\n",
       "      <td>911</td>\n",
       "      <td>2</td>\n",
       "      <td>THEFT OF SERVICES</td>\n",
       "      <td>--ROBBERY - ARMED</td>\n",
       "      <td>01/01/2010 05:46:54 AM</td>\n",
       "      <td>Jan  1 2010 06:39:35:000AM</td>\n",
       "      <td>NORTH</td>\n",
       "      <td>UNION</td>\n",
       "      <td>U1</td>\n",
       "    </tr>\n",
       "    <tr>\n",
       "      <th>2010000000466</th>\n",
       "      <td>REPORT WRITTEN (NO ARREST)</td>\n",
       "      <td>TELEPHONE OTHER, NOT 911</td>\n",
       "      <td>3</td>\n",
       "      <td>RAPE</td>\n",
       "      <td>--RAPE - KNOWN SUSPECT (ACQUAINTANCE)</td>\n",
       "      <td>01/01/2010 06:28:49 AM</td>\n",
       "      <td>Jan  1 2010 06:40:09:000AM</td>\n",
       "      <td>EAST</td>\n",
       "      <td>GEORGE</td>\n",
       "      <td>G1</td>\n",
       "    </tr>\n",
       "    <tr>\n",
       "      <th>2010000000776</th>\n",
       "      <td>REPORT WRITTEN (NO ARREST)</td>\n",
       "      <td>911</td>\n",
       "      <td>3</td>\n",
       "      <td>RAPE</td>\n",
       "      <td>--RAPE - KNOWN SUSPECT (ACQUAINTANCE)</td>\n",
       "      <td>01/01/2010 03:05:57 PM</td>\n",
       "      <td>Jan  1 2010 03:12:26:000PM</td>\n",
       "      <td>SOUTHWEST</td>\n",
       "      <td>FRANK</td>\n",
       "      <td>F3</td>\n",
       "    </tr>\n",
       "  </tbody>\n",
       "</table>\n",
       "</div>"
      ],
      "text/plain": [
       "                              event_clearing                 call_type  \\\n",
       "CAD Event Number                                                         \n",
       "2010000066820            ASSISTANCE RENDERED                       911   \n",
       "2010000000327           PHYSICAL ARREST MADE                       911   \n",
       "2010000000451     REPORT WRITTEN (NO ARREST)                       911   \n",
       "2010000000466     REPORT WRITTEN (NO ARREST)  TELEPHONE OTHER, NOT 911   \n",
       "2010000000776     REPORT WRITTEN (NO ARREST)                       911   \n",
       "\n",
       "                  priority                               initial_call_type  \\\n",
       "CAD Event Number                                                             \n",
       "2010000066820            2             MENTAL - PERSON OR PICKUP/TRANSPORT   \n",
       "2010000000327            1  ASLT - IP/JO - WITH OR W/O WPNS (NO SHOOTINGS)   \n",
       "2010000000451            2                               THEFT OF SERVICES   \n",
       "2010000000466            3                                            RAPE   \n",
       "2010000000776            3                                            RAPE   \n",
       "\n",
       "                                           final_call_type  \\\n",
       "CAD Event Number                                             \n",
       "2010000066820     --SEX OFFENSES (NON-RAPE) - LEWD CONDUCT   \n",
       "2010000000327                --ASSAULTS - FIREARM INVOLVED   \n",
       "2010000000451                            --ROBBERY - ARMED   \n",
       "2010000000466        --RAPE - KNOWN SUSPECT (ACQUAINTANCE)   \n",
       "2010000000776        --RAPE - KNOWN SUSPECT (ACQUAINTANCE)   \n",
       "\n",
       "                    original_time_queued                arrived_time  \\\n",
       "CAD Event Number                                                       \n",
       "2010000066820     02/27/2010 10:54:25 PM  Feb 27 2010 10:55:45:000PM   \n",
       "2010000000327     01/01/2010 03:13:06 AM  Jan  1 2010 03:14:51:000AM   \n",
       "2010000000451     01/01/2010 05:46:54 AM  Jan  1 2010 06:39:35:000AM   \n",
       "2010000000466     01/01/2010 06:28:49 AM  Jan  1 2010 06:40:09:000AM   \n",
       "2010000000776     01/01/2010 03:05:57 PM  Jan  1 2010 03:12:26:000PM   \n",
       "\n",
       "                   precinct  sector beat  \n",
       "CAD Event Number                          \n",
       "2010000066820         NORTH   UNION   U1  \n",
       "2010000000327         SOUTH  ROBERT   R3  \n",
       "2010000000451         NORTH   UNION   U1  \n",
       "2010000000466          EAST  GEORGE   G1  \n",
       "2010000000776     SOUTHWEST   FRANK   F3  "
      ]
     },
     "execution_count": 4,
     "metadata": {},
     "output_type": "execute_result"
    }
   ],
   "source": [
    "# Rename columns to be pythonic\n",
    "\n",
    "data.columns = ['event_clearing', 'call_type', 'priority', \n",
    "                'initial_call_type', 'final_call_type', 'original_time_queued',\n",
    "               'arrived_time', 'precinct', 'sector', 'beat']\n",
    "\n",
    "data.head()"
   ]
  },
  {
   "cell_type": "code",
   "execution_count": 5,
   "metadata": {},
   "outputs": [],
   "source": [
    "# ID all calls cancelled by dispatch\n",
    "cancelled_calls = data[data.event_clearing.str.contains(\"CANCELLED\")]\n",
    "\n",
    "# Delete rows with cxl'd calls\n",
    "\n",
    "data = data[data.event_clearing != 'RESPONDING UNIT(S) CANCELLED BY RADIO']\n",
    "data = data[data.event_clearing != 'DUPLICATED OR CANCELLED BY RADIO']\n"
   ]
  },
  {
   "cell_type": "code",
   "execution_count": 6,
   "metadata": {},
   "outputs": [],
   "source": [
    "# Change original_time_queued to datetime\n",
    "data['original_time_queued'] = pd.to_datetime(data.original_time_queued)\n",
    "\n",
    "# Change arrived_time to datetime\n",
    "data['arrived_time'] = pd.to_datetime(data.arrived_time, format='%b %d %Y %I:%M:%S:%f%p')\n",
    "\n",
    "# Add time delta between original_time_queued and arrived_time\n",
    "data['time_delta'] = (data.arrived_time - data.original_time_queued)/np.timedelta64(1, 's')"
   ]
  },
  {
   "cell_type": "code",
   "execution_count": 7,
   "metadata": {},
   "outputs": [],
   "source": [
    "# Add columns for arrived year and month\n",
    "\n",
    "data['year'] = data.arrived_time.dt.year\n",
    "data['month'] = data.arrived_time.dt.month"
   ]
  },
  {
   "cell_type": "code",
   "execution_count": 8,
   "metadata": {},
   "outputs": [
    {
     "data": {
      "text/plain": [
       "2018    2827\n",
       "2016    2624\n",
       "2017    2543\n",
       "2015    2491\n",
       "2014    2170\n",
       "2012    2162\n",
       "2013    2159\n",
       "2011    2118\n",
       "2010    2010\n",
       "Name: year, dtype: int64"
      ]
     },
     "execution_count": 8,
     "metadata": {},
     "output_type": "execute_result"
    }
   ],
   "source": [
    "# For rows with bad arrived time: change month and year to original_time_queued\n",
    "# Where arrive_time year = 1900, change data.year and data.month to original_time_queued year\n",
    "\n",
    "mask = data.year < 1901\n",
    "column_name_year = 'year'\n",
    "column_name_month = 'month'\n",
    "data.loc[mask, column_name_year] = data.original_time_queued.dt.year\n",
    "data.loc[mask, column_name_month] = data.original_time_queued.dt.month\n",
    "\n",
    "\n",
    "data.year.value_counts()"
   ]
  },
  {
   "cell_type": "code",
   "execution_count": 9,
   "metadata": {},
   "outputs": [
    {
     "data": {
      "text/plain": [
       "['--SEX OFFENSES (NON-RAPE) - LEWD CONDUCT',\n",
       " '--ASSAULTS - FIREARM INVOLVED',\n",
       " '--ROBBERY - ARMED',\n",
       " '--RAPE - KNOWN SUSPECT (ACQUAINTANCE)',\n",
       " '--RAPE - UNKNOWN SUSPECT (STRANGER)',\n",
       " '--HOMICIDE',\n",
       " '--SEX OFFENSES (RAPE) - MOLESTING',\n",
       " '--KIDNAP - GENERAL',\n",
       " '--DRIVE BY SHOOTING - NO INJURIES',\n",
       " '--COMMERCIAL SEXUAL EXPLOITATION OF MINORS (CSEC)']"
      ]
     },
     "execution_count": 9,
     "metadata": {},
     "output_type": "execute_result"
    }
   ],
   "source": [
    "call_types = data['final_call_type'].unique().tolist()\n",
    "call_types"
   ]
  },
  {
   "cell_type": "code",
   "execution_count": 10,
   "metadata": {},
   "outputs": [],
   "source": [
    "# Define TRU initial call types\n",
    "TRU_call_types = [\n",
    "    'TRU - ASLT - WITH OR W/O WPNS (NO SHOOTINGS)',\n",
    "    'TRU - RAPE',\n",
    "    'TRU - LEWD CONDUCT',\n",
    "    'TRU - CHILD ABUSED, NEGLECTED',\n",
    "    'TRU - THREATS',\n",
    "    'TRU - ROBBERY',\n",
    "    'TRU - ASLT - MOLESTED ADULT (GROPED, FONDLED, ETC)',\n",
    "    'TRU - HARASSMENT',\n",
    "    'TRU - SEX IN PUBLIC',\n",
    "    'TRU - THEFT',\n",
    "    'TRU - FOLLOW UP',\n",
    "    'TRU - MVC - HIT AND RUN',\n",
    "    'TRU - LURING',\n",
    "    'TRU - FORGERY/CHKS/BUNCO/SCAMS/ID THEFT',\n",
    "    'TRU - SUSPICIOUS CIRCUMSTANCES']"
   ]
  },
  {
   "cell_type": "code",
   "execution_count": 11,
   "metadata": {},
   "outputs": [
    {
     "data": {
      "text/plain": [
       "['--RAPE - KNOWN SUSPECT (ACQUAINTANCE)',\n",
       " '--RAPE - UNKNOWN SUSPECT (STRANGER)']"
      ]
     },
     "execution_count": 11,
     "metadata": {},
     "output_type": "execute_result"
    }
   ],
   "source": [
    "# Define terms that id rape CFS\n",
    "rape_terms = 'STRANGER|ACQUAINTANCE'\n",
    "rape_call_types = [\n",
    "    '--RAPE - KNOWN SUSPECT (ACQUAINTANCE)',\n",
    "    '--RAPE - UNKNOWN SUSPECT (STRANGER)']\n",
    "\n",
    "rape_call_types"
   ]
  },
  {
   "cell_type": "code",
   "execution_count": 12,
   "metadata": {},
   "outputs": [
    {
     "data": {
      "text/plain": [
       "['--ASSAULTS - FIREARM INVOLVED',\n",
       " '--ROBBERY - ARMED',\n",
       " '--HOMICIDE',\n",
       " '--KIDNAP - GENERAL',\n",
       " '--DRIVE BY SHOOTING - NO INJURIES']"
      ]
     },
     "execution_count": 12,
     "metadata": {},
     "output_type": "execute_result"
    }
   ],
   "source": [
    "# Define terms that id other violent crimes\n",
    "violent_crime_call_types = [\n",
    "    '--ASSAULTS - FIREARM INVOLVED',\n",
    "    '--ROBBERY - ARMED',\n",
    "    '--HOMICIDE',\n",
    "    '--KIDNAP - GENERAL',\n",
    "    '--DRIVE BY SHOOTING - NO INJURIES']\n",
    "\n",
    "violent_crime_call_types"
   ]
  },
  {
   "cell_type": "code",
   "execution_count": 13,
   "metadata": {},
   "outputs": [],
   "source": [
    "# ID all clearing codes\n",
    "clearing_codes = data['event_clearing'].unique().tolist()\n",
    "# clearing_codes"
   ]
  },
  {
   "cell_type": "code",
   "execution_count": 14,
   "metadata": {},
   "outputs": [],
   "source": [
    "# ID arrest clearing codes\n",
    "\n",
    "arrest_cc = ['PHYSICAL ARREST MADE']"
   ]
  },
  {
   "cell_type": "code",
   "execution_count": 15,
   "metadata": {},
   "outputs": [],
   "source": [
    "# Add column identifying if there was an arrest\n",
    "\n",
    "data['is_arrest'] = np.where(data['event_clearing'].isin(arrest_cc), 'yes', 'no')"
   ]
  },
  {
   "cell_type": "code",
   "execution_count": 16,
   "metadata": {},
   "outputs": [],
   "source": [
    "# Add column identifying if this was A TRU call\n",
    "\n",
    "data['is_TRU'] = np.where(data['initial_call_type'].isin(TRU_call_types), 'yes', 'no')\n",
    "\n",
    "# data.is_TRU.unique().tolist()"
   ]
  },
  {
   "cell_type": "code",
   "execution_count": 17,
   "metadata": {},
   "outputs": [
    {
     "data": {
      "text/html": [
       "<div>\n",
       "<style scoped>\n",
       "    .dataframe tbody tr th:only-of-type {\n",
       "        vertical-align: middle;\n",
       "    }\n",
       "\n",
       "    .dataframe tbody tr th {\n",
       "        vertical-align: top;\n",
       "    }\n",
       "\n",
       "    .dataframe thead th {\n",
       "        text-align: right;\n",
       "    }\n",
       "</style>\n",
       "<table border=\"1\" class=\"dataframe\">\n",
       "  <thead>\n",
       "    <tr style=\"text-align: right;\">\n",
       "      <th></th>\n",
       "      <th>event_clearing</th>\n",
       "      <th>call_type</th>\n",
       "      <th>priority</th>\n",
       "      <th>initial_call_type</th>\n",
       "      <th>final_call_type</th>\n",
       "      <th>original_time_queued</th>\n",
       "      <th>arrived_time</th>\n",
       "      <th>precinct</th>\n",
       "      <th>sector</th>\n",
       "      <th>beat</th>\n",
       "      <th>time_delta</th>\n",
       "      <th>year</th>\n",
       "      <th>month</th>\n",
       "      <th>is_arrest</th>\n",
       "      <th>is_TRU</th>\n",
       "      <th>crime_type</th>\n",
       "    </tr>\n",
       "    <tr>\n",
       "      <th>CAD Event Number</th>\n",
       "      <th></th>\n",
       "      <th></th>\n",
       "      <th></th>\n",
       "      <th></th>\n",
       "      <th></th>\n",
       "      <th></th>\n",
       "      <th></th>\n",
       "      <th></th>\n",
       "      <th></th>\n",
       "      <th></th>\n",
       "      <th></th>\n",
       "      <th></th>\n",
       "      <th></th>\n",
       "      <th></th>\n",
       "      <th></th>\n",
       "      <th></th>\n",
       "    </tr>\n",
       "  </thead>\n",
       "  <tbody>\n",
       "    <tr>\n",
       "      <th>2010000066820</th>\n",
       "      <td>ASSISTANCE RENDERED</td>\n",
       "      <td>911</td>\n",
       "      <td>2</td>\n",
       "      <td>MENTAL - PERSON OR PICKUP/TRANSPORT</td>\n",
       "      <td>--SEX OFFENSES (NON-RAPE) - LEWD CONDUCT</td>\n",
       "      <td>2010-02-27 22:54:25</td>\n",
       "      <td>2010-02-27 22:55:45</td>\n",
       "      <td>NORTH</td>\n",
       "      <td>UNION</td>\n",
       "      <td>U1</td>\n",
       "      <td>80.0</td>\n",
       "      <td>2010</td>\n",
       "      <td>2</td>\n",
       "      <td>no</td>\n",
       "      <td>no</td>\n",
       "      <td>violent crime</td>\n",
       "    </tr>\n",
       "    <tr>\n",
       "      <th>2010000000327</th>\n",
       "      <td>PHYSICAL ARREST MADE</td>\n",
       "      <td>911</td>\n",
       "      <td>1</td>\n",
       "      <td>ASLT - IP/JO - WITH OR W/O WPNS (NO SHOOTINGS)</td>\n",
       "      <td>--ASSAULTS - FIREARM INVOLVED</td>\n",
       "      <td>2010-01-01 03:13:06</td>\n",
       "      <td>2010-01-01 03:14:51</td>\n",
       "      <td>SOUTH</td>\n",
       "      <td>ROBERT</td>\n",
       "      <td>R3</td>\n",
       "      <td>105.0</td>\n",
       "      <td>2010</td>\n",
       "      <td>1</td>\n",
       "      <td>yes</td>\n",
       "      <td>no</td>\n",
       "      <td>violent crime</td>\n",
       "    </tr>\n",
       "    <tr>\n",
       "      <th>2010000000451</th>\n",
       "      <td>REPORT WRITTEN (NO ARREST)</td>\n",
       "      <td>911</td>\n",
       "      <td>2</td>\n",
       "      <td>THEFT OF SERVICES</td>\n",
       "      <td>--ROBBERY - ARMED</td>\n",
       "      <td>2010-01-01 05:46:54</td>\n",
       "      <td>2010-01-01 06:39:35</td>\n",
       "      <td>NORTH</td>\n",
       "      <td>UNION</td>\n",
       "      <td>U1</td>\n",
       "      <td>3161.0</td>\n",
       "      <td>2010</td>\n",
       "      <td>1</td>\n",
       "      <td>no</td>\n",
       "      <td>no</td>\n",
       "      <td>violent crime</td>\n",
       "    </tr>\n",
       "    <tr>\n",
       "      <th>2010000000466</th>\n",
       "      <td>REPORT WRITTEN (NO ARREST)</td>\n",
       "      <td>TELEPHONE OTHER, NOT 911</td>\n",
       "      <td>3</td>\n",
       "      <td>RAPE</td>\n",
       "      <td>--RAPE - KNOWN SUSPECT (ACQUAINTANCE)</td>\n",
       "      <td>2010-01-01 06:28:49</td>\n",
       "      <td>2010-01-01 06:40:09</td>\n",
       "      <td>EAST</td>\n",
       "      <td>GEORGE</td>\n",
       "      <td>G1</td>\n",
       "      <td>680.0</td>\n",
       "      <td>2010</td>\n",
       "      <td>1</td>\n",
       "      <td>no</td>\n",
       "      <td>no</td>\n",
       "      <td>rape</td>\n",
       "    </tr>\n",
       "    <tr>\n",
       "      <th>2010000000776</th>\n",
       "      <td>REPORT WRITTEN (NO ARREST)</td>\n",
       "      <td>911</td>\n",
       "      <td>3</td>\n",
       "      <td>RAPE</td>\n",
       "      <td>--RAPE - KNOWN SUSPECT (ACQUAINTANCE)</td>\n",
       "      <td>2010-01-01 15:05:57</td>\n",
       "      <td>2010-01-01 15:12:26</td>\n",
       "      <td>SOUTHWEST</td>\n",
       "      <td>FRANK</td>\n",
       "      <td>F3</td>\n",
       "      <td>389.0</td>\n",
       "      <td>2010</td>\n",
       "      <td>1</td>\n",
       "      <td>no</td>\n",
       "      <td>no</td>\n",
       "      <td>rape</td>\n",
       "    </tr>\n",
       "  </tbody>\n",
       "</table>\n",
       "</div>"
      ],
      "text/plain": [
       "                              event_clearing                 call_type  \\\n",
       "CAD Event Number                                                         \n",
       "2010000066820            ASSISTANCE RENDERED                       911   \n",
       "2010000000327           PHYSICAL ARREST MADE                       911   \n",
       "2010000000451     REPORT WRITTEN (NO ARREST)                       911   \n",
       "2010000000466     REPORT WRITTEN (NO ARREST)  TELEPHONE OTHER, NOT 911   \n",
       "2010000000776     REPORT WRITTEN (NO ARREST)                       911   \n",
       "\n",
       "                  priority                               initial_call_type  \\\n",
       "CAD Event Number                                                             \n",
       "2010000066820            2             MENTAL - PERSON OR PICKUP/TRANSPORT   \n",
       "2010000000327            1  ASLT - IP/JO - WITH OR W/O WPNS (NO SHOOTINGS)   \n",
       "2010000000451            2                               THEFT OF SERVICES   \n",
       "2010000000466            3                                            RAPE   \n",
       "2010000000776            3                                            RAPE   \n",
       "\n",
       "                                           final_call_type  \\\n",
       "CAD Event Number                                             \n",
       "2010000066820     --SEX OFFENSES (NON-RAPE) - LEWD CONDUCT   \n",
       "2010000000327                --ASSAULTS - FIREARM INVOLVED   \n",
       "2010000000451                            --ROBBERY - ARMED   \n",
       "2010000000466        --RAPE - KNOWN SUSPECT (ACQUAINTANCE)   \n",
       "2010000000776        --RAPE - KNOWN SUSPECT (ACQUAINTANCE)   \n",
       "\n",
       "                 original_time_queued        arrived_time   precinct  sector  \\\n",
       "CAD Event Number                                                               \n",
       "2010000066820     2010-02-27 22:54:25 2010-02-27 22:55:45      NORTH   UNION   \n",
       "2010000000327     2010-01-01 03:13:06 2010-01-01 03:14:51      SOUTH  ROBERT   \n",
       "2010000000451     2010-01-01 05:46:54 2010-01-01 06:39:35      NORTH   UNION   \n",
       "2010000000466     2010-01-01 06:28:49 2010-01-01 06:40:09       EAST  GEORGE   \n",
       "2010000000776     2010-01-01 15:05:57 2010-01-01 15:12:26  SOUTHWEST   FRANK   \n",
       "\n",
       "                 beat  time_delta  year  month is_arrest is_TRU     crime_type  \n",
       "CAD Event Number                                                                \n",
       "2010000066820      U1        80.0  2010      2        no     no  violent crime  \n",
       "2010000000327      R3       105.0  2010      1       yes     no  violent crime  \n",
       "2010000000451      U1      3161.0  2010      1        no     no  violent crime  \n",
       "2010000000466      G1       680.0  2010      1        no     no           rape  \n",
       "2010000000776      F3       389.0  2010      1        no     no           rape  "
      ]
     },
     "execution_count": 17,
     "metadata": {},
     "output_type": "execute_result"
    }
   ],
   "source": [
    "# Add column identifying crime type\n",
    "data['crime_type'] = np.where(data['final_call_type'].isin(rape_call_types), 'rape', 'violent crime')\n",
    "\n",
    "data.head()"
   ]
  },
  {
   "cell_type": "code",
   "execution_count": 18,
   "metadata": {},
   "outputs": [
    {
     "data": {
      "text/plain": [
       "<matplotlib.axes._subplots.AxesSubplot at 0x10ddc5a90>"
      ]
     },
     "execution_count": 18,
     "metadata": {},
     "output_type": "execute_result"
    },
    {
     "data": {
      "image/png": "[encoded data removed]",
      "text/plain": [
       "<Figure size 432x288 with 1 Axes>"
      ]
     },
     "metadata": {
      "needs_background": "light"
     },
     "output_type": "display_data"
    }
   ],
   "source": [
    "# Count of rape calls v. other violent crime calls\n",
    "\n",
    "data['final_call_type'].groupby(data['crime_type']).count().plot(kind='bar')"
   ]
  },
  {
   "cell_type": "code",
   "execution_count": 19,
   "metadata": {},
   "outputs": [
    {
     "data": {
      "text/html": [
       "<div>\n",
       "<style scoped>\n",
       "    .dataframe tbody tr th:only-of-type {\n",
       "        vertical-align: middle;\n",
       "    }\n",
       "\n",
       "    .dataframe tbody tr th {\n",
       "        vertical-align: top;\n",
       "    }\n",
       "\n",
       "    .dataframe thead th {\n",
       "        text-align: right;\n",
       "    }\n",
       "</style>\n",
       "<table border=\"1\" class=\"dataframe\">\n",
       "  <thead>\n",
       "    <tr style=\"text-align: right;\">\n",
       "      <th>is_arrest</th>\n",
       "      <th>no</th>\n",
       "      <th>yes</th>\n",
       "    </tr>\n",
       "  </thead>\n",
       "  <tbody>\n",
       "    <tr>\n",
       "      <th>rape</th>\n",
       "      <td>93.751655</td>\n",
       "      <td>6.248345</td>\n",
       "    </tr>\n",
       "    <tr>\n",
       "      <th>violent crime</th>\n",
       "      <td>90.846656</td>\n",
       "      <td>9.153344</td>\n",
       "    </tr>\n",
       "  </tbody>\n",
       "</table>\n",
       "</div>"
      ],
      "text/plain": [
       "is_arrest             no       yes\n",
       "rape           93.751655  6.248345\n",
       "violent crime  90.846656  9.153344"
      ]
     },
     "execution_count": 19,
     "metadata": {},
     "output_type": "execute_result"
    }
   ],
   "source": [
    "# Use crosstab to return value counts\n",
    "# Reference: https://colab.research.google.com/drive/1VtMSdMy396U6BGVdz2qRsgRveYW9uTHi#scrollTo=FVB-Gc0lAH1W\n",
    "# and: https://stackoverflow.com/questions/53108063/python-pandas-data-visualization-how-to-get-percentages-for-each-row-and-v\n",
    "\n",
    "arrest_percent = pd.crosstab(data.crime_type,data.is_arrest,\n",
    "                          normalize = 'index').rename_axis(None)\n",
    "\n",
    "# Multiply all percentages by 100 for graphing. \n",
    "arrest_percent *= 100\n",
    "\n",
    "arrest_percent"
   ]
  },
  {
   "cell_type": "code",
   "execution_count": 115,
   "metadata": {},
   "outputs": [
    {
     "data": {
      "image/png": "[encoded data removed]",
      "text/plain": [
       "<Figure size 432x288 with 1 Axes>"
      ]
     },
     "metadata": {
      "needs_background": "light"
     },
     "output_type": "display_data"
    }
   ],
   "source": [
    "# Plot only arrests as bar graph. \n",
    "plt.bar(arrest_percent.index, arrest_percent.yes, align='center', alpha=0.5)\n",
    "plt.ylabel('percent')\n",
    "plt.title('Arrest Percentages')\n",
    "\n",
    "plt.show()"
   ]
  },
  {
   "cell_type": "code",
   "execution_count": 21,
   "metadata": {},
   "outputs": [
    {
     "data": {
      "text/html": [
       "<div>\n",
       "<style scoped>\n",
       "    .dataframe tbody tr th:only-of-type {\n",
       "        vertical-align: middle;\n",
       "    }\n",
       "\n",
       "    .dataframe tbody tr th {\n",
       "        vertical-align: top;\n",
       "    }\n",
       "\n",
       "    .dataframe thead th {\n",
       "        text-align: right;\n",
       "    }\n",
       "</style>\n",
       "<table border=\"1\" class=\"dataframe\">\n",
       "  <thead>\n",
       "    <tr style=\"text-align: right;\">\n",
       "      <th>is_arrest</th>\n",
       "      <th>no</th>\n",
       "      <th>yes</th>\n",
       "    </tr>\n",
       "  </thead>\n",
       "  <tbody>\n",
       "    <tr>\n",
       "      <th>--ASSAULTS - FIREARM INVOLVED</th>\n",
       "      <td>88.855055</td>\n",
       "      <td>11.144945</td>\n",
       "    </tr>\n",
       "    <tr>\n",
       "      <th>--COMMERCIAL SEXUAL EXPLOITATION OF MINORS (CSEC)</th>\n",
       "      <td>88.461538</td>\n",
       "      <td>11.538462</td>\n",
       "    </tr>\n",
       "    <tr>\n",
       "      <th>--DRIVE BY SHOOTING - NO INJURIES</th>\n",
       "      <td>96.675416</td>\n",
       "      <td>3.324584</td>\n",
       "    </tr>\n",
       "    <tr>\n",
       "      <th>--HOMICIDE</th>\n",
       "      <td>93.023256</td>\n",
       "      <td>6.976744</td>\n",
       "    </tr>\n",
       "    <tr>\n",
       "      <th>--KIDNAP - GENERAL</th>\n",
       "      <td>73.232323</td>\n",
       "      <td>26.767677</td>\n",
       "    </tr>\n",
       "    <tr>\n",
       "      <th>--RAPE - KNOWN SUSPECT (ACQUAINTANCE)</th>\n",
       "      <td>92.529489</td>\n",
       "      <td>7.470511</td>\n",
       "    </tr>\n",
       "    <tr>\n",
       "      <th>--RAPE - UNKNOWN SUSPECT (STRANGER)</th>\n",
       "      <td>95.631720</td>\n",
       "      <td>4.368280</td>\n",
       "    </tr>\n",
       "    <tr>\n",
       "      <th>--ROBBERY - ARMED</th>\n",
       "      <td>87.385087</td>\n",
       "      <td>12.614913</td>\n",
       "    </tr>\n",
       "    <tr>\n",
       "      <th>--SEX OFFENSES (NON-RAPE) - LEWD CONDUCT</th>\n",
       "      <td>93.071042</td>\n",
       "      <td>6.928958</td>\n",
       "    </tr>\n",
       "    <tr>\n",
       "      <th>--SEX OFFENSES (RAPE) - MOLESTING</th>\n",
       "      <td>94.352617</td>\n",
       "      <td>5.647383</td>\n",
       "    </tr>\n",
       "  </tbody>\n",
       "</table>\n",
       "</div>"
      ],
      "text/plain": [
       "is_arrest                                                 no        yes\n",
       "--ASSAULTS - FIREARM INVOLVED                      88.855055  11.144945\n",
       "--COMMERCIAL SEXUAL EXPLOITATION OF MINORS (CSEC)  88.461538  11.538462\n",
       "--DRIVE BY SHOOTING - NO INJURIES                  96.675416   3.324584\n",
       "--HOMICIDE                                         93.023256   6.976744\n",
       "--KIDNAP - GENERAL                                 73.232323  26.767677\n",
       "--RAPE - KNOWN SUSPECT (ACQUAINTANCE)              92.529489   7.470511\n",
       "--RAPE - UNKNOWN SUSPECT (STRANGER)                95.631720   4.368280\n",
       "--ROBBERY - ARMED                                  87.385087  12.614913\n",
       "--SEX OFFENSES (NON-RAPE) - LEWD CONDUCT           93.071042   6.928958\n",
       "--SEX OFFENSES (RAPE) - MOLESTING                  94.352617   5.647383"
      ]
     },
     "execution_count": 21,
     "metadata": {},
     "output_type": "execute_result"
    }
   ],
   "source": [
    "# Create crosstab to view all arrests by call type\n",
    "\n",
    "all_calls_arrest = pd.crosstab(data.final_call_type,data.is_arrest,\n",
    "                          normalize = 'index').rename_axis(None)\n",
    "all_calls_arrest *= 100\n",
    "\n",
    "all_calls_arrest"
   ]
  },
  {
   "cell_type": "code",
   "execution_count": 99,
   "metadata": {},
   "outputs": [
    {
     "data": {
      "image/png": "[encoded data removed]",
      "text/plain": [
       "<Figure size 432x288 with 1 Axes>"
      ]
     },
     "metadata": {
      "needs_background": "light"
     },
     "output_type": "display_data"
    }
   ],
   "source": [
    "# Plot only arrest percentages as bar graph. \n",
    "plt.barh(all_calls_arrest.index, all_calls_arrest.yes, align='center', alpha=0.5, orientation='horizontal')\n",
    "plt.xlabel('Percentage Arrested')\n",
    "plt.title('% of calls that resulted in an arrest')\n",
    "#plt.xticks(rotation=90)\n",
    "\n",
    "plt.show()"
   ]
  },
  {
   "cell_type": "markdown",
   "metadata": {},
   "source": [
    "## Analysis of rate of arrests (rape v. VC) by year\n",
    "\n",
    "### To Do:\n",
    "* Add year to arrest_percent analysis"
   ]
  },
  {
   "cell_type": "code",
   "execution_count": 103,
   "metadata": {},
   "outputs": [
    {
     "data": {
      "text/plain": [
       "<matplotlib.axes._subplots.AxesSubplot at 0x11ef2f208>"
      ]
     },
     "execution_count": 103,
     "metadata": {},
     "output_type": "execute_result"
    },
    {
     "data": {
      "image/png": "[encoded data removed]",
      "text/plain": [
       "<Figure size 720x432 with 1 Axes>"
      ]
     },
     "metadata": {
      "needs_background": "light"
     },
     "output_type": "display_data"
    }
   ],
   "source": [
    "# year by year analysis of arrests rape v. VC - counts\n",
    "\n",
    "\n",
    "data.groupby('crime_type').year.value_counts().unstack(0).plot.bar(stacked=False, figsize=(10,6))\n"
   ]
  },
  {
   "cell_type": "code",
   "execution_count": 132,
   "metadata": {},
   "outputs": [
    {
     "data": {
      "text/plain": [
       "12.952799121844127"
      ]
     },
     "execution_count": 132,
     "metadata": {},
     "output_type": "execute_result"
    }
   ],
   "source": [
    "# create a df or crosstab of arrest percentages r v. vc by year\n",
    "\n",
    "# plt.bar(percentage_tru_calls.index, percentage_tru_calls.yes, align='center', alpha=0.5)\n",
    "\n",
    "temp_isarrest_df = data[data.is_arrest == 'yes']\n",
    "\n",
    "#arrest_count = temp_isarrest_df.groupby('crime_type').year.value_counts().unstack(0).plot.bar(stacked=False, figsize=(12,8))\n",
    "\n",
    "rape_arrest_count = temp_isarrest_df[temp_isarrest_df.crime_type == 'rape'].year.count() * 100 / len(temp_isarrest_df.event_clearing)\n",
    "rape_arrest_count\n",
    "\n",
    "\n",
    "\n",
    "#plt.bar(temp_isarrest_df.groupby('crime_type').year, temp_isarrest_df.crime_type, align='center', alpha=0.5)"
   ]
  },
  {
   "cell_type": "code",
   "execution_count": 143,
   "metadata": {},
   "outputs": [
    {
     "data": {
      "text/html": [
       "<div>\n",
       "<style scoped>\n",
       "    .dataframe tbody tr th:only-of-type {\n",
       "        vertical-align: middle;\n",
       "    }\n",
       "\n",
       "    .dataframe tbody tr th {\n",
       "        vertical-align: top;\n",
       "    }\n",
       "\n",
       "    .dataframe thead th {\n",
       "        text-align: right;\n",
       "    }\n",
       "</style>\n",
       "<table border=\"1\" class=\"dataframe\">\n",
       "  <thead>\n",
       "    <tr style=\"text-align: right;\">\n",
       "      <th></th>\n",
       "      <th></th>\n",
       "      <th></th>\n",
       "      <th>event_clearing</th>\n",
       "      <th>call_type</th>\n",
       "      <th>priority</th>\n",
       "      <th>initial_call_type</th>\n",
       "      <th>final_call_type</th>\n",
       "      <th>original_time_queued</th>\n",
       "      <th>arrived_time</th>\n",
       "      <th>precinct</th>\n",
       "      <th>sector</th>\n",
       "      <th>beat</th>\n",
       "      <th>time_delta</th>\n",
       "      <th>month</th>\n",
       "      <th>is_TRU</th>\n",
       "    </tr>\n",
       "    <tr>\n",
       "      <th>crime_type</th>\n",
       "      <th>year</th>\n",
       "      <th>is_arrest</th>\n",
       "      <th></th>\n",
       "      <th></th>\n",
       "      <th></th>\n",
       "      <th></th>\n",
       "      <th></th>\n",
       "      <th></th>\n",
       "      <th></th>\n",
       "      <th></th>\n",
       "      <th></th>\n",
       "      <th></th>\n",
       "      <th></th>\n",
       "      <th></th>\n",
       "      <th></th>\n",
       "    </tr>\n",
       "  </thead>\n",
       "  <tbody>\n",
       "    <tr>\n",
       "      <th rowspan=\"5\" valign=\"top\">rape</th>\n",
       "      <th rowspan=\"2\" valign=\"top\">2010</th>\n",
       "      <th>no</th>\n",
       "      <td>345</td>\n",
       "      <td>345</td>\n",
       "      <td>345</td>\n",
       "      <td>345</td>\n",
       "      <td>345</td>\n",
       "      <td>345</td>\n",
       "      <td>345</td>\n",
       "      <td>345</td>\n",
       "      <td>340</td>\n",
       "      <td>345</td>\n",
       "      <td>345</td>\n",
       "      <td>345</td>\n",
       "      <td>345</td>\n",
       "    </tr>\n",
       "    <tr>\n",
       "      <th>yes</th>\n",
       "      <td>29</td>\n",
       "      <td>29</td>\n",
       "      <td>29</td>\n",
       "      <td>29</td>\n",
       "      <td>29</td>\n",
       "      <td>29</td>\n",
       "      <td>29</td>\n",
       "      <td>29</td>\n",
       "      <td>28</td>\n",
       "      <td>29</td>\n",
       "      <td>29</td>\n",
       "      <td>29</td>\n",
       "      <td>29</td>\n",
       "    </tr>\n",
       "    <tr>\n",
       "      <th rowspan=\"2\" valign=\"top\">2011</th>\n",
       "      <th>no</th>\n",
       "      <td>338</td>\n",
       "      <td>338</td>\n",
       "      <td>338</td>\n",
       "      <td>338</td>\n",
       "      <td>338</td>\n",
       "      <td>338</td>\n",
       "      <td>338</td>\n",
       "      <td>338</td>\n",
       "      <td>321</td>\n",
       "      <td>338</td>\n",
       "      <td>338</td>\n",
       "      <td>338</td>\n",
       "      <td>338</td>\n",
       "    </tr>\n",
       "    <tr>\n",
       "      <th>yes</th>\n",
       "      <td>25</td>\n",
       "      <td>25</td>\n",
       "      <td>25</td>\n",
       "      <td>25</td>\n",
       "      <td>25</td>\n",
       "      <td>25</td>\n",
       "      <td>25</td>\n",
       "      <td>25</td>\n",
       "      <td>25</td>\n",
       "      <td>25</td>\n",
       "      <td>25</td>\n",
       "      <td>25</td>\n",
       "      <td>25</td>\n",
       "    </tr>\n",
       "    <tr>\n",
       "      <th>2012</th>\n",
       "      <th>no</th>\n",
       "      <td>324</td>\n",
       "      <td>324</td>\n",
       "      <td>324</td>\n",
       "      <td>324</td>\n",
       "      <td>324</td>\n",
       "      <td>324</td>\n",
       "      <td>324</td>\n",
       "      <td>324</td>\n",
       "      <td>309</td>\n",
       "      <td>324</td>\n",
       "      <td>324</td>\n",
       "      <td>324</td>\n",
       "      <td>324</td>\n",
       "    </tr>\n",
       "  </tbody>\n",
       "</table>\n",
       "</div>"
      ],
      "text/plain": [
       "                           event_clearing  call_type  priority  \\\n",
       "crime_type year is_arrest                                        \n",
       "rape       2010 no                    345        345       345   \n",
       "                yes                    29         29        29   \n",
       "           2011 no                    338        338       338   \n",
       "                yes                    25         25        25   \n",
       "           2012 no                    324        324       324   \n",
       "\n",
       "                           initial_call_type  final_call_type  \\\n",
       "crime_type year is_arrest                                       \n",
       "rape       2010 no                       345              345   \n",
       "                yes                       29               29   \n",
       "           2011 no                       338              338   \n",
       "                yes                       25               25   \n",
       "           2012 no                       324              324   \n",
       "\n",
       "                           original_time_queued  arrived_time  precinct  \\\n",
       "crime_type year is_arrest                                                 \n",
       "rape       2010 no                          345           345       345   \n",
       "                yes                          29            29        29   \n",
       "           2011 no                          338           338       338   \n",
       "                yes                          25            25        25   \n",
       "           2012 no                          324           324       324   \n",
       "\n",
       "                           sector  beat  time_delta  month  is_TRU  \n",
       "crime_type year is_arrest                                           \n",
       "rape       2010 no            340   345         345    345     345  \n",
       "                yes            28    29          29     29      29  \n",
       "           2011 no            321   338         338    338     338  \n",
       "                yes            25    25          25     25      25  \n",
       "           2012 no            309   324         324    324     324  "
      ]
     },
     "execution_count": 143,
     "metadata": {},
     "output_type": "execute_result"
    }
   ],
   "source": [
    "# Create new df that shows arrest counts by each year for both crime types\n",
    "\n",
    "arrests_grouped = data.groupby([\"crime_type\",\"year\", \"is_arrest\"]).count()\n",
    "arrests_grouped.head()"
   ]
  },
  {
   "cell_type": "markdown",
   "metadata": {},
   "source": [
    "## stopped here\n",
    "\n",
    "considering add another col to arrests_grouped that calculates the yes/no is_arrest % for each crime and each year.  But not really clear on how that would even be visualized."
   ]
  },
  {
   "cell_type": "code",
   "execution_count": null,
   "metadata": {},
   "outputs": [],
   "source": [
    "arrest_percent = pd.crosstab(data.crime_type,data.is_arrest,\n",
    "                          normalize = 'index').rename_axis(None)\n",
    "\n",
    "# Multiply all percentages by 100 for graphing. \n",
    "arrest_percent *= 100\n",
    "\n",
    "\n",
    "\n",
    "arrests_grouped_percentages['']\n",
    "\n"
   ]
  },
  {
   "cell_type": "code",
   "execution_count": null,
   "metadata": {},
   "outputs": [],
   "source": []
  },
  {
   "cell_type": "code",
   "execution_count": 29,
   "metadata": {},
   "outputs": [
    {
     "data": {
      "text/html": [
       "<div>\n",
       "<style scoped>\n",
       "    .dataframe tbody tr th:only-of-type {\n",
       "        vertical-align: middle;\n",
       "    }\n",
       "\n",
       "    .dataframe tbody tr th {\n",
       "        vertical-align: top;\n",
       "    }\n",
       "\n",
       "    .dataframe thead th {\n",
       "        text-align: right;\n",
       "    }\n",
       "</style>\n",
       "<table border=\"1\" class=\"dataframe\">\n",
       "  <thead>\n",
       "    <tr style=\"text-align: right;\">\n",
       "      <th></th>\n",
       "      <th>event_clearing</th>\n",
       "      <th>call_type</th>\n",
       "      <th>priority</th>\n",
       "      <th>initial_call_type</th>\n",
       "      <th>final_call_type</th>\n",
       "      <th>original_time_queued</th>\n",
       "      <th>arrived_time</th>\n",
       "      <th>precinct</th>\n",
       "      <th>sector</th>\n",
       "      <th>beat</th>\n",
       "      <th>time_delta</th>\n",
       "      <th>year</th>\n",
       "      <th>month</th>\n",
       "      <th>is_arrest</th>\n",
       "      <th>is_TRU</th>\n",
       "      <th>crime_type</th>\n",
       "    </tr>\n",
       "    <tr>\n",
       "      <th>CAD Event Number</th>\n",
       "      <th></th>\n",
       "      <th></th>\n",
       "      <th></th>\n",
       "      <th></th>\n",
       "      <th></th>\n",
       "      <th></th>\n",
       "      <th></th>\n",
       "      <th></th>\n",
       "      <th></th>\n",
       "      <th></th>\n",
       "      <th></th>\n",
       "      <th></th>\n",
       "      <th></th>\n",
       "      <th></th>\n",
       "      <th></th>\n",
       "      <th></th>\n",
       "    </tr>\n",
       "  </thead>\n",
       "  <tbody>\n",
       "    <tr>\n",
       "      <th>2010000066820</th>\n",
       "      <td>ASSISTANCE RENDERED</td>\n",
       "      <td>911</td>\n",
       "      <td>2</td>\n",
       "      <td>MENTAL - PERSON OR PICKUP/TRANSPORT</td>\n",
       "      <td>--SEX OFFENSES (NON-RAPE) - LEWD CONDUCT</td>\n",
       "      <td>2010-02-27 22:54:25</td>\n",
       "      <td>2010-02-27 22:55:45</td>\n",
       "      <td>NORTH</td>\n",
       "      <td>UNION</td>\n",
       "      <td>U1</td>\n",
       "      <td>80.0</td>\n",
       "      <td>2010</td>\n",
       "      <td>2</td>\n",
       "      <td>no</td>\n",
       "      <td>no</td>\n",
       "      <td>violent crime</td>\n",
       "    </tr>\n",
       "    <tr>\n",
       "      <th>2010000000327</th>\n",
       "      <td>PHYSICAL ARREST MADE</td>\n",
       "      <td>911</td>\n",
       "      <td>1</td>\n",
       "      <td>ASLT - IP/JO - WITH OR W/O WPNS (NO SHOOTINGS)</td>\n",
       "      <td>--ASSAULTS - FIREARM INVOLVED</td>\n",
       "      <td>2010-01-01 03:13:06</td>\n",
       "      <td>2010-01-01 03:14:51</td>\n",
       "      <td>SOUTH</td>\n",
       "      <td>ROBERT</td>\n",
       "      <td>R3</td>\n",
       "      <td>105.0</td>\n",
       "      <td>2010</td>\n",
       "      <td>1</td>\n",
       "      <td>yes</td>\n",
       "      <td>no</td>\n",
       "      <td>violent crime</td>\n",
       "    </tr>\n",
       "    <tr>\n",
       "      <th>2010000000451</th>\n",
       "      <td>REPORT WRITTEN (NO ARREST)</td>\n",
       "      <td>911</td>\n",
       "      <td>2</td>\n",
       "      <td>THEFT OF SERVICES</td>\n",
       "      <td>--ROBBERY - ARMED</td>\n",
       "      <td>2010-01-01 05:46:54</td>\n",
       "      <td>2010-01-01 06:39:35</td>\n",
       "      <td>NORTH</td>\n",
       "      <td>UNION</td>\n",
       "      <td>U1</td>\n",
       "      <td>3161.0</td>\n",
       "      <td>2010</td>\n",
       "      <td>1</td>\n",
       "      <td>no</td>\n",
       "      <td>no</td>\n",
       "      <td>violent crime</td>\n",
       "    </tr>\n",
       "    <tr>\n",
       "      <th>2010000000466</th>\n",
       "      <td>REPORT WRITTEN (NO ARREST)</td>\n",
       "      <td>TELEPHONE OTHER, NOT 911</td>\n",
       "      <td>3</td>\n",
       "      <td>RAPE</td>\n",
       "      <td>--RAPE - KNOWN SUSPECT (ACQUAINTANCE)</td>\n",
       "      <td>2010-01-01 06:28:49</td>\n",
       "      <td>2010-01-01 06:40:09</td>\n",
       "      <td>EAST</td>\n",
       "      <td>GEORGE</td>\n",
       "      <td>G1</td>\n",
       "      <td>680.0</td>\n",
       "      <td>2010</td>\n",
       "      <td>1</td>\n",
       "      <td>no</td>\n",
       "      <td>no</td>\n",
       "      <td>rape</td>\n",
       "    </tr>\n",
       "    <tr>\n",
       "      <th>2010000000776</th>\n",
       "      <td>REPORT WRITTEN (NO ARREST)</td>\n",
       "      <td>911</td>\n",
       "      <td>3</td>\n",
       "      <td>RAPE</td>\n",
       "      <td>--RAPE - KNOWN SUSPECT (ACQUAINTANCE)</td>\n",
       "      <td>2010-01-01 15:05:57</td>\n",
       "      <td>2010-01-01 15:12:26</td>\n",
       "      <td>SOUTHWEST</td>\n",
       "      <td>FRANK</td>\n",
       "      <td>F3</td>\n",
       "      <td>389.0</td>\n",
       "      <td>2010</td>\n",
       "      <td>1</td>\n",
       "      <td>no</td>\n",
       "      <td>no</td>\n",
       "      <td>rape</td>\n",
       "    </tr>\n",
       "  </tbody>\n",
       "</table>\n",
       "</div>"
      ],
      "text/plain": [
       "                              event_clearing                 call_type  \\\n",
       "CAD Event Number                                                         \n",
       "2010000066820            ASSISTANCE RENDERED                       911   \n",
       "2010000000327           PHYSICAL ARREST MADE                       911   \n",
       "2010000000451     REPORT WRITTEN (NO ARREST)                       911   \n",
       "2010000000466     REPORT WRITTEN (NO ARREST)  TELEPHONE OTHER, NOT 911   \n",
       "2010000000776     REPORT WRITTEN (NO ARREST)                       911   \n",
       "\n",
       "                  priority                               initial_call_type  \\\n",
       "CAD Event Number                                                             \n",
       "2010000066820            2             MENTAL - PERSON OR PICKUP/TRANSPORT   \n",
       "2010000000327            1  ASLT - IP/JO - WITH OR W/O WPNS (NO SHOOTINGS)   \n",
       "2010000000451            2                               THEFT OF SERVICES   \n",
       "2010000000466            3                                            RAPE   \n",
       "2010000000776            3                                            RAPE   \n",
       "\n",
       "                                           final_call_type  \\\n",
       "CAD Event Number                                             \n",
       "2010000066820     --SEX OFFENSES (NON-RAPE) - LEWD CONDUCT   \n",
       "2010000000327                --ASSAULTS - FIREARM INVOLVED   \n",
       "2010000000451                            --ROBBERY - ARMED   \n",
       "2010000000466        --RAPE - KNOWN SUSPECT (ACQUAINTANCE)   \n",
       "2010000000776        --RAPE - KNOWN SUSPECT (ACQUAINTANCE)   \n",
       "\n",
       "                 original_time_queued        arrived_time   precinct  sector  \\\n",
       "CAD Event Number                                                               \n",
       "2010000066820     2010-02-27 22:54:25 2010-02-27 22:55:45      NORTH   UNION   \n",
       "2010000000327     2010-01-01 03:13:06 2010-01-01 03:14:51      SOUTH  ROBERT   \n",
       "2010000000451     2010-01-01 05:46:54 2010-01-01 06:39:35      NORTH   UNION   \n",
       "2010000000466     2010-01-01 06:28:49 2010-01-01 06:40:09       EAST  GEORGE   \n",
       "2010000000776     2010-01-01 15:05:57 2010-01-01 15:12:26  SOUTHWEST   FRANK   \n",
       "\n",
       "                 beat  time_delta  year  month is_arrest is_TRU     crime_type  \n",
       "CAD Event Number                                                                \n",
       "2010000066820      U1        80.0  2010      2        no     no  violent crime  \n",
       "2010000000327      R3       105.0  2010      1       yes     no  violent crime  \n",
       "2010000000451      U1      3161.0  2010      1        no     no  violent crime  \n",
       "2010000000466      G1       680.0  2010      1        no     no           rape  \n",
       "2010000000776      F3       389.0  2010      1        no     no           rape  "
      ]
     },
     "execution_count": 29,
     "metadata": {},
     "output_type": "execute_result"
    }
   ],
   "source": [
    "\n",
    "# bad: data[data.is_TRU.str.contains(rape_terms)].head()\n",
    "data.head()\n"
   ]
  },
  {
   "cell_type": "code",
   "execution_count": 31,
   "metadata": {},
   "outputs": [
    {
     "data": {
      "text/html": [
       "<div>\n",
       "<style scoped>\n",
       "    .dataframe tbody tr th:only-of-type {\n",
       "        vertical-align: middle;\n",
       "    }\n",
       "\n",
       "    .dataframe tbody tr th {\n",
       "        vertical-align: top;\n",
       "    }\n",
       "\n",
       "    .dataframe thead th {\n",
       "        text-align: right;\n",
       "    }\n",
       "</style>\n",
       "<table border=\"1\" class=\"dataframe\">\n",
       "  <thead>\n",
       "    <tr style=\"text-align: right;\">\n",
       "      <th>is_TRU</th>\n",
       "      <th>no</th>\n",
       "      <th>yes</th>\n",
       "    </tr>\n",
       "  </thead>\n",
       "  <tbody>\n",
       "    <tr>\n",
       "      <th>--ASSAULTS - FIREARM INVOLVED</th>\n",
       "      <td>99.025579</td>\n",
       "      <td>0.974421</td>\n",
       "    </tr>\n",
       "    <tr>\n",
       "      <th>--COMMERCIAL SEXUAL EXPLOITATION OF MINORS (CSEC)</th>\n",
       "      <td>98.076923</td>\n",
       "      <td>1.923077</td>\n",
       "    </tr>\n",
       "    <tr>\n",
       "      <th>--DRIVE BY SHOOTING - NO INJURIES</th>\n",
       "      <td>99.912511</td>\n",
       "      <td>0.087489</td>\n",
       "    </tr>\n",
       "    <tr>\n",
       "      <th>--HOMICIDE</th>\n",
       "      <td>100.000000</td>\n",
       "      <td>0.000000</td>\n",
       "    </tr>\n",
       "    <tr>\n",
       "      <th>--KIDNAP - GENERAL</th>\n",
       "      <td>98.989899</td>\n",
       "      <td>1.010101</td>\n",
       "    </tr>\n",
       "    <tr>\n",
       "      <th>--RAPE - KNOWN SUSPECT (ACQUAINTANCE)</th>\n",
       "      <td>97.597204</td>\n",
       "      <td>2.402796</td>\n",
       "    </tr>\n",
       "    <tr>\n",
       "      <th>--RAPE - UNKNOWN SUSPECT (STRANGER)</th>\n",
       "      <td>98.655914</td>\n",
       "      <td>1.344086</td>\n",
       "    </tr>\n",
       "    <tr>\n",
       "      <th>--ROBBERY - ARMED</th>\n",
       "      <td>99.914879</td>\n",
       "      <td>0.085121</td>\n",
       "    </tr>\n",
       "    <tr>\n",
       "      <th>--SEX OFFENSES (NON-RAPE) - LEWD CONDUCT</th>\n",
       "      <td>99.076139</td>\n",
       "      <td>0.923861</td>\n",
       "    </tr>\n",
       "    <tr>\n",
       "      <th>--SEX OFFENSES (RAPE) - MOLESTING</th>\n",
       "      <td>97.176309</td>\n",
       "      <td>2.823691</td>\n",
       "    </tr>\n",
       "  </tbody>\n",
       "</table>\n",
       "</div>"
      ],
      "text/plain": [
       "is_TRU                                                     no       yes\n",
       "--ASSAULTS - FIREARM INVOLVED                       99.025579  0.974421\n",
       "--COMMERCIAL SEXUAL EXPLOITATION OF MINORS (CSEC)   98.076923  1.923077\n",
       "--DRIVE BY SHOOTING - NO INJURIES                   99.912511  0.087489\n",
       "--HOMICIDE                                         100.000000  0.000000\n",
       "--KIDNAP - GENERAL                                  98.989899  1.010101\n",
       "--RAPE - KNOWN SUSPECT (ACQUAINTANCE)               97.597204  2.402796\n",
       "--RAPE - UNKNOWN SUSPECT (STRANGER)                 98.655914  1.344086\n",
       "--ROBBERY - ARMED                                   99.914879  0.085121\n",
       "--SEX OFFENSES (NON-RAPE) - LEWD CONDUCT            99.076139  0.923861\n",
       "--SEX OFFENSES (RAPE) - MOLESTING                   97.176309  2.823691"
      ]
     },
     "execution_count": 31,
     "metadata": {},
     "output_type": "execute_result"
    }
   ],
   "source": [
    "# Create crosstab to view % all TRU calls by crime type\n",
    "\n",
    "percentage_tru_calls = pd.crosstab(data.final_call_type,data.is_TRU,\n",
    "                          normalize = 'index').rename_axis(None)\n",
    "percentage_tru_calls *= 100\n",
    "\n",
    "percentage_tru_calls"
   ]
  },
  {
   "cell_type": "code",
   "execution_count": 33,
   "metadata": {},
   "outputs": [
    {
     "data": {
      "image/png": "[encoded data removed]",
      "text/plain": [
       "<Figure size 432x288 with 1 Axes>"
      ]
     },
     "metadata": {
      "needs_background": "light"
     },
     "output_type": "display_data"
    }
   ],
   "source": [
    "# Plot TRU call percentages as bar graph. \n",
    "plt.bar(percentage_tru_calls.index, percentage_tru_calls.yes, align='center', alpha=0.5)\n",
    "plt.ylabel('Percent')\n",
    "plt.title('% of calls initially sent to TRU')\n",
    "plt.xticks(rotation=90)\n",
    "\n",
    "plt.show()"
   ]
  },
  {
   "cell_type": "markdown",
   "metadata": {},
   "source": [
    "## TRU breakdown\n",
    "**CSEC:**\n",
    "only 1 of the 52 CSEC calls were referred to TRU in 9 years.\n",
    "**code:**\n",
    "Show that only 1 of the 52 CSEC calls were referred to TRU in 9 years:\n",
    "temp_TRU_df = data[data.is_TRU == 'yes']\n",
    "temp_TRU_CSEC = temp_TRU_df[temp_TRU_df.final_call_type == '--COMMERCIAL SEXUAL EXPLOITATION OF MINORS (CSEC)']\n",
    "temp_TRU_CSEC\n",
    "\n",
    "Show all CSEC calls:\n",
    "data[data.final_call_type == '--COMMERCIAL SEXUAL EXPLOITATION OF MINORS (CSEC)'].count()\n",
    "\n",
    "**molesting:**\n",
    "41 to TRU out of 1452 calls\n",
    "\n",
    "**kidnap:**\n",
    "2 out of 198 send to TRU\n",
    "\n",
    "**assault w firearm:**\n",
    "16 out of 1642\n",
    "\n",
    "**driveby:**\n",
    "1 out of 1143\n",
    "\n",
    "**acquaintance rape:**\n",
    "55 out of 2289\n",
    "\n",
    "**stranger rape:**\n",
    "20 out of 1488\n",
    "\n",
    "**armed robbery:**\n",
    "5 out of 5874\n",
    "\n",
    "**lewd conduct:**\n",
    "58 out of 6278"
   ]
  },
  {
   "cell_type": "code",
   "execution_count": 80,
   "metadata": {},
   "outputs": [
    {
     "name": "stderr",
     "output_type": "stream",
     "text": [
      "/Library/Frameworks/Python.framework/Versions/3.6/lib/python3.6/site-packages/ipykernel_launcher.py:4: UserWarning:\n",
      "\n",
      "Boolean Series key will be reindexed to match DataFrame index.\n",
      "\n"
     ]
    },
    {
     "data": {
      "text/plain": [
       "<matplotlib.axes._subplots.AxesSubplot at 0x11dde0470>"
      ]
     },
     "execution_count": 80,
     "metadata": {},
     "output_type": "execute_result"
    },
    {
     "data": {
      "image/png": "[encoded data removed]",
      "text/plain": [
       "<Figure size 720x576 with 1 Axes>"
      ]
     },
     "metadata": {
      "needs_background": "light"
     },
     "output_type": "display_data"
    }
   ],
   "source": [
    "# Show TRU rape calls by year\n",
    "\n",
    "temp_TRU_df = data[data.is_TRU == 'yes']\n",
    "temp_TRU_df = temp_TRU_df[data.crime_type == \"rape\"]\n",
    "\n",
    "temp_TRU_df.groupby('is_arrest').year.value_counts().unstack(0).plot.bar(stacked=False, figsize=(10,8))\n"
   ]
  },
  {
   "cell_type": "code",
   "execution_count": 91,
   "metadata": {},
   "outputs": [],
   "source": [
    "# Do above by in percentages"
   ]
  },
  {
   "cell_type": "code",
   "execution_count": 81,
   "metadata": {},
   "outputs": [
    {
     "data": {
      "text/html": [
       "<div>\n",
       "<style scoped>\n",
       "    .dataframe tbody tr th:only-of-type {\n",
       "        vertical-align: middle;\n",
       "    }\n",
       "\n",
       "    .dataframe tbody tr th {\n",
       "        vertical-align: top;\n",
       "    }\n",
       "\n",
       "    .dataframe thead th {\n",
       "        text-align: right;\n",
       "    }\n",
       "</style>\n",
       "<table border=\"1\" class=\"dataframe\">\n",
       "  <thead>\n",
       "    <tr style=\"text-align: right;\">\n",
       "      <th>is_TRU</th>\n",
       "      <th>no</th>\n",
       "      <th>yes</th>\n",
       "    </tr>\n",
       "  </thead>\n",
       "  <tbody>\n",
       "    <tr>\n",
       "      <th>rape</th>\n",
       "      <td>98.014297</td>\n",
       "      <td>1.985703</td>\n",
       "    </tr>\n",
       "    <tr>\n",
       "      <th>violent crime</th>\n",
       "      <td>99.284354</td>\n",
       "      <td>0.715646</td>\n",
       "    </tr>\n",
       "  </tbody>\n",
       "</table>\n",
       "</div>"
      ],
      "text/plain": [
       "is_TRU                no       yes\n",
       "rape           98.014297  1.985703\n",
       "violent crime  99.284354  0.715646"
      ]
     },
     "execution_count": 81,
     "metadata": {},
     "output_type": "execute_result"
    }
   ],
   "source": [
    "# Create crosstab to view % TRU rape calls vs. TRU VC calls\n",
    "\n",
    "tru_calls_rape_vc = pd.crosstab(data.crime_type,data.is_TRU,\n",
    "                          normalize = 'index').rename_axis(None)\n",
    "tru_calls_rape_vc *= 100\n",
    "\n",
    "tru_calls_rape_vc"
   ]
  },
  {
   "cell_type": "code",
   "execution_count": 90,
   "metadata": {},
   "outputs": [
    {
     "data": {
      "image/png": "[encoded data removed]",
      "text/plain": [
       "<Figure size 432x288 with 1 Axes>"
      ]
     },
     "metadata": {
      "needs_background": "light"
     },
     "output_type": "display_data"
    }
   ],
   "source": [
    "# Plot percentage TRU calls rape v. VC as bar graph. \n",
    "plt.bar(tru_calls_rape_vc.index, tru_calls_rape_vc.yes, align='center', alpha=0.5, width=0.5)\n",
    "plt.ylabel('Percent')\n",
    "plt.title('% of calls initially sent to TRU')\n",
    "plt.xticks(rotation=90)\n",
    "\n",
    "plt.show()"
   ]
  },
  {
   "cell_type": "code",
   "execution_count": null,
   "metadata": {},
   "outputs": [],
   "source": []
  },
  {
   "cell_type": "code",
   "execution_count": 23,
   "metadata": {},
   "outputs": [
    {
     "data": {
      "text/plain": [
       "<matplotlib.axes._subplots.AxesSubplot at 0x119ee3a20>"
      ]
     },
     "execution_count": 23,
     "metadata": {},
     "output_type": "execute_result"
    },
    {
     "data": {
      "image/png": "[encoded data removed]",
      "text/plain": [
       "<Figure size 720x360 with 1 Axes>"
      ]
     },
     "metadata": {
      "needs_background": "light"
     },
     "output_type": "display_data"
    },
    {
     "data": {
      "image/png": "[encoded data removed]",
      "text/plain": [
       "<Figure size 720x576 with 1 Axes>"
      ]
     },
     "metadata": {
      "needs_background": "light"
     },
     "output_type": "display_data"
    }
   ],
   "source": [
    "# example viz only\n",
    "pd.value_counts(data.is_arrest).plot.bar(figsize=(10,5))\n",
    "data.groupby('is_arrest').year.value_counts().unstack(0).plot.bar(stacked=False, figsize=(10,8))\n",
    "\n"
   ]
  }
 ],
 "metadata": {
  "kernelspec": {
   "display_name": "Python 3",
   "language": "python",
   "name": "python3"
  },
  "language_info": {
   "codemirror_mode": {
    "name": "ipython",
    "version": 3
   },
   "file_extension": ".py",
   "mimetype": "text/x-python",
   "name": "python",
   "nbconvert_exporter": "python",
   "pygments_lexer": "ipython3",
   "version": "3.6.0"
  }
 },
 "nbformat": 4,
 "nbformat_minor": 2
}
