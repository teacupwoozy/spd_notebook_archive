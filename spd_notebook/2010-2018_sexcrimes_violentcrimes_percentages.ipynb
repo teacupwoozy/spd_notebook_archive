{
 "cells": [
  {
   "cell_type": "code",
   "execution_count": 1,
   "metadata": {},
   "outputs": [],
   "source": [
    "import pandas as pd\n",
    "import numpy as np\n",
    "import matplotlib.pyplot as plt\n",
    "import plotly.plotly as py"
   ]
  },
  {
   "cell_type": "code",
   "execution_count": 2,
   "metadata": {},
   "outputs": [],
   "source": [
    "%matplotlib inline"
   ]
  },
  {
   "cell_type": "code",
   "execution_count": 3,
   "metadata": {},
   "outputs": [
    {
     "data": {
      "text/html": [
       "<div>\n",
       "<style scoped>\n",
       "    .dataframe tbody tr th:only-of-type {\n",
       "        vertical-align: middle;\n",
       "    }\n",
       "\n",
       "    .dataframe tbody tr th {\n",
       "        vertical-align: top;\n",
       "    }\n",
       "\n",
       "    .dataframe thead th {\n",
       "        text-align: right;\n",
       "    }\n",
       "</style>\n",
       "<table border=\"1\" class=\"dataframe\">\n",
       "  <thead>\n",
       "    <tr style=\"text-align: right;\">\n",
       "      <th></th>\n",
       "      <th>Event Clearance Description</th>\n",
       "      <th>Call Type</th>\n",
       "      <th>Priority</th>\n",
       "      <th>Initial Call Type</th>\n",
       "      <th>Final Call Type</th>\n",
       "      <th>Original Time Queued</th>\n",
       "      <th>Arrived Time</th>\n",
       "      <th>Precinct</th>\n",
       "      <th>Sector</th>\n",
       "      <th>Beat</th>\n",
       "    </tr>\n",
       "    <tr>\n",
       "      <th>CAD Event Number</th>\n",
       "      <th></th>\n",
       "      <th></th>\n",
       "      <th></th>\n",
       "      <th></th>\n",
       "      <th></th>\n",
       "      <th></th>\n",
       "      <th></th>\n",
       "      <th></th>\n",
       "      <th></th>\n",
       "      <th></th>\n",
       "    </tr>\n",
       "  </thead>\n",
       "  <tbody>\n",
       "    <tr>\n",
       "      <th>2010000066820</th>\n",
       "      <td>ASSISTANCE RENDERED</td>\n",
       "      <td>911</td>\n",
       "      <td>2</td>\n",
       "      <td>MENTAL - PERSON OR PICKUP/TRANSPORT</td>\n",
       "      <td>--SEX OFFENSES (NON-RAPE) - LEWD CONDUCT</td>\n",
       "      <td>02/27/2010 10:54:25 PM</td>\n",
       "      <td>Feb 27 2010 10:55:45:000PM</td>\n",
       "      <td>NORTH</td>\n",
       "      <td>UNION</td>\n",
       "      <td>U1</td>\n",
       "    </tr>\n",
       "    <tr>\n",
       "      <th>2010000000327</th>\n",
       "      <td>PHYSICAL ARREST MADE</td>\n",
       "      <td>911</td>\n",
       "      <td>1</td>\n",
       "      <td>ASLT - IP/JO - WITH OR W/O WPNS (NO SHOOTINGS)</td>\n",
       "      <td>--ASSAULTS - FIREARM INVOLVED</td>\n",
       "      <td>01/01/2010 03:13:06 AM</td>\n",
       "      <td>Jan  1 2010 03:14:51:000AM</td>\n",
       "      <td>SOUTH</td>\n",
       "      <td>ROBERT</td>\n",
       "      <td>R3</td>\n",
       "    </tr>\n",
       "    <tr>\n",
       "      <th>2010000000451</th>\n",
       "      <td>REPORT WRITTEN (NO ARREST)</td>\n",
       "      <td>911</td>\n",
       "      <td>2</td>\n",
       "      <td>THEFT OF SERVICES</td>\n",
       "      <td>--ROBBERY - ARMED</td>\n",
       "      <td>01/01/2010 05:46:54 AM</td>\n",
       "      <td>Jan  1 2010 06:39:35:000AM</td>\n",
       "      <td>NORTH</td>\n",
       "      <td>UNION</td>\n",
       "      <td>U1</td>\n",
       "    </tr>\n",
       "    <tr>\n",
       "      <th>2010000000466</th>\n",
       "      <td>REPORT WRITTEN (NO ARREST)</td>\n",
       "      <td>TELEPHONE OTHER, NOT 911</td>\n",
       "      <td>3</td>\n",
       "      <td>RAPE</td>\n",
       "      <td>--RAPE - KNOWN SUSPECT (ACQUAINTANCE)</td>\n",
       "      <td>01/01/2010 06:28:49 AM</td>\n",
       "      <td>Jan  1 2010 06:40:09:000AM</td>\n",
       "      <td>EAST</td>\n",
       "      <td>GEORGE</td>\n",
       "      <td>G1</td>\n",
       "    </tr>\n",
       "    <tr>\n",
       "      <th>2010000000776</th>\n",
       "      <td>REPORT WRITTEN (NO ARREST)</td>\n",
       "      <td>911</td>\n",
       "      <td>3</td>\n",
       "      <td>RAPE</td>\n",
       "      <td>--RAPE - KNOWN SUSPECT (ACQUAINTANCE)</td>\n",
       "      <td>01/01/2010 03:05:57 PM</td>\n",
       "      <td>Jan  1 2010 03:12:26:000PM</td>\n",
       "      <td>SOUTHWEST</td>\n",
       "      <td>FRANK</td>\n",
       "      <td>F3</td>\n",
       "    </tr>\n",
       "  </tbody>\n",
       "</table>\n",
       "</div>"
      ],
      "text/plain": [
       "                 Event Clearance Description                 Call Type  \\\n",
       "CAD Event Number                                                         \n",
       "2010000066820            ASSISTANCE RENDERED                       911   \n",
       "2010000000327           PHYSICAL ARREST MADE                       911   \n",
       "2010000000451     REPORT WRITTEN (NO ARREST)                       911   \n",
       "2010000000466     REPORT WRITTEN (NO ARREST)  TELEPHONE OTHER, NOT 911   \n",
       "2010000000776     REPORT WRITTEN (NO ARREST)                       911   \n",
       "\n",
       "                  Priority                               Initial Call Type  \\\n",
       "CAD Event Number                                                             \n",
       "2010000066820            2             MENTAL - PERSON OR PICKUP/TRANSPORT   \n",
       "2010000000327            1  ASLT - IP/JO - WITH OR W/O WPNS (NO SHOOTINGS)   \n",
       "2010000000451            2                               THEFT OF SERVICES   \n",
       "2010000000466            3                                            RAPE   \n",
       "2010000000776            3                                            RAPE   \n",
       "\n",
       "                                           Final Call Type  \\\n",
       "CAD Event Number                                             \n",
       "2010000066820     --SEX OFFENSES (NON-RAPE) - LEWD CONDUCT   \n",
       "2010000000327                --ASSAULTS - FIREARM INVOLVED   \n",
       "2010000000451                            --ROBBERY - ARMED   \n",
       "2010000000466        --RAPE - KNOWN SUSPECT (ACQUAINTANCE)   \n",
       "2010000000776        --RAPE - KNOWN SUSPECT (ACQUAINTANCE)   \n",
       "\n",
       "                    Original Time Queued                Arrived Time  \\\n",
       "CAD Event Number                                                       \n",
       "2010000066820     02/27/2010 10:54:25 PM  Feb 27 2010 10:55:45:000PM   \n",
       "2010000000327     01/01/2010 03:13:06 AM  Jan  1 2010 03:14:51:000AM   \n",
       "2010000000451     01/01/2010 05:46:54 AM  Jan  1 2010 06:39:35:000AM   \n",
       "2010000000466     01/01/2010 06:28:49 AM  Jan  1 2010 06:40:09:000AM   \n",
       "2010000000776     01/01/2010 03:05:57 PM  Jan  1 2010 03:12:26:000PM   \n",
       "\n",
       "                   Precinct  Sector Beat  \n",
       "CAD Event Number                          \n",
       "2010000066820         NORTH   UNION   U1  \n",
       "2010000000327         SOUTH  ROBERT   R3  \n",
       "2010000000451         NORTH   UNION   U1  \n",
       "2010000000466          EAST  GEORGE   G1  \n",
       "2010000000776     SOUTHWEST   FRANK   F3  "
      ]
     },
     "execution_count": 3,
     "metadata": {},
     "output_type": "execute_result"
    }
   ],
   "source": [
    "# Import data and create df\n",
    "\n",
    "data = pd.read_csv(\"/Users/Stacy/Documents/WebDevelopment/projects/sexualAssault_datasets/2010-2018_sexcrimes_violentcrimes.csv\", index_col=\"CAD Event Number\")\n",
    "data = pd.DataFrame(data)\n",
    "data.head()"
   ]
  },
  {
   "cell_type": "code",
   "execution_count": 4,
   "metadata": {},
   "outputs": [
    {
     "data": {
      "text/html": [
       "<div>\n",
       "<style scoped>\n",
       "    .dataframe tbody tr th:only-of-type {\n",
       "        vertical-align: middle;\n",
       "    }\n",
       "\n",
       "    .dataframe tbody tr th {\n",
       "        vertical-align: top;\n",
       "    }\n",
       "\n",
       "    .dataframe thead th {\n",
       "        text-align: right;\n",
       "    }\n",
       "</style>\n",
       "<table border=\"1\" class=\"dataframe\">\n",
       "  <thead>\n",
       "    <tr style=\"text-align: right;\">\n",
       "      <th></th>\n",
       "      <th>event_clearing</th>\n",
       "      <th>call_type</th>\n",
       "      <th>priority</th>\n",
       "      <th>initial_call_type</th>\n",
       "      <th>final_call_type</th>\n",
       "      <th>original_time_queued</th>\n",
       "      <th>arrived_time</th>\n",
       "      <th>precinct</th>\n",
       "      <th>sector</th>\n",
       "      <th>beat</th>\n",
       "    </tr>\n",
       "    <tr>\n",
       "      <th>CAD Event Number</th>\n",
       "      <th></th>\n",
       "      <th></th>\n",
       "      <th></th>\n",
       "      <th></th>\n",
       "      <th></th>\n",
       "      <th></th>\n",
       "      <th></th>\n",
       "      <th></th>\n",
       "      <th></th>\n",
       "      <th></th>\n",
       "    </tr>\n",
       "  </thead>\n",
       "  <tbody>\n",
       "    <tr>\n",
       "      <th>2010000066820</th>\n",
       "      <td>ASSISTANCE RENDERED</td>\n",
       "      <td>911</td>\n",
       "      <td>2</td>\n",
       "      <td>MENTAL - PERSON OR PICKUP/TRANSPORT</td>\n",
       "      <td>--SEX OFFENSES (NON-RAPE) - LEWD CONDUCT</td>\n",
       "      <td>02/27/2010 10:54:25 PM</td>\n",
       "      <td>Feb 27 2010 10:55:45:000PM</td>\n",
       "      <td>NORTH</td>\n",
       "      <td>UNION</td>\n",
       "      <td>U1</td>\n",
       "    </tr>\n",
       "    <tr>\n",
       "      <th>2010000000327</th>\n",
       "      <td>PHYSICAL ARREST MADE</td>\n",
       "      <td>911</td>\n",
       "      <td>1</td>\n",
       "      <td>ASLT - IP/JO - WITH OR W/O WPNS (NO SHOOTINGS)</td>\n",
       "      <td>--ASSAULTS - FIREARM INVOLVED</td>\n",
       "      <td>01/01/2010 03:13:06 AM</td>\n",
       "      <td>Jan  1 2010 03:14:51:000AM</td>\n",
       "      <td>SOUTH</td>\n",
       "      <td>ROBERT</td>\n",
       "      <td>R3</td>\n",
       "    </tr>\n",
       "    <tr>\n",
       "      <th>2010000000451</th>\n",
       "      <td>REPORT WRITTEN (NO ARREST)</td>\n",
       "      <td>911</td>\n",
       "      <td>2</td>\n",
       "      <td>THEFT OF SERVICES</td>\n",
       "      <td>--ROBBERY - ARMED</td>\n",
       "      <td>01/01/2010 05:46:54 AM</td>\n",
       "      <td>Jan  1 2010 06:39:35:000AM</td>\n",
       "      <td>NORTH</td>\n",
       "      <td>UNION</td>\n",
       "      <td>U1</td>\n",
       "    </tr>\n",
       "    <tr>\n",
       "      <th>2010000000466</th>\n",
       "      <td>REPORT WRITTEN (NO ARREST)</td>\n",
       "      <td>TELEPHONE OTHER, NOT 911</td>\n",
       "      <td>3</td>\n",
       "      <td>RAPE</td>\n",
       "      <td>--RAPE - KNOWN SUSPECT (ACQUAINTANCE)</td>\n",
       "      <td>01/01/2010 06:28:49 AM</td>\n",
       "      <td>Jan  1 2010 06:40:09:000AM</td>\n",
       "      <td>EAST</td>\n",
       "      <td>GEORGE</td>\n",
       "      <td>G1</td>\n",
       "    </tr>\n",
       "    <tr>\n",
       "      <th>2010000000776</th>\n",
       "      <td>REPORT WRITTEN (NO ARREST)</td>\n",
       "      <td>911</td>\n",
       "      <td>3</td>\n",
       "      <td>RAPE</td>\n",
       "      <td>--RAPE - KNOWN SUSPECT (ACQUAINTANCE)</td>\n",
       "      <td>01/01/2010 03:05:57 PM</td>\n",
       "      <td>Jan  1 2010 03:12:26:000PM</td>\n",
       "      <td>SOUTHWEST</td>\n",
       "      <td>FRANK</td>\n",
       "      <td>F3</td>\n",
       "    </tr>\n",
       "  </tbody>\n",
       "</table>\n",
       "</div>"
      ],
      "text/plain": [
       "                              event_clearing                 call_type  \\\n",
       "CAD Event Number                                                         \n",
       "2010000066820            ASSISTANCE RENDERED                       911   \n",
       "2010000000327           PHYSICAL ARREST MADE                       911   \n",
       "2010000000451     REPORT WRITTEN (NO ARREST)                       911   \n",
       "2010000000466     REPORT WRITTEN (NO ARREST)  TELEPHONE OTHER, NOT 911   \n",
       "2010000000776     REPORT WRITTEN (NO ARREST)                       911   \n",
       "\n",
       "                  priority                               initial_call_type  \\\n",
       "CAD Event Number                                                             \n",
       "2010000066820            2             MENTAL - PERSON OR PICKUP/TRANSPORT   \n",
       "2010000000327            1  ASLT - IP/JO - WITH OR W/O WPNS (NO SHOOTINGS)   \n",
       "2010000000451            2                               THEFT OF SERVICES   \n",
       "2010000000466            3                                            RAPE   \n",
       "2010000000776            3                                            RAPE   \n",
       "\n",
       "                                           final_call_type  \\\n",
       "CAD Event Number                                             \n",
       "2010000066820     --SEX OFFENSES (NON-RAPE) - LEWD CONDUCT   \n",
       "2010000000327                --ASSAULTS - FIREARM INVOLVED   \n",
       "2010000000451                            --ROBBERY - ARMED   \n",
       "2010000000466        --RAPE - KNOWN SUSPECT (ACQUAINTANCE)   \n",
       "2010000000776        --RAPE - KNOWN SUSPECT (ACQUAINTANCE)   \n",
       "\n",
       "                    original_time_queued                arrived_time  \\\n",
       "CAD Event Number                                                       \n",
       "2010000066820     02/27/2010 10:54:25 PM  Feb 27 2010 10:55:45:000PM   \n",
       "2010000000327     01/01/2010 03:13:06 AM  Jan  1 2010 03:14:51:000AM   \n",
       "2010000000451     01/01/2010 05:46:54 AM  Jan  1 2010 06:39:35:000AM   \n",
       "2010000000466     01/01/2010 06:28:49 AM  Jan  1 2010 06:40:09:000AM   \n",
       "2010000000776     01/01/2010 03:05:57 PM  Jan  1 2010 03:12:26:000PM   \n",
       "\n",
       "                   precinct  sector beat  \n",
       "CAD Event Number                          \n",
       "2010000066820         NORTH   UNION   U1  \n",
       "2010000000327         SOUTH  ROBERT   R3  \n",
       "2010000000451         NORTH   UNION   U1  \n",
       "2010000000466          EAST  GEORGE   G1  \n",
       "2010000000776     SOUTHWEST   FRANK   F3  "
      ]
     },
     "execution_count": 4,
     "metadata": {},
     "output_type": "execute_result"
    }
   ],
   "source": [
    "# Rename columns to be pythonic\n",
    "\n",
    "data.columns = ['event_clearing', 'call_type', 'priority', \n",
    "                'initial_call_type', 'final_call_type', 'original_time_queued',\n",
    "               'arrived_time', 'precinct', 'sector', 'beat']\n",
    "\n",
    "data.head()"
   ]
  },
  {
   "cell_type": "code",
   "execution_count": 5,
   "metadata": {},
   "outputs": [],
   "source": [
    "# ID all calls cancelled by dispatch\n",
    "cancelled_calls = data[data.event_clearing.str.contains(\"CANCELLED\")]\n",
    "\n",
    "# Delete rows with cxl'd calls\n",
    "\n",
    "data = data[data.event_clearing != 'RESPONDING UNIT(S) CANCELLED BY RADIO']\n",
    "data = data[data.event_clearing != 'DUPLICATED OR CANCELLED BY RADIO']\n"
   ]
  },
  {
   "cell_type": "code",
   "execution_count": 6,
   "metadata": {},
   "outputs": [],
   "source": [
    "# Change original_time_queued to datetime\n",
    "data['original_time_queued'] = pd.to_datetime(data.original_time_queued)\n",
    "\n",
    "# Change arrived_time to datetime\n",
    "data['arrived_time'] = pd.to_datetime(data.arrived_time, format='%b %d %Y %I:%M:%S:%f%p')\n",
    "\n",
    "# Add time delta between original_time_queued and arrived_time\n",
    "data['time_delta'] = (data.arrived_time - data.original_time_queued)/np.timedelta64(1, 's')"
   ]
  },
  {
   "cell_type": "code",
   "execution_count": 7,
   "metadata": {},
   "outputs": [],
   "source": [
    "# Add columns for arrived year and month\n",
    "\n",
    "data['year'] = data.arrived_time.dt.year\n",
    "data['month'] = data.arrived_time.dt.month"
   ]
  },
  {
   "cell_type": "code",
   "execution_count": 8,
   "metadata": {},
   "outputs": [
    {
     "data": {
      "text/plain": [
       "2018    2827\n",
       "2016    2624\n",
       "2017    2543\n",
       "2015    2491\n",
       "2014    2170\n",
       "2012    2162\n",
       "2013    2159\n",
       "2011    2118\n",
       "2010    2010\n",
       "Name: year, dtype: int64"
      ]
     },
     "execution_count": 8,
     "metadata": {},
     "output_type": "execute_result"
    }
   ],
   "source": [
    "# For rows with bad arrived time: change month and year to original_time_queued\n",
    "# Where arrive_time year = 1900, change data.year and data.month to original_time_queued year\n",
    "\n",
    "mask = data.year < 1901\n",
    "column_name_year = 'year'\n",
    "column_name_month = 'month'\n",
    "data.loc[mask, column_name_year] = data.original_time_queued.dt.year\n",
    "data.loc[mask, column_name_month] = data.original_time_queued.dt.month\n",
    "\n",
    "\n",
    "data.year.value_counts()"
   ]
  },
  {
   "cell_type": "code",
   "execution_count": 9,
   "metadata": {},
   "outputs": [
    {
     "data": {
      "text/plain": [
       "['--SEX OFFENSES (NON-RAPE) - LEWD CONDUCT',\n",
       " '--ASSAULTS - FIREARM INVOLVED',\n",
       " '--ROBBERY - ARMED',\n",
       " '--RAPE - KNOWN SUSPECT (ACQUAINTANCE)',\n",
       " '--RAPE - UNKNOWN SUSPECT (STRANGER)',\n",
       " '--HOMICIDE',\n",
       " '--SEX OFFENSES (RAPE) - MOLESTING',\n",
       " '--KIDNAP - GENERAL',\n",
       " '--DRIVE BY SHOOTING - NO INJURIES',\n",
       " '--COMMERCIAL SEXUAL EXPLOITATION OF MINORS (CSEC)']"
      ]
     },
     "execution_count": 9,
     "metadata": {},
     "output_type": "execute_result"
    }
   ],
   "source": [
    "call_types = data['final_call_type'].unique().tolist()\n",
    "call_types"
   ]
  },
  {
   "cell_type": "code",
   "execution_count": 72,
   "metadata": {},
   "outputs": [],
   "source": [
    "# Define TRU initial call types\n",
    "TRU_call_types = [\n",
    "    'TRU - ASLT - WITH OR W/O WPNS (NO SHOOTINGS)',\n",
    "    'TRU - RAPE',\n",
    "    'TRU - LEWD CONDUCT',\n",
    "    'TRU - CHILD ABUSED, NEGLECTED',\n",
    "    'TRU - THREATS',\n",
    "    'TRU - ROBBERY',\n",
    "    'TRU - ASLT - MOLESTED ADULT (GROPED, FONDLED, ETC)',\n",
    "    'TRU - HARASSMENT',\n",
    "    'TRU - SEX IN PUBLIC',\n",
    "    'TRU - THEFT',\n",
    "    'TRU - FOLLOW UP',\n",
    "    'TRU - MVC - HIT AND RUN',\n",
    "    'TRU - LURING',\n",
    "    'TRU - FORGERY/CHKS/BUNCO/SCAMS/ID THEFT',\n",
    "    'TRU - SUSPICIOUS CIRCUMSTANCES']"
   ]
  },
  {
   "cell_type": "code",
   "execution_count": 10,
   "metadata": {},
   "outputs": [
    {
     "data": {
      "text/plain": [
       "['--RAPE - KNOWN SUSPECT (ACQUAINTANCE)',\n",
       " '--RAPE - UNKNOWN SUSPECT (STRANGER)']"
      ]
     },
     "execution_count": 10,
     "metadata": {},
     "output_type": "execute_result"
    }
   ],
   "source": [
    "# Define terms that id rape CFS\n",
    "rape_terms = 'STRANGER|ACQUAINTANCE'\n",
    "rape_call_types = [\n",
    "    '--RAPE - KNOWN SUSPECT (ACQUAINTANCE)',\n",
    "    '--RAPE - UNKNOWN SUSPECT (STRANGER)']\n",
    "\n",
    "rape_call_types"
   ]
  },
  {
   "cell_type": "code",
   "execution_count": 11,
   "metadata": {},
   "outputs": [
    {
     "data": {
      "text/plain": [
       "['--ASSAULTS - FIREARM INVOLVED',\n",
       " '--ROBBERY - ARMED',\n",
       " '--HOMICIDE',\n",
       " '--KIDNAP - GENERAL',\n",
       " '--DRIVE BY SHOOTING - NO INJURIES']"
      ]
     },
     "execution_count": 11,
     "metadata": {},
     "output_type": "execute_result"
    }
   ],
   "source": [
    "# Define terms that id other violent crimes\n",
    "violent_crime_call_types = [\n",
    "    '--ASSAULTS - FIREARM INVOLVED',\n",
    "    '--ROBBERY - ARMED',\n",
    "    '--HOMICIDE',\n",
    "    '--KIDNAP - GENERAL',\n",
    "    '--DRIVE BY SHOOTING - NO INJURIES']\n",
    "\n",
    "violent_crime_call_types"
   ]
  },
  {
   "cell_type": "code",
   "execution_count": 12,
   "metadata": {},
   "outputs": [
    {
     "data": {
      "text/plain": [
       "['ASSISTANCE RENDERED',\n",
       " 'PHYSICAL ARREST MADE',\n",
       " 'REPORT WRITTEN (NO ARREST)',\n",
       " 'FOLLOW-UP REPORT MADE',\n",
       " 'UNABLE TO LOCATE INCIDENT OR COMPLAINANT',\n",
       " 'OTHER REPORT MADE',\n",
       " 'Evidence Submitted (new incident number required)',\n",
       " 'ORAL WARNING GIVEN',\n",
       " 'RADIO BROADCAST AND CLEAR',\n",
       " 'NO POLICE ACTION POSSIBLE OR NECESSARY',\n",
       " 'EXTRA UNIT',\n",
       " 'CITATION ISSUED (CRIMINAL OR NON-CRIMINAL)',\n",
       " 'INCIDENT LOCATED, PUBLIC ORDER RESTORED',\n",
       " 'NON-CRIMINAL REFERRAL',\n",
       " 'FALSE COMPLAINT/UNFOUNDED',\n",
       " 'STREET CHECK WRITTEN',\n",
       " 'PROBLEM SOLVING PROJECT',\n",
       " 'Citations – Criminal Citation Issued (new incident number required)',\n",
       " '(NOT CURRENTLY USED) ALARM NO RESPONSE',\n",
       " 'TRANSPORTATION OR ESCORT PROVIDED',\n",
       " 'NO SUCH ADDRESS OR LOCATION']"
      ]
     },
     "execution_count": 12,
     "metadata": {},
     "output_type": "execute_result"
    }
   ],
   "source": [
    "# ID all clearing codes\n",
    "clearing_codes = data['event_clearing'].unique().tolist()\n",
    "clearing_codes"
   ]
  },
  {
   "cell_type": "code",
   "execution_count": 13,
   "metadata": {},
   "outputs": [],
   "source": [
    "# ID arrest clearing codes\n",
    "\n",
    "arrest_cc = ['PHYSICAL ARREST MADE']"
   ]
  },
  {
   "cell_type": "code",
   "execution_count": 14,
   "metadata": {},
   "outputs": [],
   "source": [
    "# Add column identifying if there was an arrest\n",
    "\n",
    "data['is_arrest'] = np.where(data['event_clearing'].isin(arrest_cc), 'yes', 'no')"
   ]
  },
  {
   "cell_type": "code",
   "execution_count": 77,
   "metadata": {},
   "outputs": [],
   "source": [
    "# Add column identifying if this was A TRU call\n",
    "\n",
    "data['is_TRU'] = np.where(data['initial_call_type'].isin(TRU_call_types), 'yes', 'no')\n",
    "\n",
    "# data.is_TRU.unique().tolist()"
   ]
  },
  {
   "cell_type": "code",
   "execution_count": 15,
   "metadata": {},
   "outputs": [
    {
     "data": {
      "text/html": [
       "<div>\n",
       "<style scoped>\n",
       "    .dataframe tbody tr th:only-of-type {\n",
       "        vertical-align: middle;\n",
       "    }\n",
       "\n",
       "    .dataframe tbody tr th {\n",
       "        vertical-align: top;\n",
       "    }\n",
       "\n",
       "    .dataframe thead th {\n",
       "        text-align: right;\n",
       "    }\n",
       "</style>\n",
       "<table border=\"1\" class=\"dataframe\">\n",
       "  <thead>\n",
       "    <tr style=\"text-align: right;\">\n",
       "      <th></th>\n",
       "      <th>event_clearing</th>\n",
       "      <th>call_type</th>\n",
       "      <th>priority</th>\n",
       "      <th>initial_call_type</th>\n",
       "      <th>final_call_type</th>\n",
       "      <th>original_time_queued</th>\n",
       "      <th>arrived_time</th>\n",
       "      <th>precinct</th>\n",
       "      <th>sector</th>\n",
       "      <th>beat</th>\n",
       "      <th>time_delta</th>\n",
       "      <th>year</th>\n",
       "      <th>month</th>\n",
       "      <th>is_arrest</th>\n",
       "      <th>crime_type</th>\n",
       "    </tr>\n",
       "    <tr>\n",
       "      <th>CAD Event Number</th>\n",
       "      <th></th>\n",
       "      <th></th>\n",
       "      <th></th>\n",
       "      <th></th>\n",
       "      <th></th>\n",
       "      <th></th>\n",
       "      <th></th>\n",
       "      <th></th>\n",
       "      <th></th>\n",
       "      <th></th>\n",
       "      <th></th>\n",
       "      <th></th>\n",
       "      <th></th>\n",
       "      <th></th>\n",
       "      <th></th>\n",
       "    </tr>\n",
       "  </thead>\n",
       "  <tbody>\n",
       "    <tr>\n",
       "      <th>2010000066820</th>\n",
       "      <td>ASSISTANCE RENDERED</td>\n",
       "      <td>911</td>\n",
       "      <td>2</td>\n",
       "      <td>MENTAL - PERSON OR PICKUP/TRANSPORT</td>\n",
       "      <td>--SEX OFFENSES (NON-RAPE) - LEWD CONDUCT</td>\n",
       "      <td>2010-02-27 22:54:25</td>\n",
       "      <td>2010-02-27 22:55:45</td>\n",
       "      <td>NORTH</td>\n",
       "      <td>UNION</td>\n",
       "      <td>U1</td>\n",
       "      <td>80.0</td>\n",
       "      <td>2010</td>\n",
       "      <td>2</td>\n",
       "      <td>no</td>\n",
       "      <td>violent crime</td>\n",
       "    </tr>\n",
       "    <tr>\n",
       "      <th>2010000000327</th>\n",
       "      <td>PHYSICAL ARREST MADE</td>\n",
       "      <td>911</td>\n",
       "      <td>1</td>\n",
       "      <td>ASLT - IP/JO - WITH OR W/O WPNS (NO SHOOTINGS)</td>\n",
       "      <td>--ASSAULTS - FIREARM INVOLVED</td>\n",
       "      <td>2010-01-01 03:13:06</td>\n",
       "      <td>2010-01-01 03:14:51</td>\n",
       "      <td>SOUTH</td>\n",
       "      <td>ROBERT</td>\n",
       "      <td>R3</td>\n",
       "      <td>105.0</td>\n",
       "      <td>2010</td>\n",
       "      <td>1</td>\n",
       "      <td>yes</td>\n",
       "      <td>violent crime</td>\n",
       "    </tr>\n",
       "    <tr>\n",
       "      <th>2010000000451</th>\n",
       "      <td>REPORT WRITTEN (NO ARREST)</td>\n",
       "      <td>911</td>\n",
       "      <td>2</td>\n",
       "      <td>THEFT OF SERVICES</td>\n",
       "      <td>--ROBBERY - ARMED</td>\n",
       "      <td>2010-01-01 05:46:54</td>\n",
       "      <td>2010-01-01 06:39:35</td>\n",
       "      <td>NORTH</td>\n",
       "      <td>UNION</td>\n",
       "      <td>U1</td>\n",
       "      <td>3161.0</td>\n",
       "      <td>2010</td>\n",
       "      <td>1</td>\n",
       "      <td>no</td>\n",
       "      <td>violent crime</td>\n",
       "    </tr>\n",
       "    <tr>\n",
       "      <th>2010000000466</th>\n",
       "      <td>REPORT WRITTEN (NO ARREST)</td>\n",
       "      <td>TELEPHONE OTHER, NOT 911</td>\n",
       "      <td>3</td>\n",
       "      <td>RAPE</td>\n",
       "      <td>--RAPE - KNOWN SUSPECT (ACQUAINTANCE)</td>\n",
       "      <td>2010-01-01 06:28:49</td>\n",
       "      <td>2010-01-01 06:40:09</td>\n",
       "      <td>EAST</td>\n",
       "      <td>GEORGE</td>\n",
       "      <td>G1</td>\n",
       "      <td>680.0</td>\n",
       "      <td>2010</td>\n",
       "      <td>1</td>\n",
       "      <td>no</td>\n",
       "      <td>rape</td>\n",
       "    </tr>\n",
       "    <tr>\n",
       "      <th>2010000000776</th>\n",
       "      <td>REPORT WRITTEN (NO ARREST)</td>\n",
       "      <td>911</td>\n",
       "      <td>3</td>\n",
       "      <td>RAPE</td>\n",
       "      <td>--RAPE - KNOWN SUSPECT (ACQUAINTANCE)</td>\n",
       "      <td>2010-01-01 15:05:57</td>\n",
       "      <td>2010-01-01 15:12:26</td>\n",
       "      <td>SOUTHWEST</td>\n",
       "      <td>FRANK</td>\n",
       "      <td>F3</td>\n",
       "      <td>389.0</td>\n",
       "      <td>2010</td>\n",
       "      <td>1</td>\n",
       "      <td>no</td>\n",
       "      <td>rape</td>\n",
       "    </tr>\n",
       "  </tbody>\n",
       "</table>\n",
       "</div>"
      ],
      "text/plain": [
       "                              event_clearing                 call_type  \\\n",
       "CAD Event Number                                                         \n",
       "2010000066820            ASSISTANCE RENDERED                       911   \n",
       "2010000000327           PHYSICAL ARREST MADE                       911   \n",
       "2010000000451     REPORT WRITTEN (NO ARREST)                       911   \n",
       "2010000000466     REPORT WRITTEN (NO ARREST)  TELEPHONE OTHER, NOT 911   \n",
       "2010000000776     REPORT WRITTEN (NO ARREST)                       911   \n",
       "\n",
       "                  priority                               initial_call_type  \\\n",
       "CAD Event Number                                                             \n",
       "2010000066820            2             MENTAL - PERSON OR PICKUP/TRANSPORT   \n",
       "2010000000327            1  ASLT - IP/JO - WITH OR W/O WPNS (NO SHOOTINGS)   \n",
       "2010000000451            2                               THEFT OF SERVICES   \n",
       "2010000000466            3                                            RAPE   \n",
       "2010000000776            3                                            RAPE   \n",
       "\n",
       "                                           final_call_type  \\\n",
       "CAD Event Number                                             \n",
       "2010000066820     --SEX OFFENSES (NON-RAPE) - LEWD CONDUCT   \n",
       "2010000000327                --ASSAULTS - FIREARM INVOLVED   \n",
       "2010000000451                            --ROBBERY - ARMED   \n",
       "2010000000466        --RAPE - KNOWN SUSPECT (ACQUAINTANCE)   \n",
       "2010000000776        --RAPE - KNOWN SUSPECT (ACQUAINTANCE)   \n",
       "\n",
       "                 original_time_queued        arrived_time   precinct  sector  \\\n",
       "CAD Event Number                                                               \n",
       "2010000066820     2010-02-27 22:54:25 2010-02-27 22:55:45      NORTH   UNION   \n",
       "2010000000327     2010-01-01 03:13:06 2010-01-01 03:14:51      SOUTH  ROBERT   \n",
       "2010000000451     2010-01-01 05:46:54 2010-01-01 06:39:35      NORTH   UNION   \n",
       "2010000000466     2010-01-01 06:28:49 2010-01-01 06:40:09       EAST  GEORGE   \n",
       "2010000000776     2010-01-01 15:05:57 2010-01-01 15:12:26  SOUTHWEST   FRANK   \n",
       "\n",
       "                 beat  time_delta  year  month is_arrest     crime_type  \n",
       "CAD Event Number                                                         \n",
       "2010000066820      U1        80.0  2010      2        no  violent crime  \n",
       "2010000000327      R3       105.0  2010      1       yes  violent crime  \n",
       "2010000000451      U1      3161.0  2010      1        no  violent crime  \n",
       "2010000000466      G1       680.0  2010      1        no           rape  \n",
       "2010000000776      F3       389.0  2010      1        no           rape  "
      ]
     },
     "execution_count": 15,
     "metadata": {},
     "output_type": "execute_result"
    }
   ],
   "source": [
    "# Add column identifying crime type\n",
    "data['crime_type'] = np.where(data['final_call_type'].isin(rape_call_types), 'rape', 'violent crime')\n",
    "\n",
    "data.head()"
   ]
  },
  {
   "cell_type": "code",
   "execution_count": 22,
   "metadata": {},
   "outputs": [
    {
     "data": {
      "text/plain": [
       "<matplotlib.axes._subplots.AxesSubplot at 0x11ab629e8>"
      ]
     },
     "execution_count": 22,
     "metadata": {},
     "output_type": "execute_result"
    },
    {
     "data": {
      "image/png": "[encoded data removed]",
      "text/plain": [
       "<Figure size 432x288 with 1 Axes>"
      ]
     },
     "metadata": {
      "needs_background": "light"
     },
     "output_type": "display_data"
    }
   ],
   "source": [
    "# Count of rape calls v. other violent crime calls\n",
    "\n",
    "data['final_call_type'].groupby(data['crime_type']).count().plot(kind='bar')"
   ]
  },
  {
   "cell_type": "code",
   "execution_count": 41,
   "metadata": {},
   "outputs": [
    {
     "data": {
      "text/html": [
       "<div>\n",
       "<style scoped>\n",
       "    .dataframe tbody tr th:only-of-type {\n",
       "        vertical-align: middle;\n",
       "    }\n",
       "\n",
       "    .dataframe tbody tr th {\n",
       "        vertical-align: top;\n",
       "    }\n",
       "\n",
       "    .dataframe thead th {\n",
       "        text-align: right;\n",
       "    }\n",
       "</style>\n",
       "<table border=\"1\" class=\"dataframe\">\n",
       "  <thead>\n",
       "    <tr style=\"text-align: right;\">\n",
       "      <th>is_arrest</th>\n",
       "      <th>no</th>\n",
       "      <th>yes</th>\n",
       "    </tr>\n",
       "  </thead>\n",
       "  <tbody>\n",
       "    <tr>\n",
       "      <th>rape</th>\n",
       "      <td>93.751655</td>\n",
       "      <td>6.248345</td>\n",
       "    </tr>\n",
       "    <tr>\n",
       "      <th>violent crime</th>\n",
       "      <td>90.846656</td>\n",
       "      <td>9.153344</td>\n",
       "    </tr>\n",
       "  </tbody>\n",
       "</table>\n",
       "</div>"
      ],
      "text/plain": [
       "is_arrest             no       yes\n",
       "rape           93.751655  6.248345\n",
       "violent crime  90.846656  9.153344"
      ]
     },
     "execution_count": 41,
     "metadata": {},
     "output_type": "execute_result"
    }
   ],
   "source": [
    "# Use crosstab to return value counts\n",
    "# Reference: https://colab.research.google.com/drive/1VtMSdMy396U6BGVdz2qRsgRveYW9uTHi#scrollTo=FVB-Gc0lAH1W\n",
    "# and: https://stackoverflow.com/questions/53108063/python-pandas-data-visualization-how-to-get-percentages-for-each-row-and-v\n",
    "\n",
    "arrest_percent = pd.crosstab(data.crime_type,data.is_arrest,\n",
    "                          normalize = 'index').rename_axis(None)\n",
    "\n",
    "# Multiply all percentages by 100 for graphing. \n",
    "arrest_percent *= 100\n",
    "\n",
    "arrest_percent"
   ]
  },
  {
   "cell_type": "code",
   "execution_count": 28,
   "metadata": {},
   "outputs": [
    {
     "data": {
      "image/png": "[encoded data removed]",
      "text/plain": [
       "<Figure size 432x288 with 1 Axes>"
      ]
     },
     "metadata": {
      "needs_background": "light"
     },
     "output_type": "display_data"
    }
   ],
   "source": [
    "# Plot only arrests as bar graph. \n",
    "plt.bar(arrest_percent.index, arrest_percent.yes, align='center', alpha=0.5)\n",
    "plt.ylabel('percent')\n",
    "plt.title('Arrest Percentages')\n",
    "\n",
    "plt.show()"
   ]
  },
  {
   "cell_type": "code",
   "execution_count": 32,
   "metadata": {},
   "outputs": [
    {
     "data": {
      "text/html": [
       "<div>\n",
       "<style scoped>\n",
       "    .dataframe tbody tr th:only-of-type {\n",
       "        vertical-align: middle;\n",
       "    }\n",
       "\n",
       "    .dataframe tbody tr th {\n",
       "        vertical-align: top;\n",
       "    }\n",
       "\n",
       "    .dataframe thead th {\n",
       "        text-align: right;\n",
       "    }\n",
       "</style>\n",
       "<table border=\"1\" class=\"dataframe\">\n",
       "  <thead>\n",
       "    <tr style=\"text-align: right;\">\n",
       "      <th>is_arrest</th>\n",
       "      <th>no</th>\n",
       "      <th>yes</th>\n",
       "    </tr>\n",
       "  </thead>\n",
       "  <tbody>\n",
       "    <tr>\n",
       "      <th>--ASSAULTS - FIREARM INVOLVED</th>\n",
       "      <td>88.855055</td>\n",
       "      <td>11.144945</td>\n",
       "    </tr>\n",
       "    <tr>\n",
       "      <th>--COMMERCIAL SEXUAL EXPLOITATION OF MINORS (CSEC)</th>\n",
       "      <td>88.461538</td>\n",
       "      <td>11.538462</td>\n",
       "    </tr>\n",
       "    <tr>\n",
       "      <th>--DRIVE BY SHOOTING - NO INJURIES</th>\n",
       "      <td>96.675416</td>\n",
       "      <td>3.324584</td>\n",
       "    </tr>\n",
       "    <tr>\n",
       "      <th>--HOMICIDE</th>\n",
       "      <td>93.023256</td>\n",
       "      <td>6.976744</td>\n",
       "    </tr>\n",
       "    <tr>\n",
       "      <th>--KIDNAP - GENERAL</th>\n",
       "      <td>73.232323</td>\n",
       "      <td>26.767677</td>\n",
       "    </tr>\n",
       "    <tr>\n",
       "      <th>--RAPE - KNOWN SUSPECT (ACQUAINTANCE)</th>\n",
       "      <td>92.529489</td>\n",
       "      <td>7.470511</td>\n",
       "    </tr>\n",
       "    <tr>\n",
       "      <th>--RAPE - UNKNOWN SUSPECT (STRANGER)</th>\n",
       "      <td>95.631720</td>\n",
       "      <td>4.368280</td>\n",
       "    </tr>\n",
       "    <tr>\n",
       "      <th>--ROBBERY - ARMED</th>\n",
       "      <td>87.385087</td>\n",
       "      <td>12.614913</td>\n",
       "    </tr>\n",
       "    <tr>\n",
       "      <th>--SEX OFFENSES (NON-RAPE) - LEWD CONDUCT</th>\n",
       "      <td>93.071042</td>\n",
       "      <td>6.928958</td>\n",
       "    </tr>\n",
       "    <tr>\n",
       "      <th>--SEX OFFENSES (RAPE) - MOLESTING</th>\n",
       "      <td>94.352617</td>\n",
       "      <td>5.647383</td>\n",
       "    </tr>\n",
       "  </tbody>\n",
       "</table>\n",
       "</div>"
      ],
      "text/plain": [
       "is_arrest                                                 no        yes\n",
       "--ASSAULTS - FIREARM INVOLVED                      88.855055  11.144945\n",
       "--COMMERCIAL SEXUAL EXPLOITATION OF MINORS (CSEC)  88.461538  11.538462\n",
       "--DRIVE BY SHOOTING - NO INJURIES                  96.675416   3.324584\n",
       "--HOMICIDE                                         93.023256   6.976744\n",
       "--KIDNAP - GENERAL                                 73.232323  26.767677\n",
       "--RAPE - KNOWN SUSPECT (ACQUAINTANCE)              92.529489   7.470511\n",
       "--RAPE - UNKNOWN SUSPECT (STRANGER)                95.631720   4.368280\n",
       "--ROBBERY - ARMED                                  87.385087  12.614913\n",
       "--SEX OFFENSES (NON-RAPE) - LEWD CONDUCT           93.071042   6.928958\n",
       "--SEX OFFENSES (RAPE) - MOLESTING                  94.352617   5.647383"
      ]
     },
     "execution_count": 32,
     "metadata": {},
     "output_type": "execute_result"
    }
   ],
   "source": [
    "# Create crosstab to view all arrests by call type\n",
    "\n",
    "all_calls_arrest = pd.crosstab(data.final_call_type,data.is_arrest,\n",
    "                          normalize = 'index').rename_axis(None)\n",
    "all_calls_arrest *= 100\n",
    "\n",
    "all_calls_arrest"
   ]
  },
  {
   "cell_type": "code",
   "execution_count": 34,
   "metadata": {},
   "outputs": [
    {
     "data": {
      "image/png": "[encoded data removed]",
      "text/plain": [
       "<Figure size 432x288 with 1 Axes>"
      ]
     },
     "metadata": {
      "needs_background": "light"
     },
     "output_type": "display_data"
    }
   ],
   "source": [
    "# Plot only arrest percentages as bar graph. \n",
    "plt.bar(all_calls_arrest.index, all_calls_arrest.yes, align='center', alpha=0.5)\n",
    "plt.ylabel('Percentage Arrested')\n",
    "plt.title('% of calls that resulted in an arrest')\n",
    "plt.xticks(rotation=90)\n",
    "\n",
    "plt.show()"
   ]
  },
  {
   "cell_type": "code",
   "execution_count": 39,
   "metadata": {},
   "outputs": [
    {
     "data": {
      "text/plain": [
       "<matplotlib.axes._subplots.AxesSubplot at 0x11a3e9390>"
      ]
     },
     "execution_count": 39,
     "metadata": {},
     "output_type": "execute_result"
    },
    {
     "data": {
      "image/png": "[encoded data removed]",
      "text/plain": [
       "<Figure size 720x360 with 1 Axes>"
      ]
     },
     "metadata": {
      "needs_background": "light"
     },
     "output_type": "display_data"
    },
    {
     "data": {
      "image/png": "[encoded data removed]",
      "text/plain": [
       "<Figure size 720x576 with 1 Axes>"
      ]
     },
     "metadata": {
      "needs_background": "light"
     },
     "output_type": "display_data"
    }
   ],
   "source": [
    "# example viz only\n",
    "pd.value_counts(data.is_arrest).plot.bar(figsize=(10,5))\n",
    "data.groupby('is_arrest').year.value_counts().unstack(0).plot.bar(stacked=False, figsize=(10,8))\n",
    "\n"
   ]
  },
  {
   "cell_type": "markdown",
   "metadata": {},
   "source": [
    "## To Do:\n",
    "* Add year to arrest_percent analysis"
   ]
  },
  {
   "cell_type": "code",
   "execution_count": null,
   "metadata": {},
   "outputs": [],
   "source": []
  }
 ],
 "metadata": {
  "kernelspec": {
   "display_name": "Python 3",
   "language": "python",
   "name": "python3"
  },
  "language_info": {
   "codemirror_mode": {
    "name": "ipython",
    "version": 3
   },
   "file_extension": ".py",
   "mimetype": "text/x-python",
   "name": "python",
   "nbconvert_exporter": "python",
   "pygments_lexer": "ipython3",
   "version": "3.6.0"
  }
 },
 "nbformat": 4,
 "nbformat_minor": 2
}
