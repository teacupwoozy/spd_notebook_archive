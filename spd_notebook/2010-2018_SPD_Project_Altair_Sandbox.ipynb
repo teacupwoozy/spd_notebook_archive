{
 "cells": [
  {
   "cell_type": "code",
   "execution_count": 1,
   "metadata": {},
   "outputs": [],
   "source": [
    "import pandas as pd\n",
    "import numpy as np\n",
    "import matplotlib.pyplot as plt\n",
    "import plotly.plotly as py\n",
    "import altair as alt"
   ]
  },
  {
   "cell_type": "code",
   "execution_count": 2,
   "metadata": {},
   "outputs": [],
   "source": [
    "%matplotlib inline"
   ]
  },
  {
   "cell_type": "code",
   "execution_count": 3,
   "metadata": {},
   "outputs": [],
   "source": [
    "# Import data and create df\n",
    "\n",
    "data = pd.read_csv(\"/Users/Stacy/Documents/WebDevelopment/projects/sexualAssault_datasets/2010-2018_sexcrimes_violentcrimes.csv\", index_col=\"CAD Event Number\")\n",
    "data = pd.DataFrame(data)"
   ]
  },
  {
   "cell_type": "code",
   "execution_count": 4,
   "metadata": {},
   "outputs": [],
   "source": [
    "# Rename columns to be pythonic\n",
    "\n",
    "data.columns = ['event_clearing', 'call_type', 'priority', \n",
    "                'initial_call_type', 'final_call_type', 'original_time_queued',\n",
    "               'arrived_time', 'precinct', 'sector', 'beat']"
   ]
  },
  {
   "cell_type": "code",
   "execution_count": 5,
   "metadata": {},
   "outputs": [],
   "source": [
    "# ID all calls cancelled by dispatch\n",
    "\n",
    "cancelled_calls = data[data.event_clearing.str.contains(\"CANCELLED\")]\n",
    "\n",
    "# Delete rows with cxl'd calls\n",
    "\n",
    "data = data[data.event_clearing != 'RESPONDING UNIT(S) CANCELLED BY RADIO']\n",
    "data = data[data.event_clearing != 'DUPLICATED OR CANCELLED BY RADIO']"
   ]
  },
  {
   "cell_type": "markdown",
   "metadata": {},
   "source": [
    "#### Clean time values"
   ]
  },
  {
   "cell_type": "code",
   "execution_count": 6,
   "metadata": {},
   "outputs": [],
   "source": [
    "# Change original_time_queued to datetime\n",
    "data['original_time_queued'] = pd.to_datetime(data.original_time_queued)\n",
    "\n",
    "# Change arrived_time to datetime\n",
    "data['arrived_time'] = pd.to_datetime(data.arrived_time, format='%b %d %Y %I:%M:%S:%f%p')\n",
    "\n",
    "# Add time delta between original_time_queued and arrived_time\n",
    "data['time_delta'] = ((data.arrived_time - data.original_time_queued)/np.timedelta64(1, 's')).astype(int)"
   ]
  },
  {
   "cell_type": "code",
   "execution_count": 7,
   "metadata": {},
   "outputs": [],
   "source": [
    "# Add columns for arrived year and month\n",
    "data['year'] = data.arrived_time.dt.year\n",
    "data['month'] = data.arrived_time.dt.month\n",
    "\n",
    "# Where arrive_time year = 1900, change data.year and data.month to original_time_queued year\n",
    "mask = data.year < 1901\n",
    "column_name_year = 'year'\n",
    "column_name_month = 'month'\n",
    "data.loc[mask, column_name_year] = data.original_time_queued.dt.year\n",
    "data.loc[mask, column_name_month] = data.original_time_queued.dt.month"
   ]
  },
  {
   "cell_type": "markdown",
   "metadata": {},
   "source": [
    "#### Define terms"
   ]
  },
  {
   "cell_type": "code",
   "execution_count": 8,
   "metadata": {},
   "outputs": [],
   "source": [
    "# Define TRU initial call types\n",
    "TRU_call_types = [\n",
    "    'TRU - ASLT - WITH OR W/O WPNS (NO SHOOTINGS)',\n",
    "    'TRU - RAPE',\n",
    "    'TRU - LEWD CONDUCT',\n",
    "    'TRU - CHILD ABUSED, NEGLECTED',\n",
    "    'TRU - THREATS',\n",
    "    'TRU - ROBBERY',\n",
    "    'TRU - ASLT - MOLESTED ADULT (GROPED, FONDLED, ETC)',\n",
    "    'TRU - HARASSMENT',\n",
    "    'TRU - SEX IN PUBLIC',\n",
    "    'TRU - THEFT',\n",
    "    'TRU - FOLLOW UP',\n",
    "    'TRU - MVC - HIT AND RUN',\n",
    "    'TRU - LURING',\n",
    "    'TRU - FORGERY/CHKS/BUNCO/SCAMS/ID THEFT',\n",
    "    'TRU - SUSPICIOUS CIRCUMSTANCES']"
   ]
  },
  {
   "cell_type": "code",
   "execution_count": 9,
   "metadata": {},
   "outputs": [],
   "source": [
    "# Define terms that ID which crime_type\n",
    "\n",
    "# Define terms that ID rape CFS\n",
    "rape_terms = 'Stranger|Acquaintance'\n",
    "rape_call_types = [\n",
    "    'Acquaintance Rape',\n",
    "    'Stranger Rape']\n",
    "    #'--RAPE - KNOWN SUSPECT (ACQUAINTANCE)',\n",
    "    #'--RAPE - UNKNOWN SUSPECT (STRANGER)']\n",
    "\n",
    "# Define terms that ID sex crimes\n",
    "sex_crime_terms = 'CSEC|Lewd|Molesting|Stranger|Acquaintance'\n",
    "sex_crime_call_types = [\n",
    "    'Lewd Conduct',\n",
    "    'Acquaintance Rape',\n",
    "    'Stranger Rape',\n",
    "    'Molesting',\n",
    "    'CSEC']\n",
    "   # '--SEX OFFENSES (NON-RAPE) - LEWD CONDUCT',\n",
    "    #'--RAPE - KNOWN SUSPECT (ACQUAINTANCE)',\n",
    "    #'--RAPE - UNKNOWN SUSPECT (STRANGER)',\n",
    "    #'--SEX OFFENSES (RAPE) - MOLESTING',\n",
    "    #'--COMMERCIAL SEXUAL EXPLOITATION OF MINORS (CSEC)']\n",
    "\n",
    "# Define terms that ID other violent crimes\n",
    "violent_crime_terms = 'Kidnap|Homicide|Shooting|Assault|Robbery'\n",
    "violent_crime_call_types = [\n",
    "    '--ASSAULTS - FIREARM INVOLVED',\n",
    "    '--ROBBERY - ARMED',\n",
    "    '--HOMICIDE',\n",
    "    '--KIDNAP - GENERAL',\n",
    "    '--DRIVE BY SHOOTING - NO INJURIES']"
   ]
  },
  {
   "cell_type": "markdown",
   "metadata": {},
   "source": [
    "#### fyi: Original Call Types\n",
    "\n",
    "--ASSAULTS - FIREARM INVOLVED'\n",
    "'--ROBBERY - ARMED'\n",
    "\n",
    "'--HOMICIDE'\n",
    "\n",
    "'--KIDNAP - GENERAL'\n",
    "'--DRIVE BY SHOOTING - NO INJURIES'\n",
    "--SEX OFFENSES (NON-RAPE) - LEWD CONDUCT'\n",
    "'--RAPE - KNOWN SUSPECT (ACQUAINTANCE)'\n",
    "'--RAPE - UNKNOWN SUSPECT (STRANGER)'\n",
    "'--SEX OFFENSES (RAPE) - MOLESTING'\n",
    "'--COMMERCIAL SEXUAL EXPLOITATION OF MINORS (CSEC)"
   ]
  },
  {
   "cell_type": "code",
   "execution_count": 10,
   "metadata": {},
   "outputs": [],
   "source": [
    "# Replace final_call_type values to english\n",
    "# DRY this. oof.\n",
    "\n",
    "data['final_call_type'] = data['final_call_type'].replace(\"--HOMICIDE\", \"Homicide\")\n",
    "data['final_call_type'] = data['final_call_type'].replace(\"--ASSAULTS - FIREARM INVOLVED\", \"Assault w/ Firearm\")\n",
    "data['final_call_type'] = data['final_call_type'].replace(\"--ROBBERY - ARMED\", \"Armed Robbery\")\n",
    "data['final_call_type'] = data['final_call_type'].replace(\"--KIDNAP - GENERAL\", \"Kidnap\")\n",
    "data['final_call_type'] = data['final_call_type'].replace(\"--DRIVE BY SHOOTING - NO INJURIES\", \"Drive-by Shooting\")\n",
    "data['final_call_type'] = data['final_call_type'].replace(\"--SEX OFFENSES (NON-RAPE) - LEWD CONDUCT\", \"Lewd Conduct\")\n",
    "data['final_call_type'] = data['final_call_type'].replace(\"--RAPE - KNOWN SUSPECT (ACQUAINTANCE)\", \"Acquaintance Rape\")\n",
    "data['final_call_type'] = data['final_call_type'].replace(\"--RAPE - UNKNOWN SUSPECT (STRANGER)\", \"Stranger Rape\")\n",
    "data['final_call_type'] = data['final_call_type'].replace(\"--SEX OFFENSES (RAPE) - MOLESTING\", \"Molesting\")\n",
    "data['final_call_type'] = data['final_call_type'].replace(\"--COMMERCIAL SEXUAL EXPLOITATION OF MINORS (CSEC)\", \"CSEC\")"
   ]
  },
  {
   "cell_type": "code",
   "execution_count": 11,
   "metadata": {},
   "outputs": [],
   "source": [
    "# Define clearing codes for is_arrest\n",
    "\n",
    "arrest_cc = ['PHYSICAL ARREST MADE']"
   ]
  },
  {
   "cell_type": "markdown",
   "metadata": {},
   "source": [
    "#### Add columns for is_arrest, is_TRU, crime_type"
   ]
  },
  {
   "cell_type": "code",
   "execution_count": 12,
   "metadata": {},
   "outputs": [],
   "source": [
    "# Add column identifying if there was an arrest\n",
    "data['is_arrest'] = np.where(data['event_clearing'].isin(arrest_cc), 'yes', 'no')\n",
    "\n",
    "# Add column identifying if this was A TRU call\n",
    "data['is_TRU'] = np.where(data['initial_call_type'].isin(TRU_call_types), 'yes', 'no')"
   ]
  },
  {
   "cell_type": "code",
   "execution_count": 13,
   "metadata": {},
   "outputs": [],
   "source": [
    "# Add crime_type for each call type as a violent crime, sex crime or rape\n",
    "is_rape = data['final_call_type'].str.contains(rape_terms)\n",
    "is_vc = data['final_call_type'].str.contains(violent_crime_terms)\n",
    "is_sex_crime = data['final_call_type'].str.contains(sex_crime_terms)\n",
    "is_lewd_conduct = data['final_call_type'].str.contains(\"Lewd\")\n",
    "is_arrest_mask = data['is_arrest'] == \"yes\"\n",
    "is_tru_mask = data['is_TRU'] == \"yes\"\n",
    "\n",
    "data['crime_type'] = np.where(data['final_call_type'].isin(rape_call_types), 'rape',\n",
    "                                (np.where(data['final_call_type'].isin(sex_crime_call_types),\n",
    "                                          'other sex crime', 'violent crime')))"
   ]
  },
  {
   "cell_type": "markdown",
   "metadata": {},
   "source": [
    "## 1. 2018 Sees increase in reports of sex crimes\n"
   ]
  },
  {
   "cell_type": "markdown",
   "metadata": {},
   "source": [
    "Seattle is a growing city. And it would be reasonable to expect an increase in crime to accompany more people living and working in the city. But something else is happening in Seattle. Despite a dramatic increase in population over the past few years, reports of violent crime have actually been steadily decreasing since 2015. Good news, right? Well, not entirely.\n",
    "\n",
    "Over this same time period that saw reports of violent crimes decreasing, the city has experienced a steady increase in reports of rape since 2014. And other sex related crimes have nearly doubled since 2012.\n",
    "\n",
    "2017 saw an increase in calls reporting sex crimes, whereas other violent crimes in the city continued a downward trend that began in 2015.\n",
    "\n",
    "Reports of non-rape sex crime increased each year of this analysis except for 2012. Between 2010 and 2018 the number of calls reporting non-rape sex crimes has nearly doubled in Seattle.\n",
    "\n",
    "In this same time period, Seattle saw a decrease in the reporting of non-sex-related violent crimes."
   ]
  },
  {
   "cell_type": "code",
   "execution_count": 14,
   "metadata": {},
   "outputs": [
    {
     "data": {
      "text/plain": [
       "<matplotlib.axes._subplots.AxesSubplot at 0x11ba5d518>"
      ]
     },
     "execution_count": 14,
     "metadata": {},
     "output_type": "execute_result"
    },
    {
     "data": {
      "image/png": "[encoded data removed]",
      "text/plain": [
       "<Figure size 720x432 with 1 Axes>"
      ]
     },
     "metadata": {
      "needs_background": "light"
     },
     "output_type": "display_data"
    }
   ],
   "source": [
    "# Compare number of rape calls, non-rape sex crime calls, and violent crime calls by year\n",
    "\n",
    "data.groupby('crime_type').year.value_counts().unstack(0).plot.line(\n",
    "    stacked=False, figsize=(10,6),\n",
    "    title=\"# of calls reporting rapes vs. sex crimes vs. violent crimes\")"
   ]
  },
  {
   "cell_type": "markdown",
   "metadata": {},
   "source": [
    "#### Altair Chart"
   ]
  },
  {
   "cell_type": "code",
   "execution_count": 15,
   "metadata": {},
   "outputs": [],
   "source": [
    "# Create df for Altair\n",
    "crime_type_counts = pd.DataFrame(data)\n",
    "\n",
    "# Create crosstab with only counts of crime types\n",
    "crime_type_counts = pd.crosstab(data.year, columns=data.crime_type)\n",
    "crime_type_counts = crime_type_counts.stack().reset_index()\n",
    "crime_type_counts = crime_type_counts.rename(columns={0: 'type_count'})"
   ]
  },
  {
   "cell_type": "code",
   "execution_count": 16,
   "metadata": {},
   "outputs": [
    {
     "data": {
      "text/html": [
       "<div>\n",
       "<style scoped>\n",
       "    .dataframe tbody tr th:only-of-type {\n",
       "        vertical-align: middle;\n",
       "    }\n",
       "\n",
       "    .dataframe tbody tr th {\n",
       "        vertical-align: top;\n",
       "    }\n",
       "\n",
       "    .dataframe thead th {\n",
       "        text-align: right;\n",
       "    }\n",
       "</style>\n",
       "<table border=\"1\" class=\"dataframe\">\n",
       "  <thead>\n",
       "    <tr style=\"text-align: right;\">\n",
       "      <th></th>\n",
       "      <th>year</th>\n",
       "      <th>crime_type</th>\n",
       "      <th>type_count</th>\n",
       "    </tr>\n",
       "  </thead>\n",
       "  <tbody>\n",
       "    <tr>\n",
       "      <th>0</th>\n",
       "      <td>2010</td>\n",
       "      <td>other sex crime</td>\n",
       "      <td>641</td>\n",
       "    </tr>\n",
       "    <tr>\n",
       "      <th>1</th>\n",
       "      <td>2010</td>\n",
       "      <td>rape</td>\n",
       "      <td>374</td>\n",
       "    </tr>\n",
       "    <tr>\n",
       "      <th>2</th>\n",
       "      <td>2010</td>\n",
       "      <td>violent crime</td>\n",
       "      <td>995</td>\n",
       "    </tr>\n",
       "    <tr>\n",
       "      <th>3</th>\n",
       "      <td>2011</td>\n",
       "      <td>other sex crime</td>\n",
       "      <td>702</td>\n",
       "    </tr>\n",
       "    <tr>\n",
       "      <th>4</th>\n",
       "      <td>2011</td>\n",
       "      <td>rape</td>\n",
       "      <td>363</td>\n",
       "    </tr>\n",
       "  </tbody>\n",
       "</table>\n",
       "</div>"
      ],
      "text/plain": [
       "   year       crime_type  type_count\n",
       "0  2010  other sex crime         641\n",
       "1  2010             rape         374\n",
       "2  2010    violent crime         995\n",
       "3  2011  other sex crime         702\n",
       "4  2011             rape         363"
      ]
     },
     "execution_count": 16,
     "metadata": {},
     "output_type": "execute_result"
    }
   ],
   "source": [
    "crime_type_counts.head()"
   ]
  },
  {
   "cell_type": "code",
   "execution_count": 17,
   "metadata": {},
   "outputs": [
    {
     "data": {
      "application/vnd.vegalite.v2+json": {
       "$schema": "https://vega.github.io/schema/vega-lite/v2.6.0.json",
       "config": {
        "axis": {
         "grid": false
        },
        "view": {
         "height": 300,
         "width": 400
        }
       },
       "data": {
        "name": "data-f19311a8a267fc7d559d72940769da61"
       },
       "datasets": {
        "data-f19311a8a267fc7d559d72940769da61": [
         {
          "crime_type": "other sex crime",
          "type_count": 641,
          "year": 2010
         },
         {
          "crime_type": "rape",
          "type_count": 374,
          "year": 2010
         },
         {
          "crime_type": "violent crime",
          "type_count": 995,
          "year": 2010
         },
         {
          "crime_type": "other sex crime",
          "type_count": 702,
          "year": 2011
         },
         {
          "crime_type": "rape",
          "type_count": 363,
          "year": 2011
         },
         {
          "crime_type": "violent crime",
          "type_count": 1053,
          "year": 2011
         },
         {
          "crime_type": "other sex crime",
          "type_count": 691,
          "year": 2012
         },
         {
          "crime_type": "rape",
          "type_count": 361,
          "year": 2012
         },
         {
          "crime_type": "violent crime",
          "type_count": 1110,
          "year": 2012
         },
         {
          "crime_type": "other sex crime",
          "type_count": 768,
          "year": 2013
         },
         {
          "crime_type": "rape",
          "type_count": 385,
          "year": 2013
         },
         {
          "crime_type": "violent crime",
          "type_count": 1006,
          "year": 2013
         },
         {
          "crime_type": "other sex crime",
          "type_count": 785,
          "year": 2014
         },
         {
          "crime_type": "rape",
          "type_count": 346,
          "year": 2014
         },
         {
          "crime_type": "violent crime",
          "type_count": 1039,
          "year": 2014
         },
         {
          "crime_type": "other sex crime",
          "type_count": 966,
          "year": 2015
         },
         {
          "crime_type": "rape",
          "type_count": 385,
          "year": 2015
         },
         {
          "crime_type": "violent crime",
          "type_count": 1140,
          "year": 2015
         },
         {
          "crime_type": "other sex crime",
          "type_count": 1009,
          "year": 2016
         },
         {
          "crime_type": "rape",
          "type_count": 491,
          "year": 2016
         },
         {
          "crime_type": "violent crime",
          "type_count": 1124,
          "year": 2016
         },
         {
          "crime_type": "other sex crime",
          "type_count": 1012,
          "year": 2017
         },
         {
          "crime_type": "rape",
          "type_count": 493,
          "year": 2017
         },
         {
          "crime_type": "violent crime",
          "type_count": 1038,
          "year": 2017
         },
         {
          "crime_type": "other sex crime",
          "type_count": 1208,
          "year": 2018
         },
         {
          "crime_type": "rape",
          "type_count": 579,
          "year": 2018
         },
         {
          "crime_type": "violent crime",
          "type_count": 1040,
          "year": 2018
         }
        ]
       },
       "encoding": {
        "color": {
         "field": "crime_type",
         "legend": {
          "title": "Crime Category"
         },
         "scale": {
          "scheme": "viridis"
         },
         "type": "nominal"
        },
        "x": {
         "axis": {
          "format": "Y",
          "ticks": false,
          "title": ""
         },
         "field": "year",
         "type": "quantitative"
        },
        "y": {
         "axis": {
          "ticks": false,
          "title": "",
          "values": [
           250,
           500,
           750,
           1000,
           1250
          ]
         },
         "field": "type_count",
         "type": "quantitative"
        }
       },
       "height": 400,
       "mark": "line",
       "title": "Calls Per Year",
       "width": 600
      },
      "image/png": "[encoded data removed]",
      "text/plain": [
       "<VegaLite 2 object>\n",
       "\n",
       "If you see this message, it means the renderer has not been properly enabled\n",
       "for the frontend that you are using. For more information, see\n",
       "https://altair-viz.github.io/user_guide/troubleshooting.html\n"
      ]
     },
     "execution_count": 17,
     "metadata": {},
     "output_type": "execute_result"
    }
   ],
   "source": [
    "# Chart number of calls reporting each crime type\n",
    "\n",
    "alt.Chart(crime_type_counts).mark_line().encode(\n",
    "    x=alt.X('year', axis=alt.Axis(format='Y', title='', ticks=False)),\n",
    "    y=alt.Y('type_count', axis=alt.Axis(title='', ticks=False, values=[250, 500, 750, 1000, 1250])),\n",
    "    color=alt.Color('crime_type', legend=alt.Legend(title='Crime Category'), scale=alt.Scale(scheme='viridis')),\n",
    ").properties(\n",
    "    title='Calls Per Year',\n",
    "    width=600,\n",
    "    height=400\n",
    ").configure_axis(\n",
    "    grid=False\n",
    ")"
   ]
  },
  {
   "cell_type": "code",
   "execution_count": 111,
   "metadata": {},
   "outputs": [
    {
     "data": {
      "application/vnd.vegalite.v2+json": {
       "$schema": "https://vega.github.io/schema/vega-lite/v2.6.0.json",
       "config": {
        "axis": {
         "grid": false,
         "labelColor": "gray",
         "labelFontSize": 14
        },
        "axisBottom": {
         "labelFlush": false
        },
        "line": {
         "strokeWidth": 4
        },
        "text": {
         "align": "center",
         "fontSize": 14,
         "fontWeight": 400
        },
        "title": {
         "fontSize": 16,
         "fontWeight": 400
        },
        "view": {
         "height": 300,
         "strokeWidth": 0,
         "width": 400
        }
       },
       "data": {
        "name": "data-f19311a8a267fc7d559d72940769da61"
       },
       "datasets": {
        "data-f19311a8a267fc7d559d72940769da61": [
         {
          "crime_type": "other sex crime",
          "type_count": 641,
          "year": 2010
         },
         {
          "crime_type": "rape",
          "type_count": 374,
          "year": 2010
         },
         {
          "crime_type": "violent crime",
          "type_count": 995,
          "year": 2010
         },
         {
          "crime_type": "other sex crime",
          "type_count": 702,
          "year": 2011
         },
         {
          "crime_type": "rape",
          "type_count": 363,
          "year": 2011
         },
         {
          "crime_type": "violent crime",
          "type_count": 1053,
          "year": 2011
         },
         {
          "crime_type": "other sex crime",
          "type_count": 691,
          "year": 2012
         },
         {
          "crime_type": "rape",
          "type_count": 361,
          "year": 2012
         },
         {
          "crime_type": "violent crime",
          "type_count": 1110,
          "year": 2012
         },
         {
          "crime_type": "other sex crime",
          "type_count": 768,
          "year": 2013
         },
         {
          "crime_type": "rape",
          "type_count": 385,
          "year": 2013
         },
         {
          "crime_type": "violent crime",
          "type_count": 1006,
          "year": 2013
         },
         {
          "crime_type": "other sex crime",
          "type_count": 785,
          "year": 2014
         },
         {
          "crime_type": "rape",
          "type_count": 346,
          "year": 2014
         },
         {
          "crime_type": "violent crime",
          "type_count": 1039,
          "year": 2014
         },
         {
          "crime_type": "other sex crime",
          "type_count": 966,
          "year": 2015
         },
         {
          "crime_type": "rape",
          "type_count": 385,
          "year": 2015
         },
         {
          "crime_type": "violent crime",
          "type_count": 1140,
          "year": 2015
         },
         {
          "crime_type": "other sex crime",
          "type_count": 1009,
          "year": 2016
         },
         {
          "crime_type": "rape",
          "type_count": 491,
          "year": 2016
         },
         {
          "crime_type": "violent crime",
          "type_count": 1124,
          "year": 2016
         },
         {
          "crime_type": "other sex crime",
          "type_count": 1012,
          "year": 2017
         },
         {
          "crime_type": "rape",
          "type_count": 493,
          "year": 2017
         },
         {
          "crime_type": "violent crime",
          "type_count": 1038,
          "year": 2017
         },
         {
          "crime_type": "other sex crime",
          "type_count": 1208,
          "year": 2018
         },
         {
          "crime_type": "rape",
          "type_count": 579,
          "year": 2018
         },
         {
          "crime_type": "violent crime",
          "type_count": 1040,
          "year": 2018
         }
        ]
       },
       "height": 400,
       "layer": [
        {
         "encoding": {
          "color": {
           "field": "crime_type",
           "legend": {
            "orient": "bottom-right",
            "title": "Crime Category"
           },
           "scale": {
            "scheme": "viridis"
           },
           "type": "nominal"
          },
          "x": {
           "axis": {
            "format": "Y",
            "ticks": false,
            "title": ""
           },
           "field": "year",
           "type": "quantitative"
          },
          "y": {
           "axis": {
            "ticks": false,
            "title": "",
            "values": [
             250,
             500,
             750,
             1000,
             1250
            ]
           },
           "field": "type_count",
           "type": "quantitative"
          }
         },
         "mark": "line"
        },
        {
         "encoding": {
          "opacity": {
           "value": 0
          },
          "x": {
           "field": "year",
           "type": "quantitative"
          }
         },
         "mark": "point",
         "selection": {
          "selector093": {
           "empty": "none",
           "fields": [
            "year"
           ],
           "nearest": true,
           "on": "mouseover",
           "resolve": "global",
           "type": "single"
          }
         }
        },
        {
         "encoding": {
          "color": {
           "field": "crime_type",
           "legend": {
            "orient": "bottom-right",
            "title": "Crime Category"
           },
           "scale": {
            "scheme": "viridis"
           },
           "type": "nominal"
          },
          "opacity": {
           "condition": {
            "selection": "selector093",
            "value": 1
           },
           "value": 0
          },
          "x": {
           "axis": {
            "format": "Y",
            "ticks": false,
            "title": ""
           },
           "field": "year",
           "type": "quantitative"
          },
          "y": {
           "axis": {
            "ticks": false,
            "title": "",
            "values": [
             250,
             500,
             750,
             1000,
             1250
            ]
           },
           "field": "type_count",
           "type": "quantitative"
          }
         },
         "mark": "point"
        },
        {
         "encoding": {
          "x": {
           "field": "year",
           "type": "quantitative"
          }
         },
         "mark": {
          "color": "lightgray",
          "type": "rule"
         },
         "transform": [
          {
           "filter": {
            "selection": "selector093"
           }
          }
         ]
        },
        {
         "encoding": {
          "color": {
           "field": "crime_type",
           "legend": {
            "orient": "bottom-right",
            "title": "Crime Category"
           },
           "scale": {
            "scheme": "viridis"
           },
           "type": "nominal"
          },
          "text": {
           "condition": {
            "field": "type_count",
            "selection": "selector093",
            "type": "quantitative"
           },
           "value": " "
          },
          "x": {
           "axis": {
            "format": "Y",
            "ticks": false,
            "title": ""
           },
           "field": "year",
           "type": "quantitative"
          },
          "y": {
           "axis": {
            "ticks": false,
            "title": "",
            "values": [
             250,
             500,
             750,
             1000,
             1250
            ]
           },
           "field": "type_count",
           "type": "quantitative"
          }
         },
         "mark": {
          "align": "center",
          "dx": 0,
          "dy": 25,
          "type": "text"
         }
        }
       ],
       "padding": 15,
       "title": "Calls Per Year",
       "width": 600
      },
      "image/png": "[encoded data removed]",
      "text/plain": [
       "<VegaLite 2 object>\n",
       "\n",
       "If you see this message, it means the renderer has not been properly enabled\n",
       "for the frontend that you are using. For more information, see\n",
       "https://altair-viz.github.io/user_guide/troubleshooting.html\n"
      ]
     },
     "execution_count": 111,
     "metadata": {},
     "output_type": "execute_result"
    }
   ],
   "source": [
    "# Interactive crime_type counts chart! \n",
    "\n",
    "# Create selection that chooses the nearest point\n",
    "nearest = alt.selection(type='single', nearest=True, on='mouseover',\n",
    "                       fields=['year'], empty='none')\n",
    "\n",
    "# The basic line\n",
    "line = alt.Chart().mark_line().encode(\n",
    "    x=alt.X(\n",
    "        'year:Q',\n",
    "        axis=alt.Axis(\n",
    "            format='Y',\n",
    "            title='',\n",
    "            ticks=False\n",
    "        )),\n",
    "    y=alt.Y(\n",
    "        'type_count:Q',\n",
    "        axis=alt.Axis(\n",
    "            title='',\n",
    "            ticks=False,\n",
    "            values=[250, 500, 750, 1000, 1250]\n",
    "        )),\n",
    "    color=alt.Color(\n",
    "        'crime_type:N',\n",
    "        legend=alt.Legend(\n",
    "            title='Crime Category',\n",
    "            orient='bottom-right'\n",
    "        ),\n",
    "        scale=alt.Scale(\n",
    "            scheme='viridis'\n",
    "        ))\n",
    ")\n",
    "\n",
    "# Transparent selectors across the chart. This tells the x-value of the cursor\n",
    "selectors = alt.Chart().mark_point().encode(\n",
    "    x='year:Q',\n",
    "    opacity=alt.value(0),\n",
    ").add_selection(\n",
    "    nearest\n",
    ")\n",
    "\n",
    "# Draw points on the line and highlight based on selection\n",
    "points = line.mark_point().encode(\n",
    "    opacity=alt.condition(nearest, alt.value(1), alt.value(0))\n",
    ")\n",
    "\n",
    "# Draw text labels near the points, highlight selection\n",
    "text = line.mark_text(align='center', dx=0, dy=25).encode(\n",
    "    text=alt.condition(nearest, 'type_count:Q', alt.value(' '))\n",
    ")\n",
    "\n",
    "# Draw a rule at the location of the selection\n",
    "rules = alt.Chart().mark_rule(color='lightgray').encode(\n",
    "    x='year:Q',\n",
    ").transform_filter(\n",
    "    nearest\n",
    ")\n",
    "\n",
    "# Put layers together and chart\n",
    "alt.layer(\n",
    "    line, selectors, points, rules, text,\n",
    "    data=crime_type_counts,\n",
    "    width=600,\n",
    "    height=400,\n",
    "    padding=15,\n",
    ").properties(\n",
    "    title='Calls Per Year'\n",
    ").configure_line(\n",
    "    strokeWidth=4,\n",
    ").configure_text(\n",
    "    fontSize=14,\n",
    "    fontWeight=400,\n",
    "    align='center',\n",
    ").configure_title(\n",
    "    fontSize=16,\n",
    "    fontWeight=400\n",
    ").configure_axis(\n",
    "    labelFontSize=14,\n",
    "    labelColor='gray',\n",
    "    grid=False\n",
    ").configure_view(\n",
    "    strokeWidth=0\n",
    ").configure_axisBottom(\n",
    "    labelFlush=False\n",
    ")\n"
   ]
  },
  {
   "cell_type": "markdown",
   "metadata": {},
   "source": [
    "Between 2010 and 2018 there has been a general increase in the number of calls each year for lewd conduct. During this time period, number of lewd conduct calls in the North, East and West precincts have steadily increased. In the same time period, these calls in the South and Southwest precincts have remained mostly flat. \n",
    "\n",
    "In 2015 and 2018 there were marked increases in these calls in the North, East and West precincts."
   ]
  },
  {
   "cell_type": "code",
   "execution_count": 16,
   "metadata": {},
   "outputs": [
    {
     "data": {
      "text/plain": [
       "<matplotlib.axes._subplots.AxesSubplot at 0x117fc47b8>"
      ]
     },
     "execution_count": 16,
     "metadata": {},
     "output_type": "execute_result"
    },
    {
     "data": {
      "image/png": "[encoded data removed]",
      "text/plain": [
       "<Figure size 720x432 with 1 Axes>"
      ]
     },
     "metadata": {
      "needs_background": "light"
     },
     "output_type": "display_data"
    },
    {
     "data": {
      "image/png": "[encoded data removed]",
      "text/plain": [
       "<Figure size 720x432 with 1 Axes>"
      ]
     },
     "metadata": {
      "needs_background": "light"
     },
     "output_type": "display_data"
    }
   ],
   "source": [
    "# Plot lewd conduct calls, by precinct, over the years\n",
    "lewd_df = data[is_lewd_conduct]\n",
    "\n",
    "lewd_df.groupby('final_call_type').year.value_counts().unstack(0).plot.line(\n",
    "    stacked=False, figsize=(10,6), title=\"# of lewd calls, city-wide, 2010-2018\")\n",
    "\n",
    "lewd_df.groupby('precinct').year.value_counts().unstack(0).plot.line(\n",
    "    stacked=False, figsize=(10,6), title=\"# of lewd calls, by precinct, 2010-2018\")\n"
   ]
  },
  {
   "cell_type": "markdown",
   "metadata": {},
   "source": [
    "### Altair Chart: Call Count by Final Call Type"
   ]
  },
  {
   "cell_type": "code",
   "execution_count": 121,
   "metadata": {},
   "outputs": [
    {
     "data": {
      "text/html": [
       "<div>\n",
       "<style scoped>\n",
       "    .dataframe tbody tr th:only-of-type {\n",
       "        vertical-align: middle;\n",
       "    }\n",
       "\n",
       "    .dataframe tbody tr th {\n",
       "        vertical-align: top;\n",
       "    }\n",
       "\n",
       "    .dataframe thead th {\n",
       "        text-align: right;\n",
       "    }\n",
       "</style>\n",
       "<table border=\"1\" class=\"dataframe\">\n",
       "  <thead>\n",
       "    <tr style=\"text-align: right;\">\n",
       "      <th></th>\n",
       "      <th>year</th>\n",
       "      <th>final_call_type</th>\n",
       "      <th>final_call_count</th>\n",
       "    </tr>\n",
       "  </thead>\n",
       "  <tbody>\n",
       "    <tr>\n",
       "      <th>0</th>\n",
       "      <td>2010</td>\n",
       "      <td>Acquaintance Rape</td>\n",
       "      <td>214</td>\n",
       "    </tr>\n",
       "    <tr>\n",
       "      <th>1</th>\n",
       "      <td>2010</td>\n",
       "      <td>Armed Robbery</td>\n",
       "      <td>602</td>\n",
       "    </tr>\n",
       "    <tr>\n",
       "      <th>2</th>\n",
       "      <td>2010</td>\n",
       "      <td>Assault w/ Firearm</td>\n",
       "      <td>166</td>\n",
       "    </tr>\n",
       "    <tr>\n",
       "      <th>3</th>\n",
       "      <td>2010</td>\n",
       "      <td>CSEC</td>\n",
       "      <td>0</td>\n",
       "    </tr>\n",
       "    <tr>\n",
       "      <th>4</th>\n",
       "      <td>2010</td>\n",
       "      <td>Drive-by Shooting</td>\n",
       "      <td>118</td>\n",
       "    </tr>\n",
       "  </tbody>\n",
       "</table>\n",
       "</div>"
      ],
      "text/plain": [
       "   year     final_call_type  final_call_count\n",
       "0  2010   Acquaintance Rape               214\n",
       "1  2010       Armed Robbery               602\n",
       "2  2010  Assault w/ Firearm               166\n",
       "3  2010                CSEC                 0\n",
       "4  2010   Drive-by Shooting               118"
      ]
     },
     "execution_count": 121,
     "metadata": {},
     "output_type": "execute_result"
    }
   ],
   "source": [
    "# Create final call type df for Altair\n",
    "fct_counts = pd.DataFrame(data)\n",
    "\n",
    "# Create crosstab with only counts of final call types\n",
    "fct_counts = pd.crosstab(fct_counts.year, columns=fct_counts.final_call_type)\n",
    "fct_counts = fct_counts.stack().reset_index()\n",
    "fct_counts = fct_counts.rename(columns={0: 'final_call_count'})\n",
    "\n",
    "fct_counts.head()\n"
   ]
  },
  {
   "cell_type": "code",
   "execution_count": 178,
   "metadata": {},
   "outputs": [
    {
     "data": {
      "application/vnd.vegalite.v2+json": {
       "$schema": "https://vega.github.io/schema/vega-lite/v2.6.0.json",
       "config": {
        "axis": {
         "grid": false
        },
        "view": {
         "height": 300,
         "width": 400
        }
       },
       "data": {
        "name": "data-71b4dc3231b0023ab7c6e44a0aa196df"
       },
       "datasets": {
        "data-71b4dc3231b0023ab7c6e44a0aa196df": [
         {
          "final_call_count": 214,
          "final_call_type": "Acquaintance Rape",
          "year": 2010
         },
         {
          "final_call_count": 602,
          "final_call_type": "Armed Robbery",
          "year": 2010
         },
         {
          "final_call_count": 166,
          "final_call_type": "Assault w/ Firearm",
          "year": 2010
         },
         {
          "final_call_count": 0,
          "final_call_type": "CSEC",
          "year": 2010
         },
         {
          "final_call_count": 118,
          "final_call_type": "Drive-by Shooting",
          "year": 2010
         },
         {
          "final_call_count": 87,
          "final_call_type": "Homicide",
          "year": 2010
         },
         {
          "final_call_count": 22,
          "final_call_type": "Kidnap",
          "year": 2010
         },
         {
          "final_call_count": 532,
          "final_call_type": "Lewd Conduct",
          "year": 2010
         },
         {
          "final_call_count": 109,
          "final_call_type": "Molesting",
          "year": 2010
         },
         {
          "final_call_count": 160,
          "final_call_type": "Stranger Rape",
          "year": 2010
         },
         {
          "final_call_count": 221,
          "final_call_type": "Acquaintance Rape",
          "year": 2011
         },
         {
          "final_call_count": 722,
          "final_call_type": "Armed Robbery",
          "year": 2011
         },
         {
          "final_call_count": 131,
          "final_call_type": "Assault w/ Firearm",
          "year": 2011
         },
         {
          "final_call_count": 3,
          "final_call_type": "CSEC",
          "year": 2011
         },
         {
          "final_call_count": 132,
          "final_call_type": "Drive-by Shooting",
          "year": 2011
         },
         {
          "final_call_count": 44,
          "final_call_type": "Homicide",
          "year": 2011
         },
         {
          "final_call_count": 24,
          "final_call_type": "Kidnap",
          "year": 2011
         },
         {
          "final_call_count": 562,
          "final_call_type": "Lewd Conduct",
          "year": 2011
         },
         {
          "final_call_count": 137,
          "final_call_type": "Molesting",
          "year": 2011
         },
         {
          "final_call_count": 142,
          "final_call_type": "Stranger Rape",
          "year": 2011
         },
         {
          "final_call_count": 229,
          "final_call_type": "Acquaintance Rape",
          "year": 2012
         },
         {
          "final_call_count": 685,
          "final_call_type": "Armed Robbery",
          "year": 2012
         },
         {
          "final_call_count": 174,
          "final_call_type": "Assault w/ Firearm",
          "year": 2012
         },
         {
          "final_call_count": 1,
          "final_call_type": "CSEC",
          "year": 2012
         },
         {
          "final_call_count": 152,
          "final_call_type": "Drive-by Shooting",
          "year": 2012
         },
         {
          "final_call_count": 79,
          "final_call_type": "Homicide",
          "year": 2012
         },
         {
          "final_call_count": 20,
          "final_call_type": "Kidnap",
          "year": 2012
         },
         {
          "final_call_count": 550,
          "final_call_type": "Lewd Conduct",
          "year": 2012
         },
         {
          "final_call_count": 140,
          "final_call_type": "Molesting",
          "year": 2012
         },
         {
          "final_call_count": 132,
          "final_call_type": "Stranger Rape",
          "year": 2012
         },
         {
          "final_call_count": 212,
          "final_call_type": "Acquaintance Rape",
          "year": 2013
         },
         {
          "final_call_count": 667,
          "final_call_type": "Armed Robbery",
          "year": 2013
         },
         {
          "final_call_count": 138,
          "final_call_type": "Assault w/ Firearm",
          "year": 2013
         },
         {
          "final_call_count": 5,
          "final_call_type": "CSEC",
          "year": 2013
         },
         {
          "final_call_count": 89,
          "final_call_type": "Drive-by Shooting",
          "year": 2013
         },
         {
          "final_call_count": 84,
          "final_call_type": "Homicide",
          "year": 2013
         },
         {
          "final_call_count": 28,
          "final_call_type": "Kidnap",
          "year": 2013
         },
         {
          "final_call_count": 588,
          "final_call_type": "Lewd Conduct",
          "year": 2013
         },
         {
          "final_call_count": 175,
          "final_call_type": "Molesting",
          "year": 2013
         },
         {
          "final_call_count": 173,
          "final_call_type": "Stranger Rape",
          "year": 2013
         },
         {
          "final_call_count": 186,
          "final_call_type": "Acquaintance Rape",
          "year": 2014
         },
         {
          "final_call_count": 616,
          "final_call_type": "Armed Robbery",
          "year": 2014
         },
         {
          "final_call_count": 168,
          "final_call_type": "Assault w/ Firearm",
          "year": 2014
         },
         {
          "final_call_count": 4,
          "final_call_type": "CSEC",
          "year": 2014
         },
         {
          "final_call_count": 126,
          "final_call_type": "Drive-by Shooting",
          "year": 2014
         },
         {
          "final_call_count": 109,
          "final_call_type": "Homicide",
          "year": 2014
         },
         {
          "final_call_count": 20,
          "final_call_type": "Kidnap",
          "year": 2014
         },
         {
          "final_call_count": 652,
          "final_call_type": "Lewd Conduct",
          "year": 2014
         },
         {
          "final_call_count": 129,
          "final_call_type": "Molesting",
          "year": 2014
         },
         {
          "final_call_count": 160,
          "final_call_type": "Stranger Rape",
          "year": 2014
         },
         {
          "final_call_count": 242,
          "final_call_type": "Acquaintance Rape",
          "year": 2015
         },
         {
          "final_call_count": 653,
          "final_call_type": "Armed Robbery",
          "year": 2015
         },
         {
          "final_call_count": 225,
          "final_call_type": "Assault w/ Firearm",
          "year": 2015
         },
         {
          "final_call_count": 9,
          "final_call_type": "CSEC",
          "year": 2015
         },
         {
          "final_call_count": 161,
          "final_call_type": "Drive-by Shooting",
          "year": 2015
         },
         {
          "final_call_count": 80,
          "final_call_type": "Homicide",
          "year": 2015
         },
         {
          "final_call_count": 21,
          "final_call_type": "Kidnap",
          "year": 2015
         },
         {
          "final_call_count": 799,
          "final_call_type": "Lewd Conduct",
          "year": 2015
         },
         {
          "final_call_count": 158,
          "final_call_type": "Molesting",
          "year": 2015
         },
         {
          "final_call_count": 143,
          "final_call_type": "Stranger Rape",
          "year": 2015
         },
         {
          "final_call_count": 306,
          "final_call_type": "Acquaintance Rape",
          "year": 2016
         },
         {
          "final_call_count": 705,
          "final_call_type": "Armed Robbery",
          "year": 2016
         },
         {
          "final_call_count": 199,
          "final_call_type": "Assault w/ Firearm",
          "year": 2016
         },
         {
          "final_call_count": 13,
          "final_call_type": "CSEC",
          "year": 2016
         },
         {
          "final_call_count": 129,
          "final_call_type": "Drive-by Shooting",
          "year": 2016
         },
         {
          "final_call_count": 70,
          "final_call_type": "Homicide",
          "year": 2016
         },
         {
          "final_call_count": 21,
          "final_call_type": "Kidnap",
          "year": 2016
         },
         {
          "final_call_count": 841,
          "final_call_type": "Lewd Conduct",
          "year": 2016
         },
         {
          "final_call_count": 155,
          "final_call_type": "Molesting",
          "year": 2016
         },
         {
          "final_call_count": 185,
          "final_call_type": "Stranger Rape",
          "year": 2016
         },
         {
          "final_call_count": 314,
          "final_call_type": "Acquaintance Rape",
          "year": 2017
         },
         {
          "final_call_count": 571,
          "final_call_type": "Armed Robbery",
          "year": 2017
         },
         {
          "final_call_count": 233,
          "final_call_type": "Assault w/ Firearm",
          "year": 2017
         },
         {
          "final_call_count": 9,
          "final_call_type": "CSEC",
          "year": 2017
         },
         {
          "final_call_count": 147,
          "final_call_type": "Drive-by Shooting",
          "year": 2017
         },
         {
          "final_call_count": 68,
          "final_call_type": "Homicide",
          "year": 2017
         },
         {
          "final_call_count": 19,
          "final_call_type": "Kidnap",
          "year": 2017
         },
         {
          "final_call_count": 816,
          "final_call_type": "Lewd Conduct",
          "year": 2017
         },
         {
          "final_call_count": 187,
          "final_call_type": "Molesting",
          "year": 2017
         },
         {
          "final_call_count": 179,
          "final_call_type": "Stranger Rape",
          "year": 2017
         },
         {
          "final_call_count": 365,
          "final_call_type": "Acquaintance Rape",
          "year": 2018
         },
         {
          "final_call_count": 653,
          "final_call_type": "Armed Robbery",
          "year": 2018
         },
         {
          "final_call_count": 208,
          "final_call_type": "Assault w/ Firearm",
          "year": 2018
         },
         {
          "final_call_count": 8,
          "final_call_type": "CSEC",
          "year": 2018
         },
         {
          "final_call_count": 89,
          "final_call_type": "Drive-by Shooting",
          "year": 2018
         },
         {
          "final_call_count": 67,
          "final_call_type": "Homicide",
          "year": 2018
         },
         {
          "final_call_count": 23,
          "final_call_type": "Kidnap",
          "year": 2018
         },
         {
          "final_call_count": 938,
          "final_call_type": "Lewd Conduct",
          "year": 2018
         },
         {
          "final_call_count": 262,
          "final_call_type": "Molesting",
          "year": 2018
         },
         {
          "final_call_count": 214,
          "final_call_type": "Stranger Rape",
          "year": 2018
         }
        ]
       },
       "encoding": {
        "color": {
         "field": "final_call_type",
         "legend": {
          "title": "Call Types"
         },
         "scale": {
          "scheme": "viridis"
         },
         "type": "nominal"
        },
        "tooltip": [
         {
          "field": "year",
          "type": "quantitative"
         },
         {
          "field": "final_call_type",
          "type": "nominal"
         },
         {
          "field": "final_call_count",
          "type": "quantitative"
         }
        ],
        "x": {
         "axis": {
          "format": "Y",
          "ticks": false,
          "title": ""
         },
         "field": "year",
         "type": "quantitative"
        },
        "y": {
         "axis": {
          "ticks": false,
          "title": "",
          "values": [
           250,
           500,
           750,
           1000,
           1250
          ]
         },
         "field": "final_call_count",
         "type": "quantitative"
        }
       },
       "height": 400,
       "mark": {
        "point": true,
        "type": "line"
       },
       "selection": {
        "selector127": {
         "bind": "scales",
         "encodings": [
          "x",
          "y"
         ],
         "mark": {
          "fill": "#333",
          "fillOpacity": 0.125,
          "stroke": "white"
         },
         "on": "[mousedown, window:mouseup] > window:mousemove!",
         "resolve": "global",
         "translate": "[mousedown, window:mouseup] > window:mousemove!",
         "type": "interval",
         "zoom": "wheel!"
        }
       },
       "title": "Calls Type Counts Per Year",
       "width": 600
      },
      "image/png": "[encoded data removed]",
      "text/plain": [
       "<VegaLite 2 object>\n",
       "\n",
       "If you see this message, it means the renderer has not been properly enabled\n",
       "for the frontend that you are using. For more information, see\n",
       "https://altair-viz.github.io/user_guide/troubleshooting.html\n"
      ]
     },
     "execution_count": 178,
     "metadata": {},
     "output_type": "execute_result"
    }
   ],
   "source": [
    "# Chart number of calls reporting each final call type\n",
    "\n",
    "alt.Chart(fct_counts).mark_line(point=True).encode(\n",
    "    x=alt.X('year', axis=alt.Axis(format='Y', title='', ticks=False)),\n",
    "    y=alt.Y('final_call_count', axis=alt.Axis(title='', ticks=False, values=[250, 500, 750, 1000, 1250])),\n",
    "    tooltip=('year','final_call_type:N','final_call_count:Q'),\n",
    "    color=alt.Color(\n",
    "        'final_call_type',\n",
    "        legend=alt.Legend(\n",
    "            title='Call Types'\n",
    "        ), scale=alt.Scale(\n",
    "            scheme='viridis'\n",
    "        ))\n",
    ").properties(\n",
    "    title='Calls Type Counts Per Year',\n",
    "    width=600,\n",
    "    height=400\n",
    ").configure_axis(\n",
    "    grid=False\n",
    ").interactive()\n",
    "\n",
    "# To do: edit tooltips to remove labels and add \"calls\" after count."
   ]
  },
  {
   "cell_type": "code",
   "execution_count": 189,
   "metadata": {},
   "outputs": [
    {
     "data": {
      "application/vnd.vegalite.v2+json": {
       "$schema": "https://vega.github.io/schema/vega-lite/v2.6.0.json",
       "config": {
        "view": {
         "height": 300,
         "width": 400
        }
       },
       "datasets": {
        "data-71b4dc3231b0023ab7c6e44a0aa196df": [
         {
          "final_call_count": 214,
          "final_call_type": "Acquaintance Rape",
          "year": 2010
         },
         {
          "final_call_count": 602,
          "final_call_type": "Armed Robbery",
          "year": 2010
         },
         {
          "final_call_count": 166,
          "final_call_type": "Assault w/ Firearm",
          "year": 2010
         },
         {
          "final_call_count": 0,
          "final_call_type": "CSEC",
          "year": 2010
         },
         {
          "final_call_count": 118,
          "final_call_type": "Drive-by Shooting",
          "year": 2010
         },
         {
          "final_call_count": 87,
          "final_call_type": "Homicide",
          "year": 2010
         },
         {
          "final_call_count": 22,
          "final_call_type": "Kidnap",
          "year": 2010
         },
         {
          "final_call_count": 532,
          "final_call_type": "Lewd Conduct",
          "year": 2010
         },
         {
          "final_call_count": 109,
          "final_call_type": "Molesting",
          "year": 2010
         },
         {
          "final_call_count": 160,
          "final_call_type": "Stranger Rape",
          "year": 2010
         },
         {
          "final_call_count": 221,
          "final_call_type": "Acquaintance Rape",
          "year": 2011
         },
         {
          "final_call_count": 722,
          "final_call_type": "Armed Robbery",
          "year": 2011
         },
         {
          "final_call_count": 131,
          "final_call_type": "Assault w/ Firearm",
          "year": 2011
         },
         {
          "final_call_count": 3,
          "final_call_type": "CSEC",
          "year": 2011
         },
         {
          "final_call_count": 132,
          "final_call_type": "Drive-by Shooting",
          "year": 2011
         },
         {
          "final_call_count": 44,
          "final_call_type": "Homicide",
          "year": 2011
         },
         {
          "final_call_count": 24,
          "final_call_type": "Kidnap",
          "year": 2011
         },
         {
          "final_call_count": 562,
          "final_call_type": "Lewd Conduct",
          "year": 2011
         },
         {
          "final_call_count": 137,
          "final_call_type": "Molesting",
          "year": 2011
         },
         {
          "final_call_count": 142,
          "final_call_type": "Stranger Rape",
          "year": 2011
         },
         {
          "final_call_count": 229,
          "final_call_type": "Acquaintance Rape",
          "year": 2012
         },
         {
          "final_call_count": 685,
          "final_call_type": "Armed Robbery",
          "year": 2012
         },
         {
          "final_call_count": 174,
          "final_call_type": "Assault w/ Firearm",
          "year": 2012
         },
         {
          "final_call_count": 1,
          "final_call_type": "CSEC",
          "year": 2012
         },
         {
          "final_call_count": 152,
          "final_call_type": "Drive-by Shooting",
          "year": 2012
         },
         {
          "final_call_count": 79,
          "final_call_type": "Homicide",
          "year": 2012
         },
         {
          "final_call_count": 20,
          "final_call_type": "Kidnap",
          "year": 2012
         },
         {
          "final_call_count": 550,
          "final_call_type": "Lewd Conduct",
          "year": 2012
         },
         {
          "final_call_count": 140,
          "final_call_type": "Molesting",
          "year": 2012
         },
         {
          "final_call_count": 132,
          "final_call_type": "Stranger Rape",
          "year": 2012
         },
         {
          "final_call_count": 212,
          "final_call_type": "Acquaintance Rape",
          "year": 2013
         },
         {
          "final_call_count": 667,
          "final_call_type": "Armed Robbery",
          "year": 2013
         },
         {
          "final_call_count": 138,
          "final_call_type": "Assault w/ Firearm",
          "year": 2013
         },
         {
          "final_call_count": 5,
          "final_call_type": "CSEC",
          "year": 2013
         },
         {
          "final_call_count": 89,
          "final_call_type": "Drive-by Shooting",
          "year": 2013
         },
         {
          "final_call_count": 84,
          "final_call_type": "Homicide",
          "year": 2013
         },
         {
          "final_call_count": 28,
          "final_call_type": "Kidnap",
          "year": 2013
         },
         {
          "final_call_count": 588,
          "final_call_type": "Lewd Conduct",
          "year": 2013
         },
         {
          "final_call_count": 175,
          "final_call_type": "Molesting",
          "year": 2013
         },
         {
          "final_call_count": 173,
          "final_call_type": "Stranger Rape",
          "year": 2013
         },
         {
          "final_call_count": 186,
          "final_call_type": "Acquaintance Rape",
          "year": 2014
         },
         {
          "final_call_count": 616,
          "final_call_type": "Armed Robbery",
          "year": 2014
         },
         {
          "final_call_count": 168,
          "final_call_type": "Assault w/ Firearm",
          "year": 2014
         },
         {
          "final_call_count": 4,
          "final_call_type": "CSEC",
          "year": 2014
         },
         {
          "final_call_count": 126,
          "final_call_type": "Drive-by Shooting",
          "year": 2014
         },
         {
          "final_call_count": 109,
          "final_call_type": "Homicide",
          "year": 2014
         },
         {
          "final_call_count": 20,
          "final_call_type": "Kidnap",
          "year": 2014
         },
         {
          "final_call_count": 652,
          "final_call_type": "Lewd Conduct",
          "year": 2014
         },
         {
          "final_call_count": 129,
          "final_call_type": "Molesting",
          "year": 2014
         },
         {
          "final_call_count": 160,
          "final_call_type": "Stranger Rape",
          "year": 2014
         },
         {
          "final_call_count": 242,
          "final_call_type": "Acquaintance Rape",
          "year": 2015
         },
         {
          "final_call_count": 653,
          "final_call_type": "Armed Robbery",
          "year": 2015
         },
         {
          "final_call_count": 225,
          "final_call_type": "Assault w/ Firearm",
          "year": 2015
         },
         {
          "final_call_count": 9,
          "final_call_type": "CSEC",
          "year": 2015
         },
         {
          "final_call_count": 161,
          "final_call_type": "Drive-by Shooting",
          "year": 2015
         },
         {
          "final_call_count": 80,
          "final_call_type": "Homicide",
          "year": 2015
         },
         {
          "final_call_count": 21,
          "final_call_type": "Kidnap",
          "year": 2015
         },
         {
          "final_call_count": 799,
          "final_call_type": "Lewd Conduct",
          "year": 2015
         },
         {
          "final_call_count": 158,
          "final_call_type": "Molesting",
          "year": 2015
         },
         {
          "final_call_count": 143,
          "final_call_type": "Stranger Rape",
          "year": 2015
         },
         {
          "final_call_count": 306,
          "final_call_type": "Acquaintance Rape",
          "year": 2016
         },
         {
          "final_call_count": 705,
          "final_call_type": "Armed Robbery",
          "year": 2016
         },
         {
          "final_call_count": 199,
          "final_call_type": "Assault w/ Firearm",
          "year": 2016
         },
         {
          "final_call_count": 13,
          "final_call_type": "CSEC",
          "year": 2016
         },
         {
          "final_call_count": 129,
          "final_call_type": "Drive-by Shooting",
          "year": 2016
         },
         {
          "final_call_count": 70,
          "final_call_type": "Homicide",
          "year": 2016
         },
         {
          "final_call_count": 21,
          "final_call_type": "Kidnap",
          "year": 2016
         },
         {
          "final_call_count": 841,
          "final_call_type": "Lewd Conduct",
          "year": 2016
         },
         {
          "final_call_count": 155,
          "final_call_type": "Molesting",
          "year": 2016
         },
         {
          "final_call_count": 185,
          "final_call_type": "Stranger Rape",
          "year": 2016
         },
         {
          "final_call_count": 314,
          "final_call_type": "Acquaintance Rape",
          "year": 2017
         },
         {
          "final_call_count": 571,
          "final_call_type": "Armed Robbery",
          "year": 2017
         },
         {
          "final_call_count": 233,
          "final_call_type": "Assault w/ Firearm",
          "year": 2017
         },
         {
          "final_call_count": 9,
          "final_call_type": "CSEC",
          "year": 2017
         },
         {
          "final_call_count": 147,
          "final_call_type": "Drive-by Shooting",
          "year": 2017
         },
         {
          "final_call_count": 68,
          "final_call_type": "Homicide",
          "year": 2017
         },
         {
          "final_call_count": 19,
          "final_call_type": "Kidnap",
          "year": 2017
         },
         {
          "final_call_count": 816,
          "final_call_type": "Lewd Conduct",
          "year": 2017
         },
         {
          "final_call_count": 187,
          "final_call_type": "Molesting",
          "year": 2017
         },
         {
          "final_call_count": 179,
          "final_call_type": "Stranger Rape",
          "year": 2017
         },
         {
          "final_call_count": 365,
          "final_call_type": "Acquaintance Rape",
          "year": 2018
         },
         {
          "final_call_count": 653,
          "final_call_type": "Armed Robbery",
          "year": 2018
         },
         {
          "final_call_count": 208,
          "final_call_type": "Assault w/ Firearm",
          "year": 2018
         },
         {
          "final_call_count": 8,
          "final_call_type": "CSEC",
          "year": 2018
         },
         {
          "final_call_count": 89,
          "final_call_type": "Drive-by Shooting",
          "year": 2018
         },
         {
          "final_call_count": 67,
          "final_call_type": "Homicide",
          "year": 2018
         },
         {
          "final_call_count": 23,
          "final_call_type": "Kidnap",
          "year": 2018
         },
         {
          "final_call_count": 938,
          "final_call_type": "Lewd Conduct",
          "year": 2018
         },
         {
          "final_call_count": 262,
          "final_call_type": "Molesting",
          "year": 2018
         },
         {
          "final_call_count": 214,
          "final_call_type": "Stranger Rape",
          "year": 2018
         }
        ]
       },
       "layer": [
        {
         "data": {
          "name": "data-71b4dc3231b0023ab7c6e44a0aa196df"
         },
         "encoding": {
          "color": {
           "field": "final_call_type",
           "legend": {
            "title": "Call Types"
           },
           "scale": {
            "scheme": "viridis"
           },
           "type": "nominal"
          },
          "opacity": {
           "value": 0
          },
          "x": {
           "field": "year",
           "type": "quantitative"
          },
          "y": {
           "field": "final_call_count",
           "type": "quantitative"
          }
         },
         "height": 400,
         "mark": "line",
         "selection": {
          "selector138": {
           "empty": "all",
           "fields": [
            "final_call_type"
           ],
           "nearest": true,
           "on": "mouseover",
           "resolve": "global",
           "type": "single"
          }
         },
         "width": 600
        },
        {
         "data": {
          "name": "data-71b4dc3231b0023ab7c6e44a0aa196df"
         },
         "encoding": {
          "color": {
           "field": "final_call_type",
           "legend": {
            "title": "Call Types"
           },
           "scale": {
            "scheme": "viridis"
           },
           "type": "nominal"
          },
          "size": {
           "condition": {
            "selection": {
             "not": "selector138"
            },
            "value": 1
           },
           "value": 3
          },
          "x": {
           "field": "year",
           "type": "quantitative"
          },
          "y": {
           "field": "final_call_count",
           "type": "quantitative"
          }
         },
         "mark": "line"
        }
       ]
      },
      "image/png": "[encoded data removed]",
      "text/plain": [
       "<VegaLite 2 object>\n",
       "\n",
       "If you see this message, it means the renderer has not been properly enabled\n",
       "for the frontend that you are using. For more information, see\n",
       "https://altair-viz.github.io/user_guide/troubleshooting.html\n"
      ]
     },
     "execution_count": 189,
     "metadata": {},
     "output_type": "execute_result"
    }
   ],
   "source": [
    "highlight = alt.selection(type='single', on='mouseover',\n",
    "                          fields=['final_call_type'], nearest=True)\n",
    "\n",
    "base = alt.Chart(fct_counts).encode(\n",
    "    x='year',\n",
    "    y='final_call_count',\n",
    "    color=alt.Color(\n",
    "        'final_call_type',\n",
    "        legend=alt.Legend(\n",
    "            title='Call Types'\n",
    "        ), scale=alt.Scale(\n",
    "            scheme='viridis'\n",
    "        )\n",
    "    )    \n",
    ")\n",
    "\n",
    "points = base.mark_line().encode(\n",
    "    opacity=alt.value(0)\n",
    ").add_selection(\n",
    "    highlight\n",
    ").properties(\n",
    "    width=600,\n",
    "    height=400\n",
    ")\n",
    "\n",
    "lines = base.mark_line().encode(\n",
    "    size=alt.condition(~highlight, alt.value(1), alt.value(3))\n",
    ")\n",
    "# alt.layer(\n",
    "#     points, line,\n",
    "#     data=fct_counts\n",
    "# ).configure_view(\n",
    "#     strokeWidth=0\n",
    "# )\n",
    "points + lines"
   ]
  },
  {
   "cell_type": "code",
   "execution_count": null,
   "metadata": {},
   "outputs": [],
   "source": []
  },
  {
   "cell_type": "code",
   "execution_count": null,
   "metadata": {},
   "outputs": [],
   "source": []
  },
  {
   "cell_type": "code",
   "execution_count": 125,
   "metadata": {},
   "outputs": [
    {
     "data": {
      "application/vnd.vegalite.v2+json": {
       "$schema": "https://vega.github.io/schema/vega-lite/v2.6.0.json",
       "config": {
        "axis": {
         "grid": false,
         "labelColor": "gray",
         "labelFontSize": 14
        },
        "axisBottom": {
         "labelFlush": false
        },
        "line": {
         "strokeWidth": 4
        },
        "text": {
         "align": "center",
         "fontSize": 14,
         "fontWeight": 400
        },
        "title": {
         "fontSize": 16,
         "fontWeight": 400
        },
        "view": {
         "height": 300,
         "strokeWidth": 0,
         "width": 400
        }
       },
       "data": {
        "name": "data-71b4dc3231b0023ab7c6e44a0aa196df"
       },
       "datasets": {
        "data-71b4dc3231b0023ab7c6e44a0aa196df": [
         {
          "final_call_count": 214,
          "final_call_type": "Acquaintance Rape",
          "year": 2010
         },
         {
          "final_call_count": 602,
          "final_call_type": "Armed Robbery",
          "year": 2010
         },
         {
          "final_call_count": 166,
          "final_call_type": "Assault w/ Firearm",
          "year": 2010
         },
         {
          "final_call_count": 0,
          "final_call_type": "CSEC",
          "year": 2010
         },
         {
          "final_call_count": 118,
          "final_call_type": "Drive-by Shooting",
          "year": 2010
         },
         {
          "final_call_count": 87,
          "final_call_type": "Homicide",
          "year": 2010
         },
         {
          "final_call_count": 22,
          "final_call_type": "Kidnap",
          "year": 2010
         },
         {
          "final_call_count": 532,
          "final_call_type": "Lewd Conduct",
          "year": 2010
         },
         {
          "final_call_count": 109,
          "final_call_type": "Molesting",
          "year": 2010
         },
         {
          "final_call_count": 160,
          "final_call_type": "Stranger Rape",
          "year": 2010
         },
         {
          "final_call_count": 221,
          "final_call_type": "Acquaintance Rape",
          "year": 2011
         },
         {
          "final_call_count": 722,
          "final_call_type": "Armed Robbery",
          "year": 2011
         },
         {
          "final_call_count": 131,
          "final_call_type": "Assault w/ Firearm",
          "year": 2011
         },
         {
          "final_call_count": 3,
          "final_call_type": "CSEC",
          "year": 2011
         },
         {
          "final_call_count": 132,
          "final_call_type": "Drive-by Shooting",
          "year": 2011
         },
         {
          "final_call_count": 44,
          "final_call_type": "Homicide",
          "year": 2011
         },
         {
          "final_call_count": 24,
          "final_call_type": "Kidnap",
          "year": 2011
         },
         {
          "final_call_count": 562,
          "final_call_type": "Lewd Conduct",
          "year": 2011
         },
         {
          "final_call_count": 137,
          "final_call_type": "Molesting",
          "year": 2011
         },
         {
          "final_call_count": 142,
          "final_call_type": "Stranger Rape",
          "year": 2011
         },
         {
          "final_call_count": 229,
          "final_call_type": "Acquaintance Rape",
          "year": 2012
         },
         {
          "final_call_count": 685,
          "final_call_type": "Armed Robbery",
          "year": 2012
         },
         {
          "final_call_count": 174,
          "final_call_type": "Assault w/ Firearm",
          "year": 2012
         },
         {
          "final_call_count": 1,
          "final_call_type": "CSEC",
          "year": 2012
         },
         {
          "final_call_count": 152,
          "final_call_type": "Drive-by Shooting",
          "year": 2012
         },
         {
          "final_call_count": 79,
          "final_call_type": "Homicide",
          "year": 2012
         },
         {
          "final_call_count": 20,
          "final_call_type": "Kidnap",
          "year": 2012
         },
         {
          "final_call_count": 550,
          "final_call_type": "Lewd Conduct",
          "year": 2012
         },
         {
          "final_call_count": 140,
          "final_call_type": "Molesting",
          "year": 2012
         },
         {
          "final_call_count": 132,
          "final_call_type": "Stranger Rape",
          "year": 2012
         },
         {
          "final_call_count": 212,
          "final_call_type": "Acquaintance Rape",
          "year": 2013
         },
         {
          "final_call_count": 667,
          "final_call_type": "Armed Robbery",
          "year": 2013
         },
         {
          "final_call_count": 138,
          "final_call_type": "Assault w/ Firearm",
          "year": 2013
         },
         {
          "final_call_count": 5,
          "final_call_type": "CSEC",
          "year": 2013
         },
         {
          "final_call_count": 89,
          "final_call_type": "Drive-by Shooting",
          "year": 2013
         },
         {
          "final_call_count": 84,
          "final_call_type": "Homicide",
          "year": 2013
         },
         {
          "final_call_count": 28,
          "final_call_type": "Kidnap",
          "year": 2013
         },
         {
          "final_call_count": 588,
          "final_call_type": "Lewd Conduct",
          "year": 2013
         },
         {
          "final_call_count": 175,
          "final_call_type": "Molesting",
          "year": 2013
         },
         {
          "final_call_count": 173,
          "final_call_type": "Stranger Rape",
          "year": 2013
         },
         {
          "final_call_count": 186,
          "final_call_type": "Acquaintance Rape",
          "year": 2014
         },
         {
          "final_call_count": 616,
          "final_call_type": "Armed Robbery",
          "year": 2014
         },
         {
          "final_call_count": 168,
          "final_call_type": "Assault w/ Firearm",
          "year": 2014
         },
         {
          "final_call_count": 4,
          "final_call_type": "CSEC",
          "year": 2014
         },
         {
          "final_call_count": 126,
          "final_call_type": "Drive-by Shooting",
          "year": 2014
         },
         {
          "final_call_count": 109,
          "final_call_type": "Homicide",
          "year": 2014
         },
         {
          "final_call_count": 20,
          "final_call_type": "Kidnap",
          "year": 2014
         },
         {
          "final_call_count": 652,
          "final_call_type": "Lewd Conduct",
          "year": 2014
         },
         {
          "final_call_count": 129,
          "final_call_type": "Molesting",
          "year": 2014
         },
         {
          "final_call_count": 160,
          "final_call_type": "Stranger Rape",
          "year": 2014
         },
         {
          "final_call_count": 242,
          "final_call_type": "Acquaintance Rape",
          "year": 2015
         },
         {
          "final_call_count": 653,
          "final_call_type": "Armed Robbery",
          "year": 2015
         },
         {
          "final_call_count": 225,
          "final_call_type": "Assault w/ Firearm",
          "year": 2015
         },
         {
          "final_call_count": 9,
          "final_call_type": "CSEC",
          "year": 2015
         },
         {
          "final_call_count": 161,
          "final_call_type": "Drive-by Shooting",
          "year": 2015
         },
         {
          "final_call_count": 80,
          "final_call_type": "Homicide",
          "year": 2015
         },
         {
          "final_call_count": 21,
          "final_call_type": "Kidnap",
          "year": 2015
         },
         {
          "final_call_count": 799,
          "final_call_type": "Lewd Conduct",
          "year": 2015
         },
         {
          "final_call_count": 158,
          "final_call_type": "Molesting",
          "year": 2015
         },
         {
          "final_call_count": 143,
          "final_call_type": "Stranger Rape",
          "year": 2015
         },
         {
          "final_call_count": 306,
          "final_call_type": "Acquaintance Rape",
          "year": 2016
         },
         {
          "final_call_count": 705,
          "final_call_type": "Armed Robbery",
          "year": 2016
         },
         {
          "final_call_count": 199,
          "final_call_type": "Assault w/ Firearm",
          "year": 2016
         },
         {
          "final_call_count": 13,
          "final_call_type": "CSEC",
          "year": 2016
         },
         {
          "final_call_count": 129,
          "final_call_type": "Drive-by Shooting",
          "year": 2016
         },
         {
          "final_call_count": 70,
          "final_call_type": "Homicide",
          "year": 2016
         },
         {
          "final_call_count": 21,
          "final_call_type": "Kidnap",
          "year": 2016
         },
         {
          "final_call_count": 841,
          "final_call_type": "Lewd Conduct",
          "year": 2016
         },
         {
          "final_call_count": 155,
          "final_call_type": "Molesting",
          "year": 2016
         },
         {
          "final_call_count": 185,
          "final_call_type": "Stranger Rape",
          "year": 2016
         },
         {
          "final_call_count": 314,
          "final_call_type": "Acquaintance Rape",
          "year": 2017
         },
         {
          "final_call_count": 571,
          "final_call_type": "Armed Robbery",
          "year": 2017
         },
         {
          "final_call_count": 233,
          "final_call_type": "Assault w/ Firearm",
          "year": 2017
         },
         {
          "final_call_count": 9,
          "final_call_type": "CSEC",
          "year": 2017
         },
         {
          "final_call_count": 147,
          "final_call_type": "Drive-by Shooting",
          "year": 2017
         },
         {
          "final_call_count": 68,
          "final_call_type": "Homicide",
          "year": 2017
         },
         {
          "final_call_count": 19,
          "final_call_type": "Kidnap",
          "year": 2017
         },
         {
          "final_call_count": 816,
          "final_call_type": "Lewd Conduct",
          "year": 2017
         },
         {
          "final_call_count": 187,
          "final_call_type": "Molesting",
          "year": 2017
         },
         {
          "final_call_count": 179,
          "final_call_type": "Stranger Rape",
          "year": 2017
         },
         {
          "final_call_count": 365,
          "final_call_type": "Acquaintance Rape",
          "year": 2018
         },
         {
          "final_call_count": 653,
          "final_call_type": "Armed Robbery",
          "year": 2018
         },
         {
          "final_call_count": 208,
          "final_call_type": "Assault w/ Firearm",
          "year": 2018
         },
         {
          "final_call_count": 8,
          "final_call_type": "CSEC",
          "year": 2018
         },
         {
          "final_call_count": 89,
          "final_call_type": "Drive-by Shooting",
          "year": 2018
         },
         {
          "final_call_count": 67,
          "final_call_type": "Homicide",
          "year": 2018
         },
         {
          "final_call_count": 23,
          "final_call_type": "Kidnap",
          "year": 2018
         },
         {
          "final_call_count": 938,
          "final_call_type": "Lewd Conduct",
          "year": 2018
         },
         {
          "final_call_count": 262,
          "final_call_type": "Molesting",
          "year": 2018
         },
         {
          "final_call_count": 214,
          "final_call_type": "Stranger Rape",
          "year": 2018
         }
        ]
       },
       "height": 400,
       "layer": [
        {
         "encoding": {
          "color": {
           "field": "final_call_type",
           "legend": {
            "orient": "bottom-right",
            "title": "Crime Category"
           },
           "scale": {
            "scheme": "viridis"
           },
           "type": "nominal"
          },
          "x": {
           "axis": {
            "format": "Y",
            "ticks": false,
            "title": ""
           },
           "field": "year",
           "type": "quantitative"
          },
          "y": {
           "axis": {
            "ticks": false,
            "title": "",
            "values": [
             250,
             500,
             750,
             1000,
             1250
            ]
           },
           "field": "final_call_count",
           "type": "quantitative"
          }
         },
         "mark": "line"
        },
        {
         "encoding": {
          "opacity": {
           "value": 0
          },
          "x": {
           "field": "year",
           "type": "quantitative"
          }
         },
         "mark": "point",
         "selection": {
          "selector098": {
           "empty": "none",
           "fields": [
            "year"
           ],
           "nearest": true,
           "on": "mouseover",
           "resolve": "global",
           "type": "single"
          }
         }
        },
        {
         "encoding": {
          "color": {
           "field": "final_call_type",
           "legend": {
            "orient": "bottom-right",
            "title": "Crime Category"
           },
           "scale": {
            "scheme": "viridis"
           },
           "type": "nominal"
          },
          "opacity": {
           "condition": {
            "selection": "selector098",
            "value": 1
           },
           "value": 0
          },
          "x": {
           "axis": {
            "format": "Y",
            "ticks": false,
            "title": ""
           },
           "field": "year",
           "type": "quantitative"
          },
          "y": {
           "axis": {
            "ticks": false,
            "title": "",
            "values": [
             250,
             500,
             750,
             1000,
             1250
            ]
           },
           "field": "final_call_count",
           "type": "quantitative"
          }
         },
         "mark": "point"
        },
        {
         "encoding": {
          "x": {
           "field": "year",
           "type": "quantitative"
          }
         },
         "mark": {
          "color": "lightgray",
          "type": "rule"
         },
         "transform": [
          {
           "filter": {
            "selection": "selector098"
           }
          }
         ]
        },
        {
         "encoding": {
          "color": {
           "field": "final_call_type",
           "legend": {
            "orient": "bottom-right",
            "title": "Crime Category"
           },
           "scale": {
            "scheme": "viridis"
           },
           "type": "nominal"
          },
          "text": {
           "condition": {
            "field": "final_call_count",
            "selection": "selector098",
            "type": "quantitative"
           },
           "value": " "
          },
          "x": {
           "axis": {
            "format": "Y",
            "ticks": false,
            "title": ""
           },
           "field": "year",
           "type": "quantitative"
          },
          "y": {
           "axis": {
            "ticks": false,
            "title": "",
            "values": [
             250,
             500,
             750,
             1000,
             1250
            ]
           },
           "field": "final_call_count",
           "type": "quantitative"
          }
         },
         "mark": {
          "align": "center",
          "dx": 0,
          "dy": 25,
          "type": "text"
         }
        }
       ],
       "padding": 15,
       "title": "Calls Per Year",
       "width": 600
      },
      "image/png": "[encoded data removed]",
      "text/plain": [
       "<VegaLite 2 object>\n",
       "\n",
       "If you see this message, it means the renderer has not been properly enabled\n",
       "for the frontend that you are using. For more information, see\n",
       "https://altair-viz.github.io/user_guide/troubleshooting.html\n"
      ]
     },
     "execution_count": 125,
     "metadata": {},
     "output_type": "execute_result"
    }
   ],
   "source": [
    "# Interactive crime_type counts chart! \n",
    "\n",
    "# Create selection that chooses the nearest point\n",
    "nearest = alt.selection(type='single', nearest=True, on='mouseover',\n",
    "                       fields=['year'], empty='none')\n",
    "\n",
    "# The basic line\n",
    "line = alt.Chart().mark_line().encode(\n",
    "    x=alt.X(\n",
    "        'year:Q',\n",
    "        axis=alt.Axis(\n",
    "            format='Y',\n",
    "            title='',\n",
    "            ticks=False\n",
    "        )),\n",
    "    y=alt.Y(\n",
    "        'final_call_count:Q',\n",
    "        axis=alt.Axis(\n",
    "            title='',\n",
    "            ticks=False,\n",
    "            values=[250, 500, 750, 1000, 1250]\n",
    "        )),\n",
    "    color=alt.Color(\n",
    "        'final_call_type:N',\n",
    "        legend=alt.Legend(\n",
    "            title='Crime Category',\n",
    "            orient='bottom-right'\n",
    "        ),\n",
    "        scale=alt.Scale(\n",
    "            scheme='viridis'\n",
    "        ))\n",
    ")\n",
    "\n",
    "# Transparent selectors across the chart. This tells the x-value of the cursor\n",
    "selectors = alt.Chart().mark_point().encode(\n",
    "    x='year:Q',\n",
    "    opacity=alt.value(0),\n",
    ").add_selection(\n",
    "    nearest\n",
    ")\n",
    "\n",
    "# Draw points on the line and highlight based on selection\n",
    "points = line.mark_point().encode(\n",
    "    opacity=alt.condition(nearest, alt.value(1), alt.value(0))\n",
    ")\n",
    "\n",
    "# Draw text labels near the points, highlight selection\n",
    "text = line.mark_text(align='center', dx=0, dy=25).encode(\n",
    "    text=alt.condition(nearest, 'final_call_count:Q', alt.value(' '))\n",
    ")\n",
    "\n",
    "# Draw a rule at the location of the selection\n",
    "rules = alt.Chart().mark_rule(color='lightgray').encode(\n",
    "    x='year:Q',\n",
    ").transform_filter(\n",
    "    nearest\n",
    ")\n",
    "\n",
    "# Put layers together and chart\n",
    "alt.layer(\n",
    "    line, selectors, points, rules, text,\n",
    "    data=fct_counts,\n",
    "    width=600,\n",
    "    height=400,\n",
    "    padding=15,\n",
    ").properties(\n",
    "    title='Calls Per Year'\n",
    ").configure_line(\n",
    "    strokeWidth=4,\n",
    ").configure_text(\n",
    "    fontSize=14,\n",
    "    fontWeight=400,\n",
    "    align='center',\n",
    ").configure_title(\n",
    "    fontSize=16,\n",
    "    fontWeight=400\n",
    ").configure_axis(\n",
    "    labelFontSize=14,\n",
    "    labelColor='gray',\n",
    "    grid=False\n",
    ").configure_view(\n",
    "    strokeWidth=0\n",
    ").configure_axisBottom(\n",
    "    labelFlush=False\n",
    ")\n"
   ]
  },
  {
   "cell_type": "code",
   "execution_count": null,
   "metadata": {},
   "outputs": [],
   "source": []
  },
  {
   "cell_type": "markdown",
   "metadata": {},
   "source": [
    "## 2. Arrests for VC have increased\n",
    "\n",
    "In 2018, the percentage rape calls that resulted in an arrests was 5.7%. That same year, the rate of arrest for violent crimes was nearly one and a half times higher at 13.8%. At the same time, Seattle saw reports of violent crimes drop for the third year in a row, while calls reporting rapes are at an all-time high. Since the #MeToo movement started towards the end of 2017, more victims have been coming forward to report sexual assaults. And, even though rapes are notoriously underreported, this increase in rape calls doesn't necessarily indicate and overall increase in these crimes.\n",
    "\n",
    "Even though the number of arrests for non-sex-related violent crime was flat from 2017 to 2018, the rate of arrests (percentage) has increased because there's been a drop in reports of these crimes. Conversely, reports of rape have steadily increased since 2014. Understandibly, the number of calls that have resulted in arrest have also increased but the rate of arrests have not kept pace. Between 2015 and 2017 there was a dramatic decrease in arrest rates related to rape calls - dropping from a 7% arrest rate in 2015 to 3.4% in 2017. Last year, the arrest rate rebounded to 5.7%, but was still much lower than the high of 10.2% in 2012. And, given that last year's violent crime arrest rate of 13.75%, arrests rates for rape calls still lags."
   ]
  },
  {
   "cell_type": "code",
   "execution_count": 18,
   "metadata": {},
   "outputs": [
    {
     "data": {
      "text/plain": [
       "<matplotlib.axes._subplots.AxesSubplot at 0x118651940>"
      ]
     },
     "execution_count": 18,
     "metadata": {},
     "output_type": "execute_result"
    },
    {
     "data": {
      "image/png": "[encoded data removed]",
      "text/plain": [
       "<Figure size 720x432 with 1 Axes>"
      ]
     },
     "metadata": {
      "needs_background": "light"
     },
     "output_type": "display_data"
    }
   ],
   "source": [
    "# Create df for all calls with an arrest\n",
    "\n",
    "arrest_df = data['is_arrest'] == \"yes\"\n",
    "\n",
    "# Plot the count of calls with an arrest, by year and crime type\n",
    "\n",
    "data.groupby('crime_type').year.value_counts().unstack(0).plot.line(\n",
    "    stacked=False, figsize=(10,6), title=\"# of arrest, by crime type, 2010-2018\")\n"
   ]
  },
  {
   "cell_type": "code",
   "execution_count": 19,
   "metadata": {},
   "outputs": [],
   "source": [
    "# Calculate arrest percentages by crime type for each year\n",
    "arrest_percent_by_yr = pd.crosstab([data.crime_type, data.year],data.is_arrest,\n",
    "                         normalize = 'index')\n",
    "\n",
    "# Multiply all percentages by 100 for graphing. \n",
    "arrest_percent_by_yr *= 100\n",
    "\n",
    "# Flatten df\n",
    "arrest_percent_by_yr.reset_index(inplace=True)\n",
    "\n",
    "# Remove \"no\" percentages\n",
    "arrest_percent_by_yr = arrest_percent_by_yr.drop('no', axis=1)"
   ]
  },
  {
   "cell_type": "code",
   "execution_count": 20,
   "metadata": {},
   "outputs": [],
   "source": [
    "# Separate data by crime type for visualization\n",
    "\n",
    "vc_arr_by_yr = arrest_percent_by_yr[\n",
    "    arrest_percent_by_yr['crime_type'].str.contains(\"violent\")]\n",
    "rape_arr_by_yr = arrest_percent_by_yr[\n",
    "    arrest_percent_by_yr['crime_type'].str.contains(\"rape\")]\n",
    "other_arr_by_yr = arrest_percent_by_yr[\n",
    "    arrest_percent_by_yr['crime_type'].str.contains(\"other\")]"
   ]
  },
  {
   "cell_type": "code",
   "execution_count": 21,
   "metadata": {},
   "outputs": [
    {
     "data": {
      "image/png": "[encoded data removed]",
      "text/plain": [
       "<Figure size 800x480 with 1 Axes>"
      ]
     },
     "metadata": {
      "needs_background": "light"
     },
     "output_type": "display_data"
    }
   ],
   "source": [
    "# Plot arrests percentges by year.\n",
    "\n",
    "plt.figure(figsize=(10,6), dpi= 80)\n",
    "plt.plot(vc_arr_by_yr.year, vc_arr_by_yr.yes, color='g', label='violent crime')\n",
    "plt.plot(rape_arr_by_yr.year, rape_arr_by_yr.yes, color='b', label='rape')\n",
    "plt.plot(other_arr_by_yr.year, other_arr_by_yr.yes, color='y', label='non-rape sex crime')\n",
    "\n",
    "plt.ylabel('Arrest percent')\n",
    "plt.title('Arrest Percentages by Crime Type, 2010-2018')\n",
    "plt.legend()\n",
    "\n",
    "plt.show()"
   ]
  },
  {
   "cell_type": "markdown",
   "metadata": {},
   "source": [
    "## 3. TRU Calls\n"
   ]
  },
  {
   "cell_type": "code",
   "execution_count": 22,
   "metadata": {},
   "outputs": [
    {
     "data": {
      "text/html": [
       "<div>\n",
       "<style scoped>\n",
       "    .dataframe tbody tr th:only-of-type {\n",
       "        vertical-align: middle;\n",
       "    }\n",
       "\n",
       "    .dataframe tbody tr th {\n",
       "        vertical-align: top;\n",
       "    }\n",
       "\n",
       "    .dataframe thead th {\n",
       "        text-align: right;\n",
       "    }\n",
       "</style>\n",
       "<table border=\"1\" class=\"dataframe\">\n",
       "  <thead>\n",
       "    <tr style=\"text-align: right;\">\n",
       "      <th>is_TRU</th>\n",
       "      <th>no</th>\n",
       "      <th>yes</th>\n",
       "    </tr>\n",
       "  </thead>\n",
       "  <tbody>\n",
       "    <tr>\n",
       "      <th>Acquaintance Rape</th>\n",
       "      <td>0.975972</td>\n",
       "      <td>0.024028</td>\n",
       "    </tr>\n",
       "    <tr>\n",
       "      <th>Armed Robbery</th>\n",
       "      <td>0.999149</td>\n",
       "      <td>0.000851</td>\n",
       "    </tr>\n",
       "    <tr>\n",
       "      <th>Assault w/ Firearm</th>\n",
       "      <td>0.990256</td>\n",
       "      <td>0.009744</td>\n",
       "    </tr>\n",
       "    <tr>\n",
       "      <th>CSEC</th>\n",
       "      <td>0.980769</td>\n",
       "      <td>0.019231</td>\n",
       "    </tr>\n",
       "    <tr>\n",
       "      <th>Drive-by Shooting</th>\n",
       "      <td>0.999125</td>\n",
       "      <td>0.000875</td>\n",
       "    </tr>\n",
       "    <tr>\n",
       "      <th>Homicide</th>\n",
       "      <td>1.000000</td>\n",
       "      <td>0.000000</td>\n",
       "    </tr>\n",
       "    <tr>\n",
       "      <th>Kidnap</th>\n",
       "      <td>0.989899</td>\n",
       "      <td>0.010101</td>\n",
       "    </tr>\n",
       "    <tr>\n",
       "      <th>Lewd Conduct</th>\n",
       "      <td>0.990761</td>\n",
       "      <td>0.009239</td>\n",
       "    </tr>\n",
       "    <tr>\n",
       "      <th>Molesting</th>\n",
       "      <td>0.971763</td>\n",
       "      <td>0.028237</td>\n",
       "    </tr>\n",
       "    <tr>\n",
       "      <th>Stranger Rape</th>\n",
       "      <td>0.986559</td>\n",
       "      <td>0.013441</td>\n",
       "    </tr>\n",
       "  </tbody>\n",
       "</table>\n",
       "</div>"
      ],
      "text/plain": [
       "is_TRU                    no       yes\n",
       "Acquaintance Rape   0.975972  0.024028\n",
       "Armed Robbery       0.999149  0.000851\n",
       "Assault w/ Firearm  0.990256  0.009744\n",
       "CSEC                0.980769  0.019231\n",
       "Drive-by Shooting   0.999125  0.000875\n",
       "Homicide            1.000000  0.000000\n",
       "Kidnap              0.989899  0.010101\n",
       "Lewd Conduct        0.990761  0.009239\n",
       "Molesting           0.971763  0.028237\n",
       "Stranger Rape       0.986559  0.013441"
      ]
     },
     "execution_count": 22,
     "metadata": {},
     "output_type": "execute_result"
    }
   ],
   "source": [
    "# Create crosstab to view % all TRU calls by crime type\n",
    "\n",
    "percentage_tru_calls = pd.crosstab(data.final_call_type,data.is_TRU,\n",
    "                          normalize = 'index').rename_axis(None)\n",
    "\n",
    "\n",
    "\n",
    "percentage_tru_calls"
   ]
  },
  {
   "cell_type": "markdown",
   "metadata": {},
   "source": [
    "Sex crimes where there is a victim, are initially sent to TRU at higher rates than other violent crimes. For the nine years of police calls examined, non-sex-related violent crimes sent to TRU averaged less than 1% of the time. In the same time period, 2.4% of calls reporting acquaintance rape and 2.8% of molestation were sent to TRU."
   ]
  },
  {
   "cell_type": "code",
   "execution_count": 23,
   "metadata": {},
   "outputs": [
    {
     "data": {
      "image/png": "[encoded data removed]",
      "text/plain": [
       "<Figure size 800x480 with 1 Axes>"
      ]
     },
     "metadata": {
      "needs_background": "light"
     },
     "output_type": "display_data"
    }
   ],
   "source": [
    "# Plot TRU call percentages as bar graph. \n",
    "\n",
    "percentage_tru_sorted = percentage_tru_calls.sort_values('yes',ascending=False)\n",
    "\n",
    "plt.figure(figsize=(10,6), dpi= 80)\n",
    "plt.barh(percentage_tru_sorted.index, percentage_tru_sorted.yes, align='center', alpha=0.5)\n",
    "plt.xlabel('Percent')\n",
    "plt.title('% of calls initially sent to TRU, 2010-2018')\n",
    "plt.xticks(rotation=90)\n",
    "\n",
    "plt.show()"
   ]
  },
  {
   "cell_type": "markdown",
   "metadata": {},
   "source": [
    "An average of 2.8% of the calls reporting molesting were sent to TRU. \n",
    "\n",
    "Even though the overall number of rape calls initially sent to the Telephone Reporting Unit is low, it still means that 75 people called the Seattle Police Department to report a rape and were directed to the same police unit that would handle a call reporting a bicycle that was stolen two years ago.\n",
    "\n",
    "Between 2010 and 2018, 55 acquaintance rape calls, 20 stranger rape calls and 41 molesting calls were referred to TRU.\n",
    "\n",
    "**Insert viz showing number of rape and molesting calls sent to TRU**\n",
    "\n",
    "tutorial: https://pudding.cool/process/flexbox-layout/"
   ]
  },
  {
   "cell_type": "code",
   "execution_count": 24,
   "metadata": {},
   "outputs": [],
   "source": [
    "# Sandbox to confirm number of TRU molesting and rape calls\n",
    "\n",
    "data_tru_df = data[is_tru_mask]\n",
    "data_tru_df = data_tru_df[data_tru_df.final_call_type.str.contains(\"Molesting\")]\n",
    "#data_tru_df = data_tru_df[data_tru_df.final_call_type.str.contains(\"Acquaintance\")]\n",
    "#data_tru_df = data_tru_df[data_tru_df.final_call_type.str.contains(\"Stranger\")]\n",
    "\n",
    "#data_tru_df.count()"
   ]
  },
  {
   "cell_type": "markdown",
   "metadata": {},
   "source": [
    "## 4. Lewd Calls\n",
    "\n",
    "Demonstrate the connections between the amount of time between when the call was taken and when the first officer arrived on scene and the call outcome."
   ]
  },
  {
   "cell_type": "code",
   "execution_count": 25,
   "metadata": {},
   "outputs": [],
   "source": [
    "# Create df for all in progress lewd calls with bad arrived_time rows removed\n",
    "# total i/p lewd calls = 5673\n",
    "\n",
    "lewd_calls_ip = data[data.arrived_time > '1900-1-1']\n",
    "lewd_calls_ip = lewd_calls_ip[lewd_calls_ip.final_call_type.str.contains(\"LEWD\")]\n",
    "lewd_calls_ip = lewd_calls_ip[lewd_calls_ip.priority <= 3]"
   ]
  },
  {
   "cell_type": "code",
   "execution_count": 103,
   "metadata": {},
   "outputs": [],
   "source": [
    "# View count of clearing codes\n",
    "# lewd_calls_ip.event_clearing.value_counts()"
   ]
  },
  {
   "cell_type": "code",
   "execution_count": 26,
   "metadata": {},
   "outputs": [],
   "source": [
    "# Refine df to only include the 5 most common clearing codes\n",
    "# 90% of all calls were cleared with one of these clearing calls\n",
    "\n",
    "top_lewd_cc_terms = 'REPORT WRITTEN|ASSISTANCE RENDERED|PHYSICAL ARREST|UNABLE TO LOCATE|ORAL WARNING'\n",
    "lewd_calls_ip = lewd_calls_ip[lewd_calls_ip.event_clearing.str.contains(top_lewd_cc_terms)]"
   ]
  },
  {
   "cell_type": "markdown",
   "metadata": {},
   "source": [
    "## 5. Mapping Calls\n",
    "\n"
   ]
  },
  {
   "cell_type": "code",
   "execution_count": 31,
   "metadata": {},
   "outputs": [
    {
     "data": {
      "text/html": [
       "<div>\n",
       "<style scoped>\n",
       "    .dataframe tbody tr th:only-of-type {\n",
       "        vertical-align: middle;\n",
       "    }\n",
       "\n",
       "    .dataframe tbody tr th {\n",
       "        vertical-align: top;\n",
       "    }\n",
       "\n",
       "    .dataframe thead th {\n",
       "        text-align: right;\n",
       "    }\n",
       "</style>\n",
       "<table border=\"1\" class=\"dataframe\">\n",
       "  <thead>\n",
       "    <tr style=\"text-align: right;\">\n",
       "      <th></th>\n",
       "      <th>event_clearing</th>\n",
       "      <th>call_type</th>\n",
       "      <th>priority</th>\n",
       "      <th>initial_call_type</th>\n",
       "      <th>final_call_type</th>\n",
       "      <th>original_time_queued</th>\n",
       "      <th>arrived_time</th>\n",
       "      <th>precinct</th>\n",
       "      <th>sector</th>\n",
       "      <th>beat</th>\n",
       "      <th>time_delta</th>\n",
       "      <th>year</th>\n",
       "      <th>month</th>\n",
       "      <th>is_arrest</th>\n",
       "      <th>is_TRU</th>\n",
       "      <th>crime_type</th>\n",
       "    </tr>\n",
       "    <tr>\n",
       "      <th>CAD Event Number</th>\n",
       "      <th></th>\n",
       "      <th></th>\n",
       "      <th></th>\n",
       "      <th></th>\n",
       "      <th></th>\n",
       "      <th></th>\n",
       "      <th></th>\n",
       "      <th></th>\n",
       "      <th></th>\n",
       "      <th></th>\n",
       "      <th></th>\n",
       "      <th></th>\n",
       "      <th></th>\n",
       "      <th></th>\n",
       "      <th></th>\n",
       "      <th></th>\n",
       "    </tr>\n",
       "  </thead>\n",
       "  <tbody>\n",
       "    <tr>\n",
       "      <th>2010000066820</th>\n",
       "      <td>ASSISTANCE RENDERED</td>\n",
       "      <td>911</td>\n",
       "      <td>2</td>\n",
       "      <td>MENTAL - PERSON OR PICKUP/TRANSPORT</td>\n",
       "      <td>Lewd Conduct</td>\n",
       "      <td>2010-02-27 22:54:25</td>\n",
       "      <td>2010-02-27 22:55:45</td>\n",
       "      <td>NORTH</td>\n",
       "      <td>UNION</td>\n",
       "      <td>U1</td>\n",
       "      <td>80</td>\n",
       "      <td>2010</td>\n",
       "      <td>2</td>\n",
       "      <td>no</td>\n",
       "      <td>no</td>\n",
       "      <td>other sex crime</td>\n",
       "    </tr>\n",
       "    <tr>\n",
       "      <th>2010000000327</th>\n",
       "      <td>PHYSICAL ARREST MADE</td>\n",
       "      <td>911</td>\n",
       "      <td>1</td>\n",
       "      <td>ASLT - IP/JO - WITH OR W/O WPNS (NO SHOOTINGS)</td>\n",
       "      <td>Assault w/ Firearm</td>\n",
       "      <td>2010-01-01 03:13:06</td>\n",
       "      <td>2010-01-01 03:14:51</td>\n",
       "      <td>SOUTH</td>\n",
       "      <td>ROBERT</td>\n",
       "      <td>R3</td>\n",
       "      <td>105</td>\n",
       "      <td>2010</td>\n",
       "      <td>1</td>\n",
       "      <td>yes</td>\n",
       "      <td>no</td>\n",
       "      <td>violent crime</td>\n",
       "    </tr>\n",
       "    <tr>\n",
       "      <th>2010000000451</th>\n",
       "      <td>REPORT WRITTEN (NO ARREST)</td>\n",
       "      <td>911</td>\n",
       "      <td>2</td>\n",
       "      <td>THEFT OF SERVICES</td>\n",
       "      <td>Armed Robbery</td>\n",
       "      <td>2010-01-01 05:46:54</td>\n",
       "      <td>2010-01-01 06:39:35</td>\n",
       "      <td>NORTH</td>\n",
       "      <td>UNION</td>\n",
       "      <td>U1</td>\n",
       "      <td>3161</td>\n",
       "      <td>2010</td>\n",
       "      <td>1</td>\n",
       "      <td>no</td>\n",
       "      <td>no</td>\n",
       "      <td>violent crime</td>\n",
       "    </tr>\n",
       "    <tr>\n",
       "      <th>2010000000466</th>\n",
       "      <td>REPORT WRITTEN (NO ARREST)</td>\n",
       "      <td>TELEPHONE OTHER, NOT 911</td>\n",
       "      <td>3</td>\n",
       "      <td>RAPE</td>\n",
       "      <td>Acquaintance Rape</td>\n",
       "      <td>2010-01-01 06:28:49</td>\n",
       "      <td>2010-01-01 06:40:09</td>\n",
       "      <td>EAST</td>\n",
       "      <td>GEORGE</td>\n",
       "      <td>G1</td>\n",
       "      <td>680</td>\n",
       "      <td>2010</td>\n",
       "      <td>1</td>\n",
       "      <td>no</td>\n",
       "      <td>no</td>\n",
       "      <td>rape</td>\n",
       "    </tr>\n",
       "    <tr>\n",
       "      <th>2010000000776</th>\n",
       "      <td>REPORT WRITTEN (NO ARREST)</td>\n",
       "      <td>911</td>\n",
       "      <td>3</td>\n",
       "      <td>RAPE</td>\n",
       "      <td>Acquaintance Rape</td>\n",
       "      <td>2010-01-01 15:05:57</td>\n",
       "      <td>2010-01-01 15:12:26</td>\n",
       "      <td>SOUTHWEST</td>\n",
       "      <td>FRANK</td>\n",
       "      <td>F3</td>\n",
       "      <td>389</td>\n",
       "      <td>2010</td>\n",
       "      <td>1</td>\n",
       "      <td>no</td>\n",
       "      <td>no</td>\n",
       "      <td>rape</td>\n",
       "    </tr>\n",
       "  </tbody>\n",
       "</table>\n",
       "</div>"
      ],
      "text/plain": [
       "                              event_clearing                 call_type  \\\n",
       "CAD Event Number                                                         \n",
       "2010000066820            ASSISTANCE RENDERED                       911   \n",
       "2010000000327           PHYSICAL ARREST MADE                       911   \n",
       "2010000000451     REPORT WRITTEN (NO ARREST)                       911   \n",
       "2010000000466     REPORT WRITTEN (NO ARREST)  TELEPHONE OTHER, NOT 911   \n",
       "2010000000776     REPORT WRITTEN (NO ARREST)                       911   \n",
       "\n",
       "                  priority                               initial_call_type  \\\n",
       "CAD Event Number                                                             \n",
       "2010000066820            2             MENTAL - PERSON OR PICKUP/TRANSPORT   \n",
       "2010000000327            1  ASLT - IP/JO - WITH OR W/O WPNS (NO SHOOTINGS)   \n",
       "2010000000451            2                               THEFT OF SERVICES   \n",
       "2010000000466            3                                            RAPE   \n",
       "2010000000776            3                                            RAPE   \n",
       "\n",
       "                     final_call_type original_time_queued        arrived_time  \\\n",
       "CAD Event Number                                                                \n",
       "2010000066820           Lewd Conduct  2010-02-27 22:54:25 2010-02-27 22:55:45   \n",
       "2010000000327     Assault w/ Firearm  2010-01-01 03:13:06 2010-01-01 03:14:51   \n",
       "2010000000451          Armed Robbery  2010-01-01 05:46:54 2010-01-01 06:39:35   \n",
       "2010000000466      Acquaintance Rape  2010-01-01 06:28:49 2010-01-01 06:40:09   \n",
       "2010000000776      Acquaintance Rape  2010-01-01 15:05:57 2010-01-01 15:12:26   \n",
       "\n",
       "                   precinct  sector beat  time_delta  year  month is_arrest  \\\n",
       "CAD Event Number                                                              \n",
       "2010000066820         NORTH   UNION   U1          80  2010      2        no   \n",
       "2010000000327         SOUTH  ROBERT   R3         105  2010      1       yes   \n",
       "2010000000451         NORTH   UNION   U1        3161  2010      1        no   \n",
       "2010000000466          EAST  GEORGE   G1         680  2010      1        no   \n",
       "2010000000776     SOUTHWEST   FRANK   F3         389  2010      1        no   \n",
       "\n",
       "                 is_TRU       crime_type  \n",
       "CAD Event Number                          \n",
       "2010000066820        no  other sex crime  \n",
       "2010000000327        no    violent crime  \n",
       "2010000000451        no    violent crime  \n",
       "2010000000466        no             rape  \n",
       "2010000000776        no             rape  "
      ]
     },
     "execution_count": 31,
     "metadata": {},
     "output_type": "execute_result"
    }
   ],
   "source": [
    "data.head()"
   ]
  },
  {
   "cell_type": "markdown",
   "metadata": {},
   "source": [
    "## 6. Create Sankey diagram:\n",
    "* five horizontal flows corresponding to one of ~5-6 time_delta buckets\n",
    "* final checkpoint goes to how the call was cleared.\n",
    "\n",
    "* final_call_type --> time_delta (bins) --> event_clearing"
   ]
  },
  {
   "cell_type": "markdown",
   "metadata": {},
   "source": [
    "Export dataframes to csv"
   ]
  },
  {
   "cell_type": "code",
   "execution_count": 32,
   "metadata": {},
   "outputs": [
    {
     "name": "stdout",
     "output_type": "stream",
     "text": [
      "Aw, snap! We didn't get a username with your request.\n",
      "\n",
      "Don't have an account? https://plot.ly/api_signup\n",
      "\n",
      "Questions? accounts@plot.ly\n"
     ]
    },
    {
     "ename": "PlotlyError",
     "evalue": "Because you didn't supply a 'file_id' in the call, we're assuming you're trying to snag a figure from a url. You supplied the url, '', we expected it to start with 'https://plot.ly'.\nRun help on this function for more information.",
     "output_type": "error",
     "traceback": [
      "\u001b[0;31m---------------------------------------------------------------------------\u001b[0m",
      "\u001b[0;31mPlotlyError\u001b[0m                               Traceback (most recent call last)",
      "\u001b[0;32m<ipython-input-32-d6c54958771b>\u001b[0m in \u001b[0;36m<module>\u001b[0;34m\u001b[0m\n\u001b[1;32m     35\u001b[0m \u001b[0;34m\u001b[0m\u001b[0m\n\u001b[1;32m     36\u001b[0m \u001b[0mfig\u001b[0m \u001b[0;34m=\u001b[0m \u001b[0mdict\u001b[0m\u001b[0;34m(\u001b[0m\u001b[0mdata\u001b[0m\u001b[0;34m=\u001b[0m\u001b[0;34m[\u001b[0m\u001b[0mdata_trace\u001b[0m\u001b[0;34m]\u001b[0m\u001b[0;34m,\u001b[0m \u001b[0mlayout\u001b[0m\u001b[0;34m=\u001b[0m\u001b[0mlayout\u001b[0m\u001b[0;34m)\u001b[0m\u001b[0;34m\u001b[0m\u001b[0m\n\u001b[0;32m---> 37\u001b[0;31m \u001b[0mpy\u001b[0m\u001b[0;34m.\u001b[0m\u001b[0miplot\u001b[0m\u001b[0;34m(\u001b[0m\u001b[0mfig\u001b[0m\u001b[0;34m,\u001b[0m \u001b[0mvalidate\u001b[0m\u001b[0;34m=\u001b[0m\u001b[0;32mFalse\u001b[0m\u001b[0;34m)\u001b[0m\u001b[0;34m\u001b[0m\u001b[0m\n\u001b[0m",
      "\u001b[0;32m/Library/Frameworks/Python.framework/Versions/3.6/lib/python3.6/site-packages/plotly/plotly/plotly.py\u001b[0m in \u001b[0;36miplot\u001b[0;34m(figure_or_data, **plot_options)\u001b[0m\n\u001b[1;32m    168\u001b[0m         \u001b[0membed_options\u001b[0m\u001b[0;34m[\u001b[0m\u001b[0;34m'height'\u001b[0m\u001b[0;34m]\u001b[0m \u001b[0;34m=\u001b[0m \u001b[0mstr\u001b[0m\u001b[0;34m(\u001b[0m\u001b[0membed_options\u001b[0m\u001b[0;34m[\u001b[0m\u001b[0;34m'height'\u001b[0m\u001b[0;34m]\u001b[0m\u001b[0;34m)\u001b[0m \u001b[0;34m+\u001b[0m \u001b[0;34m'px'\u001b[0m\u001b[0;34m\u001b[0m\u001b[0m\n\u001b[1;32m    169\u001b[0m \u001b[0;34m\u001b[0m\u001b[0m\n\u001b[0;32m--> 170\u001b[0;31m     \u001b[0;32mreturn\u001b[0m \u001b[0mtools\u001b[0m\u001b[0;34m.\u001b[0m\u001b[0membed\u001b[0m\u001b[0;34m(\u001b[0m\u001b[0murl\u001b[0m\u001b[0;34m,\u001b[0m \u001b[0;34m**\u001b[0m\u001b[0membed_options\u001b[0m\u001b[0;34m)\u001b[0m\u001b[0;34m\u001b[0m\u001b[0m\n\u001b[0m\u001b[1;32m    171\u001b[0m \u001b[0;34m\u001b[0m\u001b[0m\n\u001b[1;32m    172\u001b[0m \u001b[0;34m\u001b[0m\u001b[0m\n",
      "\u001b[0;32m/Library/Frameworks/Python.framework/Versions/3.6/lib/python3.6/site-packages/plotly/tools.py\u001b[0m in \u001b[0;36membed\u001b[0;34m(file_owner_or_url, file_id, width, height)\u001b[0m\n\u001b[1;32m    399\u001b[0m         \u001b[0;32melse\u001b[0m\u001b[0;34m:\u001b[0m\u001b[0;34m\u001b[0m\u001b[0m\n\u001b[1;32m    400\u001b[0m             \u001b[0murl\u001b[0m \u001b[0;34m=\u001b[0m \u001b[0mfile_owner_or_url\u001b[0m\u001b[0;34m\u001b[0m\u001b[0m\n\u001b[0;32m--> 401\u001b[0;31m         \u001b[0;32mreturn\u001b[0m \u001b[0mPlotlyDisplay\u001b[0m\u001b[0;34m(\u001b[0m\u001b[0murl\u001b[0m\u001b[0;34m,\u001b[0m \u001b[0mwidth\u001b[0m\u001b[0;34m,\u001b[0m \u001b[0mheight\u001b[0m\u001b[0;34m)\u001b[0m\u001b[0;34m\u001b[0m\u001b[0m\n\u001b[0m\u001b[1;32m    402\u001b[0m     \u001b[0;32melse\u001b[0m\u001b[0;34m:\u001b[0m\u001b[0;34m\u001b[0m\u001b[0m\n\u001b[1;32m    403\u001b[0m         if (get_config_defaults()['plotly_domain']\n",
      "\u001b[0;32m/Library/Frameworks/Python.framework/Versions/3.6/lib/python3.6/site-packages/plotly/tools.py\u001b[0m in \u001b[0;36m__init__\u001b[0;34m(self, url, width, height)\u001b[0m\n\u001b[1;32m   1479\u001b[0m         \u001b[0;32mdef\u001b[0m \u001b[0m__init__\u001b[0m\u001b[0;34m(\u001b[0m\u001b[0mself\u001b[0m\u001b[0;34m,\u001b[0m \u001b[0murl\u001b[0m\u001b[0;34m,\u001b[0m \u001b[0mwidth\u001b[0m\u001b[0;34m,\u001b[0m \u001b[0mheight\u001b[0m\u001b[0;34m)\u001b[0m\u001b[0;34m:\u001b[0m\u001b[0;34m\u001b[0m\u001b[0m\n\u001b[1;32m   1480\u001b[0m             \u001b[0mself\u001b[0m\u001b[0;34m.\u001b[0m\u001b[0mresource\u001b[0m \u001b[0;34m=\u001b[0m \u001b[0murl\u001b[0m\u001b[0;34m\u001b[0m\u001b[0m\n\u001b[0;32m-> 1481\u001b[0;31m             \u001b[0mself\u001b[0m\u001b[0;34m.\u001b[0m\u001b[0membed_code\u001b[0m \u001b[0;34m=\u001b[0m \u001b[0mget_embed\u001b[0m\u001b[0;34m(\u001b[0m\u001b[0murl\u001b[0m\u001b[0;34m,\u001b[0m \u001b[0mwidth\u001b[0m\u001b[0;34m=\u001b[0m\u001b[0mwidth\u001b[0m\u001b[0;34m,\u001b[0m \u001b[0mheight\u001b[0m\u001b[0;34m=\u001b[0m\u001b[0mheight\u001b[0m\u001b[0;34m)\u001b[0m\u001b[0;34m\u001b[0m\u001b[0m\n\u001b[0m\u001b[1;32m   1482\u001b[0m             \u001b[0msuper\u001b[0m\u001b[0;34m(\u001b[0m\u001b[0mPlotlyDisplay\u001b[0m\u001b[0;34m,\u001b[0m \u001b[0mself\u001b[0m\u001b[0;34m)\u001b[0m\u001b[0;34m.\u001b[0m\u001b[0m__init__\u001b[0m\u001b[0;34m(\u001b[0m\u001b[0mdata\u001b[0m\u001b[0;34m=\u001b[0m\u001b[0mself\u001b[0m\u001b[0;34m.\u001b[0m\u001b[0membed_code\u001b[0m\u001b[0;34m)\u001b[0m\u001b[0;34m\u001b[0m\u001b[0m\n\u001b[1;32m   1483\u001b[0m \u001b[0;34m\u001b[0m\u001b[0m\n",
      "\u001b[0;32m/Library/Frameworks/Python.framework/Versions/3.6/lib/python3.6/site-packages/plotly/tools.py\u001b[0m in \u001b[0;36mget_embed\u001b[0;34m(file_owner_or_url, file_id, width, height)\u001b[0m\n\u001b[1;32m    304\u001b[0m                 \u001b[0;34m\"'{1}'.\"\u001b[0m\u001b[0;34m\u001b[0m\u001b[0m\n\u001b[1;32m    305\u001b[0m                 \u001b[0;34m\"\\nRun help on this function for more information.\"\u001b[0m\u001b[0;34m\u001b[0m\u001b[0m\n\u001b[0;32m--> 306\u001b[0;31m                 \"\".format(url, plotly_rest_url))\n\u001b[0m\u001b[1;32m    307\u001b[0m         \u001b[0murlsplit\u001b[0m \u001b[0;34m=\u001b[0m \u001b[0msix\u001b[0m\u001b[0;34m.\u001b[0m\u001b[0mmoves\u001b[0m\u001b[0;34m.\u001b[0m\u001b[0murllib\u001b[0m\u001b[0;34m.\u001b[0m\u001b[0mparse\u001b[0m\u001b[0;34m.\u001b[0m\u001b[0murlparse\u001b[0m\u001b[0;34m(\u001b[0m\u001b[0murl\u001b[0m\u001b[0;34m)\u001b[0m\u001b[0;34m\u001b[0m\u001b[0m\n\u001b[1;32m    308\u001b[0m         \u001b[0mfile_owner\u001b[0m \u001b[0;34m=\u001b[0m \u001b[0murlsplit\u001b[0m\u001b[0;34m.\u001b[0m\u001b[0mpath\u001b[0m\u001b[0;34m.\u001b[0m\u001b[0msplit\u001b[0m\u001b[0;34m(\u001b[0m\u001b[0;34m'/'\u001b[0m\u001b[0;34m)\u001b[0m\u001b[0;34m[\u001b[0m\u001b[0;36m1\u001b[0m\u001b[0;34m]\u001b[0m\u001b[0;34m.\u001b[0m\u001b[0msplit\u001b[0m\u001b[0;34m(\u001b[0m\u001b[0;34m'~'\u001b[0m\u001b[0;34m)\u001b[0m\u001b[0;34m[\u001b[0m\u001b[0;36m1\u001b[0m\u001b[0;34m]\u001b[0m\u001b[0;34m\u001b[0m\u001b[0m\n",
      "\u001b[0;31mPlotlyError\u001b[0m: Because you didn't supply a 'file_id' in the call, we're assuming you're trying to snag a figure from a url. You supplied the url, '', we expected it to start with 'https://plot.ly'.\nRun help on this function for more information."
     ]
    }
   ],
   "source": [
    "data_trace = dict(\n",
    "    type='sankey',\n",
    "    domain = dict(\n",
    "      x =  [0,1],\n",
    "      y =  [0,1]\n",
    "    ),\n",
    "    orientation = \"h\",\n",
    "    valueformat = \".0f\",\n",
    "    node = dict(\n",
    "      pad = 10,\n",
    "      thickness = 30,\n",
    "      line = dict(\n",
    "        color = \"black\",\n",
    "        width = 0.5\n",
    "      ),\n",
    "      label =  data['final_call_type'].dropna(axis=0, how='any'),\n",
    "#       color = data['Color']\n",
    "    ),\n",
    "    link = dict(\n",
    "      source = data['original_time_queued'].dropna(axis=0, how='any'),\n",
    "      target = data['time_delta'].dropna(axis=0, how='any'),\n",
    "      value = data['event_clearing'].dropna(axis=0, how='any'),\n",
    "  )\n",
    ")\n",
    "\n",
    "layout =  dict(\n",
    "    title = \"Title\",\n",
    "    height = 772,\n",
    "    width = 950,\n",
    "    font = dict(\n",
    "      size = 10\n",
    "    ),    \n",
    ")\n",
    "\n",
    "\n",
    "fig = dict(data=[data_trace], layout=layout)\n",
    "py.iplot(fig, validate=False)"
   ]
  },
  {
   "cell_type": "code",
   "execution_count": null,
   "metadata": {},
   "outputs": [],
   "source": []
  },
  {
   "cell_type": "code",
   "execution_count": 27,
   "metadata": {},
   "outputs": [
    {
     "data": {
      "text/html": [
       "<div>\n",
       "<style scoped>\n",
       "    .dataframe tbody tr th:only-of-type {\n",
       "        vertical-align: middle;\n",
       "    }\n",
       "\n",
       "    .dataframe tbody tr th {\n",
       "        vertical-align: top;\n",
       "    }\n",
       "\n",
       "    .dataframe thead th {\n",
       "        text-align: right;\n",
       "    }\n",
       "</style>\n",
       "<table border=\"1\" class=\"dataframe\">\n",
       "  <thead>\n",
       "    <tr style=\"text-align: right;\">\n",
       "      <th>is_TRU</th>\n",
       "      <th>no</th>\n",
       "      <th>yes</th>\n",
       "    </tr>\n",
       "  </thead>\n",
       "  <tbody>\n",
       "    <tr>\n",
       "      <th>Molesting</th>\n",
       "      <td>0.971763</td>\n",
       "      <td>0.028237</td>\n",
       "    </tr>\n",
       "    <tr>\n",
       "      <th>Acquaintance Rape</th>\n",
       "      <td>0.975972</td>\n",
       "      <td>0.024028</td>\n",
       "    </tr>\n",
       "    <tr>\n",
       "      <th>CSEC</th>\n",
       "      <td>0.980769</td>\n",
       "      <td>0.019231</td>\n",
       "    </tr>\n",
       "    <tr>\n",
       "      <th>Stranger Rape</th>\n",
       "      <td>0.986559</td>\n",
       "      <td>0.013441</td>\n",
       "    </tr>\n",
       "    <tr>\n",
       "      <th>Kidnap</th>\n",
       "      <td>0.989899</td>\n",
       "      <td>0.010101</td>\n",
       "    </tr>\n",
       "    <tr>\n",
       "      <th>Assault w/ Firearm</th>\n",
       "      <td>0.990256</td>\n",
       "      <td>0.009744</td>\n",
       "    </tr>\n",
       "    <tr>\n",
       "      <th>Lewd Conduct</th>\n",
       "      <td>0.990761</td>\n",
       "      <td>0.009239</td>\n",
       "    </tr>\n",
       "    <tr>\n",
       "      <th>Drive-by Shooting</th>\n",
       "      <td>0.999125</td>\n",
       "      <td>0.000875</td>\n",
       "    </tr>\n",
       "    <tr>\n",
       "      <th>Armed Robbery</th>\n",
       "      <td>0.999149</td>\n",
       "      <td>0.000851</td>\n",
       "    </tr>\n",
       "    <tr>\n",
       "      <th>Homicide</th>\n",
       "      <td>1.000000</td>\n",
       "      <td>0.000000</td>\n",
       "    </tr>\n",
       "  </tbody>\n",
       "</table>\n",
       "</div>"
      ],
      "text/plain": [
       "is_TRU                    no       yes\n",
       "Molesting           0.971763  0.028237\n",
       "Acquaintance Rape   0.975972  0.024028\n",
       "CSEC                0.980769  0.019231\n",
       "Stranger Rape       0.986559  0.013441\n",
       "Kidnap              0.989899  0.010101\n",
       "Assault w/ Firearm  0.990256  0.009744\n",
       "Lewd Conduct        0.990761  0.009239\n",
       "Drive-by Shooting   0.999125  0.000875\n",
       "Armed Robbery       0.999149  0.000851\n",
       "Homicide            1.000000  0.000000"
      ]
     },
     "execution_count": 27,
     "metadata": {},
     "output_type": "execute_result"
    }
   ],
   "source": [
    "percentage_tru_sorted"
   ]
  },
  {
   "cell_type": "code",
   "execution_count": 28,
   "metadata": {},
   "outputs": [],
   "source": [
    "# Sandbox for downloading data for import to Tableau\n",
    "\n",
    "#data_tru_df.to_csv('tru_df.csv')\n",
    "#lewd_calls_ip.to_csv('lewd_calls_ip_df.csv')\n",
    "#lewd_df.to_csv('lewd_df.csv')\n",
    "# data.to_csv('data_df.csv')\n",
    "#arrest_percent_by_yr.to_csv('arrest_percent_by_yr.csv')\n",
    "#percentage_tru_sorted.to_csv('percent_tru.csv')\n",
    "#vc_arr_by_yr.to_csv('vc_arrest.csv')\n",
    "#rape_arr_by_yr.to_csv('rape_arrest.csv')\n",
    "#other_arr_by_yr.to_csv('other_arrest.csv')"
   ]
  }
 ],
 "metadata": {
  "kernelspec": {
   "display_name": "Python 3",
   "language": "python",
   "name": "python3"
  },
  "language_info": {
   "codemirror_mode": {
    "name": "ipython",
    "version": 3
   },
   "file_extension": ".py",
   "mimetype": "text/x-python",
   "name": "python",
   "nbconvert_exporter": "python",
   "pygments_lexer": "ipython3",
   "version": "3.6.0"
  }
 },
 "nbformat": 4,
 "nbformat_minor": 2
}
